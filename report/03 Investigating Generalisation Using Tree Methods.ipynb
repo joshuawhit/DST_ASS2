{
 "cells": [
  {
   "cell_type": "markdown",
   "id": "6f35f700",
   "metadata": {},
   "source": [
    "# Investigating Generalisation Using Tree Methods\n"
   ]
  },
  {
   "cell_type": "markdown",
   "id": "1e0bd779",
   "metadata": {},
   "source": [
    "In this short section we use off-the-shelf tree methods to highlight a common problem often overlooked in the specific domain of AI generated text detection in essays. The problem is that there is very poor generalization between datasets for models, especially when there is differences in the essay topic or in the LLM that generated the AI text. Here, we demonstrate how easy it is to get accurate classification with out of the box models when trained on essays from a specific topic and we investigate how these models generalise."
   ]
  },
  {
   "cell_type": "markdown",
   "id": "fed89481",
   "metadata": {},
   "source": [
    "## Import and Explaination of Datasets"
   ]
  },
  {
   "cell_type": "markdown",
   "id": "ecab1038",
   "metadata": {},
   "source": [
    "To demonstrate the generalisation we use 2 different datasets. Firstly the \"main\" dataset found at https://www.kaggle.com/datasets/sunilthite/llm-detect-ai-generated-text-dataset/data which we use throughout the group project. This contains human and AI generated essays on a variety of topics given by a variety of LLMs which means we would expect it to be a fairly good, generalised dataset for the problem we are tackling.\n",
    "\n",
    "The second dataset is a small one generated with only two prompts and it is comprised of 3 different kaggle datasets. the first is the train_essays.csv found at https://www.kaggle.com/competitions/llm-detect-ai-generated-text/data, as this dataset only has 3 AI generated texts we combine it with two datasets found at https://www.kaggle.com/datasets/radek1/llm-generated-essays which consists of 500 gpt-3.5-turbo essays and 200 gpt-4 essays on the same two prompts. Combining these datasets gives us a dataset of 2000 entries. This is useful for us as we can treat it as a real world example where we have a group of students answering the same question and we need to classify the AI cases where the students have cheated."
   ]
  },
  {
   "cell_type": "code",
   "execution_count": 1,
   "id": "7977a7a4",
   "metadata": {},
   "outputs": [],
   "source": [
    "import pandas as pd\n",
    "import numpy as np\n",
    "import matplotlib.pyplot as plt\n",
    "\n",
    "df = pd.read_csv('train_essays_kagglecomp.csv')\n",
    "df2 = pd.read_csv('AI_essays_on_prompts_gpt3.csv')\n",
    "df3 = pd.read_csv('AI_essays_on_prompts_gpt4.csv')\n",
    "\n",
    "\n",
    "maindf = pd.read_csv('Main dataset.csv')\n",
    "\n",
    "data = df.to_numpy()\n",
    "data2 = df2.to_numpy()\n",
    "data3 = df3.to_numpy()\n",
    "\n",
    "maindata = maindf.to_numpy()"
   ]
  },
  {
   "cell_type": "code",
   "execution_count": 2,
   "id": "71b1621e",
   "metadata": {},
   "outputs": [],
   "source": [
    "essays = np.concatenate((data, data2))\n",
    "essays = np.concatenate((essays, data3))"
   ]
  },
  {
   "cell_type": "markdown",
   "id": "ec1b3e77",
   "metadata": {},
   "source": [
    "## Feature Development\n",
    "\n",
    "Below we engineer 22 features from the essays, the features selected are very similar to those selected in the paper \"Distinguishing academic science writing from humans or ChatGPT with over 99% accuracy using off-the-shelf machine learning tools\" available at https://www.ncbi.nlm.nih.gov/pmc/articles/PMC10328544/.\n",
    "The features are average word length, average words per paragraph, average and standard deviation in sentence length, average difference between consecutive sentences, counts for sentences over 34 words or under 11 words, counts for the apprences of the punctuation \")\", \"!\", \"?\", \":\", \";\", \",\", \"-\", \"'\" and counts for the words \"and\", \"but\", \"however\", \"therefore\", \"although\", \"this\", and \"because\". It is clear to see there is much more possible exploration to put into feature analysis and engineering which could improve results. The primative feature development here could be one of the main reasons for the poor generalisation of model results between different datasets."
   ]
  },
  {
   "cell_type": "code",
   "execution_count": 3,
   "id": "73571889",
   "metadata": {},
   "outputs": [],
   "source": [
    "def average_word_length(input_string):\n",
    "    words = input_string.split()  # Split the string into a list of words\n",
    "    total_characters = sum(len(word) for word in words)\n",
    "    total_words = len(words)\n",
    "\n",
    "    if total_words == 0:\n",
    "        return 0  # Avoid division by zero if the input string is empty\n",
    "\n",
    "    avg_length = total_characters / total_words\n",
    "    return avg_length"
   ]
  },
  {
   "cell_type": "code",
   "execution_count": 4,
   "id": "2aaac947",
   "metadata": {},
   "outputs": [],
   "source": [
    "def average_words_per_paragraph(text):\n",
    "    paragraphs = text.split('\\n\\n')  # Split the text into paragraphs\n",
    "    total_words = 0\n",
    "    total_paragraphs = len(paragraphs)\n",
    "\n",
    "    for paragraph in paragraphs:\n",
    "        words = paragraph.split()  # Split each paragraph into words\n",
    "        total_words += len(words)\n",
    "\n",
    "    if total_paragraphs == 0:\n",
    "        return 0  # Avoid division by zero if the input text has no paragraphs\n",
    "\n",
    "    avg_words_per_paragraph = total_words / total_paragraphs\n",
    "    return avg_words_per_paragraph"
   ]
  },
  {
   "cell_type": "code",
   "execution_count": 5,
   "id": "739ce602",
   "metadata": {},
   "outputs": [],
   "source": [
    "import re\n",
    "import statistics\n",
    "\n",
    "def sentence_stats(text):\n",
    "    # Use regular expression to split the text into sentences\n",
    "    sentences = re.split(r'[.!?]', text)\n",
    "\n",
    "    # Remove empty strings from the list of sentences\n",
    "    sentences = [sentence.strip() for sentence in sentences if sentence.strip()]\n",
    "\n",
    "    # Calculate the length of each sentence\n",
    "    sentence_lengths = [len(sentence.split()) for sentence in sentences]\n",
    "\n",
    "    # Calculate the average sentence length\n",
    "    avg_sentence_length = statistics.mean(sentence_lengths)\n",
    "\n",
    "    # Calculate the standard deviation in sentence length\n",
    "    if len(sentence_lengths) > 1:\n",
    "        std_dev_sentence_length = statistics.stdev(sentence_lengths)\n",
    "    else:\n",
    "        std_dev_sentence_length = 0\n",
    "\n",
    "    return avg_sentence_length, std_dev_sentence_length"
   ]
  },
  {
   "cell_type": "code",
   "execution_count": 6,
   "id": "1a14685a",
   "metadata": {},
   "outputs": [],
   "source": [
    "def average_sentence_length_difference(text):\n",
    "    # Use regular expression to split the text into sentences\n",
    "    sentences = re.split(r'[.!?]', text)\n",
    "\n",
    "    # Remove empty strings from the list of sentences\n",
    "    sentences = [sentence.strip() for sentence in sentences if sentence.strip()]\n",
    "\n",
    "    # Calculate the length of each sentence\n",
    "    sentence_lengths = [len(sentence.split()) for sentence in sentences]\n",
    "\n",
    "    # Calculate the difference in consecutive sentence lengths\n",
    "    sentence_length_diff = [abs(sentence_lengths[i] - sentence_lengths[i - 1]) for i in range(1, len(sentence_lengths))]\n",
    "\n",
    "    # Calculate the average difference in consecutive sentence lengths\n",
    "    avg_sentence_length_diff = statistics.mean(sentence_length_diff) if sentence_length_diff else 0\n",
    "\n",
    "    return avg_sentence_length_diff"
   ]
  },
  {
   "cell_type": "code",
   "execution_count": 7,
   "id": "c37fb9e0",
   "metadata": {},
   "outputs": [],
   "source": [
    "def count_sentences_by_length(text):\n",
    "    # Use regular expression to split the text into sentences\n",
    "    sentences = re.split(r'[.!?]', text)\n",
    "\n",
    "    # Remove empty strings from the list of sentences\n",
    "    sentences = [sentence.strip() for sentence in sentences if sentence.strip()]\n",
    "\n",
    "    # Count sentences with less than 11 words and more than 34 words\n",
    "    count_less_than_11 = sum(1 for sentence in sentences if len(sentence.split()) < 11)\n",
    "    count_more_than_34 = sum(1 for sentence in sentences if len(sentence.split()) > 34)\n",
    "\n",
    "    return count_less_than_11, count_more_than_34"
   ]
  },
  {
   "cell_type": "code",
   "execution_count": 8,
   "id": "c20d0a35",
   "metadata": {},
   "outputs": [],
   "source": [
    "punctuation_marks = [\")\", \"!\", \"?\", \":\", \";\", \",\", \"-\", \"'\"]\n",
    "def count_punctuation(text, mark):\n",
    "    punctuation_count = 0\n",
    "\n",
    "    # Count the appearances of each punctuation mark\n",
    "    for char in text:\n",
    "        if char == mark:\n",
    "            punctuation_count += 1\n",
    "\n",
    "    return punctuation_count"
   ]
  },
  {
   "cell_type": "code",
   "execution_count": 9,
   "id": "f9e42315",
   "metadata": {},
   "outputs": [],
   "source": [
    "key_words = [\"and\", \"but\", \"however\", \"therefore\", \"although\", \"this\", \"because\"]\n",
    "def count_keyword(text, word):\n",
    "    lower_case = text.lower()\n",
    "    \n",
    "    count = lower_case.split().count(word)\n",
    "\n",
    "    return count"
   ]
  },
  {
   "cell_type": "code",
   "execution_count": 10,
   "id": "ad821824",
   "metadata": {},
   "outputs": [],
   "source": [
    "def feature_appender(dataset, text_index):\n",
    "    features = []\n",
    "    for essay in dataset:\n",
    "        new_entry = []\n",
    "        av_word_len = average_word_length(essay[text_index])\n",
    "        new_entry.append(av_word_len)\n",
    "\n",
    "        av_word_para = average_words_per_paragraph(essay[text_index])\n",
    "        new_entry.append(av_word_para)\n",
    "\n",
    "        mean_sentence_len, sd_sentence_len = sentence_stats(essay[text_index])\n",
    "        new_entry.append(mean_sentence_len)\n",
    "        new_entry.append(sd_sentence_len)\n",
    "\n",
    "        consec_sen_diff = average_sentence_length_difference(essay[text_index])\n",
    "        new_entry.append(consec_sen_diff)\n",
    "\n",
    "        less_than_11, over_34 = count_sentences_by_length(essay[text_index])\n",
    "        new_entry.append(less_than_11)\n",
    "        new_entry.append(over_34)\n",
    "\n",
    "        # appends 8 punctuation counts\n",
    "        for punc in punctuation_marks:\n",
    "            count = count_punctuation(essay[text_index], punc)\n",
    "            new_entry.append(count)\n",
    "\n",
    "        # appends 7 trigger words\n",
    "        for word in key_words:\n",
    "            count = count_keyword(essay[text_index], word)\n",
    "            new_entry.append(count)\n",
    "        features.append(new_entry)\n",
    "        \n",
    "    return features"
   ]
  },
  {
   "cell_type": "markdown",
   "id": "948bbbe6",
   "metadata": {},
   "source": []
  },
  {
   "cell_type": "code",
   "execution_count": 11,
   "id": "97e45b9c",
   "metadata": {},
   "outputs": [
    {
     "name": "stdout",
     "output_type": "stream",
     "text": [
      "Requirement already satisfied: xgboost in /opt/conda/lib/python3.9/site-packages (2.0.2)\n",
      "Requirement already satisfied: numpy in /opt/conda/lib/python3.9/site-packages (from xgboost) (1.23.5)\n",
      "Requirement already satisfied: scipy in /opt/conda/lib/python3.9/site-packages (from xgboost) (1.11.2)\n"
     ]
    }
   ],
   "source": [
    "from IPython.display import display\n",
    "from sklearn.tree import DecisionTreeClassifier\n",
    "from sklearn.model_selection import train_test_split\n",
    "from sklearn.metrics import accuracy_score, precision_score, recall_score, f1_score\n",
    "from sklearn.ensemble import RandomForestClassifier, GradientBoostingClassifier\n",
    "from sklearn.model_selection import cross_val_score\n",
    "from sklearn.model_selection import KFold\n",
    "from sklearn.metrics import roc_curve\n",
    "from sklearn.metrics import roc_auc_score\n",
    "!pip install xgboost\n",
    "import xgboost as xgb\n",
    "from xgboost import XGBClassifier\n",
    "%matplotlib inline"
   ]
  },
  {
   "cell_type": "markdown",
   "id": "85e3d608",
   "metadata": {},
   "source": [
    "To start the analysis we first train on the small dataset that only has 2 prompts and then see how the models generalise when tested with essays generated by multiple prompts."
   ]
  },
  {
   "cell_type": "code",
   "execution_count": 12,
   "id": "9a75b74f",
   "metadata": {},
   "outputs": [],
   "source": [
    "X_features = []\n",
    "X_features = feature_appender(essays, 2)"
   ]
  },
  {
   "cell_type": "code",
   "execution_count": 13,
   "id": "fa1d11ec",
   "metadata": {},
   "outputs": [],
   "source": [
    "y_list = []\n",
    "for essay in essays:\n",
    "    y_list.append(essay[3])"
   ]
  },
  {
   "cell_type": "code",
   "execution_count": 14,
   "id": "31173ef3",
   "metadata": {},
   "outputs": [],
   "source": [
    "X_train, X_test, y_train, y_test = train_test_split(X_features, y_list, test_size=0.2, random_state=42)"
   ]
  },
  {
   "cell_type": "code",
   "execution_count": 15,
   "id": "e99fb34b",
   "metadata": {},
   "outputs": [],
   "source": [
    "# Create Models\n",
    "DT = DecisionTreeClassifier(random_state = 1)\n",
    "RF = RandomForestClassifier(random_state = 1)\n",
    "GBT = GradientBoostingClassifier(random_state = 1)\n",
    "XGB = XGBClassifier(random_state = 1)\n",
    "\n",
    "# Train models\n",
    "DT.fit(X_train, y_train)\n",
    "RF.fit(X_train, y_train)\n",
    "GBT.fit(X_train, y_train)\n",
    "XGB.fit(X_train, y_train)\n",
    "\n",
    "# Make predictions\n",
    "DTpredicted = DT.predict(X_test)\n",
    "RFpredicted = RF.predict(X_test)\n",
    "GBTpredicted = GBT.predict(X_test)\n",
    "XGBpredicted = XGB.predict(X_test)"
   ]
  },
  {
   "cell_type": "code",
   "execution_count": 16,
   "id": "e4427588",
   "metadata": {},
   "outputs": [
    {
     "data": {
      "text/html": [
       "<div>\n",
       "<style scoped>\n",
       "    .dataframe tbody tr th:only-of-type {\n",
       "        vertical-align: middle;\n",
       "    }\n",
       "\n",
       "    .dataframe tbody tr th {\n",
       "        vertical-align: top;\n",
       "    }\n",
       "\n",
       "    .dataframe thead th {\n",
       "        text-align: right;\n",
       "    }\n",
       "</style>\n",
       "<table border=\"1\" class=\"dataframe\">\n",
       "  <thead>\n",
       "    <tr style=\"text-align: right;\">\n",
       "      <th></th>\n",
       "      <th>Method</th>\n",
       "      <th>Accuracy</th>\n",
       "      <th>Precision</th>\n",
       "      <th>Recall</th>\n",
       "      <th>F1 Score</th>\n",
       "    </tr>\n",
       "  </thead>\n",
       "  <tbody>\n",
       "    <tr>\n",
       "      <th>0</th>\n",
       "      <td>Decision Trees</td>\n",
       "      <td>0.997596</td>\n",
       "      <td>0.997605</td>\n",
       "      <td>0.997596</td>\n",
       "      <td>0.997594</td>\n",
       "    </tr>\n",
       "    <tr>\n",
       "      <th>1</th>\n",
       "      <td>Random Forest</td>\n",
       "      <td>0.997596</td>\n",
       "      <td>0.997605</td>\n",
       "      <td>0.997596</td>\n",
       "      <td>0.997594</td>\n",
       "    </tr>\n",
       "    <tr>\n",
       "      <th>2</th>\n",
       "      <td>Gradient Boosting</td>\n",
       "      <td>0.997596</td>\n",
       "      <td>0.997605</td>\n",
       "      <td>0.997596</td>\n",
       "      <td>0.997594</td>\n",
       "    </tr>\n",
       "    <tr>\n",
       "      <th>3</th>\n",
       "      <td>XGBoost</td>\n",
       "      <td>0.997596</td>\n",
       "      <td>0.997605</td>\n",
       "      <td>0.997596</td>\n",
       "      <td>0.997594</td>\n",
       "    </tr>\n",
       "  </tbody>\n",
       "</table>\n",
       "</div>"
      ],
      "text/plain": [
       "              Method  Accuracy  Precision    Recall  F1 Score\n",
       "0     Decision Trees  0.997596   0.997605  0.997596  0.997594\n",
       "1      Random Forest  0.997596   0.997605  0.997596  0.997594\n",
       "2  Gradient Boosting  0.997596   0.997605  0.997596  0.997594\n",
       "3            XGBoost  0.997596   0.997605  0.997596  0.997594"
      ]
     },
     "metadata": {},
     "output_type": "display_data"
    }
   ],
   "source": [
    "# Initialize dictionaries to store the results\n",
    "results = {\n",
    "    'Method': ['Decision Trees', 'Random Forest', 'Gradient Boosting', 'XGBoost'],\n",
    "    'Accuracy': [accuracy_score(y_test, DTpredicted), accuracy_score(y_test, RFpredicted), accuracy_score(y_test, GBTpredicted), accuracy_score(y_test, XGBpredicted)],\n",
    "    'Precision': [precision_score(y_test, DTpredicted, average='weighted'), precision_score(y_test, RFpredicted, average='weighted'), precision_score(y_test, GBTpredicted, average='weighted'), precision_score(y_test, XGBpredicted, average='weighted')],\n",
    "    'Recall': [recall_score(y_test, DTpredicted, average='weighted'), recall_score(y_test, RFpredicted, average='weighted'), recall_score(y_test, GBTpredicted, average='weighted'), recall_score(y_test, XGBpredicted, average='weighted')],\n",
    "    'F1 Score': [f1_score(y_test, DTpredicted, average='weighted'), f1_score(y_test, RFpredicted, average='weighted'), f1_score(y_test, GBTpredicted, average='weighted'), f1_score(y_test, XGBpredicted, average='weighted')]\n",
    "}\n",
    "\n",
    "# Create a Pandas DataFrame from the results dictionary\n",
    "results_df = pd.DataFrame(results)\n",
    "\n",
    "# Display the results table with rounded values (6 decimal places)\n",
    "pd.set_option(\"display.precision\", 6)\n",
    "display(results_df)"
   ]
  },
  {
   "cell_type": "code",
   "execution_count": 17,
   "id": "8be4cfff",
   "metadata": {},
   "outputs": [
    {
     "data": {
      "text/plain": [
       "<matplotlib.legend.Legend at 0x7ff35cbac250>"
      ]
     },
     "execution_count": 17,
     "metadata": {},
     "output_type": "execute_result"
    },
    {
     "data": {
      "image/png": "[encoded data removed]",
      "text/plain": [
       "<Figure size 640x480 with 1 Axes>"
      ]
     },
     "metadata": {},
     "output_type": "display_data"
    }
   ],
   "source": [
    "# Calculate probabilities\n",
    "DTpredicted_probs = DT.predict_proba(X_test)\n",
    "RFpredicted_probs = RF.predict_proba(X_test)\n",
    "GBTpredicted_probs = GBT.predict_proba(X_test)\n",
    "XGBpredicted_probs = XGB.predict_proba(X_test)\n",
    "\n",
    "DT_fpr, DT_tpr, _ = roc_curve(y_test, DTpredicted_probs[:,1])\n",
    "RF_fpr, RF_tpr, _ = roc_curve(y_test, RFpredicted_probs[:,1]) \n",
    "GBT_fpr, GBT_tpr, _ = roc_curve(y_test, GBTpredicted_probs[:,1])\n",
    "XGB_fpr, XGB_tpr, _ = roc_curve(y_test, XGBpredicted_probs[:,1])\n",
    "\n",
    "plt.plot(DT_fpr, DT_tpr, 'b', label=\"Decision Tree\")\n",
    "plt.plot(RF_fpr, RF_tpr, 'r', label=\"Random Forest\")\n",
    "plt.plot(GBT_fpr, GBT_tpr, 'g', label=\"Gradient Boosted Tree\")\n",
    "plt.plot(XGB_fpr, XGB_tpr, 'y', label=\"XGBoost\")\n",
    "plt.xlim([0, 1])\n",
    "plt.ylim([0, 1])\n",
    "plt.xlabel('FPR')\n",
    "plt.ylabel('TPR')\n",
    "plt.title('ROC curve')\n",
    "plt.legend()"
   ]
  },
  {
   "cell_type": "code",
   "execution_count": 18,
   "id": "11ee7a07",
   "metadata": {},
   "outputs": [
    {
     "data": {
      "text/html": [
       "<div>\n",
       "<style scoped>\n",
       "    .dataframe tbody tr th:only-of-type {\n",
       "        vertical-align: middle;\n",
       "    }\n",
       "\n",
       "    .dataframe tbody tr th {\n",
       "        vertical-align: top;\n",
       "    }\n",
       "\n",
       "    .dataframe thead th {\n",
       "        text-align: right;\n",
       "    }\n",
       "</style>\n",
       "<table border=\"1\" class=\"dataframe\">\n",
       "  <thead>\n",
       "    <tr style=\"text-align: right;\">\n",
       "      <th></th>\n",
       "      <th>Method</th>\n",
       "      <th>ROC-AUC Score</th>\n",
       "    </tr>\n",
       "  </thead>\n",
       "  <tbody>\n",
       "    <tr>\n",
       "      <th>0</th>\n",
       "      <td>Decision Tree</td>\n",
       "      <td>0.996528</td>\n",
       "    </tr>\n",
       "    <tr>\n",
       "      <th>1</th>\n",
       "      <td>Random Forest</td>\n",
       "      <td>0.998915</td>\n",
       "    </tr>\n",
       "    <tr>\n",
       "      <th>2</th>\n",
       "      <td>Gradient Boosting</td>\n",
       "      <td>0.996426</td>\n",
       "    </tr>\n",
       "    <tr>\n",
       "      <th>3</th>\n",
       "      <td>XGBoost</td>\n",
       "      <td>0.998264</td>\n",
       "    </tr>\n",
       "  </tbody>\n",
       "</table>\n",
       "</div>"
      ],
      "text/plain": [
       "              Method  ROC-AUC Score\n",
       "0      Decision Tree       0.996528\n",
       "1      Random Forest       0.998915\n",
       "2  Gradient Boosting       0.996426\n",
       "3            XGBoost       0.998264"
      ]
     },
     "metadata": {},
     "output_type": "display_data"
    }
   ],
   "source": [
    "ROCresults = {\n",
    "    'Method': ['Decision Tree', 'Random Forest', 'Gradient Boosting', 'XGBoost'],\n",
    "    'ROC-AUC Score': [roc_auc_score(y_test, DTpredicted_probs[:,1]), roc_auc_score(y_test, RFpredicted_probs[:,1]), roc_auc_score(y_test, GBTpredicted_probs[:,1]), roc_auc_score(y_test, XGBpredicted_probs[:,1])],\n",
    "    \n",
    "}\n",
    "ROCresults_df = pd.DataFrame(ROCresults)\n",
    "display(ROCresults_df)"
   ]
  },
  {
   "cell_type": "markdown",
   "id": "cd856023",
   "metadata": {},
   "source": [
    "As we can see from the different evaluation metrics, the models are performing extremely well. This is likely because many of the GPT essays will be very similar as they were generated by only two prompts and so our feature engineerig is enough to distinguish these from the human essays. We want our model to be able to generalise detect AI generated text in any subject. To see if this is possible for these models we now make predictions on the \"main\" and \"drcat\" datasets.\n",
    "\n",
    "These results are inline with those found at https://www.ncbi.nlm.nih.gov/pmc/articles/PMC10328544/ which is encouraging as this is also quite a specific application."
   ]
  },
  {
   "cell_type": "code",
   "execution_count": 19,
   "id": "e959e689",
   "metadata": {},
   "outputs": [],
   "source": [
    "drcat1_features = []\n",
    "drcat1_features = feature_appender(maindata, 0)"
   ]
  },
  {
   "cell_type": "code",
   "execution_count": 20,
   "id": "a942e6ad",
   "metadata": {},
   "outputs": [],
   "source": [
    "drcat1_ylist = []\n",
    "for essay in maindata:\n",
    "    drcat1_ylist.append(essay[1])"
   ]
  },
  {
   "cell_type": "code",
   "execution_count": 21,
   "id": "e996c74c",
   "metadata": {},
   "outputs": [
    {
     "data": {
      "text/html": [
       "<div>\n",
       "<style scoped>\n",
       "    .dataframe tbody tr th:only-of-type {\n",
       "        vertical-align: middle;\n",
       "    }\n",
       "\n",
       "    .dataframe tbody tr th {\n",
       "        vertical-align: top;\n",
       "    }\n",
       "\n",
       "    .dataframe thead th {\n",
       "        text-align: right;\n",
       "    }\n",
       "</style>\n",
       "<table border=\"1\" class=\"dataframe\">\n",
       "  <thead>\n",
       "    <tr style=\"text-align: right;\">\n",
       "      <th></th>\n",
       "      <th>Method</th>\n",
       "      <th>Accuracy</th>\n",
       "      <th>Precision</th>\n",
       "      <th>Recall</th>\n",
       "      <th>F1 Score</th>\n",
       "    </tr>\n",
       "  </thead>\n",
       "  <tbody>\n",
       "    <tr>\n",
       "      <th>0</th>\n",
       "      <td>Decision Trees</td>\n",
       "      <td>0.685744</td>\n",
       "      <td>0.701390</td>\n",
       "      <td>0.685744</td>\n",
       "      <td>0.688877</td>\n",
       "    </tr>\n",
       "    <tr>\n",
       "      <th>1</th>\n",
       "      <td>Random Forest</td>\n",
       "      <td>0.778693</td>\n",
       "      <td>0.779495</td>\n",
       "      <td>0.778693</td>\n",
       "      <td>0.772627</td>\n",
       "    </tr>\n",
       "    <tr>\n",
       "      <th>2</th>\n",
       "      <td>Gradient Boosting</td>\n",
       "      <td>0.758175</td>\n",
       "      <td>0.757232</td>\n",
       "      <td>0.758175</td>\n",
       "      <td>0.751751</td>\n",
       "    </tr>\n",
       "    <tr>\n",
       "      <th>3</th>\n",
       "      <td>XGBoost</td>\n",
       "      <td>0.696414</td>\n",
       "      <td>0.714365</td>\n",
       "      <td>0.696414</td>\n",
       "      <td>0.699509</td>\n",
       "    </tr>\n",
       "  </tbody>\n",
       "</table>\n",
       "</div>"
      ],
      "text/plain": [
       "              Method  Accuracy  Precision    Recall  F1 Score\n",
       "0     Decision Trees  0.685744   0.701390  0.685744  0.688877\n",
       "1      Random Forest  0.778693   0.779495  0.778693  0.772627\n",
       "2  Gradient Boosting  0.758175   0.757232  0.758175  0.751751\n",
       "3            XGBoost  0.696414   0.714365  0.696414  0.699509"
      ]
     },
     "metadata": {},
     "output_type": "display_data"
    }
   ],
   "source": [
    "# Make predictions\n",
    "DTpredicted = DT.predict(drcat1_features)\n",
    "RFpredicted = RF.predict(drcat1_features)\n",
    "GBTpredicted = GBT.predict(drcat1_features)\n",
    "XGBpredicted = XGB.predict(drcat1_features)\n",
    "\n",
    "# Initialize dictionaries to store the results\n",
    "results = {\n",
    "    'Method': ['Decision Trees', 'Random Forest', 'Gradient Boosting', 'XGBoost'],\n",
    "    'Accuracy': [accuracy_score(drcat1_ylist, DTpredicted), accuracy_score(drcat1_ylist, RFpredicted), accuracy_score(drcat1_ylist, GBTpredicted), accuracy_score(drcat1_ylist, XGBpredicted)],\n",
    "    'Precision': [precision_score(drcat1_ylist, DTpredicted, average='weighted'), precision_score(drcat1_ylist, RFpredicted, average='weighted'), precision_score(drcat1_ylist, GBTpredicted, average='weighted'), precision_score(drcat1_ylist, XGBpredicted, average='weighted')],\n",
    "    'Recall': [recall_score(drcat1_ylist, DTpredicted, average='weighted'), recall_score(drcat1_ylist, RFpredicted, average='weighted'), recall_score(drcat1_ylist, GBTpredicted, average='weighted'), recall_score(drcat1_ylist, XGBpredicted, average='weighted')],\n",
    "    'F1 Score': [f1_score(drcat1_ylist, DTpredicted, average='weighted'), f1_score(drcat1_ylist, RFpredicted, average='weighted'), f1_score(drcat1_ylist, GBTpredicted, average='weighted'), f1_score(drcat1_ylist, XGBpredicted, average='weighted')]\n",
    "}\n",
    "\n",
    "# Create a Pandas DataFrame from the results dictionary\n",
    "results_df = pd.DataFrame(results)\n",
    "\n",
    "# Display the results table with rounded values (6 decimal places)\n",
    "pd.set_option(\"display.precision\", 6)\n",
    "display(results_df)"
   ]
  },
  {
   "cell_type": "code",
   "execution_count": 22,
   "id": "71622e6f",
   "metadata": {},
   "outputs": [
    {
     "data": {
      "text/plain": [
       "<matplotlib.legend.Legend at 0x7ff35ca95f10>"
      ]
     },
     "execution_count": 22,
     "metadata": {},
     "output_type": "execute_result"
    },
    {
     "data": {
      "image/png": "[encoded data removed]",
      "text/plain": [
       "<Figure size 640x480 with 1 Axes>"
      ]
     },
     "metadata": {},
     "output_type": "display_data"
    }
   ],
   "source": [
    "# Calculate probabilities\n",
    "DTpredicted_probs = DT.predict_proba(drcat1_features)\n",
    "RFpredicted_probs = RF.predict_proba(drcat1_features)\n",
    "GBTpredicted_probs = GBT.predict_proba(drcat1_features)\n",
    "XGBpredicted_probs = XGB.predict_proba(drcat1_features)\n",
    "\n",
    "DT_fpr, DT_tpr, _ = roc_curve(drcat1_ylist, DTpredicted_probs[:,1])\n",
    "RF_fpr, RF_tpr, _ = roc_curve(drcat1_ylist, RFpredicted_probs[:,1]) \n",
    "GBT_fpr, GBT_tpr, _ = roc_curve(drcat1_ylist, GBTpredicted_probs[:,1])\n",
    "XGB_fpr, XGB_tpr, _ = roc_curve(drcat1_ylist, XGBpredicted_probs[:,1])\n",
    "\n",
    "plt.plot(DT_fpr, DT_tpr, 'b', label=\"Decision Tree\")\n",
    "plt.plot(RF_fpr, RF_tpr, 'r', label=\"Random Forest\")\n",
    "plt.plot(GBT_fpr, GBT_tpr, 'g', label=\"Gradient Boosted Tree\")\n",
    "plt.plot(XGB_fpr, XGB_tpr, 'y', label=\"XGBoost\")\n",
    "plt.xlim([0, 1])\n",
    "plt.ylim([0, 1])\n",
    "plt.xlabel('FPR')\n",
    "plt.ylabel('TPR')\n",
    "plt.title('ROC curve')\n",
    "plt.legend()"
   ]
  },
  {
   "cell_type": "code",
   "execution_count": 23,
   "id": "bd275560",
   "metadata": {},
   "outputs": [
    {
     "data": {
      "text/html": [
       "<div>\n",
       "<style scoped>\n",
       "    .dataframe tbody tr th:only-of-type {\n",
       "        vertical-align: middle;\n",
       "    }\n",
       "\n",
       "    .dataframe tbody tr th {\n",
       "        vertical-align: top;\n",
       "    }\n",
       "\n",
       "    .dataframe thead th {\n",
       "        text-align: right;\n",
       "    }\n",
       "</style>\n",
       "<table border=\"1\" class=\"dataframe\">\n",
       "  <thead>\n",
       "    <tr style=\"text-align: right;\">\n",
       "      <th></th>\n",
       "      <th>Method</th>\n",
       "      <th>ROC-AUC Score</th>\n",
       "    </tr>\n",
       "  </thead>\n",
       "  <tbody>\n",
       "    <tr>\n",
       "      <th>0</th>\n",
       "      <td>Decision Tree</td>\n",
       "      <td>0.689879</td>\n",
       "    </tr>\n",
       "    <tr>\n",
       "      <th>1</th>\n",
       "      <td>Random Forest</td>\n",
       "      <td>0.850719</td>\n",
       "    </tr>\n",
       "    <tr>\n",
       "      <th>2</th>\n",
       "      <td>Gradient Boosting</td>\n",
       "      <td>0.810881</td>\n",
       "    </tr>\n",
       "    <tr>\n",
       "      <th>3</th>\n",
       "      <td>XGBoost</td>\n",
       "      <td>0.870056</td>\n",
       "    </tr>\n",
       "  </tbody>\n",
       "</table>\n",
       "</div>"
      ],
      "text/plain": [
       "              Method  ROC-AUC Score\n",
       "0      Decision Tree       0.689879\n",
       "1      Random Forest       0.850719\n",
       "2  Gradient Boosting       0.810881\n",
       "3            XGBoost       0.870056"
      ]
     },
     "metadata": {},
     "output_type": "display_data"
    }
   ],
   "source": [
    "ROCresults = {\n",
    "    'Method': ['Decision Tree', 'Random Forest', 'Gradient Boosting', 'XGBoost'],\n",
    "    'ROC-AUC Score': [roc_auc_score(drcat1_ylist, DTpredicted_probs[:,1]), roc_auc_score(drcat1_ylist, RFpredicted_probs[:,1]), roc_auc_score(drcat1_ylist, GBTpredicted_probs[:,1]), roc_auc_score(drcat1_ylist, XGBpredicted_probs[:,1])],\n",
    "    \n",
    "}\n",
    "ROCresults_df = pd.DataFrame(ROCresults)\n",
    "display(ROCresults_df)"
   ]
  },
  {
   "cell_type": "markdown",
   "id": "de1f5e17",
   "metadata": {},
   "source": [
    "As we expect, performance is worse when evaluating on a general dataset but with accuracy scores as high as 0.779 and ROC-AUC scores as high as 0.870 we are still getting quite impressive results to say the models were only trained on two prompts and two LLMs.\n",
    "\n",
    "These results pose the question: Are we better off just making topic specific AI detection models, such as the acedemic science writing example, or should we strive to make a generalized model that performs well across all topics? To test this we will now re-train the models on the \"main\" dataset and then test on the small dataset"
   ]
  },
  {
   "cell_type": "code",
   "execution_count": 24,
   "id": "9482a1fb",
   "metadata": {},
   "outputs": [],
   "source": [
    "X_features = []\n",
    "X_features = feature_appender(maindata, 0)"
   ]
  },
  {
   "cell_type": "code",
   "execution_count": 25,
   "id": "5327fc7b",
   "metadata": {},
   "outputs": [],
   "source": [
    "y_list = []\n",
    "for essay in maindata:\n",
    "    y_list.append(essay[1])"
   ]
  },
  {
   "cell_type": "code",
   "execution_count": 26,
   "id": "2455e2f9",
   "metadata": {},
   "outputs": [],
   "source": [
    "X_train, X_test, y_train, y_test = train_test_split(X_features, y_list, test_size=0.2, random_state=42)"
   ]
  },
  {
   "cell_type": "code",
   "execution_count": 27,
   "id": "7898b7e0",
   "metadata": {},
   "outputs": [],
   "source": [
    "# Create Models\n",
    "DT = DecisionTreeClassifier(random_state = 1)\n",
    "RF = RandomForestClassifier(random_state = 1)\n",
    "GBT = GradientBoostingClassifier(random_state = 1)\n",
    "XGB = XGBClassifier(random_state = 1)\n",
    "\n",
    "# Train models\n",
    "DT.fit(X_train, y_train)\n",
    "RF.fit(X_train, y_train)\n",
    "GBT.fit(X_train, y_train)\n",
    "XGB.fit(X_train, y_train)\n",
    "\n",
    "# Make predictions\n",
    "DTpredicted = DT.predict(X_test)\n",
    "RFpredicted = RF.predict(X_test)\n",
    "GBTpredicted = GBT.predict(X_test)\n",
    "XGBpredicted = XGB.predict(X_test)"
   ]
  },
  {
   "cell_type": "code",
   "execution_count": 28,
   "id": "6d218cdf",
   "metadata": {},
   "outputs": [
    {
     "data": {
      "text/html": [
       "<div>\n",
       "<style scoped>\n",
       "    .dataframe tbody tr th:only-of-type {\n",
       "        vertical-align: middle;\n",
       "    }\n",
       "\n",
       "    .dataframe tbody tr th {\n",
       "        vertical-align: top;\n",
       "    }\n",
       "\n",
       "    .dataframe thead th {\n",
       "        text-align: right;\n",
       "    }\n",
       "</style>\n",
       "<table border=\"1\" class=\"dataframe\">\n",
       "  <thead>\n",
       "    <tr style=\"text-align: right;\">\n",
       "      <th></th>\n",
       "      <th>Method</th>\n",
       "      <th>Accuracy</th>\n",
       "      <th>Precision</th>\n",
       "      <th>Recall</th>\n",
       "      <th>F1 Score</th>\n",
       "    </tr>\n",
       "  </thead>\n",
       "  <tbody>\n",
       "    <tr>\n",
       "      <th>0</th>\n",
       "      <td>Decision Trees</td>\n",
       "      <td>0.910276</td>\n",
       "      <td>0.910374</td>\n",
       "      <td>0.910276</td>\n",
       "      <td>0.910321</td>\n",
       "    </tr>\n",
       "    <tr>\n",
       "      <th>1</th>\n",
       "      <td>Random Forest</td>\n",
       "      <td>0.950249</td>\n",
       "      <td>0.950368</td>\n",
       "      <td>0.950249</td>\n",
       "      <td>0.950058</td>\n",
       "    </tr>\n",
       "    <tr>\n",
       "      <th>2</th>\n",
       "      <td>Gradient Boosting</td>\n",
       "      <td>0.946818</td>\n",
       "      <td>0.946761</td>\n",
       "      <td>0.946818</td>\n",
       "      <td>0.946697</td>\n",
       "    </tr>\n",
       "    <tr>\n",
       "      <th>3</th>\n",
       "      <td>XGBoost</td>\n",
       "      <td>0.957454</td>\n",
       "      <td>0.957407</td>\n",
       "      <td>0.957454</td>\n",
       "      <td>0.957411</td>\n",
       "    </tr>\n",
       "  </tbody>\n",
       "</table>\n",
       "</div>"
      ],
      "text/plain": [
       "              Method  Accuracy  Precision    Recall  F1 Score\n",
       "0     Decision Trees  0.910276   0.910374  0.910276  0.910321\n",
       "1      Random Forest  0.950249   0.950368  0.950249  0.950058\n",
       "2  Gradient Boosting  0.946818   0.946761  0.946818  0.946697\n",
       "3            XGBoost  0.957454   0.957407  0.957454  0.957411"
      ]
     },
     "metadata": {},
     "output_type": "display_data"
    }
   ],
   "source": [
    "# Initialize dictionaries to store the results\n",
    "results = {\n",
    "    'Method': ['Decision Trees', 'Random Forest', 'Gradient Boosting', 'XGBoost'],\n",
    "    'Accuracy': [accuracy_score(y_test, DTpredicted), accuracy_score(y_test, RFpredicted), accuracy_score(y_test, GBTpredicted), accuracy_score(y_test, XGBpredicted)],\n",
    "    'Precision': [precision_score(y_test, DTpredicted, average='weighted'), precision_score(y_test, RFpredicted, average='weighted'), precision_score(y_test, GBTpredicted, average='weighted'), precision_score(y_test, XGBpredicted, average='weighted')],\n",
    "    'Recall': [recall_score(y_test, DTpredicted, average='weighted'), recall_score(y_test, RFpredicted, average='weighted'), recall_score(y_test, GBTpredicted, average='weighted'), recall_score(y_test, XGBpredicted, average='weighted')],\n",
    "    'F1 Score': [f1_score(y_test, DTpredicted, average='weighted'), f1_score(y_test, RFpredicted, average='weighted'), f1_score(y_test, GBTpredicted, average='weighted'), f1_score(y_test, XGBpredicted, average='weighted')]\n",
    "}\n",
    "\n",
    "# Create a Pandas DataFrame from the results dictionary\n",
    "results_df = pd.DataFrame(results)\n",
    "\n",
    "# Display the results table with rounded values (6 decimal places)\n",
    "pd.set_option(\"display.precision\", 6)\n",
    "display(results_df)"
   ]
  },
  {
   "cell_type": "code",
   "execution_count": 29,
   "id": "8a62611f",
   "metadata": {},
   "outputs": [
    {
     "data": {
      "text/plain": [
       "<matplotlib.legend.Legend at 0x7ff3ce479130>"
      ]
     },
     "execution_count": 29,
     "metadata": {},
     "output_type": "execute_result"
    },
    {
     "data": {
      "image/png": "[encoded data removed]",
      "text/plain": [
       "<Figure size 640x480 with 1 Axes>"
      ]
     },
     "metadata": {},
     "output_type": "display_data"
    }
   ],
   "source": [
    "# Calculate probabilities\n",
    "DTpredicted_probs = DT.predict_proba(X_test)\n",
    "RFpredicted_probs = RF.predict_proba(X_test)\n",
    "GBTpredicted_probs = GBT.predict_proba(X_test)\n",
    "XGBpredicted_probs = XGB.predict_proba(X_test)\n",
    "\n",
    "DT_fpr, DT_tpr, _ = roc_curve(y_test, DTpredicted_probs[:,1])\n",
    "RF_fpr, RF_tpr, _ = roc_curve(y_test, RFpredicted_probs[:,1]) \n",
    "GBT_fpr, GBT_tpr, _ = roc_curve(y_test, GBTpredicted_probs[:,1])\n",
    "XGB_fpr, XGB_tpr, _ = roc_curve(y_test, XGBpredicted_probs[:,1])\n",
    "\n",
    "plt.plot(DT_fpr, DT_tpr, 'b', label=\"Decision Tree\")\n",
    "plt.plot(RF_fpr, RF_tpr, 'r', label=\"Random Forest\")\n",
    "plt.plot(GBT_fpr, GBT_tpr, 'g', label=\"Gradient Boosted Tree\")\n",
    "plt.plot(XGB_fpr, XGB_tpr, 'y', label=\"XGBoost\")\n",
    "plt.xlim([0, 1])\n",
    "plt.ylim([0, 1])\n",
    "plt.xlabel('FPR')\n",
    "plt.ylabel('TPR')\n",
    "plt.title('ROC curve')\n",
    "plt.legend()"
   ]
  },
  {
   "cell_type": "code",
   "execution_count": 30,
   "id": "656d54a7",
   "metadata": {},
   "outputs": [
    {
     "data": {
      "text/html": [
       "<div>\n",
       "<style scoped>\n",
       "    .dataframe tbody tr th:only-of-type {\n",
       "        vertical-align: middle;\n",
       "    }\n",
       "\n",
       "    .dataframe tbody tr th {\n",
       "        vertical-align: top;\n",
       "    }\n",
       "\n",
       "    .dataframe thead th {\n",
       "        text-align: right;\n",
       "    }\n",
       "</style>\n",
       "<table border=\"1\" class=\"dataframe\">\n",
       "  <thead>\n",
       "    <tr style=\"text-align: right;\">\n",
       "      <th></th>\n",
       "      <th>Method</th>\n",
       "      <th>ROC-AUC Score</th>\n",
       "    </tr>\n",
       "  </thead>\n",
       "  <tbody>\n",
       "    <tr>\n",
       "      <th>0</th>\n",
       "      <td>Decision Tree</td>\n",
       "      <td>0.906459</td>\n",
       "    </tr>\n",
       "    <tr>\n",
       "      <th>1</th>\n",
       "      <td>Random Forest</td>\n",
       "      <td>0.987877</td>\n",
       "    </tr>\n",
       "    <tr>\n",
       "      <th>2</th>\n",
       "      <td>Gradient Boosting</td>\n",
       "      <td>0.986369</td>\n",
       "    </tr>\n",
       "    <tr>\n",
       "      <th>3</th>\n",
       "      <td>XGBoost</td>\n",
       "      <td>0.991028</td>\n",
       "    </tr>\n",
       "  </tbody>\n",
       "</table>\n",
       "</div>"
      ],
      "text/plain": [
       "              Method  ROC-AUC Score\n",
       "0      Decision Tree       0.906459\n",
       "1      Random Forest       0.987877\n",
       "2  Gradient Boosting       0.986369\n",
       "3            XGBoost       0.991028"
      ]
     },
     "metadata": {},
     "output_type": "display_data"
    }
   ],
   "source": [
    "ROCresults = {\n",
    "    'Method': ['Decision Tree', 'Random Forest', 'Gradient Boosting', 'XGBoost'],\n",
    "    'ROC-AUC Score': [roc_auc_score(y_test, DTpredicted_probs[:,1]), roc_auc_score(y_test, RFpredicted_probs[:,1]), roc_auc_score(y_test, GBTpredicted_probs[:,1]), roc_auc_score(y_test, XGBpredicted_probs[:,1])],\n",
    "    \n",
    "}\n",
    "ROCresults_df = pd.DataFrame(ROCresults)\n",
    "display(ROCresults_df)"
   ]
  },
  {
   "cell_type": "markdown",
   "id": "889733a0",
   "metadata": {},
   "source": [
    "These out of the box scores are very impressive on the general dataset as there is lots of room for improvement in the tuning of the models and the feature development. We will now check to see how well these models generalize to the topic specific dataset."
   ]
  },
  {
   "cell_type": "code",
   "execution_count": 31,
   "id": "2c723a67",
   "metadata": {},
   "outputs": [],
   "source": [
    "drcat1_features = []\n",
    "drcat1_features = feature_appender(essays, 2)"
   ]
  },
  {
   "cell_type": "code",
   "execution_count": 32,
   "id": "b9cbaea8",
   "metadata": {},
   "outputs": [],
   "source": [
    "drcat1_ylist = []\n",
    "for essay in essays:\n",
    "    drcat1_ylist.append(essay[3])"
   ]
  },
  {
   "cell_type": "code",
   "execution_count": 33,
   "id": "6d1fed95",
   "metadata": {},
   "outputs": [
    {
     "data": {
      "text/html": [
       "<div>\n",
       "<style scoped>\n",
       "    .dataframe tbody tr th:only-of-type {\n",
       "        vertical-align: middle;\n",
       "    }\n",
       "\n",
       "    .dataframe tbody tr th {\n",
       "        vertical-align: top;\n",
       "    }\n",
       "\n",
       "    .dataframe thead th {\n",
       "        text-align: right;\n",
       "    }\n",
       "</style>\n",
       "<table border=\"1\" class=\"dataframe\">\n",
       "  <thead>\n",
       "    <tr style=\"text-align: right;\">\n",
       "      <th></th>\n",
       "      <th>Method</th>\n",
       "      <th>Accuracy</th>\n",
       "      <th>Precision</th>\n",
       "      <th>Recall</th>\n",
       "      <th>F1 Score</th>\n",
       "    </tr>\n",
       "  </thead>\n",
       "  <tbody>\n",
       "    <tr>\n",
       "      <th>0</th>\n",
       "      <td>Decision Trees</td>\n",
       "      <td>0.999519</td>\n",
       "      <td>0.999519</td>\n",
       "      <td>0.999519</td>\n",
       "      <td>0.999519</td>\n",
       "    </tr>\n",
       "    <tr>\n",
       "      <th>1</th>\n",
       "      <td>Random Forest</td>\n",
       "      <td>0.999519</td>\n",
       "      <td>0.999519</td>\n",
       "      <td>0.999519</td>\n",
       "      <td>0.999519</td>\n",
       "    </tr>\n",
       "    <tr>\n",
       "      <th>2</th>\n",
       "      <td>Gradient Boosting</td>\n",
       "      <td>0.991819</td>\n",
       "      <td>0.991911</td>\n",
       "      <td>0.991819</td>\n",
       "      <td>0.991834</td>\n",
       "    </tr>\n",
       "    <tr>\n",
       "      <th>3</th>\n",
       "      <td>XGBoost</td>\n",
       "      <td>0.998556</td>\n",
       "      <td>0.998557</td>\n",
       "      <td>0.998556</td>\n",
       "      <td>0.998557</td>\n",
       "    </tr>\n",
       "  </tbody>\n",
       "</table>\n",
       "</div>"
      ],
      "text/plain": [
       "              Method  Accuracy  Precision    Recall  F1 Score\n",
       "0     Decision Trees  0.999519   0.999519  0.999519  0.999519\n",
       "1      Random Forest  0.999519   0.999519  0.999519  0.999519\n",
       "2  Gradient Boosting  0.991819   0.991911  0.991819  0.991834\n",
       "3            XGBoost  0.998556   0.998557  0.998556  0.998557"
      ]
     },
     "metadata": {},
     "output_type": "display_data"
    }
   ],
   "source": [
    "# Make predictions\n",
    "DTpredicted = DT.predict(drcat1_features)\n",
    "RFpredicted = RF.predict(drcat1_features)\n",
    "GBTpredicted = GBT.predict(drcat1_features)\n",
    "XGBpredicted = XGB.predict(drcat1_features)\n",
    "\n",
    "# Initialize dictionaries to store the results\n",
    "results = {\n",
    "    'Method': ['Decision Trees', 'Random Forest', 'Gradient Boosting', 'XGBoost'],\n",
    "    'Accuracy': [accuracy_score(drcat1_ylist, DTpredicted), accuracy_score(drcat1_ylist, RFpredicted), accuracy_score(drcat1_ylist, GBTpredicted), accuracy_score(drcat1_ylist, XGBpredicted)],\n",
    "    'Precision': [precision_score(drcat1_ylist, DTpredicted, average='weighted'), precision_score(drcat1_ylist, RFpredicted, average='weighted'), precision_score(drcat1_ylist, GBTpredicted, average='weighted'), precision_score(drcat1_ylist, XGBpredicted, average='weighted')],\n",
    "    'Recall': [recall_score(drcat1_ylist, DTpredicted, average='weighted'), recall_score(drcat1_ylist, RFpredicted, average='weighted'), recall_score(drcat1_ylist, GBTpredicted, average='weighted'), recall_score(drcat1_ylist, XGBpredicted, average='weighted')],\n",
    "    'F1 Score': [f1_score(drcat1_ylist, DTpredicted, average='weighted'), f1_score(drcat1_ylist, RFpredicted, average='weighted'), f1_score(drcat1_ylist, GBTpredicted, average='weighted'), f1_score(drcat1_ylist, XGBpredicted, average='weighted')]\n",
    "}\n",
    "\n",
    "# Create a Pandas DataFrame from the results dictionary\n",
    "results_df = pd.DataFrame(results)\n",
    "\n",
    "# Display the results table with rounded values (6 decimal places)\n",
    "pd.set_option(\"display.precision\", 6)\n",
    "display(results_df)"
   ]
  },
  {
   "cell_type": "code",
   "execution_count": 34,
   "id": "9f69fa60",
   "metadata": {},
   "outputs": [
    {
     "data": {
      "text/plain": [
       "<matplotlib.legend.Legend at 0x7ff3a85daf10>"
      ]
     },
     "execution_count": 34,
     "metadata": {},
     "output_type": "execute_result"
    },
    {
     "data": {
      "image/png": "[encoded data removed]",
      "text/plain": [
       "<Figure size 640x480 with 1 Axes>"
      ]
     },
     "metadata": {},
     "output_type": "display_data"
    }
   ],
   "source": [
    "# Calculate probabilities\n",
    "DTpredicted_probs = DT.predict_proba(drcat1_features)\n",
    "RFpredicted_probs = RF.predict_proba(drcat1_features)\n",
    "GBTpredicted_probs = GBT.predict_proba(drcat1_features)\n",
    "XGBpredicted_probs = XGB.predict_proba(drcat1_features)\n",
    "\n",
    "DT_fpr, DT_tpr, _ = roc_curve(drcat1_ylist, DTpredicted_probs[:,1])\n",
    "RF_fpr, RF_tpr, _ = roc_curve(drcat1_ylist, RFpredicted_probs[:,1]) \n",
    "GBT_fpr, GBT_tpr, _ = roc_curve(drcat1_ylist, GBTpredicted_probs[:,1])\n",
    "XGB_fpr, XGB_tpr, _ = roc_curve(drcat1_ylist, XGBpredicted_probs[:,1])\n",
    "\n",
    "plt.plot(DT_fpr, DT_tpr, 'b', label=\"Decision Tree\")\n",
    "plt.plot(RF_fpr, RF_tpr, 'r', label=\"Random Forest\")\n",
    "plt.plot(GBT_fpr, GBT_tpr, 'g', label=\"Gradient Boosted Tree\")\n",
    "plt.plot(XGB_fpr, XGB_tpr, 'y', label=\"XGBoost\")\n",
    "plt.xlim([0, 1])\n",
    "plt.ylim([0, 1])\n",
    "plt.xlabel('FPR')\n",
    "plt.ylabel('TPR')\n",
    "plt.title('ROC curve')\n",
    "plt.legend()"
   ]
  },
  {
   "cell_type": "code",
   "execution_count": 35,
   "id": "539c4cca",
   "metadata": {},
   "outputs": [
    {
     "data": {
      "text/html": [
       "<div>\n",
       "<style scoped>\n",
       "    .dataframe tbody tr th:only-of-type {\n",
       "        vertical-align: middle;\n",
       "    }\n",
       "\n",
       "    .dataframe tbody tr th {\n",
       "        vertical-align: top;\n",
       "    }\n",
       "\n",
       "    .dataframe thead th {\n",
       "        text-align: right;\n",
       "    }\n",
       "</style>\n",
       "<table border=\"1\" class=\"dataframe\">\n",
       "  <thead>\n",
       "    <tr style=\"text-align: right;\">\n",
       "      <th></th>\n",
       "      <th>Method</th>\n",
       "      <th>ROC-AUC Score</th>\n",
       "    </tr>\n",
       "  </thead>\n",
       "  <tbody>\n",
       "    <tr>\n",
       "      <th>0</th>\n",
       "      <td>Decision Tree</td>\n",
       "      <td>0.999289</td>\n",
       "    </tr>\n",
       "    <tr>\n",
       "      <th>1</th>\n",
       "      <td>Random Forest</td>\n",
       "      <td>0.999812</td>\n",
       "    </tr>\n",
       "    <tr>\n",
       "      <th>2</th>\n",
       "      <td>Gradient Boosting</td>\n",
       "      <td>0.999353</td>\n",
       "    </tr>\n",
       "    <tr>\n",
       "      <th>3</th>\n",
       "      <td>XGBoost</td>\n",
       "      <td>0.999462</td>\n",
       "    </tr>\n",
       "  </tbody>\n",
       "</table>\n",
       "</div>"
      ],
      "text/plain": [
       "              Method  ROC-AUC Score\n",
       "0      Decision Tree       0.999289\n",
       "1      Random Forest       0.999812\n",
       "2  Gradient Boosting       0.999353\n",
       "3            XGBoost       0.999462"
      ]
     },
     "metadata": {},
     "output_type": "display_data"
    }
   ],
   "source": [
    "ROCresults = {\n",
    "    'Method': ['Decision Tree', 'Random Forest', 'Gradient Boosting', 'XGBoost'],\n",
    "    'ROC-AUC Score': [roc_auc_score(drcat1_ylist, DTpredicted_probs[:,1]), roc_auc_score(drcat1_ylist, RFpredicted_probs[:,1]), roc_auc_score(drcat1_ylist, GBTpredicted_probs[:,1]), roc_auc_score(drcat1_ylist, XGBpredicted_probs[:,1])],\n",
    "    \n",
    "}\n",
    "ROCresults_df = pd.DataFrame(ROCresults)\n",
    "display(ROCresults_df)"
   ]
  },
  {
   "cell_type": "markdown",
   "id": "49f24f84",
   "metadata": {},
   "source": [
    "The models trained on the general dataset generalise to the topic specific dataset perfectly, encouraging us that it is possible to create a model that can detct AI generated text in any context.\n",
    "\n",
    "These results are far from conclusive. When submitting these models to a Kaggle competition found at https://www.kaggle.com/competitions/llm-detect-ai-generated-text/overview they were unable to achive ROC-AUC scores above 0.7 despite the test set supposedly being very similar to the test set we are using here. This is evidence of very poor generalisation. It's possible that the two prompts used in our test set are also prompts used in the generalised set we used for training which could be a reason for the too good to be true results.\n",
    "\n",
    "A different key take away from this analysis is how easy it is to create accurate out of the box models with basic feature engineering, especially when working in a specific domian with limited prompts. The models only require very few samples to train on and can achieve very high accuracy supporting the case that we should just train AI text detection models for specific domains or topics."
   ]
  },
  {
   "cell_type": "markdown",
   "id": "38b91275",
   "metadata": {},
   "source": []
  }
 ],
 "metadata": {
  "kernelspec": {
   "display_name": "Python 3 (ipykernel)",
   "language": "python",
   "name": "python3"
  },
  "language_info": {
   "codemirror_mode": {
    "name": "ipython",
    "version": 3
   },
   "file_extension": ".py",
   "mimetype": "text/x-python",
   "name": "python",
   "nbconvert_exporter": "python",
   "pygments_lexer": "ipython3",
   "version": "3.9.13"
  }
 },
 "nbformat": 4,
 "nbformat_minor": 5
}
