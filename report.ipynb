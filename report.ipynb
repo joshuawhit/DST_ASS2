{
  "nbformat": 4,
  "nbformat_minor": 0,
  "metadata": {
    "colab": {
      "provenance": [],
      "gpuType": "T4",
      "authorship_tag": "ABX9TyMETps4XFP4a5M+xafjIijg",
      "include_colab_link": true
    },
    "kernelspec": {
      "name": "python3",
      "display_name": "Python 3"
    },
    "language_info": {
      "name": "python"
    },
    "accelerator": "GPU",
    "widgets": {
      "application/vnd.jupyter.widget-state+json": {
        "a3ec61141e7145d89f35d5e013ba9b5d": {
          "model_module": "@jupyter-widgets/controls",
          "model_name": "HBoxModel",
          "model_module_version": "1.5.0",
          "state": {
            "_dom_classes": [],
            "_model_module": "@jupyter-widgets/controls",
            "_model_module_version": "1.5.0",
            "_model_name": "HBoxModel",
            "_view_count": null,
            "_view_module": "@jupyter-widgets/controls",
            "_view_module_version": "1.5.0",
            "_view_name": "HBoxView",
            "box_style": "",
            "children": [
              "IPY_MODEL_2297c9df5c904eb98b475a0bc26ecce6",
              "IPY_MODEL_96077ecf35cf4ab1ad28a393935fd9d8",
              "IPY_MODEL_5559ca2b1c514b23aa5af500f9b22384"
            ],
            "layout": "IPY_MODEL_888db117023647489069f64c241ec406"
          }
        },
        "2297c9df5c904eb98b475a0bc26ecce6": {
          "model_module": "@jupyter-widgets/controls",
          "model_name": "HTMLModel",
          "model_module_version": "1.5.0",
          "state": {
            "_dom_classes": [],
            "_model_module": "@jupyter-widgets/controls",
            "_model_module_version": "1.5.0",
            "_model_name": "HTMLModel",
            "_view_count": null,
            "_view_module": "@jupyter-widgets/controls",
            "_view_module_version": "1.5.0",
            "_view_name": "HTMLView",
            "description": "",
            "description_tooltip": null,
            "layout": "IPY_MODEL_3a3cbe83f0e84eedb7b6db36c7999e6f",
            "placeholder": "​",
            "style": "IPY_MODEL_b28fbf4779af4d40a1094a4deead88c9",
            "value": "100%"
          }
        },
        "96077ecf35cf4ab1ad28a393935fd9d8": {
          "model_module": "@jupyter-widgets/controls",
          "model_name": "FloatProgressModel",
          "model_module_version": "1.5.0",
          "state": {
            "_dom_classes": [],
            "_model_module": "@jupyter-widgets/controls",
            "_model_module_version": "1.5.0",
            "_model_name": "FloatProgressModel",
            "_view_count": null,
            "_view_module": "@jupyter-widgets/controls",
            "_view_module_version": "1.5.0",
            "_view_name": "ProgressView",
            "bar_style": "success",
            "description": "",
            "description_tooltip": null,
            "layout": "IPY_MODEL_fbfb72c74f6944b6b0513088ce18caa7",
            "max": 500,
            "min": 0,
            "orientation": "horizontal",
            "style": "IPY_MODEL_9fc6fc97097d4bbd918d66e0f5f9d922",
            "value": 500
          }
        },
        "5559ca2b1c514b23aa5af500f9b22384": {
          "model_module": "@jupyter-widgets/controls",
          "model_name": "HTMLModel",
          "model_module_version": "1.5.0",
          "state": {
            "_dom_classes": [],
            "_model_module": "@jupyter-widgets/controls",
            "_model_module_version": "1.5.0",
            "_model_name": "HTMLModel",
            "_view_count": null,
            "_view_module": "@jupyter-widgets/controls",
            "_view_module_version": "1.5.0",
            "_view_name": "HTMLView",
            "description": "",
            "description_tooltip": null,
            "layout": "IPY_MODEL_d06deb64f28b4aa9b5b9625161c68a29",
            "placeholder": "​",
            "style": "IPY_MODEL_4c0863f1504c4b81915da19c951b1df3",
            "value": " 500/500 [00:52&lt;00:00,  9.66it/s]"
          }
        },
        "888db117023647489069f64c241ec406": {
          "model_module": "@jupyter-widgets/base",
          "model_name": "LayoutModel",
          "model_module_version": "1.2.0",
          "state": {
            "_model_module": "@jupyter-widgets/base",
            "_model_module_version": "1.2.0",
            "_model_name": "LayoutModel",
            "_view_count": null,
            "_view_module": "@jupyter-widgets/base",
            "_view_module_version": "1.2.0",
            "_view_name": "LayoutView",
            "align_content": null,
            "align_items": null,
            "align_self": null,
            "border": null,
            "bottom": null,
            "display": null,
            "flex": null,
            "flex_flow": null,
            "grid_area": null,
            "grid_auto_columns": null,
            "grid_auto_flow": null,
            "grid_auto_rows": null,
            "grid_column": null,
            "grid_gap": null,
            "grid_row": null,
            "grid_template_areas": null,
            "grid_template_columns": null,
            "grid_template_rows": null,
            "height": null,
            "justify_content": null,
            "justify_items": null,
            "left": null,
            "margin": null,
            "max_height": null,
            "max_width": null,
            "min_height": null,
            "min_width": null,
            "object_fit": null,
            "object_position": null,
            "order": null,
            "overflow": null,
            "overflow_x": null,
            "overflow_y": null,
            "padding": null,
            "right": null,
            "top": null,
            "visibility": null,
            "width": null
          }
        },
        "3a3cbe83f0e84eedb7b6db36c7999e6f": {
          "model_module": "@jupyter-widgets/base",
          "model_name": "LayoutModel",
          "model_module_version": "1.2.0",
          "state": {
            "_model_module": "@jupyter-widgets/base",
            "_model_module_version": "1.2.0",
            "_model_name": "LayoutModel",
            "_view_count": null,
            "_view_module": "@jupyter-widgets/base",
            "_view_module_version": "1.2.0",
            "_view_name": "LayoutView",
            "align_content": null,
            "align_items": null,
            "align_self": null,
            "border": null,
            "bottom": null,
            "display": null,
            "flex": null,
            "flex_flow": null,
            "grid_area": null,
            "grid_auto_columns": null,
            "grid_auto_flow": null,
            "grid_auto_rows": null,
            "grid_column": null,
            "grid_gap": null,
            "grid_row": null,
            "grid_template_areas": null,
            "grid_template_columns": null,
            "grid_template_rows": null,
            "height": null,
            "justify_content": null,
            "justify_items": null,
            "left": null,
            "margin": null,
            "max_height": null,
            "max_width": null,
            "min_height": null,
            "min_width": null,
            "object_fit": null,
            "object_position": null,
            "order": null,
            "overflow": null,
            "overflow_x": null,
            "overflow_y": null,
            "padding": null,
            "right": null,
            "top": null,
            "visibility": null,
            "width": null
          }
        },
        "b28fbf4779af4d40a1094a4deead88c9": {
          "model_module": "@jupyter-widgets/controls",
          "model_name": "DescriptionStyleModel",
          "model_module_version": "1.5.0",
          "state": {
            "_model_module": "@jupyter-widgets/controls",
            "_model_module_version": "1.5.0",
            "_model_name": "DescriptionStyleModel",
            "_view_count": null,
            "_view_module": "@jupyter-widgets/base",
            "_view_module_version": "1.2.0",
            "_view_name": "StyleView",
            "description_width": ""
          }
        },
        "fbfb72c74f6944b6b0513088ce18caa7": {
          "model_module": "@jupyter-widgets/base",
          "model_name": "LayoutModel",
          "model_module_version": "1.2.0",
          "state": {
            "_model_module": "@jupyter-widgets/base",
            "_model_module_version": "1.2.0",
            "_model_name": "LayoutModel",
            "_view_count": null,
            "_view_module": "@jupyter-widgets/base",
            "_view_module_version": "1.2.0",
            "_view_name": "LayoutView",
            "align_content": null,
            "align_items": null,
            "align_self": null,
            "border": null,
            "bottom": null,
            "display": null,
            "flex": null,
            "flex_flow": null,
            "grid_area": null,
            "grid_auto_columns": null,
            "grid_auto_flow": null,
            "grid_auto_rows": null,
            "grid_column": null,
            "grid_gap": null,
            "grid_row": null,
            "grid_template_areas": null,
            "grid_template_columns": null,
            "grid_template_rows": null,
            "height": null,
            "justify_content": null,
            "justify_items": null,
            "left": null,
            "margin": null,
            "max_height": null,
            "max_width": null,
            "min_height": null,
            "min_width": null,
            "object_fit": null,
            "object_position": null,
            "order": null,
            "overflow": null,
            "overflow_x": null,
            "overflow_y": null,
            "padding": null,
            "right": null,
            "top": null,
            "visibility": null,
            "width": null
          }
        },
        "9fc6fc97097d4bbd918d66e0f5f9d922": {
          "model_module": "@jupyter-widgets/controls",
          "model_name": "ProgressStyleModel",
          "model_module_version": "1.5.0",
          "state": {
            "_model_module": "@jupyter-widgets/controls",
            "_model_module_version": "1.5.0",
            "_model_name": "ProgressStyleModel",
            "_view_count": null,
            "_view_module": "@jupyter-widgets/base",
            "_view_module_version": "1.2.0",
            "_view_name": "StyleView",
            "bar_color": null,
            "description_width": ""
          }
        },
        "d06deb64f28b4aa9b5b9625161c68a29": {
          "model_module": "@jupyter-widgets/base",
          "model_name": "LayoutModel",
          "model_module_version": "1.2.0",
          "state": {
            "_model_module": "@jupyter-widgets/base",
            "_model_module_version": "1.2.0",
            "_model_name": "LayoutModel",
            "_view_count": null,
            "_view_module": "@jupyter-widgets/base",
            "_view_module_version": "1.2.0",
            "_view_name": "LayoutView",
            "align_content": null,
            "align_items": null,
            "align_self": null,
            "border": null,
            "bottom": null,
            "display": null,
            "flex": null,
            "flex_flow": null,
            "grid_area": null,
            "grid_auto_columns": null,
            "grid_auto_flow": null,
            "grid_auto_rows": null,
            "grid_column": null,
            "grid_gap": null,
            "grid_row": null,
            "grid_template_areas": null,
            "grid_template_columns": null,
            "grid_template_rows": null,
            "height": null,
            "justify_content": null,
            "justify_items": null,
            "left": null,
            "margin": null,
            "max_height": null,
            "max_width": null,
            "min_height": null,
            "min_width": null,
            "object_fit": null,
            "object_position": null,
            "order": null,
            "overflow": null,
            "overflow_x": null,
            "overflow_y": null,
            "padding": null,
            "right": null,
            "top": null,
            "visibility": null,
            "width": null
          }
        },
        "4c0863f1504c4b81915da19c951b1df3": {
          "model_module": "@jupyter-widgets/controls",
          "model_name": "DescriptionStyleModel",
          "model_module_version": "1.5.0",
          "state": {
            "_model_module": "@jupyter-widgets/controls",
            "_model_module_version": "1.5.0",
            "_model_name": "DescriptionStyleModel",
            "_view_count": null,
            "_view_module": "@jupyter-widgets/base",
            "_view_module_version": "1.2.0",
            "_view_name": "StyleView",
            "description_width": ""
          }
        },
        "0cbc4850c61c44cb9bc2f35a3991614d": {
          "model_module": "@jupyter-widgets/controls",
          "model_name": "HBoxModel",
          "model_module_version": "1.5.0",
          "state": {
            "_dom_classes": [],
            "_model_module": "@jupyter-widgets/controls",
            "_model_module_version": "1.5.0",
            "_model_name": "HBoxModel",
            "_view_count": null,
            "_view_module": "@jupyter-widgets/controls",
            "_view_module_version": "1.5.0",
            "_view_name": "HBoxView",
            "box_style": "",
            "children": [
              "IPY_MODEL_0a99c668618c42a4ab836e602086b83b",
              "IPY_MODEL_656ef6b51bd24d3fa7e95933d6911b19",
              "IPY_MODEL_f621d42d35f24304b465f1b5cd2accd4"
            ],
            "layout": "IPY_MODEL_f2ad126c1dca460d98db8e23eb2a945a"
          }
        },
        "0a99c668618c42a4ab836e602086b83b": {
          "model_module": "@jupyter-widgets/controls",
          "model_name": "HTMLModel",
          "model_module_version": "1.5.0",
          "state": {
            "_dom_classes": [],
            "_model_module": "@jupyter-widgets/controls",
            "_model_module_version": "1.5.0",
            "_model_name": "HTMLModel",
            "_view_count": null,
            "_view_module": "@jupyter-widgets/controls",
            "_view_module_version": "1.5.0",
            "_view_name": "HTMLView",
            "description": "",
            "description_tooltip": null,
            "layout": "IPY_MODEL_5f64c56d0b6d4766ad6fc7c2365e5daa",
            "placeholder": "​",
            "style": "IPY_MODEL_6ffa255e10a245bb9639d85c2af19418",
            "value": "100%"
          }
        },
        "656ef6b51bd24d3fa7e95933d6911b19": {
          "model_module": "@jupyter-widgets/controls",
          "model_name": "FloatProgressModel",
          "model_module_version": "1.5.0",
          "state": {
            "_dom_classes": [],
            "_model_module": "@jupyter-widgets/controls",
            "_model_module_version": "1.5.0",
            "_model_name": "FloatProgressModel",
            "_view_count": null,
            "_view_module": "@jupyter-widgets/controls",
            "_view_module_version": "1.5.0",
            "_view_name": "ProgressView",
            "bar_style": "success",
            "description": "",
            "description_tooltip": null,
            "layout": "IPY_MODEL_95fc89855d184d078647c4b0d49dc5a7",
            "max": 100,
            "min": 0,
            "orientation": "horizontal",
            "style": "IPY_MODEL_1cd5c2ccd75e4870acdcf985eaea73da",
            "value": 100
          }
        },
        "f621d42d35f24304b465f1b5cd2accd4": {
          "model_module": "@jupyter-widgets/controls",
          "model_name": "HTMLModel",
          "model_module_version": "1.5.0",
          "state": {
            "_dom_classes": [],
            "_model_module": "@jupyter-widgets/controls",
            "_model_module_version": "1.5.0",
            "_model_name": "HTMLModel",
            "_view_count": null,
            "_view_module": "@jupyter-widgets/controls",
            "_view_module_version": "1.5.0",
            "_view_name": "HTMLView",
            "description": "",
            "description_tooltip": null,
            "layout": "IPY_MODEL_613fd521910a4e35bc59b3f285fb0bc2",
            "placeholder": "​",
            "style": "IPY_MODEL_65e836b93dc146829cf214ce7d9ecb1b",
            "value": " 100/100 [00:11&lt;00:00,  9.18it/s]"
          }
        },
        "f2ad126c1dca460d98db8e23eb2a945a": {
          "model_module": "@jupyter-widgets/base",
          "model_name": "LayoutModel",
          "model_module_version": "1.2.0",
          "state": {
            "_model_module": "@jupyter-widgets/base",
            "_model_module_version": "1.2.0",
            "_model_name": "LayoutModel",
            "_view_count": null,
            "_view_module": "@jupyter-widgets/base",
            "_view_module_version": "1.2.0",
            "_view_name": "LayoutView",
            "align_content": null,
            "align_items": null,
            "align_self": null,
            "border": null,
            "bottom": null,
            "display": null,
            "flex": null,
            "flex_flow": null,
            "grid_area": null,
            "grid_auto_columns": null,
            "grid_auto_flow": null,
            "grid_auto_rows": null,
            "grid_column": null,
            "grid_gap": null,
            "grid_row": null,
            "grid_template_areas": null,
            "grid_template_columns": null,
            "grid_template_rows": null,
            "height": null,
            "justify_content": null,
            "justify_items": null,
            "left": null,
            "margin": null,
            "max_height": null,
            "max_width": null,
            "min_height": null,
            "min_width": null,
            "object_fit": null,
            "object_position": null,
            "order": null,
            "overflow": null,
            "overflow_x": null,
            "overflow_y": null,
            "padding": null,
            "right": null,
            "top": null,
            "visibility": null,
            "width": null
          }
        },
        "5f64c56d0b6d4766ad6fc7c2365e5daa": {
          "model_module": "@jupyter-widgets/base",
          "model_name": "LayoutModel",
          "model_module_version": "1.2.0",
          "state": {
            "_model_module": "@jupyter-widgets/base",
            "_model_module_version": "1.2.0",
            "_model_name": "LayoutModel",
            "_view_count": null,
            "_view_module": "@jupyter-widgets/base",
            "_view_module_version": "1.2.0",
            "_view_name": "LayoutView",
            "align_content": null,
            "align_items": null,
            "align_self": null,
            "border": null,
            "bottom": null,
            "display": null,
            "flex": null,
            "flex_flow": null,
            "grid_area": null,
            "grid_auto_columns": null,
            "grid_auto_flow": null,
            "grid_auto_rows": null,
            "grid_column": null,
            "grid_gap": null,
            "grid_row": null,
            "grid_template_areas": null,
            "grid_template_columns": null,
            "grid_template_rows": null,
            "height": null,
            "justify_content": null,
            "justify_items": null,
            "left": null,
            "margin": null,
            "max_height": null,
            "max_width": null,
            "min_height": null,
            "min_width": null,
            "object_fit": null,
            "object_position": null,
            "order": null,
            "overflow": null,
            "overflow_x": null,
            "overflow_y": null,
            "padding": null,
            "right": null,
            "top": null,
            "visibility": null,
            "width": null
          }
        },
        "6ffa255e10a245bb9639d85c2af19418": {
          "model_module": "@jupyter-widgets/controls",
          "model_name": "DescriptionStyleModel",
          "model_module_version": "1.5.0",
          "state": {
            "_model_module": "@jupyter-widgets/controls",
            "_model_module_version": "1.5.0",
            "_model_name": "DescriptionStyleModel",
            "_view_count": null,
            "_view_module": "@jupyter-widgets/base",
            "_view_module_version": "1.2.0",
            "_view_name": "StyleView",
            "description_width": ""
          }
        },
        "95fc89855d184d078647c4b0d49dc5a7": {
          "model_module": "@jupyter-widgets/base",
          "model_name": "LayoutModel",
          "model_module_version": "1.2.0",
          "state": {
            "_model_module": "@jupyter-widgets/base",
            "_model_module_version": "1.2.0",
            "_model_name": "LayoutModel",
            "_view_count": null,
            "_view_module": "@jupyter-widgets/base",
            "_view_module_version": "1.2.0",
            "_view_name": "LayoutView",
            "align_content": null,
            "align_items": null,
            "align_self": null,
            "border": null,
            "bottom": null,
            "display": null,
            "flex": null,
            "flex_flow": null,
            "grid_area": null,
            "grid_auto_columns": null,
            "grid_auto_flow": null,
            "grid_auto_rows": null,
            "grid_column": null,
            "grid_gap": null,
            "grid_row": null,
            "grid_template_areas": null,
            "grid_template_columns": null,
            "grid_template_rows": null,
            "height": null,
            "justify_content": null,
            "justify_items": null,
            "left": null,
            "margin": null,
            "max_height": null,
            "max_width": null,
            "min_height": null,
            "min_width": null,
            "object_fit": null,
            "object_position": null,
            "order": null,
            "overflow": null,
            "overflow_x": null,
            "overflow_y": null,
            "padding": null,
            "right": null,
            "top": null,
            "visibility": null,
            "width": null
          }
        },
        "1cd5c2ccd75e4870acdcf985eaea73da": {
          "model_module": "@jupyter-widgets/controls",
          "model_name": "ProgressStyleModel",
          "model_module_version": "1.5.0",
          "state": {
            "_model_module": "@jupyter-widgets/controls",
            "_model_module_version": "1.5.0",
            "_model_name": "ProgressStyleModel",
            "_view_count": null,
            "_view_module": "@jupyter-widgets/base",
            "_view_module_version": "1.2.0",
            "_view_name": "StyleView",
            "bar_color": null,
            "description_width": ""
          }
        },
        "613fd521910a4e35bc59b3f285fb0bc2": {
          "model_module": "@jupyter-widgets/base",
          "model_name": "LayoutModel",
          "model_module_version": "1.2.0",
          "state": {
            "_model_module": "@jupyter-widgets/base",
            "_model_module_version": "1.2.0",
            "_model_name": "LayoutModel",
            "_view_count": null,
            "_view_module": "@jupyter-widgets/base",
            "_view_module_version": "1.2.0",
            "_view_name": "LayoutView",
            "align_content": null,
            "align_items": null,
            "align_self": null,
            "border": null,
            "bottom": null,
            "display": null,
            "flex": null,
            "flex_flow": null,
            "grid_area": null,
            "grid_auto_columns": null,
            "grid_auto_flow": null,
            "grid_auto_rows": null,
            "grid_column": null,
            "grid_gap": null,
            "grid_row": null,
            "grid_template_areas": null,
            "grid_template_columns": null,
            "grid_template_rows": null,
            "height": null,
            "justify_content": null,
            "justify_items": null,
            "left": null,
            "margin": null,
            "max_height": null,
            "max_width": null,
            "min_height": null,
            "min_width": null,
            "object_fit": null,
            "object_position": null,
            "order": null,
            "overflow": null,
            "overflow_x": null,
            "overflow_y": null,
            "padding": null,
            "right": null,
            "top": null,
            "visibility": null,
            "width": null
          }
        },
        "65e836b93dc146829cf214ce7d9ecb1b": {
          "model_module": "@jupyter-widgets/controls",
          "model_name": "DescriptionStyleModel",
          "model_module_version": "1.5.0",
          "state": {
            "_model_module": "@jupyter-widgets/controls",
            "_model_module_version": "1.5.0",
            "_model_name": "DescriptionStyleModel",
            "_view_count": null,
            "_view_module": "@jupyter-widgets/base",
            "_view_module_version": "1.2.0",
            "_view_name": "StyleView",
            "description_width": ""
          }
        },
        "37e670716db74b4b8b1d61eb70500bf2": {
          "model_module": "@jupyter-widgets/controls",
          "model_name": "HBoxModel",
          "model_module_version": "1.5.0",
          "state": {
            "_dom_classes": [],
            "_model_module": "@jupyter-widgets/controls",
            "_model_module_version": "1.5.0",
            "_model_name": "HBoxModel",
            "_view_count": null,
            "_view_module": "@jupyter-widgets/controls",
            "_view_module_version": "1.5.0",
            "_view_name": "HBoxView",
            "box_style": "",
            "children": [
              "IPY_MODEL_c93554dce7634093aafccd8d21a00691",
              "IPY_MODEL_c2384cf6b66c4ce58949ac568d05ee36",
              "IPY_MODEL_41dc98ea4a1347379a6a0439fb5a56ae"
            ],
            "layout": "IPY_MODEL_afcd41cf46bf40c69caa9fd0ece090d0"
          }
        },
        "c93554dce7634093aafccd8d21a00691": {
          "model_module": "@jupyter-widgets/controls",
          "model_name": "HTMLModel",
          "model_module_version": "1.5.0",
          "state": {
            "_dom_classes": [],
            "_model_module": "@jupyter-widgets/controls",
            "_model_module_version": "1.5.0",
            "_model_name": "HTMLModel",
            "_view_count": null,
            "_view_module": "@jupyter-widgets/controls",
            "_view_module_version": "1.5.0",
            "_view_name": "HTMLView",
            "description": "",
            "description_tooltip": null,
            "layout": "IPY_MODEL_489fa883699b4a41a76dcecf50959b5c",
            "placeholder": "​",
            "style": "IPY_MODEL_9ccf8a7313844ab09e78a42d4adb469c",
            "value": "100%"
          }
        },
        "c2384cf6b66c4ce58949ac568d05ee36": {
          "model_module": "@jupyter-widgets/controls",
          "model_name": "FloatProgressModel",
          "model_module_version": "1.5.0",
          "state": {
            "_dom_classes": [],
            "_model_module": "@jupyter-widgets/controls",
            "_model_module_version": "1.5.0",
            "_model_name": "FloatProgressModel",
            "_view_count": null,
            "_view_module": "@jupyter-widgets/controls",
            "_view_module_version": "1.5.0",
            "_view_name": "ProgressView",
            "bar_style": "success",
            "description": "",
            "description_tooltip": null,
            "layout": "IPY_MODEL_8d5329a30127480fa09f5bc11c3c9dee",
            "max": 100,
            "min": 0,
            "orientation": "horizontal",
            "style": "IPY_MODEL_c377e4ff83324ba4b5f5223f02bb850d",
            "value": 100
          }
        },
        "41dc98ea4a1347379a6a0439fb5a56ae": {
          "model_module": "@jupyter-widgets/controls",
          "model_name": "HTMLModel",
          "model_module_version": "1.5.0",
          "state": {
            "_dom_classes": [],
            "_model_module": "@jupyter-widgets/controls",
            "_model_module_version": "1.5.0",
            "_model_name": "HTMLModel",
            "_view_count": null,
            "_view_module": "@jupyter-widgets/controls",
            "_view_module_version": "1.5.0",
            "_view_name": "HTMLView",
            "description": "",
            "description_tooltip": null,
            "layout": "IPY_MODEL_f4568a01e20349e387f02ce61173d56f",
            "placeholder": "​",
            "style": "IPY_MODEL_2583599f84e14501ade0b52f3e4e0904",
            "value": " 100/100 [00:09&lt;00:00,  9.26it/s]"
          }
        },
        "afcd41cf46bf40c69caa9fd0ece090d0": {
          "model_module": "@jupyter-widgets/base",
          "model_name": "LayoutModel",
          "model_module_version": "1.2.0",
          "state": {
            "_model_module": "@jupyter-widgets/base",
            "_model_module_version": "1.2.0",
            "_model_name": "LayoutModel",
            "_view_count": null,
            "_view_module": "@jupyter-widgets/base",
            "_view_module_version": "1.2.0",
            "_view_name": "LayoutView",
            "align_content": null,
            "align_items": null,
            "align_self": null,
            "border": null,
            "bottom": null,
            "display": null,
            "flex": null,
            "flex_flow": null,
            "grid_area": null,
            "grid_auto_columns": null,
            "grid_auto_flow": null,
            "grid_auto_rows": null,
            "grid_column": null,
            "grid_gap": null,
            "grid_row": null,
            "grid_template_areas": null,
            "grid_template_columns": null,
            "grid_template_rows": null,
            "height": null,
            "justify_content": null,
            "justify_items": null,
            "left": null,
            "margin": null,
            "max_height": null,
            "max_width": null,
            "min_height": null,
            "min_width": null,
            "object_fit": null,
            "object_position": null,
            "order": null,
            "overflow": null,
            "overflow_x": null,
            "overflow_y": null,
            "padding": null,
            "right": null,
            "top": null,
            "visibility": null,
            "width": null
          }
        },
        "489fa883699b4a41a76dcecf50959b5c": {
          "model_module": "@jupyter-widgets/base",
          "model_name": "LayoutModel",
          "model_module_version": "1.2.0",
          "state": {
            "_model_module": "@jupyter-widgets/base",
            "_model_module_version": "1.2.0",
            "_model_name": "LayoutModel",
            "_view_count": null,
            "_view_module": "@jupyter-widgets/base",
            "_view_module_version": "1.2.0",
            "_view_name": "LayoutView",
            "align_content": null,
            "align_items": null,
            "align_self": null,
            "border": null,
            "bottom": null,
            "display": null,
            "flex": null,
            "flex_flow": null,
            "grid_area": null,
            "grid_auto_columns": null,
            "grid_auto_flow": null,
            "grid_auto_rows": null,
            "grid_column": null,
            "grid_gap": null,
            "grid_row": null,
            "grid_template_areas": null,
            "grid_template_columns": null,
            "grid_template_rows": null,
            "height": null,
            "justify_content": null,
            "justify_items": null,
            "left": null,
            "margin": null,
            "max_height": null,
            "max_width": null,
            "min_height": null,
            "min_width": null,
            "object_fit": null,
            "object_position": null,
            "order": null,
            "overflow": null,
            "overflow_x": null,
            "overflow_y": null,
            "padding": null,
            "right": null,
            "top": null,
            "visibility": null,
            "width": null
          }
        },
        "9ccf8a7313844ab09e78a42d4adb469c": {
          "model_module": "@jupyter-widgets/controls",
          "model_name": "DescriptionStyleModel",
          "model_module_version": "1.5.0",
          "state": {
            "_model_module": "@jupyter-widgets/controls",
            "_model_module_version": "1.5.0",
            "_model_name": "DescriptionStyleModel",
            "_view_count": null,
            "_view_module": "@jupyter-widgets/base",
            "_view_module_version": "1.2.0",
            "_view_name": "StyleView",
            "description_width": ""
          }
        },
        "8d5329a30127480fa09f5bc11c3c9dee": {
          "model_module": "@jupyter-widgets/base",
          "model_name": "LayoutModel",
          "model_module_version": "1.2.0",
          "state": {
            "_model_module": "@jupyter-widgets/base",
            "_model_module_version": "1.2.0",
            "_model_name": "LayoutModel",
            "_view_count": null,
            "_view_module": "@jupyter-widgets/base",
            "_view_module_version": "1.2.0",
            "_view_name": "LayoutView",
            "align_content": null,
            "align_items": null,
            "align_self": null,
            "border": null,
            "bottom": null,
            "display": null,
            "flex": null,
            "flex_flow": null,
            "grid_area": null,
            "grid_auto_columns": null,
            "grid_auto_flow": null,
            "grid_auto_rows": null,
            "grid_column": null,
            "grid_gap": null,
            "grid_row": null,
            "grid_template_areas": null,
            "grid_template_columns": null,
            "grid_template_rows": null,
            "height": null,
            "justify_content": null,
            "justify_items": null,
            "left": null,
            "margin": null,
            "max_height": null,
            "max_width": null,
            "min_height": null,
            "min_width": null,
            "object_fit": null,
            "object_position": null,
            "order": null,
            "overflow": null,
            "overflow_x": null,
            "overflow_y": null,
            "padding": null,
            "right": null,
            "top": null,
            "visibility": null,
            "width": null
          }
        },
        "c377e4ff83324ba4b5f5223f02bb850d": {
          "model_module": "@jupyter-widgets/controls",
          "model_name": "ProgressStyleModel",
          "model_module_version": "1.5.0",
          "state": {
            "_model_module": "@jupyter-widgets/controls",
            "_model_module_version": "1.5.0",
            "_model_name": "ProgressStyleModel",
            "_view_count": null,
            "_view_module": "@jupyter-widgets/base",
            "_view_module_version": "1.2.0",
            "_view_name": "StyleView",
            "bar_color": null,
            "description_width": ""
          }
        },
        "f4568a01e20349e387f02ce61173d56f": {
          "model_module": "@jupyter-widgets/base",
          "model_name": "LayoutModel",
          "model_module_version": "1.2.0",
          "state": {
            "_model_module": "@jupyter-widgets/base",
            "_model_module_version": "1.2.0",
            "_model_name": "LayoutModel",
            "_view_count": null,
            "_view_module": "@jupyter-widgets/base",
            "_view_module_version": "1.2.0",
            "_view_name": "LayoutView",
            "align_content": null,
            "align_items": null,
            "align_self": null,
            "border": null,
            "bottom": null,
            "display": null,
            "flex": null,
            "flex_flow": null,
            "grid_area": null,
            "grid_auto_columns": null,
            "grid_auto_flow": null,
            "grid_auto_rows": null,
            "grid_column": null,
            "grid_gap": null,
            "grid_row": null,
            "grid_template_areas": null,
            "grid_template_columns": null,
            "grid_template_rows": null,
            "height": null,
            "justify_content": null,
            "justify_items": null,
            "left": null,
            "margin": null,
            "max_height": null,
            "max_width": null,
            "min_height": null,
            "min_width": null,
            "object_fit": null,
            "object_position": null,
            "order": null,
            "overflow": null,
            "overflow_x": null,
            "overflow_y": null,
            "padding": null,
            "right": null,
            "top": null,
            "visibility": null,
            "width": null
          }
        },
        "2583599f84e14501ade0b52f3e4e0904": {
          "model_module": "@jupyter-widgets/controls",
          "model_name": "DescriptionStyleModel",
          "model_module_version": "1.5.0",
          "state": {
            "_model_module": "@jupyter-widgets/controls",
            "_model_module_version": "1.5.0",
            "_model_name": "DescriptionStyleModel",
            "_view_count": null,
            "_view_module": "@jupyter-widgets/base",
            "_view_module_version": "1.2.0",
            "_view_name": "StyleView",
            "description_width": ""
          }
        },
        "adeed4eabb47459399f8a057a67a046d": {
          "model_module": "@jupyter-widgets/controls",
          "model_name": "HBoxModel",
          "model_module_version": "1.5.0",
          "state": {
            "_dom_classes": [],
            "_model_module": "@jupyter-widgets/controls",
            "_model_module_version": "1.5.0",
            "_model_name": "HBoxModel",
            "_view_count": null,
            "_view_module": "@jupyter-widgets/controls",
            "_view_module_version": "1.5.0",
            "_view_name": "HBoxView",
            "box_style": "",
            "children": [
              "IPY_MODEL_1166d3691f1c448aa19161e10ff7c18a",
              "IPY_MODEL_39e7581d255e4c0cb421e038d2d73e54",
              "IPY_MODEL_7aa9072a8c804409b9fe5e1bfdd45404"
            ],
            "layout": "IPY_MODEL_ee2a735d5b5349ca973727a0b26c8c7e"
          }
        },
        "1166d3691f1c448aa19161e10ff7c18a": {
          "model_module": "@jupyter-widgets/controls",
          "model_name": "HTMLModel",
          "model_module_version": "1.5.0",
          "state": {
            "_dom_classes": [],
            "_model_module": "@jupyter-widgets/controls",
            "_model_module_version": "1.5.0",
            "_model_name": "HTMLModel",
            "_view_count": null,
            "_view_module": "@jupyter-widgets/controls",
            "_view_module_version": "1.5.0",
            "_view_name": "HTMLView",
            "description": "",
            "description_tooltip": null,
            "layout": "IPY_MODEL_d370c409f5a44371ad5b1176cfb20b79",
            "placeholder": "​",
            "style": "IPY_MODEL_53360fa6e3e14436aad9e2aefaf90ccf",
            "value": "100%"
          }
        },
        "39e7581d255e4c0cb421e038d2d73e54": {
          "model_module": "@jupyter-widgets/controls",
          "model_name": "FloatProgressModel",
          "model_module_version": "1.5.0",
          "state": {
            "_dom_classes": [],
            "_model_module": "@jupyter-widgets/controls",
            "_model_module_version": "1.5.0",
            "_model_name": "FloatProgressModel",
            "_view_count": null,
            "_view_module": "@jupyter-widgets/controls",
            "_view_module_version": "1.5.0",
            "_view_name": "ProgressView",
            "bar_style": "success",
            "description": "",
            "description_tooltip": null,
            "layout": "IPY_MODEL_aefba9ac1c0d445580ca47f05af3d0c7",
            "max": 500,
            "min": 0,
            "orientation": "horizontal",
            "style": "IPY_MODEL_2151fbc036ad4df39392ac54fa5c078b",
            "value": 500
          }
        },
        "7aa9072a8c804409b9fe5e1bfdd45404": {
          "model_module": "@jupyter-widgets/controls",
          "model_name": "HTMLModel",
          "model_module_version": "1.5.0",
          "state": {
            "_dom_classes": [],
            "_model_module": "@jupyter-widgets/controls",
            "_model_module_version": "1.5.0",
            "_model_name": "HTMLModel",
            "_view_count": null,
            "_view_module": "@jupyter-widgets/controls",
            "_view_module_version": "1.5.0",
            "_view_name": "HTMLView",
            "description": "",
            "description_tooltip": null,
            "layout": "IPY_MODEL_b3e29eb62164438d8bf5f89707e5acb5",
            "placeholder": "​",
            "style": "IPY_MODEL_0ef4460243cd4b7c847566a700da5d88",
            "value": " 500/500 [00:51&lt;00:00,  6.38it/s]"
          }
        },
        "ee2a735d5b5349ca973727a0b26c8c7e": {
          "model_module": "@jupyter-widgets/base",
          "model_name": "LayoutModel",
          "model_module_version": "1.2.0",
          "state": {
            "_model_module": "@jupyter-widgets/base",
            "_model_module_version": "1.2.0",
            "_model_name": "LayoutModel",
            "_view_count": null,
            "_view_module": "@jupyter-widgets/base",
            "_view_module_version": "1.2.0",
            "_view_name": "LayoutView",
            "align_content": null,
            "align_items": null,
            "align_self": null,
            "border": null,
            "bottom": null,
            "display": null,
            "flex": null,
            "flex_flow": null,
            "grid_area": null,
            "grid_auto_columns": null,
            "grid_auto_flow": null,
            "grid_auto_rows": null,
            "grid_column": null,
            "grid_gap": null,
            "grid_row": null,
            "grid_template_areas": null,
            "grid_template_columns": null,
            "grid_template_rows": null,
            "height": null,
            "justify_content": null,
            "justify_items": null,
            "left": null,
            "margin": null,
            "max_height": null,
            "max_width": null,
            "min_height": null,
            "min_width": null,
            "object_fit": null,
            "object_position": null,
            "order": null,
            "overflow": null,
            "overflow_x": null,
            "overflow_y": null,
            "padding": null,
            "right": null,
            "top": null,
            "visibility": null,
            "width": null
          }
        },
        "d370c409f5a44371ad5b1176cfb20b79": {
          "model_module": "@jupyter-widgets/base",
          "model_name": "LayoutModel",
          "model_module_version": "1.2.0",
          "state": {
            "_model_module": "@jupyter-widgets/base",
            "_model_module_version": "1.2.0",
            "_model_name": "LayoutModel",
            "_view_count": null,
            "_view_module": "@jupyter-widgets/base",
            "_view_module_version": "1.2.0",
            "_view_name": "LayoutView",
            "align_content": null,
            "align_items": null,
            "align_self": null,
            "border": null,
            "bottom": null,
            "display": null,
            "flex": null,
            "flex_flow": null,
            "grid_area": null,
            "grid_auto_columns": null,
            "grid_auto_flow": null,
            "grid_auto_rows": null,
            "grid_column": null,
            "grid_gap": null,
            "grid_row": null,
            "grid_template_areas": null,
            "grid_template_columns": null,
            "grid_template_rows": null,
            "height": null,
            "justify_content": null,
            "justify_items": null,
            "left": null,
            "margin": null,
            "max_height": null,
            "max_width": null,
            "min_height": null,
            "min_width": null,
            "object_fit": null,
            "object_position": null,
            "order": null,
            "overflow": null,
            "overflow_x": null,
            "overflow_y": null,
            "padding": null,
            "right": null,
            "top": null,
            "visibility": null,
            "width": null
          }
        },
        "53360fa6e3e14436aad9e2aefaf90ccf": {
          "model_module": "@jupyter-widgets/controls",
          "model_name": "DescriptionStyleModel",
          "model_module_version": "1.5.0",
          "state": {
            "_model_module": "@jupyter-widgets/controls",
            "_model_module_version": "1.5.0",
            "_model_name": "DescriptionStyleModel",
            "_view_count": null,
            "_view_module": "@jupyter-widgets/base",
            "_view_module_version": "1.2.0",
            "_view_name": "StyleView",
            "description_width": ""
          }
        },
        "aefba9ac1c0d445580ca47f05af3d0c7": {
          "model_module": "@jupyter-widgets/base",
          "model_name": "LayoutModel",
          "model_module_version": "1.2.0",
          "state": {
            "_model_module": "@jupyter-widgets/base",
            "_model_module_version": "1.2.0",
            "_model_name": "LayoutModel",
            "_view_count": null,
            "_view_module": "@jupyter-widgets/base",
            "_view_module_version": "1.2.0",
            "_view_name": "LayoutView",
            "align_content": null,
            "align_items": null,
            "align_self": null,
            "border": null,
            "bottom": null,
            "display": null,
            "flex": null,
            "flex_flow": null,
            "grid_area": null,
            "grid_auto_columns": null,
            "grid_auto_flow": null,
            "grid_auto_rows": null,
            "grid_column": null,
            "grid_gap": null,
            "grid_row": null,
            "grid_template_areas": null,
            "grid_template_columns": null,
            "grid_template_rows": null,
            "height": null,
            "justify_content": null,
            "justify_items": null,
            "left": null,
            "margin": null,
            "max_height": null,
            "max_width": null,
            "min_height": null,
            "min_width": null,
            "object_fit": null,
            "object_position": null,
            "order": null,
            "overflow": null,
            "overflow_x": null,
            "overflow_y": null,
            "padding": null,
            "right": null,
            "top": null,
            "visibility": null,
            "width": null
          }
        },
        "2151fbc036ad4df39392ac54fa5c078b": {
          "model_module": "@jupyter-widgets/controls",
          "model_name": "ProgressStyleModel",
          "model_module_version": "1.5.0",
          "state": {
            "_model_module": "@jupyter-widgets/controls",
            "_model_module_version": "1.5.0",
            "_model_name": "ProgressStyleModel",
            "_view_count": null,
            "_view_module": "@jupyter-widgets/base",
            "_view_module_version": "1.2.0",
            "_view_name": "StyleView",
            "bar_color": null,
            "description_width": ""
          }
        },
        "b3e29eb62164438d8bf5f89707e5acb5": {
          "model_module": "@jupyter-widgets/base",
          "model_name": "LayoutModel",
          "model_module_version": "1.2.0",
          "state": {
            "_model_module": "@jupyter-widgets/base",
            "_model_module_version": "1.2.0",
            "_model_name": "LayoutModel",
            "_view_count": null,
            "_view_module": "@jupyter-widgets/base",
            "_view_module_version": "1.2.0",
            "_view_name": "LayoutView",
            "align_content": null,
            "align_items": null,
            "align_self": null,
            "border": null,
            "bottom": null,
            "display": null,
            "flex": null,
            "flex_flow": null,
            "grid_area": null,
            "grid_auto_columns": null,
            "grid_auto_flow": null,
            "grid_auto_rows": null,
            "grid_column": null,
            "grid_gap": null,
            "grid_row": null,
            "grid_template_areas": null,
            "grid_template_columns": null,
            "grid_template_rows": null,
            "height": null,
            "justify_content": null,
            "justify_items": null,
            "left": null,
            "margin": null,
            "max_height": null,
            "max_width": null,
            "min_height": null,
            "min_width": null,
            "object_fit": null,
            "object_position": null,
            "order": null,
            "overflow": null,
            "overflow_x": null,
            "overflow_y": null,
            "padding": null,
            "right": null,
            "top": null,
            "visibility": null,
            "width": null
          }
        },
        "0ef4460243cd4b7c847566a700da5d88": {
          "model_module": "@jupyter-widgets/controls",
          "model_name": "DescriptionStyleModel",
          "model_module_version": "1.5.0",
          "state": {
            "_model_module": "@jupyter-widgets/controls",
            "_model_module_version": "1.5.0",
            "_model_name": "DescriptionStyleModel",
            "_view_count": null,
            "_view_module": "@jupyter-widgets/base",
            "_view_module_version": "1.2.0",
            "_view_name": "StyleView",
            "description_width": ""
          }
        },
        "3b6ed7b1cf9e47399106d69d9b772c88": {
          "model_module": "@jupyter-widgets/controls",
          "model_name": "HBoxModel",
          "model_module_version": "1.5.0",
          "state": {
            "_dom_classes": [],
            "_model_module": "@jupyter-widgets/controls",
            "_model_module_version": "1.5.0",
            "_model_name": "HBoxModel",
            "_view_count": null,
            "_view_module": "@jupyter-widgets/controls",
            "_view_module_version": "1.5.0",
            "_view_name": "HBoxView",
            "box_style": "",
            "children": [
              "IPY_MODEL_b47f7c97cfab4081a054eae0957bba4c",
              "IPY_MODEL_486d1add7ee34f67ae4d6ee9bd489002",
              "IPY_MODEL_86007b5571464f5182f763d3a1d9399d"
            ],
            "layout": "IPY_MODEL_6b429fece1914b95b51ab091d1eead56"
          }
        },
        "b47f7c97cfab4081a054eae0957bba4c": {
          "model_module": "@jupyter-widgets/controls",
          "model_name": "HTMLModel",
          "model_module_version": "1.5.0",
          "state": {
            "_dom_classes": [],
            "_model_module": "@jupyter-widgets/controls",
            "_model_module_version": "1.5.0",
            "_model_name": "HTMLModel",
            "_view_count": null,
            "_view_module": "@jupyter-widgets/controls",
            "_view_module_version": "1.5.0",
            "_view_name": "HTMLView",
            "description": "",
            "description_tooltip": null,
            "layout": "IPY_MODEL_c303beb5d1fa47ea977d5b294763f940",
            "placeholder": "​",
            "style": "IPY_MODEL_54c996b132f54c9cb0d7aec33c5f5fbd",
            "value": "100%"
          }
        },
        "486d1add7ee34f67ae4d6ee9bd489002": {
          "model_module": "@jupyter-widgets/controls",
          "model_name": "FloatProgressModel",
          "model_module_version": "1.5.0",
          "state": {
            "_dom_classes": [],
            "_model_module": "@jupyter-widgets/controls",
            "_model_module_version": "1.5.0",
            "_model_name": "FloatProgressModel",
            "_view_count": null,
            "_view_module": "@jupyter-widgets/controls",
            "_view_module_version": "1.5.0",
            "_view_name": "ProgressView",
            "bar_style": "success",
            "description": "",
            "description_tooltip": null,
            "layout": "IPY_MODEL_5f55c7f525f647edb8a08d6893d293f6",
            "max": 500,
            "min": 0,
            "orientation": "horizontal",
            "style": "IPY_MODEL_a6c21b8e3d704e6e89ef26a5900502ea",
            "value": 500
          }
        },
        "86007b5571464f5182f763d3a1d9399d": {
          "model_module": "@jupyter-widgets/controls",
          "model_name": "HTMLModel",
          "model_module_version": "1.5.0",
          "state": {
            "_dom_classes": [],
            "_model_module": "@jupyter-widgets/controls",
            "_model_module_version": "1.5.0",
            "_model_name": "HTMLModel",
            "_view_count": null,
            "_view_module": "@jupyter-widgets/controls",
            "_view_module_version": "1.5.0",
            "_view_name": "HTMLView",
            "description": "",
            "description_tooltip": null,
            "layout": "IPY_MODEL_0ee42b9ca5b448ef9d2cf538a4199198",
            "placeholder": "​",
            "style": "IPY_MODEL_548632dbcafc4ad1b6fdd7a9d1ea639b",
            "value": " 500/500 [01:03&lt;00:00, 10.27it/s]"
          }
        },
        "6b429fece1914b95b51ab091d1eead56": {
          "model_module": "@jupyter-widgets/base",
          "model_name": "LayoutModel",
          "model_module_version": "1.2.0",
          "state": {
            "_model_module": "@jupyter-widgets/base",
            "_model_module_version": "1.2.0",
            "_model_name": "LayoutModel",
            "_view_count": null,
            "_view_module": "@jupyter-widgets/base",
            "_view_module_version": "1.2.0",
            "_view_name": "LayoutView",
            "align_content": null,
            "align_items": null,
            "align_self": null,
            "border": null,
            "bottom": null,
            "display": null,
            "flex": null,
            "flex_flow": null,
            "grid_area": null,
            "grid_auto_columns": null,
            "grid_auto_flow": null,
            "grid_auto_rows": null,
            "grid_column": null,
            "grid_gap": null,
            "grid_row": null,
            "grid_template_areas": null,
            "grid_template_columns": null,
            "grid_template_rows": null,
            "height": null,
            "justify_content": null,
            "justify_items": null,
            "left": null,
            "margin": null,
            "max_height": null,
            "max_width": null,
            "min_height": null,
            "min_width": null,
            "object_fit": null,
            "object_position": null,
            "order": null,
            "overflow": null,
            "overflow_x": null,
            "overflow_y": null,
            "padding": null,
            "right": null,
            "top": null,
            "visibility": null,
            "width": null
          }
        },
        "c303beb5d1fa47ea977d5b294763f940": {
          "model_module": "@jupyter-widgets/base",
          "model_name": "LayoutModel",
          "model_module_version": "1.2.0",
          "state": {
            "_model_module": "@jupyter-widgets/base",
            "_model_module_version": "1.2.0",
            "_model_name": "LayoutModel",
            "_view_count": null,
            "_view_module": "@jupyter-widgets/base",
            "_view_module_version": "1.2.0",
            "_view_name": "LayoutView",
            "align_content": null,
            "align_items": null,
            "align_self": null,
            "border": null,
            "bottom": null,
            "display": null,
            "flex": null,
            "flex_flow": null,
            "grid_area": null,
            "grid_auto_columns": null,
            "grid_auto_flow": null,
            "grid_auto_rows": null,
            "grid_column": null,
            "grid_gap": null,
            "grid_row": null,
            "grid_template_areas": null,
            "grid_template_columns": null,
            "grid_template_rows": null,
            "height": null,
            "justify_content": null,
            "justify_items": null,
            "left": null,
            "margin": null,
            "max_height": null,
            "max_width": null,
            "min_height": null,
            "min_width": null,
            "object_fit": null,
            "object_position": null,
            "order": null,
            "overflow": null,
            "overflow_x": null,
            "overflow_y": null,
            "padding": null,
            "right": null,
            "top": null,
            "visibility": null,
            "width": null
          }
        },
        "54c996b132f54c9cb0d7aec33c5f5fbd": {
          "model_module": "@jupyter-widgets/controls",
          "model_name": "DescriptionStyleModel",
          "model_module_version": "1.5.0",
          "state": {
            "_model_module": "@jupyter-widgets/controls",
            "_model_module_version": "1.5.0",
            "_model_name": "DescriptionStyleModel",
            "_view_count": null,
            "_view_module": "@jupyter-widgets/base",
            "_view_module_version": "1.2.0",
            "_view_name": "StyleView",
            "description_width": ""
          }
        },
        "5f55c7f525f647edb8a08d6893d293f6": {
          "model_module": "@jupyter-widgets/base",
          "model_name": "LayoutModel",
          "model_module_version": "1.2.0",
          "state": {
            "_model_module": "@jupyter-widgets/base",
            "_model_module_version": "1.2.0",
            "_model_name": "LayoutModel",
            "_view_count": null,
            "_view_module": "@jupyter-widgets/base",
            "_view_module_version": "1.2.0",
            "_view_name": "LayoutView",
            "align_content": null,
            "align_items": null,
            "align_self": null,
            "border": null,
            "bottom": null,
            "display": null,
            "flex": null,
            "flex_flow": null,
            "grid_area": null,
            "grid_auto_columns": null,
            "grid_auto_flow": null,
            "grid_auto_rows": null,
            "grid_column": null,
            "grid_gap": null,
            "grid_row": null,
            "grid_template_areas": null,
            "grid_template_columns": null,
            "grid_template_rows": null,
            "height": null,
            "justify_content": null,
            "justify_items": null,
            "left": null,
            "margin": null,
            "max_height": null,
            "max_width": null,
            "min_height": null,
            "min_width": null,
            "object_fit": null,
            "object_position": null,
            "order": null,
            "overflow": null,
            "overflow_x": null,
            "overflow_y": null,
            "padding": null,
            "right": null,
            "top": null,
            "visibility": null,
            "width": null
          }
        },
        "a6c21b8e3d704e6e89ef26a5900502ea": {
          "model_module": "@jupyter-widgets/controls",
          "model_name": "ProgressStyleModel",
          "model_module_version": "1.5.0",
          "state": {
            "_model_module": "@jupyter-widgets/controls",
            "_model_module_version": "1.5.0",
            "_model_name": "ProgressStyleModel",
            "_view_count": null,
            "_view_module": "@jupyter-widgets/base",
            "_view_module_version": "1.2.0",
            "_view_name": "StyleView",
            "bar_color": null,
            "description_width": ""
          }
        },
        "0ee42b9ca5b448ef9d2cf538a4199198": {
          "model_module": "@jupyter-widgets/base",
          "model_name": "LayoutModel",
          "model_module_version": "1.2.0",
          "state": {
            "_model_module": "@jupyter-widgets/base",
            "_model_module_version": "1.2.0",
            "_model_name": "LayoutModel",
            "_view_count": null,
            "_view_module": "@jupyter-widgets/base",
            "_view_module_version": "1.2.0",
            "_view_name": "LayoutView",
            "align_content": null,
            "align_items": null,
            "align_self": null,
            "border": null,
            "bottom": null,
            "display": null,
            "flex": null,
            "flex_flow": null,
            "grid_area": null,
            "grid_auto_columns": null,
            "grid_auto_flow": null,
            "grid_auto_rows": null,
            "grid_column": null,
            "grid_gap": null,
            "grid_row": null,
            "grid_template_areas": null,
            "grid_template_columns": null,
            "grid_template_rows": null,
            "height": null,
            "justify_content": null,
            "justify_items": null,
            "left": null,
            "margin": null,
            "max_height": null,
            "max_width": null,
            "min_height": null,
            "min_width": null,
            "object_fit": null,
            "object_position": null,
            "order": null,
            "overflow": null,
            "overflow_x": null,
            "overflow_y": null,
            "padding": null,
            "right": null,
            "top": null,
            "visibility": null,
            "width": null
          }
        },
        "548632dbcafc4ad1b6fdd7a9d1ea639b": {
          "model_module": "@jupyter-widgets/controls",
          "model_name": "DescriptionStyleModel",
          "model_module_version": "1.5.0",
          "state": {
            "_model_module": "@jupyter-widgets/controls",
            "_model_module_version": "1.5.0",
            "_model_name": "DescriptionStyleModel",
            "_view_count": null,
            "_view_module": "@jupyter-widgets/base",
            "_view_module_version": "1.2.0",
            "_view_name": "StyleView",
            "description_width": ""
          }
        },
        "c7351dfb25ae4fa389b5717f272deaba": {
          "model_module": "@jupyter-widgets/controls",
          "model_name": "HBoxModel",
          "model_module_version": "1.5.0",
          "state": {
            "_dom_classes": [],
            "_model_module": "@jupyter-widgets/controls",
            "_model_module_version": "1.5.0",
            "_model_name": "HBoxModel",
            "_view_count": null,
            "_view_module": "@jupyter-widgets/controls",
            "_view_module_version": "1.5.0",
            "_view_name": "HBoxView",
            "box_style": "",
            "children": [
              "IPY_MODEL_700a2c3ca1e24b0dbd80675d05031cad",
              "IPY_MODEL_a51ea3ac8e32480397f7267d1183cbbc",
              "IPY_MODEL_3c84d7efa5b54fc897133b69fdd8140a"
            ],
            "layout": "IPY_MODEL_1cfd637011d14d618deda87be9d1f672"
          }
        },
        "700a2c3ca1e24b0dbd80675d05031cad": {
          "model_module": "@jupyter-widgets/controls",
          "model_name": "HTMLModel",
          "model_module_version": "1.5.0",
          "state": {
            "_dom_classes": [],
            "_model_module": "@jupyter-widgets/controls",
            "_model_module_version": "1.5.0",
            "_model_name": "HTMLModel",
            "_view_count": null,
            "_view_module": "@jupyter-widgets/controls",
            "_view_module_version": "1.5.0",
            "_view_name": "HTMLView",
            "description": "",
            "description_tooltip": null,
            "layout": "IPY_MODEL_8c9d13dd80514c34850ca6223c08d482",
            "placeholder": "​",
            "style": "IPY_MODEL_3cba1b0eb92540e0b14fe24f1fce8087",
            "value": "100%"
          }
        },
        "a51ea3ac8e32480397f7267d1183cbbc": {
          "model_module": "@jupyter-widgets/controls",
          "model_name": "FloatProgressModel",
          "model_module_version": "1.5.0",
          "state": {
            "_dom_classes": [],
            "_model_module": "@jupyter-widgets/controls",
            "_model_module_version": "1.5.0",
            "_model_name": "FloatProgressModel",
            "_view_count": null,
            "_view_module": "@jupyter-widgets/controls",
            "_view_module_version": "1.5.0",
            "_view_name": "ProgressView",
            "bar_style": "success",
            "description": "",
            "description_tooltip": null,
            "layout": "IPY_MODEL_6061bec24db04d77b6e6d971d7fdf68f",
            "max": 1000,
            "min": 0,
            "orientation": "horizontal",
            "style": "IPY_MODEL_f41fab6a93e549f79e2a5952ce73f2a4",
            "value": 1000
          }
        },
        "3c84d7efa5b54fc897133b69fdd8140a": {
          "model_module": "@jupyter-widgets/controls",
          "model_name": "HTMLModel",
          "model_module_version": "1.5.0",
          "state": {
            "_dom_classes": [],
            "_model_module": "@jupyter-widgets/controls",
            "_model_module_version": "1.5.0",
            "_model_name": "HTMLModel",
            "_view_count": null,
            "_view_module": "@jupyter-widgets/controls",
            "_view_module_version": "1.5.0",
            "_view_name": "HTMLView",
            "description": "",
            "description_tooltip": null,
            "layout": "IPY_MODEL_e3f7cbff300c4a28b366b48e4becfbb5",
            "placeholder": "​",
            "style": "IPY_MODEL_4bd62a680cf74da0b8570c3fa909511f",
            "value": " 1000/1000 [01:50&lt;00:00,  9.85it/s]"
          }
        },
        "1cfd637011d14d618deda87be9d1f672": {
          "model_module": "@jupyter-widgets/base",
          "model_name": "LayoutModel",
          "model_module_version": "1.2.0",
          "state": {
            "_model_module": "@jupyter-widgets/base",
            "_model_module_version": "1.2.0",
            "_model_name": "LayoutModel",
            "_view_count": null,
            "_view_module": "@jupyter-widgets/base",
            "_view_module_version": "1.2.0",
            "_view_name": "LayoutView",
            "align_content": null,
            "align_items": null,
            "align_self": null,
            "border": null,
            "bottom": null,
            "display": null,
            "flex": null,
            "flex_flow": null,
            "grid_area": null,
            "grid_auto_columns": null,
            "grid_auto_flow": null,
            "grid_auto_rows": null,
            "grid_column": null,
            "grid_gap": null,
            "grid_row": null,
            "grid_template_areas": null,
            "grid_template_columns": null,
            "grid_template_rows": null,
            "height": null,
            "justify_content": null,
            "justify_items": null,
            "left": null,
            "margin": null,
            "max_height": null,
            "max_width": null,
            "min_height": null,
            "min_width": null,
            "object_fit": null,
            "object_position": null,
            "order": null,
            "overflow": null,
            "overflow_x": null,
            "overflow_y": null,
            "padding": null,
            "right": null,
            "top": null,
            "visibility": null,
            "width": null
          }
        },
        "8c9d13dd80514c34850ca6223c08d482": {
          "model_module": "@jupyter-widgets/base",
          "model_name": "LayoutModel",
          "model_module_version": "1.2.0",
          "state": {
            "_model_module": "@jupyter-widgets/base",
            "_model_module_version": "1.2.0",
            "_model_name": "LayoutModel",
            "_view_count": null,
            "_view_module": "@jupyter-widgets/base",
            "_view_module_version": "1.2.0",
            "_view_name": "LayoutView",
            "align_content": null,
            "align_items": null,
            "align_self": null,
            "border": null,
            "bottom": null,
            "display": null,
            "flex": null,
            "flex_flow": null,
            "grid_area": null,
            "grid_auto_columns": null,
            "grid_auto_flow": null,
            "grid_auto_rows": null,
            "grid_column": null,
            "grid_gap": null,
            "grid_row": null,
            "grid_template_areas": null,
            "grid_template_columns": null,
            "grid_template_rows": null,
            "height": null,
            "justify_content": null,
            "justify_items": null,
            "left": null,
            "margin": null,
            "max_height": null,
            "max_width": null,
            "min_height": null,
            "min_width": null,
            "object_fit": null,
            "object_position": null,
            "order": null,
            "overflow": null,
            "overflow_x": null,
            "overflow_y": null,
            "padding": null,
            "right": null,
            "top": null,
            "visibility": null,
            "width": null
          }
        },
        "3cba1b0eb92540e0b14fe24f1fce8087": {
          "model_module": "@jupyter-widgets/controls",
          "model_name": "DescriptionStyleModel",
          "model_module_version": "1.5.0",
          "state": {
            "_model_module": "@jupyter-widgets/controls",
            "_model_module_version": "1.5.0",
            "_model_name": "DescriptionStyleModel",
            "_view_count": null,
            "_view_module": "@jupyter-widgets/base",
            "_view_module_version": "1.2.0",
            "_view_name": "StyleView",
            "description_width": ""
          }
        },
        "6061bec24db04d77b6e6d971d7fdf68f": {
          "model_module": "@jupyter-widgets/base",
          "model_name": "LayoutModel",
          "model_module_version": "1.2.0",
          "state": {
            "_model_module": "@jupyter-widgets/base",
            "_model_module_version": "1.2.0",
            "_model_name": "LayoutModel",
            "_view_count": null,
            "_view_module": "@jupyter-widgets/base",
            "_view_module_version": "1.2.0",
            "_view_name": "LayoutView",
            "align_content": null,
            "align_items": null,
            "align_self": null,
            "border": null,
            "bottom": null,
            "display": null,
            "flex": null,
            "flex_flow": null,
            "grid_area": null,
            "grid_auto_columns": null,
            "grid_auto_flow": null,
            "grid_auto_rows": null,
            "grid_column": null,
            "grid_gap": null,
            "grid_row": null,
            "grid_template_areas": null,
            "grid_template_columns": null,
            "grid_template_rows": null,
            "height": null,
            "justify_content": null,
            "justify_items": null,
            "left": null,
            "margin": null,
            "max_height": null,
            "max_width": null,
            "min_height": null,
            "min_width": null,
            "object_fit": null,
            "object_position": null,
            "order": null,
            "overflow": null,
            "overflow_x": null,
            "overflow_y": null,
            "padding": null,
            "right": null,
            "top": null,
            "visibility": null,
            "width": null
          }
        },
        "f41fab6a93e549f79e2a5952ce73f2a4": {
          "model_module": "@jupyter-widgets/controls",
          "model_name": "ProgressStyleModel",
          "model_module_version": "1.5.0",
          "state": {
            "_model_module": "@jupyter-widgets/controls",
            "_model_module_version": "1.5.0",
            "_model_name": "ProgressStyleModel",
            "_view_count": null,
            "_view_module": "@jupyter-widgets/base",
            "_view_module_version": "1.2.0",
            "_view_name": "StyleView",
            "bar_color": null,
            "description_width": ""
          }
        },
        "e3f7cbff300c4a28b366b48e4becfbb5": {
          "model_module": "@jupyter-widgets/base",
          "model_name": "LayoutModel",
          "model_module_version": "1.2.0",
          "state": {
            "_model_module": "@jupyter-widgets/base",
            "_model_module_version": "1.2.0",
            "_model_name": "LayoutModel",
            "_view_count": null,
            "_view_module": "@jupyter-widgets/base",
            "_view_module_version": "1.2.0",
            "_view_name": "LayoutView",
            "align_content": null,
            "align_items": null,
            "align_self": null,
            "border": null,
            "bottom": null,
            "display": null,
            "flex": null,
            "flex_flow": null,
            "grid_area": null,
            "grid_auto_columns": null,
            "grid_auto_flow": null,
            "grid_auto_rows": null,
            "grid_column": null,
            "grid_gap": null,
            "grid_row": null,
            "grid_template_areas": null,
            "grid_template_columns": null,
            "grid_template_rows": null,
            "height": null,
            "justify_content": null,
            "justify_items": null,
            "left": null,
            "margin": null,
            "max_height": null,
            "max_width": null,
            "min_height": null,
            "min_width": null,
            "object_fit": null,
            "object_position": null,
            "order": null,
            "overflow": null,
            "overflow_x": null,
            "overflow_y": null,
            "padding": null,
            "right": null,
            "top": null,
            "visibility": null,
            "width": null
          }
        },
        "4bd62a680cf74da0b8570c3fa909511f": {
          "model_module": "@jupyter-widgets/controls",
          "model_name": "DescriptionStyleModel",
          "model_module_version": "1.5.0",
          "state": {
            "_model_module": "@jupyter-widgets/controls",
            "_model_module_version": "1.5.0",
            "_model_name": "DescriptionStyleModel",
            "_view_count": null,
            "_view_module": "@jupyter-widgets/base",
            "_view_module_version": "1.2.0",
            "_view_name": "StyleView",
            "description_width": ""
          }
        },
        "44ab5fce8dc74151828fa88f340077b4": {
          "model_module": "@jupyter-widgets/controls",
          "model_name": "HBoxModel",
          "model_module_version": "1.5.0",
          "state": {
            "_dom_classes": [],
            "_model_module": "@jupyter-widgets/controls",
            "_model_module_version": "1.5.0",
            "_model_name": "HBoxModel",
            "_view_count": null,
            "_view_module": "@jupyter-widgets/controls",
            "_view_module_version": "1.5.0",
            "_view_name": "HBoxView",
            "box_style": "",
            "children": [
              "IPY_MODEL_5ea6e4e386434980909e39fd251aad77",
              "IPY_MODEL_3b84c4c2c2bb455a8cd703c3d10962b8",
              "IPY_MODEL_63f2fdcb0c804c70830b3e4a9e9f44ad"
            ],
            "layout": "IPY_MODEL_8286edd7b9b94291a16250d23633859e"
          }
        },
        "5ea6e4e386434980909e39fd251aad77": {
          "model_module": "@jupyter-widgets/controls",
          "model_name": "HTMLModel",
          "model_module_version": "1.5.0",
          "state": {
            "_dom_classes": [],
            "_model_module": "@jupyter-widgets/controls",
            "_model_module_version": "1.5.0",
            "_model_name": "HTMLModel",
            "_view_count": null,
            "_view_module": "@jupyter-widgets/controls",
            "_view_module_version": "1.5.0",
            "_view_name": "HTMLView",
            "description": "",
            "description_tooltip": null,
            "layout": "IPY_MODEL_b863757eeee24057b864e2e2493b72c2",
            "placeholder": "​",
            "style": "IPY_MODEL_a16812ed5b66444499faab08c4972c3d",
            "value": "Map: 100%"
          }
        },
        "3b84c4c2c2bb455a8cd703c3d10962b8": {
          "model_module": "@jupyter-widgets/controls",
          "model_name": "FloatProgressModel",
          "model_module_version": "1.5.0",
          "state": {
            "_dom_classes": [],
            "_model_module": "@jupyter-widgets/controls",
            "_model_module_version": "1.5.0",
            "_model_name": "FloatProgressModel",
            "_view_count": null,
            "_view_module": "@jupyter-widgets/controls",
            "_view_module_version": "1.5.0",
            "_view_name": "ProgressView",
            "bar_style": "success",
            "description": "",
            "description_tooltip": null,
            "layout": "IPY_MODEL_fb0a6d2c1978488f91b948e6e9604a06",
            "max": 500,
            "min": 0,
            "orientation": "horizontal",
            "style": "IPY_MODEL_d5a509c69a4c454b88a45ac1e34266ba",
            "value": 500
          }
        },
        "63f2fdcb0c804c70830b3e4a9e9f44ad": {
          "model_module": "@jupyter-widgets/controls",
          "model_name": "HTMLModel",
          "model_module_version": "1.5.0",
          "state": {
            "_dom_classes": [],
            "_model_module": "@jupyter-widgets/controls",
            "_model_module_version": "1.5.0",
            "_model_name": "HTMLModel",
            "_view_count": null,
            "_view_module": "@jupyter-widgets/controls",
            "_view_module_version": "1.5.0",
            "_view_name": "HTMLView",
            "description": "",
            "description_tooltip": null,
            "layout": "IPY_MODEL_4b3fa774c715413c83d2f1cd6b67d0f2",
            "placeholder": "​",
            "style": "IPY_MODEL_be6e43d315d84377a490544f4e6ecabd",
            "value": " 500/500 [00:00&lt;00:00, 795.19 examples/s]"
          }
        },
        "8286edd7b9b94291a16250d23633859e": {
          "model_module": "@jupyter-widgets/base",
          "model_name": "LayoutModel",
          "model_module_version": "1.2.0",
          "state": {
            "_model_module": "@jupyter-widgets/base",
            "_model_module_version": "1.2.0",
            "_model_name": "LayoutModel",
            "_view_count": null,
            "_view_module": "@jupyter-widgets/base",
            "_view_module_version": "1.2.0",
            "_view_name": "LayoutView",
            "align_content": null,
            "align_items": null,
            "align_self": null,
            "border": null,
            "bottom": null,
            "display": null,
            "flex": null,
            "flex_flow": null,
            "grid_area": null,
            "grid_auto_columns": null,
            "grid_auto_flow": null,
            "grid_auto_rows": null,
            "grid_column": null,
            "grid_gap": null,
            "grid_row": null,
            "grid_template_areas": null,
            "grid_template_columns": null,
            "grid_template_rows": null,
            "height": null,
            "justify_content": null,
            "justify_items": null,
            "left": null,
            "margin": null,
            "max_height": null,
            "max_width": null,
            "min_height": null,
            "min_width": null,
            "object_fit": null,
            "object_position": null,
            "order": null,
            "overflow": null,
            "overflow_x": null,
            "overflow_y": null,
            "padding": null,
            "right": null,
            "top": null,
            "visibility": null,
            "width": null
          }
        },
        "b863757eeee24057b864e2e2493b72c2": {
          "model_module": "@jupyter-widgets/base",
          "model_name": "LayoutModel",
          "model_module_version": "1.2.0",
          "state": {
            "_model_module": "@jupyter-widgets/base",
            "_model_module_version": "1.2.0",
            "_model_name": "LayoutModel",
            "_view_count": null,
            "_view_module": "@jupyter-widgets/base",
            "_view_module_version": "1.2.0",
            "_view_name": "LayoutView",
            "align_content": null,
            "align_items": null,
            "align_self": null,
            "border": null,
            "bottom": null,
            "display": null,
            "flex": null,
            "flex_flow": null,
            "grid_area": null,
            "grid_auto_columns": null,
            "grid_auto_flow": null,
            "grid_auto_rows": null,
            "grid_column": null,
            "grid_gap": null,
            "grid_row": null,
            "grid_template_areas": null,
            "grid_template_columns": null,
            "grid_template_rows": null,
            "height": null,
            "justify_content": null,
            "justify_items": null,
            "left": null,
            "margin": null,
            "max_height": null,
            "max_width": null,
            "min_height": null,
            "min_width": null,
            "object_fit": null,
            "object_position": null,
            "order": null,
            "overflow": null,
            "overflow_x": null,
            "overflow_y": null,
            "padding": null,
            "right": null,
            "top": null,
            "visibility": null,
            "width": null
          }
        },
        "a16812ed5b66444499faab08c4972c3d": {
          "model_module": "@jupyter-widgets/controls",
          "model_name": "DescriptionStyleModel",
          "model_module_version": "1.5.0",
          "state": {
            "_model_module": "@jupyter-widgets/controls",
            "_model_module_version": "1.5.0",
            "_model_name": "DescriptionStyleModel",
            "_view_count": null,
            "_view_module": "@jupyter-widgets/base",
            "_view_module_version": "1.2.0",
            "_view_name": "StyleView",
            "description_width": ""
          }
        },
        "fb0a6d2c1978488f91b948e6e9604a06": {
          "model_module": "@jupyter-widgets/base",
          "model_name": "LayoutModel",
          "model_module_version": "1.2.0",
          "state": {
            "_model_module": "@jupyter-widgets/base",
            "_model_module_version": "1.2.0",
            "_model_name": "LayoutModel",
            "_view_count": null,
            "_view_module": "@jupyter-widgets/base",
            "_view_module_version": "1.2.0",
            "_view_name": "LayoutView",
            "align_content": null,
            "align_items": null,
            "align_self": null,
            "border": null,
            "bottom": null,
            "display": null,
            "flex": null,
            "flex_flow": null,
            "grid_area": null,
            "grid_auto_columns": null,
            "grid_auto_flow": null,
            "grid_auto_rows": null,
            "grid_column": null,
            "grid_gap": null,
            "grid_row": null,
            "grid_template_areas": null,
            "grid_template_columns": null,
            "grid_template_rows": null,
            "height": null,
            "justify_content": null,
            "justify_items": null,
            "left": null,
            "margin": null,
            "max_height": null,
            "max_width": null,
            "min_height": null,
            "min_width": null,
            "object_fit": null,
            "object_position": null,
            "order": null,
            "overflow": null,
            "overflow_x": null,
            "overflow_y": null,
            "padding": null,
            "right": null,
            "top": null,
            "visibility": null,
            "width": null
          }
        },
        "d5a509c69a4c454b88a45ac1e34266ba": {
          "model_module": "@jupyter-widgets/controls",
          "model_name": "ProgressStyleModel",
          "model_module_version": "1.5.0",
          "state": {
            "_model_module": "@jupyter-widgets/controls",
            "_model_module_version": "1.5.0",
            "_model_name": "ProgressStyleModel",
            "_view_count": null,
            "_view_module": "@jupyter-widgets/base",
            "_view_module_version": "1.2.0",
            "_view_name": "StyleView",
            "bar_color": null,
            "description_width": ""
          }
        },
        "4b3fa774c715413c83d2f1cd6b67d0f2": {
          "model_module": "@jupyter-widgets/base",
          "model_name": "LayoutModel",
          "model_module_version": "1.2.0",
          "state": {
            "_model_module": "@jupyter-widgets/base",
            "_model_module_version": "1.2.0",
            "_model_name": "LayoutModel",
            "_view_count": null,
            "_view_module": "@jupyter-widgets/base",
            "_view_module_version": "1.2.0",
            "_view_name": "LayoutView",
            "align_content": null,
            "align_items": null,
            "align_self": null,
            "border": null,
            "bottom": null,
            "display": null,
            "flex": null,
            "flex_flow": null,
            "grid_area": null,
            "grid_auto_columns": null,
            "grid_auto_flow": null,
            "grid_auto_rows": null,
            "grid_column": null,
            "grid_gap": null,
            "grid_row": null,
            "grid_template_areas": null,
            "grid_template_columns": null,
            "grid_template_rows": null,
            "height": null,
            "justify_content": null,
            "justify_items": null,
            "left": null,
            "margin": null,
            "max_height": null,
            "max_width": null,
            "min_height": null,
            "min_width": null,
            "object_fit": null,
            "object_position": null,
            "order": null,
            "overflow": null,
            "overflow_x": null,
            "overflow_y": null,
            "padding": null,
            "right": null,
            "top": null,
            "visibility": null,
            "width": null
          }
        },
        "be6e43d315d84377a490544f4e6ecabd": {
          "model_module": "@jupyter-widgets/controls",
          "model_name": "DescriptionStyleModel",
          "model_module_version": "1.5.0",
          "state": {
            "_model_module": "@jupyter-widgets/controls",
            "_model_module_version": "1.5.0",
            "_model_name": "DescriptionStyleModel",
            "_view_count": null,
            "_view_module": "@jupyter-widgets/base",
            "_view_module_version": "1.2.0",
            "_view_name": "StyleView",
            "description_width": ""
          }
        },
        "e0eb3740ce6242fa932faa03cb2bf9d9": {
          "model_module": "@jupyter-widgets/controls",
          "model_name": "HBoxModel",
          "model_module_version": "1.5.0",
          "state": {
            "_dom_classes": [],
            "_model_module": "@jupyter-widgets/controls",
            "_model_module_version": "1.5.0",
            "_model_name": "HBoxModel",
            "_view_count": null,
            "_view_module": "@jupyter-widgets/controls",
            "_view_module_version": "1.5.0",
            "_view_name": "HBoxView",
            "box_style": "",
            "children": [
              "IPY_MODEL_6e5868bc74f84a62ae02a57fbc00dd83",
              "IPY_MODEL_462c5c34cb4e4679a11a9bdbef0b1e04",
              "IPY_MODEL_51e12e3db9ba4f4d8243859be0ba40e6"
            ],
            "layout": "IPY_MODEL_03c726b065614059b2da14f00690fbd1"
          }
        },
        "6e5868bc74f84a62ae02a57fbc00dd83": {
          "model_module": "@jupyter-widgets/controls",
          "model_name": "HTMLModel",
          "model_module_version": "1.5.0",
          "state": {
            "_dom_classes": [],
            "_model_module": "@jupyter-widgets/controls",
            "_model_module_version": "1.5.0",
            "_model_name": "HTMLModel",
            "_view_count": null,
            "_view_module": "@jupyter-widgets/controls",
            "_view_module_version": "1.5.0",
            "_view_name": "HTMLView",
            "description": "",
            "description_tooltip": null,
            "layout": "IPY_MODEL_9d2b3a21615341a8acbbbe5dfcc2a04c",
            "placeholder": "​",
            "style": "IPY_MODEL_46546a1688ba437dbfb3b3cba7cab286",
            "value": "Map: 100%"
          }
        },
        "462c5c34cb4e4679a11a9bdbef0b1e04": {
          "model_module": "@jupyter-widgets/controls",
          "model_name": "FloatProgressModel",
          "model_module_version": "1.5.0",
          "state": {
            "_dom_classes": [],
            "_model_module": "@jupyter-widgets/controls",
            "_model_module_version": "1.5.0",
            "_model_name": "FloatProgressModel",
            "_view_count": null,
            "_view_module": "@jupyter-widgets/controls",
            "_view_module_version": "1.5.0",
            "_view_name": "ProgressView",
            "bar_style": "success",
            "description": "",
            "description_tooltip": null,
            "layout": "IPY_MODEL_00afdf70cae64030a2c2e8fcfca3a32f",
            "max": 100,
            "min": 0,
            "orientation": "horizontal",
            "style": "IPY_MODEL_a69d46659dd64a52811b846891478512",
            "value": 100
          }
        },
        "51e12e3db9ba4f4d8243859be0ba40e6": {
          "model_module": "@jupyter-widgets/controls",
          "model_name": "HTMLModel",
          "model_module_version": "1.5.0",
          "state": {
            "_dom_classes": [],
            "_model_module": "@jupyter-widgets/controls",
            "_model_module_version": "1.5.0",
            "_model_name": "HTMLModel",
            "_view_count": null,
            "_view_module": "@jupyter-widgets/controls",
            "_view_module_version": "1.5.0",
            "_view_name": "HTMLView",
            "description": "",
            "description_tooltip": null,
            "layout": "IPY_MODEL_a79647ef538544afb92bd330f34b48ea",
            "placeholder": "​",
            "style": "IPY_MODEL_db663a3c82ab411c9a90f7dc37770cc6",
            "value": " 100/100 [00:00&lt;00:00, 591.92 examples/s]"
          }
        },
        "03c726b065614059b2da14f00690fbd1": {
          "model_module": "@jupyter-widgets/base",
          "model_name": "LayoutModel",
          "model_module_version": "1.2.0",
          "state": {
            "_model_module": "@jupyter-widgets/base",
            "_model_module_version": "1.2.0",
            "_model_name": "LayoutModel",
            "_view_count": null,
            "_view_module": "@jupyter-widgets/base",
            "_view_module_version": "1.2.0",
            "_view_name": "LayoutView",
            "align_content": null,
            "align_items": null,
            "align_self": null,
            "border": null,
            "bottom": null,
            "display": null,
            "flex": null,
            "flex_flow": null,
            "grid_area": null,
            "grid_auto_columns": null,
            "grid_auto_flow": null,
            "grid_auto_rows": null,
            "grid_column": null,
            "grid_gap": null,
            "grid_row": null,
            "grid_template_areas": null,
            "grid_template_columns": null,
            "grid_template_rows": null,
            "height": null,
            "justify_content": null,
            "justify_items": null,
            "left": null,
            "margin": null,
            "max_height": null,
            "max_width": null,
            "min_height": null,
            "min_width": null,
            "object_fit": null,
            "object_position": null,
            "order": null,
            "overflow": null,
            "overflow_x": null,
            "overflow_y": null,
            "padding": null,
            "right": null,
            "top": null,
            "visibility": null,
            "width": null
          }
        },
        "9d2b3a21615341a8acbbbe5dfcc2a04c": {
          "model_module": "@jupyter-widgets/base",
          "model_name": "LayoutModel",
          "model_module_version": "1.2.0",
          "state": {
            "_model_module": "@jupyter-widgets/base",
            "_model_module_version": "1.2.0",
            "_model_name": "LayoutModel",
            "_view_count": null,
            "_view_module": "@jupyter-widgets/base",
            "_view_module_version": "1.2.0",
            "_view_name": "LayoutView",
            "align_content": null,
            "align_items": null,
            "align_self": null,
            "border": null,
            "bottom": null,
            "display": null,
            "flex": null,
            "flex_flow": null,
            "grid_area": null,
            "grid_auto_columns": null,
            "grid_auto_flow": null,
            "grid_auto_rows": null,
            "grid_column": null,
            "grid_gap": null,
            "grid_row": null,
            "grid_template_areas": null,
            "grid_template_columns": null,
            "grid_template_rows": null,
            "height": null,
            "justify_content": null,
            "justify_items": null,
            "left": null,
            "margin": null,
            "max_height": null,
            "max_width": null,
            "min_height": null,
            "min_width": null,
            "object_fit": null,
            "object_position": null,
            "order": null,
            "overflow": null,
            "overflow_x": null,
            "overflow_y": null,
            "padding": null,
            "right": null,
            "top": null,
            "visibility": null,
            "width": null
          }
        },
        "46546a1688ba437dbfb3b3cba7cab286": {
          "model_module": "@jupyter-widgets/controls",
          "model_name": "DescriptionStyleModel",
          "model_module_version": "1.5.0",
          "state": {
            "_model_module": "@jupyter-widgets/controls",
            "_model_module_version": "1.5.0",
            "_model_name": "DescriptionStyleModel",
            "_view_count": null,
            "_view_module": "@jupyter-widgets/base",
            "_view_module_version": "1.2.0",
            "_view_name": "StyleView",
            "description_width": ""
          }
        },
        "00afdf70cae64030a2c2e8fcfca3a32f": {
          "model_module": "@jupyter-widgets/base",
          "model_name": "LayoutModel",
          "model_module_version": "1.2.0",
          "state": {
            "_model_module": "@jupyter-widgets/base",
            "_model_module_version": "1.2.0",
            "_model_name": "LayoutModel",
            "_view_count": null,
            "_view_module": "@jupyter-widgets/base",
            "_view_module_version": "1.2.0",
            "_view_name": "LayoutView",
            "align_content": null,
            "align_items": null,
            "align_self": null,
            "border": null,
            "bottom": null,
            "display": null,
            "flex": null,
            "flex_flow": null,
            "grid_area": null,
            "grid_auto_columns": null,
            "grid_auto_flow": null,
            "grid_auto_rows": null,
            "grid_column": null,
            "grid_gap": null,
            "grid_row": null,
            "grid_template_areas": null,
            "grid_template_columns": null,
            "grid_template_rows": null,
            "height": null,
            "justify_content": null,
            "justify_items": null,
            "left": null,
            "margin": null,
            "max_height": null,
            "max_width": null,
            "min_height": null,
            "min_width": null,
            "object_fit": null,
            "object_position": null,
            "order": null,
            "overflow": null,
            "overflow_x": null,
            "overflow_y": null,
            "padding": null,
            "right": null,
            "top": null,
            "visibility": null,
            "width": null
          }
        },
        "a69d46659dd64a52811b846891478512": {
          "model_module": "@jupyter-widgets/controls",
          "model_name": "ProgressStyleModel",
          "model_module_version": "1.5.0",
          "state": {
            "_model_module": "@jupyter-widgets/controls",
            "_model_module_version": "1.5.0",
            "_model_name": "ProgressStyleModel",
            "_view_count": null,
            "_view_module": "@jupyter-widgets/base",
            "_view_module_version": "1.2.0",
            "_view_name": "StyleView",
            "bar_color": null,
            "description_width": ""
          }
        },
        "a79647ef538544afb92bd330f34b48ea": {
          "model_module": "@jupyter-widgets/base",
          "model_name": "LayoutModel",
          "model_module_version": "1.2.0",
          "state": {
            "_model_module": "@jupyter-widgets/base",
            "_model_module_version": "1.2.0",
            "_model_name": "LayoutModel",
            "_view_count": null,
            "_view_module": "@jupyter-widgets/base",
            "_view_module_version": "1.2.0",
            "_view_name": "LayoutView",
            "align_content": null,
            "align_items": null,
            "align_self": null,
            "border": null,
            "bottom": null,
            "display": null,
            "flex": null,
            "flex_flow": null,
            "grid_area": null,
            "grid_auto_columns": null,
            "grid_auto_flow": null,
            "grid_auto_rows": null,
            "grid_column": null,
            "grid_gap": null,
            "grid_row": null,
            "grid_template_areas": null,
            "grid_template_columns": null,
            "grid_template_rows": null,
            "height": null,
            "justify_content": null,
            "justify_items": null,
            "left": null,
            "margin": null,
            "max_height": null,
            "max_width": null,
            "min_height": null,
            "min_width": null,
            "object_fit": null,
            "object_position": null,
            "order": null,
            "overflow": null,
            "overflow_x": null,
            "overflow_y": null,
            "padding": null,
            "right": null,
            "top": null,
            "visibility": null,
            "width": null
          }
        },
        "db663a3c82ab411c9a90f7dc37770cc6": {
          "model_module": "@jupyter-widgets/controls",
          "model_name": "DescriptionStyleModel",
          "model_module_version": "1.5.0",
          "state": {
            "_model_module": "@jupyter-widgets/controls",
            "_model_module_version": "1.5.0",
            "_model_name": "DescriptionStyleModel",
            "_view_count": null,
            "_view_module": "@jupyter-widgets/base",
            "_view_module_version": "1.2.0",
            "_view_name": "StyleView",
            "description_width": ""
          }
        },
        "d7285cc0c803450b8a3ceeec46c7678b": {
          "model_module": "@jupyter-widgets/controls",
          "model_name": "HBoxModel",
          "model_module_version": "1.5.0",
          "state": {
            "_dom_classes": [],
            "_model_module": "@jupyter-widgets/controls",
            "_model_module_version": "1.5.0",
            "_model_name": "HBoxModel",
            "_view_count": null,
            "_view_module": "@jupyter-widgets/controls",
            "_view_module_version": "1.5.0",
            "_view_name": "HBoxView",
            "box_style": "",
            "children": [
              "IPY_MODEL_ae94d22f00ff49e3b87658ee5148c34c",
              "IPY_MODEL_648f518977fe4284bd86762fa9eb7f98",
              "IPY_MODEL_14e33c47a8f144d2bebe6766e223a38b"
            ],
            "layout": "IPY_MODEL_ce888be7e4d64329a3eb1eee95225923"
          }
        },
        "ae94d22f00ff49e3b87658ee5148c34c": {
          "model_module": "@jupyter-widgets/controls",
          "model_name": "HTMLModel",
          "model_module_version": "1.5.0",
          "state": {
            "_dom_classes": [],
            "_model_module": "@jupyter-widgets/controls",
            "_model_module_version": "1.5.0",
            "_model_name": "HTMLModel",
            "_view_count": null,
            "_view_module": "@jupyter-widgets/controls",
            "_view_module_version": "1.5.0",
            "_view_name": "HTMLView",
            "description": "",
            "description_tooltip": null,
            "layout": "IPY_MODEL_9a71fc5e5b814dc5a993c759fc71cfc9",
            "placeholder": "​",
            "style": "IPY_MODEL_44b4e8dd9cca46749c06ced5e559c227",
            "value": "Map: 100%"
          }
        },
        "648f518977fe4284bd86762fa9eb7f98": {
          "model_module": "@jupyter-widgets/controls",
          "model_name": "FloatProgressModel",
          "model_module_version": "1.5.0",
          "state": {
            "_dom_classes": [],
            "_model_module": "@jupyter-widgets/controls",
            "_model_module_version": "1.5.0",
            "_model_name": "FloatProgressModel",
            "_view_count": null,
            "_view_module": "@jupyter-widgets/controls",
            "_view_module_version": "1.5.0",
            "_view_name": "ProgressView",
            "bar_style": "success",
            "description": "",
            "description_tooltip": null,
            "layout": "IPY_MODEL_135933392a6a4af2abdd698c32a82a50",
            "max": 8,
            "min": 0,
            "orientation": "horizontal",
            "style": "IPY_MODEL_b3ef64f8dc4c4536b7ce761c0d2054f9",
            "value": 8
          }
        },
        "14e33c47a8f144d2bebe6766e223a38b": {
          "model_module": "@jupyter-widgets/controls",
          "model_name": "HTMLModel",
          "model_module_version": "1.5.0",
          "state": {
            "_dom_classes": [],
            "_model_module": "@jupyter-widgets/controls",
            "_model_module_version": "1.5.0",
            "_model_name": "HTMLModel",
            "_view_count": null,
            "_view_module": "@jupyter-widgets/controls",
            "_view_module_version": "1.5.0",
            "_view_name": "HTMLView",
            "description": "",
            "description_tooltip": null,
            "layout": "IPY_MODEL_c7f6fde7833840a78d5f4955a7e364b1",
            "placeholder": "​",
            "style": "IPY_MODEL_935736395fae4a359a3bb605f7b2bac9",
            "value": " 8/8 [00:00&lt;00:00, 202.26 examples/s]"
          }
        },
        "ce888be7e4d64329a3eb1eee95225923": {
          "model_module": "@jupyter-widgets/base",
          "model_name": "LayoutModel",
          "model_module_version": "1.2.0",
          "state": {
            "_model_module": "@jupyter-widgets/base",
            "_model_module_version": "1.2.0",
            "_model_name": "LayoutModel",
            "_view_count": null,
            "_view_module": "@jupyter-widgets/base",
            "_view_module_version": "1.2.0",
            "_view_name": "LayoutView",
            "align_content": null,
            "align_items": null,
            "align_self": null,
            "border": null,
            "bottom": null,
            "display": null,
            "flex": null,
            "flex_flow": null,
            "grid_area": null,
            "grid_auto_columns": null,
            "grid_auto_flow": null,
            "grid_auto_rows": null,
            "grid_column": null,
            "grid_gap": null,
            "grid_row": null,
            "grid_template_areas": null,
            "grid_template_columns": null,
            "grid_template_rows": null,
            "height": null,
            "justify_content": null,
            "justify_items": null,
            "left": null,
            "margin": null,
            "max_height": null,
            "max_width": null,
            "min_height": null,
            "min_width": null,
            "object_fit": null,
            "object_position": null,
            "order": null,
            "overflow": null,
            "overflow_x": null,
            "overflow_y": null,
            "padding": null,
            "right": null,
            "top": null,
            "visibility": null,
            "width": null
          }
        },
        "9a71fc5e5b814dc5a993c759fc71cfc9": {
          "model_module": "@jupyter-widgets/base",
          "model_name": "LayoutModel",
          "model_module_version": "1.2.0",
          "state": {
            "_model_module": "@jupyter-widgets/base",
            "_model_module_version": "1.2.0",
            "_model_name": "LayoutModel",
            "_view_count": null,
            "_view_module": "@jupyter-widgets/base",
            "_view_module_version": "1.2.0",
            "_view_name": "LayoutView",
            "align_content": null,
            "align_items": null,
            "align_self": null,
            "border": null,
            "bottom": null,
            "display": null,
            "flex": null,
            "flex_flow": null,
            "grid_area": null,
            "grid_auto_columns": null,
            "grid_auto_flow": null,
            "grid_auto_rows": null,
            "grid_column": null,
            "grid_gap": null,
            "grid_row": null,
            "grid_template_areas": null,
            "grid_template_columns": null,
            "grid_template_rows": null,
            "height": null,
            "justify_content": null,
            "justify_items": null,
            "left": null,
            "margin": null,
            "max_height": null,
            "max_width": null,
            "min_height": null,
            "min_width": null,
            "object_fit": null,
            "object_position": null,
            "order": null,
            "overflow": null,
            "overflow_x": null,
            "overflow_y": null,
            "padding": null,
            "right": null,
            "top": null,
            "visibility": null,
            "width": null
          }
        },
        "44b4e8dd9cca46749c06ced5e559c227": {
          "model_module": "@jupyter-widgets/controls",
          "model_name": "DescriptionStyleModel",
          "model_module_version": "1.5.0",
          "state": {
            "_model_module": "@jupyter-widgets/controls",
            "_model_module_version": "1.5.0",
            "_model_name": "DescriptionStyleModel",
            "_view_count": null,
            "_view_module": "@jupyter-widgets/base",
            "_view_module_version": "1.2.0",
            "_view_name": "StyleView",
            "description_width": ""
          }
        },
        "135933392a6a4af2abdd698c32a82a50": {
          "model_module": "@jupyter-widgets/base",
          "model_name": "LayoutModel",
          "model_module_version": "1.2.0",
          "state": {
            "_model_module": "@jupyter-widgets/base",
            "_model_module_version": "1.2.0",
            "_model_name": "LayoutModel",
            "_view_count": null,
            "_view_module": "@jupyter-widgets/base",
            "_view_module_version": "1.2.0",
            "_view_name": "LayoutView",
            "align_content": null,
            "align_items": null,
            "align_self": null,
            "border": null,
            "bottom": null,
            "display": null,
            "flex": null,
            "flex_flow": null,
            "grid_area": null,
            "grid_auto_columns": null,
            "grid_auto_flow": null,
            "grid_auto_rows": null,
            "grid_column": null,
            "grid_gap": null,
            "grid_row": null,
            "grid_template_areas": null,
            "grid_template_columns": null,
            "grid_template_rows": null,
            "height": null,
            "justify_content": null,
            "justify_items": null,
            "left": null,
            "margin": null,
            "max_height": null,
            "max_width": null,
            "min_height": null,
            "min_width": null,
            "object_fit": null,
            "object_position": null,
            "order": null,
            "overflow": null,
            "overflow_x": null,
            "overflow_y": null,
            "padding": null,
            "right": null,
            "top": null,
            "visibility": null,
            "width": null
          }
        },
        "b3ef64f8dc4c4536b7ce761c0d2054f9": {
          "model_module": "@jupyter-widgets/controls",
          "model_name": "ProgressStyleModel",
          "model_module_version": "1.5.0",
          "state": {
            "_model_module": "@jupyter-widgets/controls",
            "_model_module_version": "1.5.0",
            "_model_name": "ProgressStyleModel",
            "_view_count": null,
            "_view_module": "@jupyter-widgets/base",
            "_view_module_version": "1.2.0",
            "_view_name": "StyleView",
            "bar_color": null,
            "description_width": ""
          }
        },
        "c7f6fde7833840a78d5f4955a7e364b1": {
          "model_module": "@jupyter-widgets/base",
          "model_name": "LayoutModel",
          "model_module_version": "1.2.0",
          "state": {
            "_model_module": "@jupyter-widgets/base",
            "_model_module_version": "1.2.0",
            "_model_name": "LayoutModel",
            "_view_count": null,
            "_view_module": "@jupyter-widgets/base",
            "_view_module_version": "1.2.0",
            "_view_name": "LayoutView",
            "align_content": null,
            "align_items": null,
            "align_self": null,
            "border": null,
            "bottom": null,
            "display": null,
            "flex": null,
            "flex_flow": null,
            "grid_area": null,
            "grid_auto_columns": null,
            "grid_auto_flow": null,
            "grid_auto_rows": null,
            "grid_column": null,
            "grid_gap": null,
            "grid_row": null,
            "grid_template_areas": null,
            "grid_template_columns": null,
            "grid_template_rows": null,
            "height": null,
            "justify_content": null,
            "justify_items": null,
            "left": null,
            "margin": null,
            "max_height": null,
            "max_width": null,
            "min_height": null,
            "min_width": null,
            "object_fit": null,
            "object_position": null,
            "order": null,
            "overflow": null,
            "overflow_x": null,
            "overflow_y": null,
            "padding": null,
            "right": null,
            "top": null,
            "visibility": null,
            "width": null
          }
        },
        "935736395fae4a359a3bb605f7b2bac9": {
          "model_module": "@jupyter-widgets/controls",
          "model_name": "DescriptionStyleModel",
          "model_module_version": "1.5.0",
          "state": {
            "_model_module": "@jupyter-widgets/controls",
            "_model_module_version": "1.5.0",
            "_model_name": "DescriptionStyleModel",
            "_view_count": null,
            "_view_module": "@jupyter-widgets/base",
            "_view_module_version": "1.2.0",
            "_view_name": "StyleView",
            "description_width": ""
          }
        }
      }
    }
  },
  "cells": [
    {
      "cell_type": "markdown",
      "metadata": {
        "id": "view-in-github",
        "colab_type": "text"
      },
      "source": [
        "<a href=\"https://colab.research.google.com/github/joshuawhit/DST_ASS2/blob/main/report.ipynb\" target=\"_parent\"><img src=\"https://colab.research.google.com/assets/colab-badge.svg\" alt=\"Open In Colab\"/></a>"
      ]
    },
    {
      "cell_type": "markdown",
      "source": [
        "# Natural Language Processing for AI-generated text detection.\n",
        "\n",
        "B. Minogue, H. Pullin, Y. Wang, J. White."
      ],
      "metadata": {
        "id": "tMn46jquGYol"
      }
    },
    {
      "cell_type": "markdown",
      "source": [
        "# Introduction\n",
        "\n",
        "In this project, we explore different natural language classification models as applied on the LLM - Detect AI Generated Text dataset, found on the Kaggle website here: https://www.kaggle.com/datasets/sunilthite/llm-detect-ai-generated-text-dataset. We seek to classify wether an inputted text is AI generated or Humanly generated for the role of malpratice detection in essay submissions.\n",
        "\n",
        "We hope to explore both the performance and scalability of models ranging in complexity from a simple bag of words model up to fine tuned but pretrainined transformers. Although unavailable for this project we will discuss how and when techniques such as GPU parallelisation can be used to improve model training time.\n",
        "\n",
        " MAYBE MORE HERE ON LIKE THAT FANCY COMPUTER THING"
      ],
      "metadata": {
        "id": "AXxrPJxRGYRH"
      }
    },
    {
      "cell_type": "markdown",
      "source": [
        "# The Dataset\n",
        "\n",
        "The dataset consists of 28000 essay pieces of essay text (with an average length of approxamtely 380 words, see below), each with an associated key representing wether it is humanly or AI generated. We choose this dataset in particular due to its source being essay data, the same type of data we hope to be able to classify. Furthermore it can be seen as quite 'clean data' (no missing values) and the data also has class proportions close to an even split, which is useful for neural model training."
      ],
      "metadata": {
        "id": "Py1DKrKIXYt4"
      }
    },
    {
      "cell_type": "markdown",
      "source": [
        "# Techniques"
      ],
      "metadata": {
        "id": "9VwyZksZbEfd"
      }
    },
    {
      "cell_type": "markdown",
      "source": [
        "# Performance Metrics\n",
        "\n",
        "Due to the nature of the task at hand being a binary classifcation task we use sensitivity, F1 score and accuracy as our evaluation metrics for the models. This is as we deem the cost of misclassifiction to be higher for the positive case 'AI generated'. In other words, not detecting the text as malpractice is more detrimental than flagging human text as AI as we assume these would be checked after the preliminary screening by a human."
      ],
      "metadata": {
        "id": "9I5RjGpvbIr0"
      }
    },
    {
      "cell_type": "code",
      "source": [
        "!pip install datasets\n",
        "!pip install wget\n",
        "!pip install fasttext\n",
        "!pip install transformers"
      ],
      "metadata": {
        "colab": {
          "base_uri": "https://localhost:8080/"
        },
        "id": "to3z9Ki3mwg_",
        "outputId": "492da89e-7bc2-4d39-ef00-1ac15fd0850c"
      },
      "execution_count": 1,
      "outputs": [
        {
          "output_type": "stream",
          "name": "stdout",
          "text": [
            "Requirement already satisfied: datasets in /usr/local/lib/python3.10/dist-packages (2.15.0)\n",
            "Requirement already satisfied: numpy>=1.17 in /usr/local/lib/python3.10/dist-packages (from datasets) (1.23.5)\n",
            "Requirement already satisfied: pyarrow>=8.0.0 in /usr/local/lib/python3.10/dist-packages (from datasets) (9.0.0)\n",
            "Requirement already satisfied: pyarrow-hotfix in /usr/local/lib/python3.10/dist-packages (from datasets) (0.6)\n",
            "Requirement already satisfied: dill<0.3.8,>=0.3.0 in /usr/local/lib/python3.10/dist-packages (from datasets) (0.3.7)\n",
            "Requirement already satisfied: pandas in /usr/local/lib/python3.10/dist-packages (from datasets) (1.5.3)\n",
            "Requirement already satisfied: requests>=2.19.0 in /usr/local/lib/python3.10/dist-packages (from datasets) (2.31.0)\n",
            "Requirement already satisfied: tqdm>=4.62.1 in /usr/local/lib/python3.10/dist-packages (from datasets) (4.66.1)\n",
            "Requirement already satisfied: xxhash in /usr/local/lib/python3.10/dist-packages (from datasets) (3.4.1)\n",
            "Requirement already satisfied: multiprocess in /usr/local/lib/python3.10/dist-packages (from datasets) (0.70.15)\n",
            "Requirement already satisfied: fsspec[http]<=2023.10.0,>=2023.1.0 in /usr/local/lib/python3.10/dist-packages (from datasets) (2023.6.0)\n",
            "Requirement already satisfied: aiohttp in /usr/local/lib/python3.10/dist-packages (from datasets) (3.8.6)\n",
            "Requirement already satisfied: huggingface-hub>=0.18.0 in /usr/local/lib/python3.10/dist-packages (from datasets) (0.19.4)\n",
            "Requirement already satisfied: packaging in /usr/local/lib/python3.10/dist-packages (from datasets) (23.2)\n",
            "Requirement already satisfied: pyyaml>=5.1 in /usr/local/lib/python3.10/dist-packages (from datasets) (6.0.1)\n",
            "Requirement already satisfied: attrs>=17.3.0 in /usr/local/lib/python3.10/dist-packages (from aiohttp->datasets) (23.1.0)\n",
            "Requirement already satisfied: charset-normalizer<4.0,>=2.0 in /usr/local/lib/python3.10/dist-packages (from aiohttp->datasets) (3.3.2)\n",
            "Requirement already satisfied: multidict<7.0,>=4.5 in /usr/local/lib/python3.10/dist-packages (from aiohttp->datasets) (6.0.4)\n",
            "Requirement already satisfied: async-timeout<5.0,>=4.0.0a3 in /usr/local/lib/python3.10/dist-packages (from aiohttp->datasets) (4.0.3)\n",
            "Requirement already satisfied: yarl<2.0,>=1.0 in /usr/local/lib/python3.10/dist-packages (from aiohttp->datasets) (1.9.2)\n",
            "Requirement already satisfied: frozenlist>=1.1.1 in /usr/local/lib/python3.10/dist-packages (from aiohttp->datasets) (1.4.0)\n",
            "Requirement already satisfied: aiosignal>=1.1.2 in /usr/local/lib/python3.10/dist-packages (from aiohttp->datasets) (1.3.1)\n",
            "Requirement already satisfied: filelock in /usr/local/lib/python3.10/dist-packages (from huggingface-hub>=0.18.0->datasets) (3.13.1)\n",
            "Requirement already satisfied: typing-extensions>=3.7.4.3 in /usr/local/lib/python3.10/dist-packages (from huggingface-hub>=0.18.0->datasets) (4.5.0)\n",
            "Requirement already satisfied: idna<4,>=2.5 in /usr/local/lib/python3.10/dist-packages (from requests>=2.19.0->datasets) (3.4)\n",
            "Requirement already satisfied: urllib3<3,>=1.21.1 in /usr/local/lib/python3.10/dist-packages (from requests>=2.19.0->datasets) (2.0.7)\n",
            "Requirement already satisfied: certifi>=2017.4.17 in /usr/local/lib/python3.10/dist-packages (from requests>=2.19.0->datasets) (2023.7.22)\n",
            "Requirement already satisfied: python-dateutil>=2.8.1 in /usr/local/lib/python3.10/dist-packages (from pandas->datasets) (2.8.2)\n",
            "Requirement already satisfied: pytz>=2020.1 in /usr/local/lib/python3.10/dist-packages (from pandas->datasets) (2023.3.post1)\n",
            "Requirement already satisfied: six>=1.5 in /usr/local/lib/python3.10/dist-packages (from python-dateutil>=2.8.1->pandas->datasets) (1.16.0)\n",
            "Requirement already satisfied: wget in /usr/local/lib/python3.10/dist-packages (3.2)\n",
            "Requirement already satisfied: fasttext in /usr/local/lib/python3.10/dist-packages (0.9.2)\n",
            "Requirement already satisfied: pybind11>=2.2 in /usr/local/lib/python3.10/dist-packages (from fasttext) (2.11.1)\n",
            "Requirement already satisfied: setuptools>=0.7.0 in /usr/local/lib/python3.10/dist-packages (from fasttext) (67.7.2)\n",
            "Requirement already satisfied: numpy in /usr/local/lib/python3.10/dist-packages (from fasttext) (1.23.5)\n",
            "Requirement already satisfied: transformers in /usr/local/lib/python3.10/dist-packages (4.35.2)\n",
            "Requirement already satisfied: filelock in /usr/local/lib/python3.10/dist-packages (from transformers) (3.13.1)\n",
            "Requirement already satisfied: huggingface-hub<1.0,>=0.16.4 in /usr/local/lib/python3.10/dist-packages (from transformers) (0.19.4)\n",
            "Requirement already satisfied: numpy>=1.17 in /usr/local/lib/python3.10/dist-packages (from transformers) (1.23.5)\n",
            "Requirement already satisfied: packaging>=20.0 in /usr/local/lib/python3.10/dist-packages (from transformers) (23.2)\n",
            "Requirement already satisfied: pyyaml>=5.1 in /usr/local/lib/python3.10/dist-packages (from transformers) (6.0.1)\n",
            "Requirement already satisfied: regex!=2019.12.17 in /usr/local/lib/python3.10/dist-packages (from transformers) (2023.6.3)\n",
            "Requirement already satisfied: requests in /usr/local/lib/python3.10/dist-packages (from transformers) (2.31.0)\n",
            "Requirement already satisfied: tokenizers<0.19,>=0.14 in /usr/local/lib/python3.10/dist-packages (from transformers) (0.15.0)\n",
            "Requirement already satisfied: safetensors>=0.3.1 in /usr/local/lib/python3.10/dist-packages (from transformers) (0.4.0)\n",
            "Requirement already satisfied: tqdm>=4.27 in /usr/local/lib/python3.10/dist-packages (from transformers) (4.66.1)\n",
            "Requirement already satisfied: fsspec>=2023.5.0 in /usr/local/lib/python3.10/dist-packages (from huggingface-hub<1.0,>=0.16.4->transformers) (2023.6.0)\n",
            "Requirement already satisfied: typing-extensions>=3.7.4.3 in /usr/local/lib/python3.10/dist-packages (from huggingface-hub<1.0,>=0.16.4->transformers) (4.5.0)\n",
            "Requirement already satisfied: charset-normalizer<4,>=2 in /usr/local/lib/python3.10/dist-packages (from requests->transformers) (3.3.2)\n",
            "Requirement already satisfied: idna<4,>=2.5 in /usr/local/lib/python3.10/dist-packages (from requests->transformers) (3.4)\n",
            "Requirement already satisfied: urllib3<3,>=1.21.1 in /usr/local/lib/python3.10/dist-packages (from requests->transformers) (2.0.7)\n",
            "Requirement already satisfied: certifi>=2017.4.17 in /usr/local/lib/python3.10/dist-packages (from requests->transformers) (2023.7.22)\n"
          ]
        }
      ]
    },
    {
      "cell_type": "code",
      "source": [
        "import numpy as np\n",
        "import pandas as pd\n",
        "import random\n",
        "import matplotlib.pyplot as plt\n",
        "import seaborn as sns\n",
        "import matplotlib.pyplot as plotter\n",
        "import plotly.graph_objects as go\n",
        "import plotly.express as px\n",
        "\n",
        "from sklearn.model_selection import train_test_split\n",
        "import tensorflow as tf\n",
        "import warnings\n",
        "warnings.filterwarnings('ignore')\n",
        "from datasets import load_dataset, Dataset, load_metric\n",
        "from typing import List, Callable, Dict\n",
        "import re\n",
        "from sklearn.linear_model import LogisticRegression\n",
        "from sklearn.metrics import balanced_accuracy_score\n",
        "from sklearn.feature_extraction.text import TfidfVectorizer\n",
        "from gensim.models.word2vec import Word2Vec\n",
        "from tqdm.auto import tqdm\n",
        "import wget\n",
        "import zipfile\n",
        "import io\n",
        "import time\n",
        "import torch\n",
        "import gc\n",
        "import traceback\n",
        "import fasttext.util\n",
        "from ipywidgets import widgets\n",
        "from transformers import (AutoConfig, AutoTokenizer, AutoModel,\n",
        "                          AutoModelForSequenceClassification,\n",
        "                          TrainingArguments, Trainer,\n",
        "                          DataCollatorWithPadding,\n",
        "                          EarlyStoppingCallback)\n",
        "from transformers import logging as tf_logging\n",
        "tf_logging.set_verbosity_error()\n",
        "tqdm.pandas()\n",
        "plt.style.use('ggplot')"
      ],
      "metadata": {
        "id": "BrV24DrkmxT6"
      },
      "execution_count": 2,
      "outputs": []
    },
    {
      "cell_type": "markdown",
      "source": [
        "Here we load our google drive to our notebook to download the dataset into a pandas dataframe."
      ],
      "metadata": {
        "id": "lr6QJTTveiVa"
      }
    },
    {
      "cell_type": "code",
      "source": [
        "from google.colab import drive\n",
        "\n",
        "drive.mount('/content/drive')"
      ],
      "metadata": {
        "colab": {
          "base_uri": "https://localhost:8080/"
        },
        "id": "YK0vPdHyTL3B",
        "outputId": "cc5c643a-67b8-42ef-987c-eb093b9ada6b"
      },
      "execution_count": 3,
      "outputs": [
        {
          "output_type": "stream",
          "name": "stdout",
          "text": [
            "Drive already mounted at /content/drive; to attempt to forcibly remount, call drive.mount(\"/content/drive\", force_remount=True).\n"
          ]
        }
      ]
    },
    {
      "cell_type": "code",
      "source": [
        "df = pd.read_csv('/content/drive/MyDrive/Training_Essay_Data.csv')\n",
        "df.name = 'whole'"
      ],
      "metadata": {
        "id": "09PH4yPqU_ST"
      },
      "execution_count": 4,
      "outputs": []
    },
    {
      "cell_type": "markdown",
      "source": [
        "We create a train-test split using the sklearn built-in function, fixing the initial state for reproducibility."
      ],
      "metadata": {
        "id": "BRTZzeb5fFMo"
      }
    },
    {
      "cell_type": "code",
      "source": [
        "train , test =train_test_split(df,test_size=0.2,train_size=0.8,random_state=1)\n",
        "train.name = 'training'\n",
        "test.name = 'testing'"
      ],
      "metadata": {
        "id": "mhzJU0EmVEVF"
      },
      "execution_count": 5,
      "outputs": []
    },
    {
      "cell_type": "code",
      "source": [
        "train.head()\n",
        "\n",
        "traindist = np.mean(train['generated'])\n",
        "print('The trained data has {}% AI generated text (3s.f.)'.format(round(traindist,3)))\n",
        "testdist = np.mean(test['generated'])\n",
        "print('The test data has {}% AI generated text (3s.f.)'.format(round(testdist,3)))\n",
        "textwords=np.zeros(len(df['text']))\n",
        "for i in range(0,len(df['text'])-1):\n",
        "  textwords[i] = len(df['text'][i].split())\n",
        "\n",
        "\n",
        "mean_length=np.mean(np.mean(textwords))\n",
        "print('The mean length of a document is {} words.'.format(round(mean_length,3)))\n"
      ],
      "metadata": {
        "colab": {
          "base_uri": "https://localhost:8080/"
        },
        "id": "cc4epX9LV0co",
        "outputId": "86220a29-9ec6-4568-95b3-fab1651bc537"
      },
      "execution_count": 6,
      "outputs": [
        {
          "output_type": "stream",
          "name": "stdout",
          "text": [
            "The trained data has 0.403% AI generated text (3s.f.)\n",
            "The test data has 0.386% AI generated text (3s.f.)\n",
            "The mean length of a document is 383.129 words.\n"
          ]
        }
      ]
    },
    {
      "cell_type": "markdown",
      "source": [
        "From above we see the Train and Test data both have a similar split over the labels distribution. We also quikcly inspect the average length of each piece of text, noting that 383 words is quite large."
      ],
      "metadata": {
        "id": "CIiBakxafX4M"
      }
    },
    {
      "cell_type": "code",
      "source": [
        "def draw_hist_words(histt: pd.DataFrame):\n",
        "  '''Draws a histogram of the number of words in each document.\n",
        "\n",
        "    Args:\n",
        "        df:\n",
        "            dataframe of texts with 'text' as the key for the documents.\n",
        "\n",
        "    Returns:\n",
        "        NA:\n",
        "            plots histogram\n",
        "    '''\n",
        "  plt.figure(figsize=(8,5))\n",
        "  histt['text'].str.split().map(lambda x: len(x)).hist()\n",
        "  plt.title(\"Histogram of the number of words in each text for \"+histt.name+\" data\")\n",
        "  plt.xlabel('Number of characters')\n",
        "  plt.ylabel('Number of documents')\n",
        "  plt.show()"
      ],
      "metadata": {
        "id": "D6fzTLBCh60N"
      },
      "execution_count": 26,
      "outputs": []
    },
    {
      "cell_type": "code",
      "source": [
        "draw_hist_words(train)"
      ],
      "metadata": {
        "colab": {
          "base_uri": "https://localhost:8080/",
          "height": 492
        },
        "id": "SUcMWRTwgCD1",
        "outputId": "828e474e-ff88-4d07-e1b3-960f87a2a1b5"
      },
      "execution_count": 27,
      "outputs": [
        {
          "output_type": "display_data",
          "data": {
            "text/plain": [
              "<Figure size 800x500 with 1 Axes>"
            ],
            "image/png": "[encoded data removed]"
          },
          "metadata": {}
        }
      ]
    },
    {
      "cell_type": "code",
      "source": [
        "draw_hist_words(test)"
      ],
      "metadata": {
        "colab": {
          "base_uri": "https://localhost:8080/",
          "height": 492
        },
        "id": "6dXGWjJmh3bV",
        "outputId": "cd881224-0051-4ac6-9ff1-8fd3dd742228"
      },
      "execution_count": 28,
      "outputs": [
        {
          "output_type": "display_data",
          "data": {
            "text/plain": [
              "<Figure size 800x500 with 1 Axes>"
            ],
            "image/png": "[encoded data removed]"
          },
          "metadata": {}
        }
      ]
    },
    {
      "cell_type": "code",
      "source": [
        "def plot_text_length_distribution(df: pd.DataFrame):\n",
        "    '''Plots a histogram of the lengths of the texts in the dataset.\n",
        "\n",
        "    Args:\n",
        "        df (Pandas DataFrame):\n",
        "            The input dataframe. Must have a 'text' column.\n",
        "    '''\n",
        "\n",
        "    df['Letter_Count'] = df['text'].apply(lambda x: len(x))\n",
        "    df.Letter_Count.hist(bins='auto')\n",
        "    plt.title('Text length distribution of the '+df.name+' dataset')\n",
        "    plt.xlabel('Number of characters')\n",
        "    plt.ylabel('Number of documents')\n",
        "    plt.show()\n",
        "\n",
        "\n",
        "plot_text_length_distribution(train)"
      ],
      "metadata": {
        "colab": {
          "base_uri": "https://localhost:8080/",
          "height": 477
        },
        "id": "6bWLJge8hbIH",
        "outputId": "87d4341b-aa27-441a-e71d-9dc4c470e0c7"
      },
      "execution_count": 29,
      "outputs": [
        {
          "output_type": "display_data",
          "data": {
            "text/plain": [
              "<Figure size 640x480 with 1 Axes>"
            ],
            "image/png": "[encoded data removed]"
          },
          "metadata": {}
        }
      ]
    },
    {
      "cell_type": "code",
      "source": [
        "plot_text_length_distribution(test)"
      ],
      "metadata": {
        "colab": {
          "base_uri": "https://localhost:8080/",
          "height": 477
        },
        "id": "unGchaNwmHDG",
        "outputId": "ec437daa-957e-43f7-b42a-33c52b15bcda"
      },
      "execution_count": 30,
      "outputs": [
        {
          "output_type": "display_data",
          "data": {
            "text/plain": [
              "<Figure size 640x480 with 1 Axes>"
            ],
            "image/png": "[encoded data removed]"
          },
          "metadata": {}
        }
      ]
    },
    {
      "cell_type": "markdown",
      "source": [
        "Let us now create a vocabulary."
      ],
      "metadata": {
        "id": "E3yKvPKJlIa-"
      }
    },
    {
      "cell_type": "code",
      "source": [
        "def build_vocabulary(corpus: List[str]) -> List[str]:\n",
        "    '''Constructs the vocabulary from a corpus.\n",
        "\n",
        "    Args:\n",
        "        list of str:\n",
        "            The corpus, being a list of documents.\n",
        "\n",
        "    Returns:\n",
        "        list of str:\n",
        "            A list containing all unique words in the corpus.\n",
        "    '''\n",
        "    # We simplify things here and remove all non-characters from the documents.\n",
        "    corpus = [re.sub('^[ a-zA-Z]', '', doc) for doc in corpus]\n",
        "\n",
        "    #We next split every document into words by spaces, and collect these\n",
        "    all_words = [word for doc in corpus for word in doc.split()]\n",
        "    # We then get all the unique words by converting the list to a `set` and back\n",
        "    unique_words = list(set(all_words))\n",
        "\n",
        "    # Return the vocabulary\n",
        "    return unique_words\n",
        "\n",
        "\n",
        "vocabulary = build_vocabulary(train.text.tolist())\n",
        "len(vocabulary)"
      ],
      "metadata": {
        "colab": {
          "base_uri": "https://localhost:8080/"
        },
        "id": "Xgm0rr8OlSZV",
        "outputId": "d98173ac-5fce-4c2e-af2f-fdc586286bef"
      },
      "execution_count": 7,
      "outputs": [
        {
          "output_type": "execute_result",
          "data": {
            "text/plain": [
              "141967"
            ]
          },
          "metadata": {},
          "execution_count": 7
        }
      ]
    },
    {
      "cell_type": "markdown",
      "source": [
        "Let us start with a bag of words embedding, starting from a simple one hot encoder, we add the ability to handle words outside the vocabulary (we might come across words in the test dataset which do not occur in the training dataset)"
      ],
      "metadata": {
        "id": "TfHd2GEbnmAP"
      }
    },
    {
      "cell_type": "code",
      "source": [
        "def one_hot_encode(word: str, vocabulary: List[str]) -> np.ndarray:\n",
        "    '''One-hot encode a word according to our vocabulary.\n",
        "\n",
        "    Args:\n",
        "        word (str):\n",
        "            The word to be encoded. It needs to be present\n",
        "            within our vocabulary!\n",
        "        vocabulary (list):\n",
        "            List of unique words in the corpus.\n",
        "\n",
        "    Returns:\n",
        "        NumPy array:\n",
        "            The resulting one-hot encoding.\n",
        "    '''\n",
        "    embedding = np.zeros(len(vocabulary))\n",
        "\n",
        "    # Get the position at which the word appears in the vocabulary\n",
        "    vocab_position = vocabulary.index(word)\n",
        "\n",
        "    # make it a one hot vector\n",
        "    embedding[vocab_position] = 1\n",
        "    return embedding\n",
        "\n",
        "\n",
        "one_hot_embedding = one_hot_encode('happy',vocabulary)\n",
        "assert one_hot_embedding.sum() == 1\n",
        "one_hot_embedding"
      ],
      "metadata": {
        "colab": {
          "base_uri": "https://localhost:8080/"
        },
        "id": "9Nb177R4n5dV",
        "outputId": "90ceb70f-733d-4dc1-be0c-e1d35bae409d"
      },
      "execution_count": 9,
      "outputs": [
        {
          "output_type": "execute_result",
          "data": {
            "text/plain": [
              "array([0., 0., 0., ..., 0., 0., 0.])"
            ]
          },
          "metadata": {},
          "execution_count": 9
        }
      ]
    },
    {
      "cell_type": "code",
      "source": [
        "def improved_one_hot_encode(word: str, vocabulary: List[str]) -> np.ndarray:\n",
        "    '''One-hot encode a word.\n",
        "\n",
        "    This can also deal with words not in the vocabulary.\n",
        "\n",
        "    Args:\n",
        "        word (str):\n",
        "            The word to be encoded.\n",
        "        vocabulary (list):\n",
        "            List of unique words in the corpus.\n",
        "\n",
        "    Returns:\n",
        "        NumPy array:\n",
        "            The resulting one-hot encoding.\n",
        "    '''\n",
        "\n",
        "    # Return the embedding, whether it came from the \"try block\"\n",
        "    # or the \"except block\"\n",
        "    try:\n",
        "        # We embed using our previous function, and add a zero at the end, showing it IS in the vocabulary\n",
        "        embedding = np.concatenate((one_hot_encode(word, vocabulary), [0]))\n",
        "\n",
        "    except ValueError:\n",
        "        #when the word is not in our vocabulary.\n",
        "        embedding = np.zeros(len(vocabulary) + 1)\n",
        "        embedding[-1] = 1\n",
        "    return embedding\n",
        "    return embedding\n",
        "\n",
        "embedding = improved_one_hot_encode('Thisisnotaword',vocabulary)\n",
        "assert embedding.sum() == 1\n",
        "embedding"
      ],
      "metadata": {
        "colab": {
          "base_uri": "https://localhost:8080/"
        },
        "id": "qvB7YSKVnzcc",
        "outputId": "202be9d8-9665-4db2-a5c0-e6dea1929dfb"
      },
      "execution_count": 10,
      "outputs": [
        {
          "output_type": "execute_result",
          "data": {
            "text/plain": [
              "array([0., 0., 0., ..., 0., 0., 1.])"
            ]
          },
          "metadata": {},
          "execution_count": 10
        }
      ]
    },
    {
      "cell_type": "code",
      "source": [
        "def bag_of_words_embed(doc: str) -> np.ndarray:\n",
        "    '''Embed a document using the bag-of-words representation.\n",
        "\n",
        "    Args:\n",
        "        doc (str):\n",
        "            The document we want to embed.\n",
        "\n",
        "    Returns:\n",
        "        NumPy array:\n",
        "            The resulting bag-of-words embedding.\n",
        "    '''\n",
        "    # We simplify things here and remove all non-characters from the document,\n",
        "    # just like we did when we created the vocabulary\n",
        "    doc = re.sub('[^a-zA-Z ]', '', doc)\n",
        "\n",
        "    # Split up the document into a list of words\n",
        "    words = doc.split()\n",
        "\n",
        "    # Embed all the words, resulting in a list of NumPy arrays\n",
        "    embeddings = [improved_one_hot_encode(word,vocabulary) for word in words]\n",
        "\n",
        "    # Sum up all the one-hot encoded vectors in `embeddings`\n",
        "    bag_of_words_embedding = np.sum(embeddings, axis=0)\n",
        "\n",
        "    # Return the embedding\n",
        "    return bag_of_words_embedding\n",
        "\n",
        "\n",
        "embedding = bag_of_words_embed('This is a test')\n",
        "assert embedding.sum() == 4\n",
        "embedding"
      ],
      "metadata": {
        "colab": {
          "base_uri": "https://localhost:8080/"
        },
        "id": "cr7hltHuo7Dn",
        "outputId": "b6da0300-39fb-494c-8867-9d6cbeb1df19"
      },
      "execution_count": 11,
      "outputs": [
        {
          "output_type": "execute_result",
          "data": {
            "text/plain": [
              "array([0., 0., 0., ..., 0., 0., 0.])"
            ]
          },
          "metadata": {},
          "execution_count": 11
        }
      ]
    },
    {
      "cell_type": "markdown",
      "source": [
        "We have now created a simple bag of words embedding from scratch. Lets see how slow this is."
      ],
      "metadata": {
        "id": "bbPQeZrlpLyH"
      }
    },
    {
      "cell_type": "code",
      "source": [
        "#bag_of_words_embeddings_train = np.stack(train.text.progress_apply(bag_of_words_embed))\n"
      ],
      "metadata": {
        "id": "ea2g_DMDpaDn"
      },
      "execution_count": null,
      "outputs": []
    },
    {
      "cell_type": "markdown",
      "source": [
        "This would take us over 30 hours to complete. This is not feesable and so we create a much smaller version of the datset, so we can hope to find some results."
      ],
      "metadata": {
        "id": "t8mCaxvApr_Z"
      }
    },
    {
      "cell_type": "code",
      "source": [
        "\n",
        "small_train , small_test =train.iloc[:500],test.iloc[:100]\n",
        "small_train.name = 'training'\n",
        "small_test.name = 'testing'"
      ],
      "metadata": {
        "id": "Q5EwegLFp870"
      },
      "execution_count": 8,
      "outputs": []
    },
    {
      "cell_type": "markdown",
      "source": [
        "We create a new Vocabulary, noting the size has greatly reduced."
      ],
      "metadata": {
        "id": "Dgo4toSWqwqa"
      }
    },
    {
      "cell_type": "code",
      "source": [
        "vocabulary = build_vocabulary(small_train.text.tolist())\n",
        "len(vocabulary)"
      ],
      "metadata": {
        "colab": {
          "base_uri": "https://localhost:8080/"
        },
        "id": "B3PsTGRzrjo7",
        "outputId": "3b5028f8-0f29-49f9-e1dd-cd89fcd0e8ef"
      },
      "execution_count": 13,
      "outputs": [
        {
          "output_type": "execute_result",
          "data": {
            "text/plain": [
              "16743"
            ]
          },
          "metadata": {},
          "execution_count": 13
        }
      ]
    },
    {
      "cell_type": "markdown",
      "source": [
        "Let use our functions on this smaller dataset."
      ],
      "metadata": {
        "id": "fDvTblR4r1D4"
      }
    },
    {
      "cell_type": "code",
      "source": [
        "bag_of_words_embeddings_train = np.stack(small_train.text.progress_apply(bag_of_words_embed))\n",
        "bag_of_words_embeddings_train.shape"
      ],
      "metadata": {
        "colab": {
          "base_uri": "https://localhost:8080/",
          "height": 66,
          "referenced_widgets": [
            "a3ec61141e7145d89f35d5e013ba9b5d",
            "2297c9df5c904eb98b475a0bc26ecce6",
            "96077ecf35cf4ab1ad28a393935fd9d8",
            "5559ca2b1c514b23aa5af500f9b22384",
            "888db117023647489069f64c241ec406",
            "3a3cbe83f0e84eedb7b6db36c7999e6f",
            "b28fbf4779af4d40a1094a4deead88c9",
            "fbfb72c74f6944b6b0513088ce18caa7",
            "9fc6fc97097d4bbd918d66e0f5f9d922",
            "d06deb64f28b4aa9b5b9625161c68a29",
            "4c0863f1504c4b81915da19c951b1df3"
          ]
        },
        "id": "xOXo-2Npr0SN",
        "outputId": "56f946ab-7ab2-439b-9e9c-760e5162bbaa"
      },
      "execution_count": 37,
      "outputs": [
        {
          "output_type": "display_data",
          "data": {
            "text/plain": [
              "  0%|          | 0/500 [00:00<?, ?it/s]"
            ],
            "application/vnd.jupyter.widget-view+json": {
              "version_major": 2,
              "version_minor": 0,
              "model_id": "a3ec61141e7145d89f35d5e013ba9b5d"
            }
          },
          "metadata": {}
        },
        {
          "output_type": "execute_result",
          "data": {
            "text/plain": [
              "(500, 16744)"
            ]
          },
          "metadata": {},
          "execution_count": 37
        }
      ]
    },
    {
      "cell_type": "code",
      "source": [
        "bag_of_words_embeddings_test = np.stack(small_test.text.progress_apply(bag_of_words_embed))"
      ],
      "metadata": {
        "colab": {
          "base_uri": "https://localhost:8080/",
          "height": 49,
          "referenced_widgets": [
            "0cbc4850c61c44cb9bc2f35a3991614d",
            "0a99c668618c42a4ab836e602086b83b",
            "656ef6b51bd24d3fa7e95933d6911b19",
            "f621d42d35f24304b465f1b5cd2accd4",
            "f2ad126c1dca460d98db8e23eb2a945a",
            "5f64c56d0b6d4766ad6fc7c2365e5daa",
            "6ffa255e10a245bb9639d85c2af19418",
            "95fc89855d184d078647c4b0d49dc5a7",
            "1cd5c2ccd75e4870acdcf985eaea73da",
            "613fd521910a4e35bc59b3f285fb0bc2",
            "65e836b93dc146829cf214ce7d9ecb1b"
          ]
        },
        "id": "1yAgW0W2-e1g",
        "outputId": "c59e37ba-9279-4700-dea8-dd5d0825a7ae"
      },
      "execution_count": 38,
      "outputs": [
        {
          "output_type": "display_data",
          "data": {
            "text/plain": [
              "  0%|          | 0/100 [00:00<?, ?it/s]"
            ],
            "application/vnd.jupyter.widget-view+json": {
              "version_major": 2,
              "version_minor": 0,
              "model_id": "0cbc4850c61c44cb9bc2f35a3991614d"
            }
          },
          "metadata": {}
        }
      ]
    },
    {
      "cell_type": "markdown",
      "source": [
        "That still takes a long time... We save the results in a csv for as so we do not have to run this again.\n",
        "\n",
        "This is to be expected with the massive length of the word representations, because the ebeddings are the size of the vocabulary itself."
      ],
      "metadata": {
        "id": "yn9sJhM28GOb"
      }
    },
    {
      "cell_type": "code",
      "source": [
        "#np.savetxt('bag_of_words_train.csv', bag_of_words_embeddings_train, delimiter=',')\n",
        "#np.savetxt('bag_of_words_test.csv', bag_of_words_embeddings_test, delimiter=',')"
      ],
      "metadata": {
        "id": "XWHN2e_w-H4-"
      },
      "execution_count": null,
      "outputs": []
    },
    {
      "cell_type": "markdown",
      "source": [
        "below is code to load the data back in."
      ],
      "metadata": {
        "id": "xqTDfGK_DuRS"
      }
    },
    {
      "cell_type": "code",
      "source": [
        "#bag_of_words_embeddings_train = pd.read_csv('bag_of_words_train.csv', sep=',', header=None)\n",
        "#bag_of_words_embeddings_test = pd.read_csv('bag_of_words_test.csv', sep=',', header=None)\n",
        "#bag_of_words_embeddings_train = bag_of_words_embeddings_train.to_numpy()\n",
        "#bag_of_words_embeddings_test = bag_of_words_embeddings_test.to_numpy()"
      ],
      "metadata": {
        "colab": {
          "base_uri": "https://localhost:8080/",
          "height": 373
        },
        "id": "5ppCUOJEDHut",
        "outputId": "d1518a4f-5b49-48b2-dc9f-d1f3ede12655"
      },
      "execution_count": null,
      "outputs": [
        {
          "output_type": "error",
          "ename": "KeyboardInterrupt",
          "evalue": "ignored",
          "traceback": [
            "\u001b[0;31m---------------------------------------------------------------------------\u001b[0m",
            "\u001b[0;31mKeyboardInterrupt\u001b[0m                         Traceback (most recent call last)",
            "\u001b[0;32m<ipython-input-92-2ee3b6313147>\u001b[0m in \u001b[0;36m<cell line: 1>\u001b[0;34m()\u001b[0m\n\u001b[0;32m----> 1\u001b[0;31m \u001b[0mbag_of_words_embeddings_train\u001b[0m \u001b[0;34m=\u001b[0m \u001b[0mpd\u001b[0m\u001b[0;34m.\u001b[0m\u001b[0mread_csv\u001b[0m\u001b[0;34m(\u001b[0m\u001b[0;34m'bag_of_words_train.csv'\u001b[0m\u001b[0;34m,\u001b[0m \u001b[0msep\u001b[0m\u001b[0;34m=\u001b[0m\u001b[0;34m','\u001b[0m\u001b[0;34m,\u001b[0m \u001b[0mheader\u001b[0m\u001b[0;34m=\u001b[0m\u001b[0;32mNone\u001b[0m\u001b[0;34m)\u001b[0m\u001b[0;34m\u001b[0m\u001b[0;34m\u001b[0m\u001b[0m\n\u001b[0m\u001b[1;32m      2\u001b[0m \u001b[0mbag_of_words_embeddings_test\u001b[0m \u001b[0;34m=\u001b[0m \u001b[0mpd\u001b[0m\u001b[0;34m.\u001b[0m\u001b[0mread_csv\u001b[0m\u001b[0;34m(\u001b[0m\u001b[0;34m'bag_of_words_test.csv'\u001b[0m\u001b[0;34m,\u001b[0m \u001b[0msep\u001b[0m\u001b[0;34m=\u001b[0m\u001b[0;34m','\u001b[0m\u001b[0;34m,\u001b[0m \u001b[0mheader\u001b[0m\u001b[0;34m=\u001b[0m\u001b[0;32mNone\u001b[0m\u001b[0;34m)\u001b[0m\u001b[0;34m\u001b[0m\u001b[0;34m\u001b[0m\u001b[0m\n\u001b[1;32m      3\u001b[0m \u001b[0mbag_of_words_embeddings_train\u001b[0m \u001b[0;34m=\u001b[0m \u001b[0mbag_of_words_embeddings_train\u001b[0m\u001b[0;34m.\u001b[0m\u001b[0mto_numpy\u001b[0m\u001b[0;34m(\u001b[0m\u001b[0;34m)\u001b[0m\u001b[0;34m\u001b[0m\u001b[0;34m\u001b[0m\u001b[0m\n\u001b[1;32m      4\u001b[0m \u001b[0mbag_of_words_embeddings_test\u001b[0m \u001b[0;34m=\u001b[0m \u001b[0mbag_of_words_embeddings_test\u001b[0m\u001b[0;34m.\u001b[0m\u001b[0mto_numpy\u001b[0m\u001b[0;34m(\u001b[0m\u001b[0;34m)\u001b[0m\u001b[0;34m\u001b[0m\u001b[0;34m\u001b[0m\u001b[0m\n",
            "\u001b[0;32m/usr/local/lib/python3.10/dist-packages/pandas/util/_decorators.py\u001b[0m in \u001b[0;36mwrapper\u001b[0;34m(*args, **kwargs)\u001b[0m\n\u001b[1;32m    209\u001b[0m                 \u001b[0;32melse\u001b[0m\u001b[0;34m:\u001b[0m\u001b[0;34m\u001b[0m\u001b[0;34m\u001b[0m\u001b[0m\n\u001b[1;32m    210\u001b[0m                     \u001b[0mkwargs\u001b[0m\u001b[0;34m[\u001b[0m\u001b[0mnew_arg_name\u001b[0m\u001b[0;34m]\u001b[0m \u001b[0;34m=\u001b[0m \u001b[0mnew_arg_value\u001b[0m\u001b[0;34m\u001b[0m\u001b[0;34m\u001b[0m\u001b[0m\n\u001b[0;32m--> 211\u001b[0;31m             \u001b[0;32mreturn\u001b[0m \u001b[0mfunc\u001b[0m\u001b[0;34m(\u001b[0m\u001b[0;34m*\u001b[0m\u001b[0margs\u001b[0m\u001b[0;34m,\u001b[0m \u001b[0;34m**\u001b[0m\u001b[0mkwargs\u001b[0m\u001b[0;34m)\u001b[0m\u001b[0;34m\u001b[0m\u001b[0;34m\u001b[0m\u001b[0m\n\u001b[0m\u001b[1;32m    212\u001b[0m \u001b[0;34m\u001b[0m\u001b[0m\n\u001b[1;32m    213\u001b[0m         \u001b[0;32mreturn\u001b[0m \u001b[0mcast\u001b[0m\u001b[0;34m(\u001b[0m\u001b[0mF\u001b[0m\u001b[0;34m,\u001b[0m \u001b[0mwrapper\u001b[0m\u001b[0;34m)\u001b[0m\u001b[0;34m\u001b[0m\u001b[0;34m\u001b[0m\u001b[0m\n",
            "\u001b[0;32m/usr/local/lib/python3.10/dist-packages/pandas/util/_decorators.py\u001b[0m in \u001b[0;36mwrapper\u001b[0;34m(*args, **kwargs)\u001b[0m\n\u001b[1;32m    329\u001b[0m                     \u001b[0mstacklevel\u001b[0m\u001b[0;34m=\u001b[0m\u001b[0mfind_stack_level\u001b[0m\u001b[0;34m(\u001b[0m\u001b[0;34m)\u001b[0m\u001b[0;34m,\u001b[0m\u001b[0;34m\u001b[0m\u001b[0;34m\u001b[0m\u001b[0m\n\u001b[1;32m    330\u001b[0m                 )\n\u001b[0;32m--> 331\u001b[0;31m             \u001b[0;32mreturn\u001b[0m \u001b[0mfunc\u001b[0m\u001b[0;34m(\u001b[0m\u001b[0;34m*\u001b[0m\u001b[0margs\u001b[0m\u001b[0;34m,\u001b[0m \u001b[0;34m**\u001b[0m\u001b[0mkwargs\u001b[0m\u001b[0;34m)\u001b[0m\u001b[0;34m\u001b[0m\u001b[0;34m\u001b[0m\u001b[0m\n\u001b[0m\u001b[1;32m    332\u001b[0m \u001b[0;34m\u001b[0m\u001b[0m\n\u001b[1;32m    333\u001b[0m         \u001b[0;31m# error: \"Callable[[VarArg(Any), KwArg(Any)], Any]\" has no\u001b[0m\u001b[0;34m\u001b[0m\u001b[0;34m\u001b[0m\u001b[0m\n",
            "\u001b[0;32m/usr/local/lib/python3.10/dist-packages/pandas/io/parsers/readers.py\u001b[0m in \u001b[0;36mread_csv\u001b[0;34m(filepath_or_buffer, sep, delimiter, header, names, index_col, usecols, squeeze, prefix, mangle_dupe_cols, dtype, engine, converters, true_values, false_values, skipinitialspace, skiprows, skipfooter, nrows, na_values, keep_default_na, na_filter, verbose, skip_blank_lines, parse_dates, infer_datetime_format, keep_date_col, date_parser, dayfirst, cache_dates, iterator, chunksize, compression, thousands, decimal, lineterminator, quotechar, quoting, doublequote, escapechar, comment, encoding, encoding_errors, dialect, error_bad_lines, warn_bad_lines, on_bad_lines, delim_whitespace, low_memory, memory_map, float_precision, storage_options)\u001b[0m\n\u001b[1;32m    948\u001b[0m     \u001b[0mkwds\u001b[0m\u001b[0;34m.\u001b[0m\u001b[0mupdate\u001b[0m\u001b[0;34m(\u001b[0m\u001b[0mkwds_defaults\u001b[0m\u001b[0;34m)\u001b[0m\u001b[0;34m\u001b[0m\u001b[0;34m\u001b[0m\u001b[0m\n\u001b[1;32m    949\u001b[0m \u001b[0;34m\u001b[0m\u001b[0m\n\u001b[0;32m--> 950\u001b[0;31m     \u001b[0;32mreturn\u001b[0m \u001b[0m_read\u001b[0m\u001b[0;34m(\u001b[0m\u001b[0mfilepath_or_buffer\u001b[0m\u001b[0;34m,\u001b[0m \u001b[0mkwds\u001b[0m\u001b[0;34m)\u001b[0m\u001b[0;34m\u001b[0m\u001b[0;34m\u001b[0m\u001b[0m\n\u001b[0m\u001b[1;32m    951\u001b[0m \u001b[0;34m\u001b[0m\u001b[0m\n\u001b[1;32m    952\u001b[0m \u001b[0;34m\u001b[0m\u001b[0m\n",
            "\u001b[0;32m/usr/local/lib/python3.10/dist-packages/pandas/io/parsers/readers.py\u001b[0m in \u001b[0;36m_read\u001b[0;34m(filepath_or_buffer, kwds)\u001b[0m\n\u001b[1;32m    609\u001b[0m \u001b[0;34m\u001b[0m\u001b[0m\n\u001b[1;32m    610\u001b[0m     \u001b[0;32mwith\u001b[0m \u001b[0mparser\u001b[0m\u001b[0;34m:\u001b[0m\u001b[0;34m\u001b[0m\u001b[0;34m\u001b[0m\u001b[0m\n\u001b[0;32m--> 611\u001b[0;31m         \u001b[0;32mreturn\u001b[0m \u001b[0mparser\u001b[0m\u001b[0;34m.\u001b[0m\u001b[0mread\u001b[0m\u001b[0;34m(\u001b[0m\u001b[0mnrows\u001b[0m\u001b[0;34m)\u001b[0m\u001b[0;34m\u001b[0m\u001b[0;34m\u001b[0m\u001b[0m\n\u001b[0m\u001b[1;32m    612\u001b[0m \u001b[0;34m\u001b[0m\u001b[0m\n\u001b[1;32m    613\u001b[0m \u001b[0;34m\u001b[0m\u001b[0m\n",
            "\u001b[0;32m/usr/local/lib/python3.10/dist-packages/pandas/io/parsers/readers.py\u001b[0m in \u001b[0;36mread\u001b[0;34m(self, nrows)\u001b[0m\n\u001b[1;32m   1776\u001b[0m                     \u001b[0mcolumns\u001b[0m\u001b[0;34m,\u001b[0m\u001b[0;34m\u001b[0m\u001b[0;34m\u001b[0m\u001b[0m\n\u001b[1;32m   1777\u001b[0m                     \u001b[0mcol_dict\u001b[0m\u001b[0;34m,\u001b[0m\u001b[0;34m\u001b[0m\u001b[0;34m\u001b[0m\u001b[0m\n\u001b[0;32m-> 1778\u001b[0;31m                 \u001b[0;34m)\u001b[0m \u001b[0;34m=\u001b[0m \u001b[0mself\u001b[0m\u001b[0;34m.\u001b[0m\u001b[0m_engine\u001b[0m\u001b[0;34m.\u001b[0m\u001b[0mread\u001b[0m\u001b[0;34m(\u001b[0m  \u001b[0;31m# type: ignore[attr-defined]\u001b[0m\u001b[0;34m\u001b[0m\u001b[0;34m\u001b[0m\u001b[0m\n\u001b[0m\u001b[1;32m   1779\u001b[0m                     \u001b[0mnrows\u001b[0m\u001b[0;34m\u001b[0m\u001b[0;34m\u001b[0m\u001b[0m\n\u001b[1;32m   1780\u001b[0m                 )\n",
            "\u001b[0;32m/usr/local/lib/python3.10/dist-packages/pandas/io/parsers/c_parser_wrapper.py\u001b[0m in \u001b[0;36mread\u001b[0;34m(self, nrows)\u001b[0m\n\u001b[1;32m    228\u001b[0m         \u001b[0;32mtry\u001b[0m\u001b[0;34m:\u001b[0m\u001b[0;34m\u001b[0m\u001b[0;34m\u001b[0m\u001b[0m\n\u001b[1;32m    229\u001b[0m             \u001b[0;32mif\u001b[0m \u001b[0mself\u001b[0m\u001b[0;34m.\u001b[0m\u001b[0mlow_memory\u001b[0m\u001b[0;34m:\u001b[0m\u001b[0;34m\u001b[0m\u001b[0;34m\u001b[0m\u001b[0m\n\u001b[0;32m--> 230\u001b[0;31m                 \u001b[0mchunks\u001b[0m \u001b[0;34m=\u001b[0m \u001b[0mself\u001b[0m\u001b[0;34m.\u001b[0m\u001b[0m_reader\u001b[0m\u001b[0;34m.\u001b[0m\u001b[0mread_low_memory\u001b[0m\u001b[0;34m(\u001b[0m\u001b[0mnrows\u001b[0m\u001b[0;34m)\u001b[0m\u001b[0;34m\u001b[0m\u001b[0;34m\u001b[0m\u001b[0m\n\u001b[0m\u001b[1;32m    231\u001b[0m                 \u001b[0;31m# destructive to chunks\u001b[0m\u001b[0;34m\u001b[0m\u001b[0;34m\u001b[0m\u001b[0m\n\u001b[1;32m    232\u001b[0m                 \u001b[0mdata\u001b[0m \u001b[0;34m=\u001b[0m \u001b[0m_concatenate_chunks\u001b[0m\u001b[0;34m(\u001b[0m\u001b[0mchunks\u001b[0m\u001b[0;34m)\u001b[0m\u001b[0;34m\u001b[0m\u001b[0;34m\u001b[0m\u001b[0m\n",
            "\u001b[0;32m/usr/local/lib/python3.10/dist-packages/pandas/_libs/parsers.pyx\u001b[0m in \u001b[0;36mpandas._libs.parsers.TextReader.read_low_memory\u001b[0;34m()\u001b[0m\n",
            "\u001b[0;32m/usr/local/lib/python3.10/dist-packages/pandas/_libs/parsers.pyx\u001b[0m in \u001b[0;36mpandas._libs.parsers.TextReader._read_rows\u001b[0;34m()\u001b[0m\n",
            "\u001b[0;32m/usr/local/lib/python3.10/dist-packages/pandas/_libs/parsers.pyx\u001b[0m in \u001b[0;36mpandas._libs.parsers.TextReader._convert_column_data\u001b[0;34m()\u001b[0m\n",
            "\u001b[0;32m/usr/local/lib/python3.10/dist-packages/pandas/_libs/parsers.pyx\u001b[0m in \u001b[0;36mpandas._libs.parsers.TextReader._convert_tokens\u001b[0;34m()\u001b[0m\n",
            "\u001b[0;32m/usr/local/lib/python3.10/dist-packages/pandas/_libs/parsers.pyx\u001b[0m in \u001b[0;36mpandas._libs.parsers.TextReader._convert_with_dtype\u001b[0;34m()\u001b[0m\n",
            "\u001b[0;32m/usr/local/lib/python3.10/dist-packages/pandas/core/dtypes/common.py\u001b[0m in \u001b[0;36mis_extension_array_dtype\u001b[0;34m(arr_or_dtype)\u001b[0m\n\u001b[1;32m   1431\u001b[0m \u001b[0;34m\u001b[0m\u001b[0m\n\u001b[1;32m   1432\u001b[0m \u001b[0;34m\u001b[0m\u001b[0m\n\u001b[0;32m-> 1433\u001b[0;31m \u001b[0;32mdef\u001b[0m \u001b[0mis_extension_array_dtype\u001b[0m\u001b[0;34m(\u001b[0m\u001b[0marr_or_dtype\u001b[0m\u001b[0;34m)\u001b[0m \u001b[0;34m->\u001b[0m \u001b[0mbool\u001b[0m\u001b[0;34m:\u001b[0m\u001b[0;34m\u001b[0m\u001b[0;34m\u001b[0m\u001b[0m\n\u001b[0m\u001b[1;32m   1434\u001b[0m     \"\"\"\n\u001b[1;32m   1435\u001b[0m     \u001b[0mCheck\u001b[0m \u001b[0;32mif\u001b[0m \u001b[0man\u001b[0m \u001b[0mobject\u001b[0m \u001b[0;32mis\u001b[0m \u001b[0ma\u001b[0m \u001b[0mpandas\u001b[0m \u001b[0mextension\u001b[0m \u001b[0marray\u001b[0m \u001b[0mtype\u001b[0m\u001b[0;34m.\u001b[0m\u001b[0;34m\u001b[0m\u001b[0;34m\u001b[0m\u001b[0m\n",
            "\u001b[0;31mKeyboardInterrupt\u001b[0m: "
          ]
        }
      ]
    },
    {
      "cell_type": "markdown",
      "source": [],
      "metadata": {
        "id": "tom4O3Tj-HRM"
      }
    },
    {
      "cell_type": "code",
      "source": [
        "# Define the model\n",
        "model = LogisticRegression(max_iter=1_000)\n",
        "\n",
        "# Train the model\n",
        "model.fit(bag_of_words_embeddings_train, small_train.generated)"
      ],
      "metadata": {
        "colab": {
          "base_uri": "https://localhost:8080/",
          "height": 75
        },
        "id": "OcEI6PkYDGdI",
        "outputId": "8a62c7c2-0a2d-4a00-daba-f27c196217a7"
      },
      "execution_count": 39,
      "outputs": [
        {
          "output_type": "execute_result",
          "data": {
            "text/plain": [
              "LogisticRegression(max_iter=1000)"
            ],
            "text/html": [
              "<style>#sk-container-id-1 {color: black;background-color: white;}#sk-container-id-1 pre{padding: 0;}#sk-container-id-1 div.sk-toggleable {background-color: white;}#sk-container-id-1 label.sk-toggleable__label {cursor: pointer;display: block;width: 100%;margin-bottom: 0;padding: 0.3em;box-sizing: border-box;text-align: center;}#sk-container-id-1 label.sk-toggleable__label-arrow:before {content: \"▸\";float: left;margin-right: 0.25em;color: #696969;}#sk-container-id-1 label.sk-toggleable__label-arrow:hover:before {color: black;}#sk-container-id-1 div.sk-estimator:hover label.sk-toggleable__label-arrow:before {color: black;}#sk-container-id-1 div.sk-toggleable__content {max-height: 0;max-width: 0;overflow: hidden;text-align: left;background-color: #f0f8ff;}#sk-container-id-1 div.sk-toggleable__content pre {margin: 0.2em;color: black;border-radius: 0.25em;background-color: #f0f8ff;}#sk-container-id-1 input.sk-toggleable__control:checked~div.sk-toggleable__content {max-height: 200px;max-width: 100%;overflow: auto;}#sk-container-id-1 input.sk-toggleable__control:checked~label.sk-toggleable__label-arrow:before {content: \"▾\";}#sk-container-id-1 div.sk-estimator input.sk-toggleable__control:checked~label.sk-toggleable__label {background-color: #d4ebff;}#sk-container-id-1 div.sk-label input.sk-toggleable__control:checked~label.sk-toggleable__label {background-color: #d4ebff;}#sk-container-id-1 input.sk-hidden--visually {border: 0;clip: rect(1px 1px 1px 1px);clip: rect(1px, 1px, 1px, 1px);height: 1px;margin: -1px;overflow: hidden;padding: 0;position: absolute;width: 1px;}#sk-container-id-1 div.sk-estimator {font-family: monospace;background-color: #f0f8ff;border: 1px dotted black;border-radius: 0.25em;box-sizing: border-box;margin-bottom: 0.5em;}#sk-container-id-1 div.sk-estimator:hover {background-color: #d4ebff;}#sk-container-id-1 div.sk-parallel-item::after {content: \"\";width: 100%;border-bottom: 1px solid gray;flex-grow: 1;}#sk-container-id-1 div.sk-label:hover label.sk-toggleable__label {background-color: #d4ebff;}#sk-container-id-1 div.sk-serial::before {content: \"\";position: absolute;border-left: 1px solid gray;box-sizing: border-box;top: 0;bottom: 0;left: 50%;z-index: 0;}#sk-container-id-1 div.sk-serial {display: flex;flex-direction: column;align-items: center;background-color: white;padding-right: 0.2em;padding-left: 0.2em;position: relative;}#sk-container-id-1 div.sk-item {position: relative;z-index: 1;}#sk-container-id-1 div.sk-parallel {display: flex;align-items: stretch;justify-content: center;background-color: white;position: relative;}#sk-container-id-1 div.sk-item::before, #sk-container-id-1 div.sk-parallel-item::before {content: \"\";position: absolute;border-left: 1px solid gray;box-sizing: border-box;top: 0;bottom: 0;left: 50%;z-index: -1;}#sk-container-id-1 div.sk-parallel-item {display: flex;flex-direction: column;z-index: 1;position: relative;background-color: white;}#sk-container-id-1 div.sk-parallel-item:first-child::after {align-self: flex-end;width: 50%;}#sk-container-id-1 div.sk-parallel-item:last-child::after {align-self: flex-start;width: 50%;}#sk-container-id-1 div.sk-parallel-item:only-child::after {width: 0;}#sk-container-id-1 div.sk-dashed-wrapped {border: 1px dashed gray;margin: 0 0.4em 0.5em 0.4em;box-sizing: border-box;padding-bottom: 0.4em;background-color: white;}#sk-container-id-1 div.sk-label label {font-family: monospace;font-weight: bold;display: inline-block;line-height: 1.2em;}#sk-container-id-1 div.sk-label-container {text-align: center;}#sk-container-id-1 div.sk-container {/* jupyter's `normalize.less` sets `[hidden] { display: none; }` but bootstrap.min.css set `[hidden] { display: none !important; }` so we also need the `!important` here to be able to override the default hidden behavior on the sphinx rendered scikit-learn.org. See: https://github.com/scikit-learn/scikit-learn/issues/21755 */display: inline-block !important;position: relative;}#sk-container-id-1 div.sk-text-repr-fallback {display: none;}</style><div id=\"sk-container-id-1\" class=\"sk-top-container\"><div class=\"sk-text-repr-fallback\"><pre>LogisticRegression(max_iter=1000)</pre><b>In a Jupyter environment, please rerun this cell to show the HTML representation or trust the notebook. <br />On GitHub, the HTML representation is unable to render, please try loading this page with nbviewer.org.</b></div><div class=\"sk-container\" hidden><div class=\"sk-item\"><div class=\"sk-estimator sk-toggleable\"><input class=\"sk-toggleable__control sk-hidden--visually\" id=\"sk-estimator-id-1\" type=\"checkbox\" checked><label for=\"sk-estimator-id-1\" class=\"sk-toggleable__label sk-toggleable__label-arrow\">LogisticRegression</label><div class=\"sk-toggleable__content\"><pre>LogisticRegression(max_iter=1000)</pre></div></div></div></div></div>"
            ]
          },
          "metadata": {},
          "execution_count": 39
        }
      ]
    },
    {
      "cell_type": "code",
      "source": [
        "# Note that the metric used by the `score` method varies from model to\n",
        "# model. For the logistic regression model this metric is accuracy.\n",
        "test_acc = model.score(bag_of_words_embeddings_test, small_test.generated)\n",
        "print(f'The model achieved a {100 * test_acc:.2f}% accuracy '\n",
        "      f'on the test set.')"
      ],
      "metadata": {
        "colab": {
          "base_uri": "https://localhost:8080/"
        },
        "id": "w4zxygEgEQrN",
        "outputId": "83a06728-4001-4106-9176-5fc7216fa50e"
      },
      "execution_count": 40,
      "outputs": [
        {
          "output_type": "stream",
          "name": "stdout",
          "text": [
            "The model achieved a 96.00% accuracy on the test set.\n"
          ]
        }
      ]
    },
    {
      "cell_type": "code",
      "source": [
        "predictions = model.predict(bag_of_words_embeddings_test)\n",
        "test_balanced_acc = balanced_accuracy_score(small_test.generated, predictions)\n",
        "print(f'The model achieved a {100 * test_balanced_acc:.2f}% balanced '\n",
        "      f'accuracy on the test set.')"
      ],
      "metadata": {
        "colab": {
          "base_uri": "https://localhost:8080/"
        },
        "id": "dODnxk9jHZYT",
        "outputId": "8181f00c-d40a-411e-8012-2e1e49dfe2d1"
      },
      "execution_count": 41,
      "outputs": [
        {
          "output_type": "stream",
          "name": "stdout",
          "text": [
            "The model achieved a 96.26% balanced accuracy on the test set.\n"
          ]
        }
      ]
    },
    {
      "cell_type": "code",
      "source": [
        "def test_vocabulary(corpus1: List[str], corpus2: List[str]) -> List[str]:\n",
        "    '''Find the percentage of words seen inside corpus2 that are also inside corpus2.\n",
        "\n",
        "    Args:\n",
        "        list of str:\n",
        "            The corpus1, being a list of documents.\n",
        "            The corpus2, being a list of documents.\n",
        "\n",
        "    Returns:\n",
        "        float:\n",
        "            percentage of words seen in corpus2 that are also in corpus1.\n",
        "    '''\n",
        "    # We simplify things here and remove all non-characters from the documents.\n",
        "    corpus1 = [re.sub('^[ a-zA-Z]', '', doc) for doc in corpus1]\n",
        "    corpus2 = [re.sub('^[ a-zA-Z]', '', doc) for doc in corpus2]\n",
        "    #We next split every document into words by spaces, and collect these\n",
        "    all_words1 = [word for doc in corpus1 for word in doc.split()]\n",
        "    all_words2 = [word for doc in corpus2 for word in doc.split()]\n",
        "    # We then get all the unique words by converting the list to a `set` and back\n",
        "    unique_words1 = list(set(all_words1))\n",
        "    unique_words2 = list(set(all_words2))\n",
        "\n",
        "    same_words = list(set(unique_words1).intersection(unique_words2))\n",
        "\n",
        "    percentage = (len(same_words)/len(unique_words2))*100\n",
        "\n",
        "\n",
        "    # Return the percentage\n",
        "    return percentage\n",
        "\n"
      ],
      "metadata": {
        "id": "AeqqSDOBi4Uf"
      },
      "execution_count": 42,
      "outputs": []
    },
    {
      "cell_type": "code",
      "source": [
        "similarity = test_vocabulary(small_train['text'],small_test['text'])"
      ],
      "metadata": {
        "id": "ATb-g-8ygQIm"
      },
      "execution_count": 43,
      "outputs": []
    },
    {
      "cell_type": "code",
      "source": [
        "print(f'{similarity:.2f}% of the words in the corpus for the small test set were seen in the small train set.')\n"
      ],
      "metadata": {
        "colab": {
          "base_uri": "https://localhost:8080/"
        },
        "id": "AOL77sVWiXSE",
        "outputId": "2b086503-d957-4b37-f2a1-c808e359f8ef"
      },
      "execution_count": 44,
      "outputs": [
        {
          "output_type": "stream",
          "name": "stdout",
          "text": [
            "73.11% of the words in the corpus for the small test set were seen in the small train set.\n"
          ]
        }
      ]
    },
    {
      "cell_type": "markdown",
      "source": [
        "These results seem dubious in nature as current leading models in this domain are not nearly as accurate (***SEEE REFFFFFFF!!!!!!!***). I hypothesise that the model is only looking at the last digit as all words are seem n the training data, but ony approximately 75% are seen otherwise."
      ],
      "metadata": {
        "id": "bnsQzrHsNm6S"
      }
    },
    {
      "cell_type": "code",
      "source": [
        "model.coef_[0][-1]\n"
      ],
      "metadata": {
        "colab": {
          "base_uri": "https://localhost:8080/"
        },
        "id": "pSOrFsIrOLtf",
        "outputId": "8fa05d72-76a4-4e0e-b1a6-cca6e4a46e86"
      },
      "execution_count": 56,
      "outputs": [
        {
          "output_type": "execute_result",
          "data": {
            "text/plain": [
              "-0.019063711354282906"
            ]
          },
          "metadata": {},
          "execution_count": 56
        }
      ]
    },
    {
      "cell_type": "code",
      "source": [
        "print(str(model.coef_[0][1])+' '+ str(model.coef_[0][4])+' ' +str(model.coef_[0][5])+' '+ str(model.coef_[0][10]))"
      ],
      "metadata": {
        "colab": {
          "base_uri": "https://localhost:8080/"
        },
        "id": "3g3NAldOPCoC",
        "outputId": "86259b62-cc8c-4803-b627-2b90a8349a34"
      },
      "execution_count": 60,
      "outputs": [
        {
          "output_type": "stream",
          "name": "stdout",
          "text": [
            "0.0 0.0 0.0  0.0\n"
          ]
        }
      ]
    },
    {
      "cell_type": "markdown",
      "source": [
        "The last coefficient is non-zero and many of the other seem to be zero. Lets modify the functions to handel new data differrently."
      ],
      "metadata": {
        "id": "nNLIeWR_PEDq"
      }
    },
    {
      "cell_type": "code",
      "source": [
        "def improved_one_hot_encode2(word: str, vocabulary: List[str]) -> np.ndarray:\n",
        "    '''One-hot encode a word.\n",
        "\n",
        "    This can also deal with words not in the vocabulary, by setting it to a random word.\n",
        "\n",
        "    Args:\n",
        "        word (str):\n",
        "            The word to be encoded.\n",
        "        vocabulary (list):\n",
        "            List of unique words in the corpus.\n",
        "\n",
        "    Returns:\n",
        "        NumPy array:\n",
        "            The resulting one-hot encoding.\n",
        "    '''\n",
        "\n",
        "    # Return the embedding, whether it came from the \"try block\"\n",
        "    # or the \"except block\"\n",
        "    try:\n",
        "        # We embed using our previous function, and add a zero at the end, showing it IS in the vocabulary\n",
        "        embedding = one_hot_encode(word,vocabulary)\n",
        "\n",
        "    except ValueError:\n",
        "        #when the word is not in our vocabulary.\n",
        "        index = random.randint(0,len(vocabulary)-1)\n",
        "        embedding = np.zeros(len(vocabulary))\n",
        "        embedding[index] = 1\n",
        "    return embedding\n",
        "    return embedding\n",
        "\n",
        "embedding = improved_one_hot_encode2('segesgrggrhdhttfhffth',vocabulary)\n",
        "assert embedding.sum() == 1\n",
        "embedding"
      ],
      "metadata": {
        "colab": {
          "base_uri": "https://localhost:8080/"
        },
        "id": "yCYcsNGjPn3c",
        "outputId": "d1575ef2-e18b-4d8e-a6ec-0ad8a3ed63b2"
      },
      "execution_count": 25,
      "outputs": [
        {
          "output_type": "execute_result",
          "data": {
            "text/plain": [
              "array([0., 0., 0., ..., 0., 0., 0.])"
            ]
          },
          "metadata": {},
          "execution_count": 25
        }
      ]
    },
    {
      "cell_type": "code",
      "source": [
        "def bag_of_words_embed2(doc: str) -> np.ndarray:\n",
        "    '''Embed a document using the bag-of-words representation.\n",
        "\n",
        "    Args:\n",
        "        doc (str):\n",
        "            The document we want to embed.\n",
        "\n",
        "    Returns:\n",
        "        NumPy array:\n",
        "            The resulting bag-of-words embedding.\n",
        "    '''\n",
        "    # We simplify things here and remove all non-characters from the document,\n",
        "    # just like we did when we created the vocabulary\n",
        "    doc = re.sub('[^a-zA-Z ]', '', doc)\n",
        "\n",
        "    # Split up the document into a list of words\n",
        "    words = doc.split()\n",
        "\n",
        "    # Embed all the words, resulting in a list of NumPy arrays\n",
        "    embeddings = [improved_one_hot_encode2(word,vocabulary) for word in words]\n",
        "\n",
        "    # Sum up all the one-hot encoded vectors in `embeddings`\n",
        "    bag_of_words_embedding = np.sum(embeddings, axis=0)\n",
        "\n",
        "    # Return the embedding\n",
        "    return bag_of_words_embedding\n",
        "\n",
        "\n",
        "embedding = bag_of_words_embed2('This is a test')\n",
        "assert embedding.sum() == 4\n",
        "embedding"
      ],
      "metadata": {
        "colab": {
          "base_uri": "https://localhost:8080/"
        },
        "id": "9GiEdztnQgNu",
        "outputId": "9607136a-329a-49ed-bf51-666f7d67cb5f"
      },
      "execution_count": 26,
      "outputs": [
        {
          "output_type": "execute_result",
          "data": {
            "text/plain": [
              "array([0., 0., 0., ..., 0., 0., 0.])"
            ]
          },
          "metadata": {},
          "execution_count": 26
        }
      ]
    },
    {
      "cell_type": "code",
      "source": [
        "bag_of_words_embeddings_test2 = np.stack(small_test.text.progress_apply(bag_of_words_embed2))\n",
        "bag_of_words_embeddings_train2 = np.stack(small_train.text.progress_apply(bag_of_words_embed2))"
      ],
      "metadata": {
        "colab": {
          "base_uri": "https://localhost:8080/",
          "height": 81,
          "referenced_widgets": [
            "37e670716db74b4b8b1d61eb70500bf2",
            "c93554dce7634093aafccd8d21a00691",
            "c2384cf6b66c4ce58949ac568d05ee36",
            "41dc98ea4a1347379a6a0439fb5a56ae",
            "afcd41cf46bf40c69caa9fd0ece090d0",
            "489fa883699b4a41a76dcecf50959b5c",
            "9ccf8a7313844ab09e78a42d4adb469c",
            "8d5329a30127480fa09f5bc11c3c9dee",
            "c377e4ff83324ba4b5f5223f02bb850d",
            "f4568a01e20349e387f02ce61173d56f",
            "2583599f84e14501ade0b52f3e4e0904",
            "adeed4eabb47459399f8a057a67a046d",
            "1166d3691f1c448aa19161e10ff7c18a",
            "39e7581d255e4c0cb421e038d2d73e54",
            "7aa9072a8c804409b9fe5e1bfdd45404",
            "ee2a735d5b5349ca973727a0b26c8c7e",
            "d370c409f5a44371ad5b1176cfb20b79",
            "53360fa6e3e14436aad9e2aefaf90ccf",
            "aefba9ac1c0d445580ca47f05af3d0c7",
            "2151fbc036ad4df39392ac54fa5c078b",
            "b3e29eb62164438d8bf5f89707e5acb5",
            "0ef4460243cd4b7c847566a700da5d88"
          ]
        },
        "id": "xmP_Du2RRQYb",
        "outputId": "c41eae56-423e-4240-99e6-66cd70745cd1"
      },
      "execution_count": 66,
      "outputs": [
        {
          "output_type": "display_data",
          "data": {
            "text/plain": [
              "  0%|          | 0/100 [00:00<?, ?it/s]"
            ],
            "application/vnd.jupyter.widget-view+json": {
              "version_major": 2,
              "version_minor": 0,
              "model_id": "37e670716db74b4b8b1d61eb70500bf2"
            }
          },
          "metadata": {}
        },
        {
          "output_type": "display_data",
          "data": {
            "text/plain": [
              "  0%|          | 0/500 [00:00<?, ?it/s]"
            ],
            "application/vnd.jupyter.widget-view+json": {
              "version_major": 2,
              "version_minor": 0,
              "model_id": "adeed4eabb47459399f8a057a67a046d"
            }
          },
          "metadata": {}
        }
      ]
    },
    {
      "cell_type": "code",
      "source": [
        "\n",
        "# Define the model\n",
        "model = LogisticRegression(max_iter=1_000)\n",
        "\n",
        "# Train the model\n",
        "model.fit(bag_of_words_embeddings_train2, small_train.generated)\n",
        "\n",
        "# Note that the metric used by the `score` method varies from model to\n",
        "# model. For the logistic regression model this metric is accuracy.\n",
        "test_acc2 = model.score(bag_of_words_embeddings_test2, small_test.generated)\n",
        "print(f'The model achieved a {100 * test_acc2:.2f}% accuracy '\n",
        "      f'on the test set.')\n",
        "\n",
        "predictions2 = model.predict(bag_of_words_embeddings_test2)\n",
        "test_balanced_acc2 = balanced_accuracy_score(small_test.generated, predictions2)\n",
        "print(f'The model achieved a {100 * test_balanced_acc2:.2f}% balanced '\n",
        "      f'accuracy on the test set.')"
      ],
      "metadata": {
        "colab": {
          "base_uri": "https://localhost:8080/"
        },
        "id": "IpqEgv1uQPT-",
        "outputId": "3180b9c9-fdbc-486c-c4f7-a82ad3451deb"
      },
      "execution_count": 67,
      "outputs": [
        {
          "output_type": "stream",
          "name": "stdout",
          "text": [
            "The model achieved a 94.00% accuracy on the test set.\n",
            "The model achieved a 94.74% balanced accuracy on the test set.\n"
          ]
        }
      ]
    },
    {
      "cell_type": "code",
      "source": [
        "medium_train = train.iloc[:1000]\n",
        "medium_test = test.iloc[:500]\n",
        "bag_of_words_embeddings_test3 = np.stack(medium_test.text.progress_apply(bag_of_words_embed2))\n",
        "bag_of_words_embeddings_train3 = np.stack(medium_train.text.progress_apply(bag_of_words_embed2))\n",
        "\n",
        "# Define the model\n",
        "model = LogisticRegression(max_iter=1_000)\n",
        "\n",
        "# Train the model\n",
        "model.fit(bag_of_words_embeddings_train3, medium_train.generated)\n",
        "\n",
        "# Note that the metric used by the `score` method varies from model to\n",
        "# model. For the logistic regression model this metric is accuracy.\n",
        "test_acc3 = model.score(bag_of_words_embeddings_test3, medium_test.generated)\n"
      ],
      "metadata": {
        "colab": {
          "base_uri": "https://localhost:8080/",
          "height": 81,
          "referenced_widgets": [
            "3b6ed7b1cf9e47399106d69d9b772c88",
            "b47f7c97cfab4081a054eae0957bba4c",
            "486d1add7ee34f67ae4d6ee9bd489002",
            "86007b5571464f5182f763d3a1d9399d",
            "6b429fece1914b95b51ab091d1eead56",
            "c303beb5d1fa47ea977d5b294763f940",
            "54c996b132f54c9cb0d7aec33c5f5fbd",
            "5f55c7f525f647edb8a08d6893d293f6",
            "a6c21b8e3d704e6e89ef26a5900502ea",
            "0ee42b9ca5b448ef9d2cf538a4199198",
            "548632dbcafc4ad1b6fdd7a9d1ea639b",
            "c7351dfb25ae4fa389b5717f272deaba",
            "700a2c3ca1e24b0dbd80675d05031cad",
            "a51ea3ac8e32480397f7267d1183cbbc",
            "3c84d7efa5b54fc897133b69fdd8140a",
            "1cfd637011d14d618deda87be9d1f672",
            "8c9d13dd80514c34850ca6223c08d482",
            "3cba1b0eb92540e0b14fe24f1fce8087",
            "6061bec24db04d77b6e6d971d7fdf68f",
            "f41fab6a93e549f79e2a5952ce73f2a4",
            "e3f7cbff300c4a28b366b48e4becfbb5",
            "4bd62a680cf74da0b8570c3fa909511f"
          ]
        },
        "id": "xRUvLXqxf6ZO",
        "outputId": "756a9fec-3715-4523-b95f-2b29d04f853d"
      },
      "execution_count": 31,
      "outputs": [
        {
          "output_type": "display_data",
          "data": {
            "text/plain": [
              "  0%|          | 0/500 [00:00<?, ?it/s]"
            ],
            "application/vnd.jupyter.widget-view+json": {
              "version_major": 2,
              "version_minor": 0,
              "model_id": "3b6ed7b1cf9e47399106d69d9b772c88"
            }
          },
          "metadata": {}
        },
        {
          "output_type": "display_data",
          "data": {
            "text/plain": [
              "  0%|          | 0/1000 [00:00<?, ?it/s]"
            ],
            "application/vnd.jupyter.widget-view+json": {
              "version_major": 2,
              "version_minor": 0,
              "model_id": "c7351dfb25ae4fa389b5717f272deaba"
            }
          },
          "metadata": {}
        }
      ]
    },
    {
      "cell_type": "code",
      "source": [
        "print(f'The model achieved a {100 * test_acc3:.2f}% accuracy '\n",
        "      f'on the test set.')\n",
        "\n",
        "predictions3 = model.predict(bag_of_words_embeddings_test3)\n",
        "test_balanced_acc3 = balanced_accuracy_score(medium_test.generated, predictions3)\n",
        "print(f'The model achieved a {100 * test_balanced_acc3:.2f}% balanced '\n",
        "      f'accuracy on the test set.')"
      ],
      "metadata": {
        "colab": {
          "base_uri": "https://localhost:8080/"
        },
        "id": "8XnZUR3YhNcf",
        "outputId": "7e467184-7be8-4b20-f38e-0f3f74ccc12b"
      },
      "execution_count": 30,
      "outputs": [
        {
          "output_type": "stream",
          "name": "stdout",
          "text": [
            "The model achieved a 97.50% accuracy on the test set.\n",
            "The model achieved a 97.73% balanced accuracy on the test set.\n"
          ]
        }
      ]
    },
    {
      "cell_type": "code",
      "source": [
        "# Delete the bag-of-words embeddings again, to save some memory\n",
        "del bag_of_words_embeddings_train, bag_of_words_embeddings_test, model\n",
        "gc.collect()"
      ],
      "metadata": {
        "colab": {
          "base_uri": "https://localhost:8080/"
        },
        "id": "ymcNEr28pre8",
        "outputId": "aa6191d4-ba53-4c26-c1c3-70110ad34ac4"
      },
      "execution_count": 68,
      "outputs": [
        {
          "output_type": "execute_result",
          "data": {
            "text/plain": [
              "6924"
            ]
          },
          "metadata": {},
          "execution_count": 68
        }
      ]
    },
    {
      "cell_type": "markdown",
      "source": [
        "# TF-IDF Representation\n",
        "We will now try to embed the documents using the TF-IDF representation and see if we can improve upon our previous classification score.\n",
        "\n",
        "Rather than coding this from scratch, we will employ the `TfidfVectorizer` from the `sklearn` library.\n",
        "\n",
        "The following function will be using that vectorizer to compute our vocabulary and all the document frequencies."
      ],
      "metadata": {
        "id": "jpn7rmagqFom"
      }
    },
    {
      "cell_type": "code",
      "source": [
        "def fit_tfidf(corpus: List[str], **tfidf_params) -> TfidfVectorizer:\n",
        "    '''Fit a TF-IDF model on a corpus.\n",
        "\n",
        "    This computes the vocabulary and stores all the\n",
        "    document frequencies in the class.\n",
        "\n",
        "    Args:\n",
        "        corpus (list of str):\n",
        "            The corpus on which the TF-IDF model will\n",
        "            be fitted.\n",
        "        **tfidf_params:\n",
        "            Extra keyword parameters to include in the TF-IDF model.\n",
        "\n",
        "    Returns:\n",
        "        TfidfVectorizer:\n",
        "            The fitted TF-IDF model.\n",
        "    '''\n",
        "\n",
        "   # Initialise the class computing the TF-IDF embeddings\n",
        "    tfidf = TfidfVectorizer(**tfidf_params)\n",
        "\n",
        "    # Use the `fit` method of `tfidf` on the corpus, which\n",
        "    # computes the vocabulary and all the document\n",
        "    # frequencies from the training dataset, and stores\n",
        "    # them.\n",
        "    tfidf = tfidf.fit(corpus)\n",
        "\n",
        "    # Return the fitted TF-IDF model\n",
        "    return tfidf\n",
        "\n",
        "\n",
        "\n",
        "tfidf = fit_tfidf(train.text)\n",
        "tfidf"
      ],
      "metadata": {
        "colab": {
          "base_uri": "https://localhost:8080/",
          "height": 75
        },
        "id": "K1gFKmccqaga",
        "outputId": "21a13119-30d4-4a92-a4a9-deff5b196be7"
      },
      "execution_count": 69,
      "outputs": [
        {
          "output_type": "execute_result",
          "data": {
            "text/plain": [
              "TfidfVectorizer()"
            ],
            "text/html": [
              "<style>#sk-container-id-3 {color: black;background-color: white;}#sk-container-id-3 pre{padding: 0;}#sk-container-id-3 div.sk-toggleable {background-color: white;}#sk-container-id-3 label.sk-toggleable__label {cursor: pointer;display: block;width: 100%;margin-bottom: 0;padding: 0.3em;box-sizing: border-box;text-align: center;}#sk-container-id-3 label.sk-toggleable__label-arrow:before {content: \"▸\";float: left;margin-right: 0.25em;color: #696969;}#sk-container-id-3 label.sk-toggleable__label-arrow:hover:before {color: black;}#sk-container-id-3 div.sk-estimator:hover label.sk-toggleable__label-arrow:before {color: black;}#sk-container-id-3 div.sk-toggleable__content {max-height: 0;max-width: 0;overflow: hidden;text-align: left;background-color: #f0f8ff;}#sk-container-id-3 div.sk-toggleable__content pre {margin: 0.2em;color: black;border-radius: 0.25em;background-color: #f0f8ff;}#sk-container-id-3 input.sk-toggleable__control:checked~div.sk-toggleable__content {max-height: 200px;max-width: 100%;overflow: auto;}#sk-container-id-3 input.sk-toggleable__control:checked~label.sk-toggleable__label-arrow:before {content: \"▾\";}#sk-container-id-3 div.sk-estimator input.sk-toggleable__control:checked~label.sk-toggleable__label {background-color: #d4ebff;}#sk-container-id-3 div.sk-label input.sk-toggleable__control:checked~label.sk-toggleable__label {background-color: #d4ebff;}#sk-container-id-3 input.sk-hidden--visually {border: 0;clip: rect(1px 1px 1px 1px);clip: rect(1px, 1px, 1px, 1px);height: 1px;margin: -1px;overflow: hidden;padding: 0;position: absolute;width: 1px;}#sk-container-id-3 div.sk-estimator {font-family: monospace;background-color: #f0f8ff;border: 1px dotted black;border-radius: 0.25em;box-sizing: border-box;margin-bottom: 0.5em;}#sk-container-id-3 div.sk-estimator:hover {background-color: #d4ebff;}#sk-container-id-3 div.sk-parallel-item::after {content: \"\";width: 100%;border-bottom: 1px solid gray;flex-grow: 1;}#sk-container-id-3 div.sk-label:hover label.sk-toggleable__label {background-color: #d4ebff;}#sk-container-id-3 div.sk-serial::before {content: \"\";position: absolute;border-left: 1px solid gray;box-sizing: border-box;top: 0;bottom: 0;left: 50%;z-index: 0;}#sk-container-id-3 div.sk-serial {display: flex;flex-direction: column;align-items: center;background-color: white;padding-right: 0.2em;padding-left: 0.2em;position: relative;}#sk-container-id-3 div.sk-item {position: relative;z-index: 1;}#sk-container-id-3 div.sk-parallel {display: flex;align-items: stretch;justify-content: center;background-color: white;position: relative;}#sk-container-id-3 div.sk-item::before, #sk-container-id-3 div.sk-parallel-item::before {content: \"\";position: absolute;border-left: 1px solid gray;box-sizing: border-box;top: 0;bottom: 0;left: 50%;z-index: -1;}#sk-container-id-3 div.sk-parallel-item {display: flex;flex-direction: column;z-index: 1;position: relative;background-color: white;}#sk-container-id-3 div.sk-parallel-item:first-child::after {align-self: flex-end;width: 50%;}#sk-container-id-3 div.sk-parallel-item:last-child::after {align-self: flex-start;width: 50%;}#sk-container-id-3 div.sk-parallel-item:only-child::after {width: 0;}#sk-container-id-3 div.sk-dashed-wrapped {border: 1px dashed gray;margin: 0 0.4em 0.5em 0.4em;box-sizing: border-box;padding-bottom: 0.4em;background-color: white;}#sk-container-id-3 div.sk-label label {font-family: monospace;font-weight: bold;display: inline-block;line-height: 1.2em;}#sk-container-id-3 div.sk-label-container {text-align: center;}#sk-container-id-3 div.sk-container {/* jupyter's `normalize.less` sets `[hidden] { display: none; }` but bootstrap.min.css set `[hidden] { display: none !important; }` so we also need the `!important` here to be able to override the default hidden behavior on the sphinx rendered scikit-learn.org. See: https://github.com/scikit-learn/scikit-learn/issues/21755 */display: inline-block !important;position: relative;}#sk-container-id-3 div.sk-text-repr-fallback {display: none;}</style><div id=\"sk-container-id-3\" class=\"sk-top-container\"><div class=\"sk-text-repr-fallback\"><pre>TfidfVectorizer()</pre><b>In a Jupyter environment, please rerun this cell to show the HTML representation or trust the notebook. <br />On GitHub, the HTML representation is unable to render, please try loading this page with nbviewer.org.</b></div><div class=\"sk-container\" hidden><div class=\"sk-item\"><div class=\"sk-estimator sk-toggleable\"><input class=\"sk-toggleable__control sk-hidden--visually\" id=\"sk-estimator-id-3\" type=\"checkbox\" checked><label for=\"sk-estimator-id-3\" class=\"sk-toggleable__label sk-toggleable__label-arrow\">TfidfVectorizer</label><div class=\"sk-toggleable__content\"><pre>TfidfVectorizer()</pre></div></div></div></div></div>"
            ]
          },
          "metadata": {},
          "execution_count": 69
        }
      ]
    },
    {
      "cell_type": "markdown",
      "source": [
        "That was much quicker! Next, just like with bag-of-word, we embed our corpus and train a logistic regression model on the embeddings. We will be using our new fitted `TfidfVectorizer` to compute the embeddings this time."
      ],
      "metadata": {
        "id": "9diK8QuYqlYB"
      }
    },
    {
      "cell_type": "code",
      "source": [
        "def tfidf_train_model(tfidf_model: TfidfVectorizer,\n",
        "                      train_dataset: pd.DataFrame,\n",
        "                      test_dataset: pd.DataFrame) -> LogisticRegression:\n",
        "    '''Trains a logistic regression model on a TF-IDF embedded corpus.\n",
        "\n",
        "    Args:\n",
        "        tfidf_model (TfidfVectorizer):\n",
        "            The fitted TF-IDF model.\n",
        "        train_dataset (Pandas DataFrame):\n",
        "            The dataset on which to train the logistic regression\n",
        "            model. Must have a 'text' and 'generated' column.\n",
        "        test_dataset (Pandas DataFrame):\n",
        "            The dataset on which to evaluate the logistic regression\n",
        "            model. Must have a 'text' and 'generated' column.\n",
        "\n",
        "    Returns:\n",
        "        LogisticRegression:\n",
        "            The trained model.\n",
        "    '''\n",
        "       # Embed the training dataset using the TF-IDF representation\n",
        "    tfidf_embeddings_train = tfidf_model.transform(train_dataset['text'])\n",
        "\n",
        "    # Embed the validation dataset using the TF-IDF representation\n",
        "    tfidf_embeddings_test = tfidf_model.transform(test_dataset['text'])\n",
        "\n",
        "    # Define the model\n",
        "    model = LogisticRegression(max_iter=1000)\n",
        "\n",
        "    # Train the model\n",
        "    model.fit(tfidf_embeddings_train, train_dataset['generated'])\n",
        "\n",
        "    # Evaluate the model on the validation set.\n",
        "    predictions = model.predict(tfidf_embeddings_test)\n",
        "    test_balanced_acc = balanced_accuracy_score(test_dataset['generated'], predictions)\n",
        "    print(f'The model achieved a {100 * test_balanced_acc:.2f}% '\n",
        "          f'balanced accuracy on the test set.')\n",
        "\n",
        "    # Return the trained model\n",
        "    return model\n",
        "\n",
        "model = tfidf_train_model(tfidf_model=tfidf, train_dataset=train, test_dataset=test)"
      ],
      "metadata": {
        "colab": {
          "base_uri": "https://localhost:8080/"
        },
        "id": "Y5rJO0Lzq3cW",
        "outputId": "5bbe7d86-dffb-4603-adb1-382166d93f26"
      },
      "execution_count": 70,
      "outputs": [
        {
          "output_type": "stream",
          "name": "stdout",
          "text": [
            "The model achieved a 98.70% balanced accuracy on the test set.\n"
          ]
        }
      ]
    },
    {
      "cell_type": "markdown",
      "source": [
        "Even better results, in a fraction of the time. For bag of words, we had to look at a small problem to even run the embedding in a reasonable time. Embedding the whole train set was going to take over 24 hours, which is over the maximum google colab allows for wuthout a subscription service."
      ],
      "metadata": {
        "id": "y85-kWAvrZtz"
      }
    },
    {
      "cell_type": "markdown",
      "source": [
        "By default the `TfidfVectorizer` normalises the embeddings. In this scenario this is counterproductive, let us explore the effect of removing this normalisation."
      ],
      "metadata": {
        "id": "nmDjf0PUsZIn"
      }
    },
    {
      "cell_type": "code",
      "source": [
        "improved_tfidf = fit_tfidf(train.text, norm=None)\n",
        "improved_model = tfidf_train_model(tfidf_model=improved_tfidf,\n",
        "                                   train_dataset=train,\n",
        "                                   test_dataset=test)"
      ],
      "metadata": {
        "colab": {
          "base_uri": "https://localhost:8080/"
        },
        "id": "V5Artf0BsDhf",
        "outputId": "5dc6654d-0035-422e-d760-7a3f0448cacb"
      },
      "execution_count": 71,
      "outputs": [
        {
          "output_type": "stream",
          "name": "stdout",
          "text": [
            "The model achieved a 99.59% balanced accuracy on the test set.\n"
          ]
        }
      ]
    },
    {
      "cell_type": "markdown",
      "source": [
        "These results seem too good to be true. Let us ask chatGPT to write us a sample 275 word essay to predict, and some text generated by me."
      ],
      "metadata": {
        "id": "FxYJy7laSNCW"
      }
    },
    {
      "cell_type": "code",
      "source": [
        "sample_essay = {'text':[\"In the face of escalating environmental challenges, the need for environmental education has become increasingly imperative in the 21st century. This essay explores the significance of environmental education in fostering a sustainable future. Environmental education plays a pivotal role in raising awareness about pressing ecological issues. As global concerns such as climate change, deforestation, and biodiversity loss continue to escalate, it is essential for individuals to comprehend the intricate relationships between human activities and the environment. Environmental education provides the knowledge and tools necessary for people to understand the consequences of their actions and empowers them to make informed, sustainable choices.Beyond awareness, environmental education cultivates a sense of responsibility and stewardship toward the planet. By instilling a deep appreciation for nature and its interconnected systems, individuals are more likely to adopt eco-friendly practices in their daily lives. This can range from simple actions like reducing waste and conserving energy to advocating for policy changes that promote environmental sustainability. Furthermore, environmental education equips individuals with the skills needed to address complex environmental challenges. As the world grapples with issues like resource depletion and pollution, there is a growing demand for innovative solutions. Environmental education fosters critical thinking, problem-solving, and a multidisciplinary approach to address these challenges, preparing individuals to contribute meaningfully to the development and implementation of sustainable practices. In conclusion, environmental education is a linchpin in creating a sustainable and harmonious future. By imparting knowledge, fostering a sense of responsibility, and nurturing the skills required to tackle environmental issues, it empowers individuals to become active participants in the ongoing effort to preserve and protect our planet for generations to come.\"\n",
        ",\"In the contemporary digital landscape, social media has become an integral part of daily life, transforming the way individuals connect and communicate. This essay delves into the multifaceted impact of social media on mental health, exploring both its positive and negative implications. While social media provides a platform for self-expression, community building, and information sharing, it also raises concerns about issues like cyberbullying, social comparison, and the potential for addiction. Striking a balance between the benefits and drawbacks of social media is essential for promoting a healthy online environment and safeguarding mental well-being.\"\n",
        ",\"The integration of artificial intelligence (AI) into healthcare has ushered in a new era of medical innovation and efficiency. This essay examines the advantages and challenges associated with the use of AI in healthcare. On the positive side, AI facilitates faster and more accurate diagnostics, personalized treatment plans, and the optimization of administrative processes. However, concerns regarding data privacy, ethical considerations, and the potential for job displacement underscore the need for careful regulation and ethical guidelines in the ongoing development and implementation of AI in the healthcare sector.\"\n",
        ",\"Climate change is a pressing global issue with far-reaching consequences, particularly for vulnerable communities around the world. This essay explores the disproportionate impact of climate change on low-income countries and marginalized populations. Rising sea levels, extreme weather events, and food insecurity are among the challenges exacerbating existing social inequalities. Addressing the global climate crisis requires collaborative efforts, international cooperation, and a commitment to sustainable practices to ensure the well-being and resilience of communities most affected by the changing climate.\"\n",
        ",\"From our literature review, it was found that there have several projects that set out to solve and research similar issues as ours however often not in the same context of golf. Our literature review covers the different methods we have used for image segmentation, both supervised and unsupervised, while also looking at the use of an AI path-finding system.\"\n",
        ",\"K-means clustering is a supervised machine learning algorithm used for grouping similar data points together with one predetermined hyper-parameter K. In the context of processing images of golf courses, K-means clustering can be used to group similar pixels together based on the pixel's RGB value, segmenting the image into distinct regions. Each pixel in an image is treated as an individual data point containing 3 values in a high-dimensional feature space of all the pixels. In this feature space, the distance between two pixels is defined as the euclidean distance between their associated RGB values. The K-means algorithm then randomly initialises K cluster centroids in the feature space and assigns each pixel to the nearest centroid based on minimising this euclidean distance. It then updates the centroid position, setting it to the mean of the positions of all the pixels assigned to that centroid. The algorithm repeats this process iteratively until the centroids no longer change or a maximum number of iterations is reached. It should be noted that the only information used for this clustering is the colours of the pixels, there is no use of context around each pixel or even the position of the pixel in the image. This model is designed to be a benchmark for future models which intend to use this additional context to improve the accuracy and repeatability of the segmentation.\"\n",
        ",\"In this section we explore different frameworks and methodologies to construct models on time series data for the purpose of accurate forecasting. We have already seen the generality of the VAR model as shown by lemma as a result of Wold's decomposition theorem. This makes the VAR model an attractive, accurate choice when trying to map the temporal relationships between variables. However to create a VAR model which has been fully parameterised we are required to estimate all the AR coefficients. For a VAR(p) model of dimension K this is estimates. This becomes computationally difficult for many real world applications due to the large number of parameters often used even a medium-sized dataset can cause issues. It is widely believed that in a VAR(p) model it would be unreasonable to expect all features to have a causal relationship with all other features at all lags.\"\n",
        ",\"When we do not receive hole cards containing a pair, there are 94 ways of receiving three of a kind on the flop. To calculate this we fix two of the cards in the flop to be the cards we need to make a three of a kind. For example if our hand is we fix two of the cards to be jacks. This leaves us with 47 cards which can be the other card in the flop (as we must exclude the other card left which would make four of a kind, which in our example would be the fourth jack). As we have two cards in our hand we must multiply this result by 2 to account for both, giving us 94 ways of receiving a three of a kind on the flop. \"]\n",
        ",'generated':[1,1,1,1,0,0,0,0]}"
      ],
      "metadata": {
        "id": "sgefn0O5SYV0"
      },
      "execution_count": 12,
      "outputs": []
    },
    {
      "cell_type": "code",
      "source": [
        "improved_tfidf = fit_tfidf(train.text, norm=None)\n",
        "improved_model = tfidf_train_model(tfidf_model=improved_tfidf,\n",
        "                                   train_dataset=train,\n",
        "                                   test_dataset=sample_essay)"
      ],
      "metadata": {
        "colab": {
          "base_uri": "https://localhost:8080/"
        },
        "id": "z2uGJVZCTFTX",
        "outputId": "7f3546b4-afc5-465a-a5d4-32a39c51831b"
      },
      "execution_count": 100,
      "outputs": [
        {
          "output_type": "stream",
          "name": "stdout",
          "text": [
            "The model achieved a 50.00% balanced accuracy on the test set.\n"
          ]
        }
      ]
    },
    {
      "cell_type": "markdown",
      "source": [
        "50% balanced accuracy... the classifier predicts only one class! Clearly ...."
      ],
      "metadata": {
        "id": "Qa97kFBxYd73"
      }
    },
    {
      "cell_type": "markdown",
      "source": [
        "# Word2Vec Representation\n",
        "\n",
        "Word2Vec is an algorithm developed in 2013 (Mikolov, T., Chen, K., Corrado, G. and Dean, J., 2013. Efficient estimation of word representations in vector space. arXiv preprint arXiv:1301.3781.). It makes use of a neural network to learn word associtions from a corpus of text.\n",
        "\n",
        "The word2vec algorithm uses a neural network model to learn word associations from a large corpus of text.\n",
        "\n",
        "We use the built in `Gensim` library."
      ],
      "metadata": {
        "id": "atQ0iiOqtDYX"
      }
    },
    {
      "cell_type": "code",
      "source": [
        "def fit_word2vec(corpus: List[str]) -> Word2Vec:\n",
        "    '''Fit Word2Vec vectors on a corpus.\n",
        "\n",
        "    Args:\n",
        "        corpus (list of str):\n",
        "            The corpus to fit the embeddings on.\n",
        "\n",
        "    Returns:\n",
        "        Word2Vec:\n",
        "            The object containing the fitted embeddings.\n",
        "    '''\n",
        "    # Tokenise the corpus\n",
        "    corpus = [re.split(r' |(?=[\\.\\,\\-\\\"\\'\\!])', doc) for doc in corpus]\n",
        "\n",
        "    # Fit the embeddings\n",
        "    word2vec = Word2Vec(sentences=corpus, sg=1, workers=-1)\n",
        "\n",
        "    # Return the object containing the fitted embeddings\n",
        "    return word2vec\n",
        "\n",
        "\n",
        "word2vec = fit_word2vec(small_train.text)\n",
        "word2vec"
      ],
      "metadata": {
        "colab": {
          "base_uri": "https://localhost:8080/"
        },
        "id": "NWIujKMCtMBe",
        "outputId": "7ca63e6f-e41d-4367-fc58-e49963daba4d"
      },
      "execution_count": 42,
      "outputs": [
        {
          "output_type": "stream",
          "name": "stderr",
          "text": [
            "WARNING:gensim.models.word2vec:EPOCH 0: supplied example count (0) did not equal expected count (500)\n",
            "WARNING:gensim.models.word2vec:EPOCH 0: supplied raw word count (0) did not equal expected count (212445)\n",
            "WARNING:gensim.models.word2vec:EPOCH 1: supplied example count (0) did not equal expected count (500)\n",
            "WARNING:gensim.models.word2vec:EPOCH 1: supplied raw word count (0) did not equal expected count (212445)\n",
            "WARNING:gensim.models.word2vec:EPOCH 2: supplied example count (0) did not equal expected count (500)\n",
            "WARNING:gensim.models.word2vec:EPOCH 2: supplied raw word count (0) did not equal expected count (212445)\n",
            "WARNING:gensim.models.word2vec:EPOCH 3: supplied example count (0) did not equal expected count (500)\n",
            "WARNING:gensim.models.word2vec:EPOCH 3: supplied raw word count (0) did not equal expected count (212445)\n",
            "WARNING:gensim.models.word2vec:EPOCH 4: supplied example count (0) did not equal expected count (500)\n",
            "WARNING:gensim.models.word2vec:EPOCH 4: supplied raw word count (0) did not equal expected count (212445)\n"
          ]
        },
        {
          "output_type": "execute_result",
          "data": {
            "text/plain": [
              "<gensim.models.word2vec.Word2Vec at 0x7cf09a4d96c0>"
            ]
          },
          "metadata": {},
          "execution_count": 42
        }
      ]
    },
    {
      "cell_type": "code",
      "source": [
        "word2vec.wv['test']\n"
      ],
      "metadata": {
        "colab": {
          "base_uri": "https://localhost:8080/"
        },
        "id": "61uorEZVtUbB",
        "outputId": "c72c9d92-4274-4ce4-ce31-8a9d0267843a"
      },
      "execution_count": 43,
      "outputs": [
        {
          "output_type": "execute_result",
          "data": {
            "text/plain": [
              "array([-8.8638961e-03,  4.3264558e-03,  9.5497621e-03, -6.3164579e-03,\n",
              "       -5.8996486e-03,  7.1966409e-04,  5.1680016e-03,  4.3122494e-03,\n",
              "       -1.9523478e-03,  4.0620551e-03, -9.7053517e-03,  6.4949119e-03,\n",
              "       -3.5250736e-03, -2.0121264e-03,  5.5939294e-03, -7.9307137e-03,\n",
              "       -7.6381303e-03,  7.6989508e-03,  6.4368295e-03,  9.6956494e-05,\n",
              "        8.2491152e-03, -7.3581408e-03, -1.9289851e-04, -6.1440347e-03,\n",
              "        3.2217740e-03, -3.8276790e-04, -8.6066173e-03,  3.7629497e-03,\n",
              "       -5.4180194e-03,  7.1463976e-03, -7.9163862e-03,  2.4884772e-03,\n",
              "       -5.1353634e-03, -9.8945526e-03,  3.5693061e-03,  5.6585250e-03,\n",
              "        8.6320722e-03,  7.1790074e-03,  9.2333183e-03,  6.1787199e-03,\n",
              "       -7.0518707e-03, -6.5340758e-03,  5.1403162e-04,  6.4951179e-05,\n",
              "       -5.5826949e-03,  9.6888337e-03, -3.0025507e-03,  5.3464305e-03,\n",
              "       -9.2615662e-03, -4.3795719e-03,  1.8444824e-03, -2.1074819e-03,\n",
              "        1.6231990e-03, -1.1974275e-03,  4.2855907e-03, -6.9767986e-03,\n",
              "       -5.5696177e-03,  8.6706327e-03, -4.0941895e-03,  3.4475387e-03,\n",
              "       -8.6116670e-03,  8.3351908e-03,  3.9963401e-03,  9.4320802e-03,\n",
              "        7.5266254e-03,  9.7867120e-03, -3.8732660e-03,  5.2180123e-03,\n",
              "        5.8640158e-03,  8.0078710e-03, -3.0796360e-03, -7.3729609e-03,\n",
              "        5.0833593e-03, -2.6499140e-03,  9.7278859e-03,  3.5851467e-03,\n",
              "        8.1452224e-03,  1.6119314e-03,  4.1925372e-03, -7.0251705e-04,\n",
              "       -5.3765513e-03, -7.7094794e-03, -1.0903978e-03, -6.6603540e-04,\n",
              "       -4.2636679e-03, -3.1276143e-03,  1.2949621e-03, -3.3967793e-03,\n",
              "        8.7869689e-03, -3.5919165e-03, -3.9013124e-03, -3.1115292e-04,\n",
              "        8.6760102e-03, -5.4165735e-03, -1.5340638e-03, -5.6498121e-03,\n",
              "        1.0625756e-03, -6.7311060e-03, -9.4561921e-03,  7.1531413e-03],\n",
              "      dtype=float32)"
            ]
          },
          "metadata": {},
          "execution_count": 43
        }
      ]
    },
    {
      "cell_type": "markdown",
      "source": [
        "Currently we have no way to deal with unseen vocabulary."
      ],
      "metadata": {
        "id": "x2_jPDZRtYtS"
      }
    },
    {
      "cell_type": "code",
      "source": [
        "try:\n",
        "    word2vec.wv['Test']\n",
        "except:\n",
        "    traceback.print_exc()"
      ],
      "metadata": {
        "colab": {
          "base_uri": "https://localhost:8080/"
        },
        "id": "XywTscNWtXvp",
        "outputId": "a2d3765c-9262-46aa-a563-9a97fd6859d0"
      },
      "execution_count": 44,
      "outputs": [
        {
          "output_type": "stream",
          "name": "stderr",
          "text": [
            "Traceback (most recent call last):\n",
            "  File \"<ipython-input-44-6eee34873b83>\", line 2, in <cell line: 1>\n",
            "    word2vec.wv['Test']\n",
            "  File \"/usr/local/lib/python3.10/dist-packages/gensim/models/keyedvectors.py\", line 403, in __getitem__\n",
            "    return self.get_vector(key_or_keys)\n",
            "  File \"/usr/local/lib/python3.10/dist-packages/gensim/models/keyedvectors.py\", line 446, in get_vector\n",
            "    index = self.get_index(key)\n",
            "  File \"/usr/local/lib/python3.10/dist-packages/gensim/models/keyedvectors.py\", line 420, in get_index\n",
            "    raise KeyError(f\"Key '{key}' not present\")\n",
            "KeyError: \"Key 'Test' not present\"\n"
          ]
        }
      ]
    },
    {
      "cell_type": "markdown",
      "source": [
        "To fix this let us do the same as in the bag of words approach: a new vector for all terms not seen before."
      ],
      "metadata": {
        "id": "AZGOANxptfz2"
      }
    },
    {
      "cell_type": "code",
      "source": [
        "def word2vec_embed_term(term: str) -> np.ndarray:\n",
        "    '''Embeds a term using the fitted Word2vec model.\n",
        "\n",
        "    Args:\n",
        "        term (str):\n",
        "            The term to be embedded.\n",
        "\n",
        "    Returns:\n",
        "        NumPy array:\n",
        "            The embedding of the term.\n",
        "    '''\n",
        "    # We do a `try-except` here to deal with out-of-vocabulary terms,\n",
        "    # just like we did with the bag-of-words model\n",
        "    try:\n",
        "        embedding = word2vec.wv[term]\n",
        "\n",
        "    # If the word is not in our vocabulary, then we just\n",
        "    # embed it as the zero vector\n",
        "    except KeyError:\n",
        "        embedding = np.zeros(word2vec.vector_size)\n",
        "\n",
        "    # Return the embedding\n",
        "    return embedding\n",
        "\n",
        "\n",
        "word2vec_embed_term('dfgdrgdgd')"
      ],
      "metadata": {
        "colab": {
          "base_uri": "https://localhost:8080/"
        },
        "id": "pBbdZQ7btwOH",
        "outputId": "5c81f770-709f-41ac-ae69-c5dff7c340ae"
      },
      "execution_count": 45,
      "outputs": [
        {
          "output_type": "execute_result",
          "data": {
            "text/plain": [
              "array([0., 0., 0., 0., 0., 0., 0., 0., 0., 0., 0., 0., 0., 0., 0., 0., 0.,\n",
              "       0., 0., 0., 0., 0., 0., 0., 0., 0., 0., 0., 0., 0., 0., 0., 0., 0.,\n",
              "       0., 0., 0., 0., 0., 0., 0., 0., 0., 0., 0., 0., 0., 0., 0., 0., 0.,\n",
              "       0., 0., 0., 0., 0., 0., 0., 0., 0., 0., 0., 0., 0., 0., 0., 0., 0.,\n",
              "       0., 0., 0., 0., 0., 0., 0., 0., 0., 0., 0., 0., 0., 0., 0., 0., 0.,\n",
              "       0., 0., 0., 0., 0., 0., 0., 0., 0., 0., 0., 0., 0., 0., 0.])"
            ]
          },
          "metadata": {},
          "execution_count": 45
        }
      ]
    },
    {
      "cell_type": "markdown",
      "source": [
        "We next go from embedding terms to embedding documents. We also need an additional aggregation function, we use the mean as the default."
      ],
      "metadata": {
        "id": "Yl1VDs1pt3yk"
      }
    },
    {
      "cell_type": "code",
      "source": [
        "def word2vec_embed_doc(doc: str,\n",
        "                       aggregation_fn: Callable = np.mean) -> np.ndarray:\n",
        "    '''Embeds a document using the fitted Word2vec model.\n",
        "\n",
        "    Args:\n",
        "        doc (str):\n",
        "            The document to be embedded.\n",
        "        aggregation_fn (callable, optional):\n",
        "            The function used to aggregate the term embeddings\n",
        "            in the document. Must be a NumPy function. Defaults to\n",
        "            `numpy.mean`, meaning that the average of the term\n",
        "            embeddings is returned.\n",
        "\n",
        "    Returns:\n",
        "        NumPy array:\n",
        "            The embedding of the document.\n",
        "    '''\n",
        "    # Split up the document into a list of terms\n",
        "    terms = re.split(r' |(?=[\\.\\,\\-\\\"\\'\\!])', doc)\n",
        "\n",
        "    # TODO: Embed each term using the fitted `word2vec` model.\n",
        "    #       The result should be a list of embeddings, one for\n",
        "    #       each term.\n",
        "    # Embed each term using the fitted `word2vec` model.\n",
        "    embeddings = np.array([word2vec_embed_term(term) for term in terms])\n",
        "\n",
        "    # Aggregate the embeddings according to `aggregation_fn`\n",
        "    embedding = aggregation_fn(embeddings, axis=0)\n",
        "\n",
        "\n",
        "    # Return the aggregated embedding\n",
        "    return embedding\n",
        "\n",
        "\n",
        "word2vec_embed_doc('this is a test')"
      ],
      "metadata": {
        "colab": {
          "base_uri": "https://localhost:8080/"
        },
        "id": "eyEyOAuXt3Ic",
        "outputId": "a18c7127-aedf-4c0b-ae25-359cf231f6df"
      },
      "execution_count": 46,
      "outputs": [
        {
          "output_type": "execute_result",
          "data": {
            "text/plain": [
              "array([ 2.38750270e-03,  2.90311058e-04,  3.83760757e-03,  1.52896740e-03,\n",
              "       -5.20556001e-04,  6.39754522e-04,  5.46273403e-03, -1.59447745e-03,\n",
              "       -1.04561425e-03,  1.82120129e-04,  1.50389504e-04, -5.51422941e-04,\n",
              "       -5.39238099e-05,  2.01329496e-03, -1.33148814e-03, -3.25025874e-03,\n",
              "        3.19219660e-03,  1.89845474e-03, -8.95556062e-04, -2.48114322e-03,\n",
              "        6.01055450e-04,  1.39021792e-03,  2.82399589e-03, -2.37373053e-03,\n",
              "       -1.55980175e-03,  7.86952325e-04, -5.79395937e-03,  1.10145868e-03,\n",
              "       -4.24221531e-03,  2.63396115e-03,  6.99192751e-05,  1.76717748e-03,\n",
              "       -3.29409586e-03, -4.74218605e-03, -3.10742133e-03, -6.61046477e-04,\n",
              "       -1.21878530e-03,  1.67990301e-03,  9.51584778e-04, -1.35129807e-03,\n",
              "        2.89591379e-04, -4.23518801e-03, -3.63227155e-04, -2.18319311e-03,\n",
              "        1.39065203e-04,  4.11677547e-03, -6.31115492e-03, -1.57025666e-03,\n",
              "       -5.39028668e-04, -2.20779795e-04, -2.28140107e-03, -5.53941820e-03,\n",
              "        1.92669372e-03, -2.96329963e-03, -1.09828962e-03, -1.18870463e-03,\n",
              "       -2.01659743e-03,  1.34901749e-03, -3.07821529e-03,  2.04896508e-03,\n",
              "       -1.91754103e-03, -1.86723866e-03,  2.60509318e-03,  4.32005152e-03,\n",
              "        5.22739021e-04,  5.05493674e-03, -7.30184000e-03,  2.60312599e-03,\n",
              "       -9.37114004e-04, -1.33806048e-03,  1.51053362e-04,  8.38366454e-04,\n",
              "        3.34051624e-03, -1.98192848e-03,  1.87637296e-03, -2.59703258e-03,\n",
              "        3.02885519e-03, -2.46689393e-04,  6.58258796e-04, -2.57017068e-03,\n",
              "       -2.85008457e-03, -4.19310201e-03, -2.56999745e-03,  1.55774248e-03,\n",
              "        1.00644922e-03, -4.95716045e-03,  2.80552194e-03,  1.04444334e-04,\n",
              "        4.87182941e-03, -1.12141878e-03, -7.51152693e-04, -6.44914166e-04,\n",
              "       -4.50583175e-05, -2.23847362e-03, -2.34364852e-04, -7.12776091e-06,\n",
              "        3.19309719e-03, -3.14089772e-03, -3.78509448e-03,  1.09869777e-03],\n",
              "      dtype=float32)"
            ]
          },
          "metadata": {},
          "execution_count": 46
        }
      ]
    },
    {
      "cell_type": "code",
      "source": [
        "train['text'][4]"
      ],
      "metadata": {
        "colab": {
          "base_uri": "https://localhost:8080/",
          "height": 105
        },
        "id": "D0hrCA_kuP24",
        "outputId": "c43aa4ef-87c5-42ac-f54a-3f1f1bf93952"
      },
      "execution_count": 47,
      "outputs": [
        {
          "output_type": "execute_result",
          "data": {
            "text/plain": [
              "'  The Path to Sustainable Urban Living  In an age of rapid urbanization, the concept of car-free cities is gaining momentum as a visionary solution to the complex challenges posed by urban areas. Car-free cities are urban environments where private automobiles are either heavily restricted or completely prohibited, promoting the use of sustainable transportation alternatives and fostering a healthier, more vibrant urban lifestyle. This essay explores the concept of car-free cities, examining the potential benefits, challenges, and strategies for their successful implementation.  Car-free cities offer a vision of urban living focused on sustainability and well-being:  Environmental Sustainability: By significantly reducing the number of cars on the road, car-free cities contribute to cleaner air and a reduction in greenhouse gas emissions, thus playing a vital role in mitigating climate change.  Public Health: These cities prioritize pedestrian and cyclist safety, leading to fewer accidents and enhanced public health. Reduced air pollution levels result in better respiratory and cardiovascular health for urban residents.  Optimal Use of Space: Car-free cities make efficient use of urban space by converting parking lots and wide roads into green areas, parks, and pedestrian zones. This transformation enriches the overall urban landscape and quality of life.  Traffic Congestion Reduction: Fewer private cars on the road mean less traffic congestion, shorter commute times, and a less stressful daily life for urban inhabitants.  Economic Benefits: Car ownership can be costly. By relying less on private vehicles, residents of car-free cities have the opportunity to save money on car-related expenses, which can contribute to improved financial stability.  Transitioning to car-free cities, however, poses unique challenges:  Resistance to Change: Many individuals heavily rely on their cars for daily activities and commutes, leading to potential resistance to the transition to car-free living due to fears of inconvenience and a loss of autonomy.  Public Transportation Infrastructure: A robust public transportation system is essential for the success of car-free cities. Substantial investments are needed to expand and enhance public transit options, providing convenient alternatives to private cars.  Economic Impact: Businesses that depend on car-dependent customers may face a decline in revenue during the transition. Addressing this economic impact and supporting affected businesses is a crucial aspect of the transition.  Urban Planning and Infrastructure: The reconfiguration of urban areas for car-free living requires comprehensive planning and significant investments in infrastructure, a complex and time-consuming process.  To realize car-free cities successfully, strategies include expanding and enhancing public transportation, promoting active transportation methods like walking and cycling, encouraging carpooling and ride-sharing, adopting electric and sustainable transportation, and focusing on public education and awareness.  In conclusion, car-free cities offer an inspiring vision of a more sustainable and vibrant urban future. Despite the challenges, the potential benefits in terms of environmental sustainability, public health, efficient urban living, and cost savings make them a compelling goal. By investing in public transportation, promoting alternative transportation methods, and engaging the public in the planning process, cities can work toward a future where private cars are no longer the dominant mode of transportation. Car-free cities represent a promising glimpse of a more sustainable and people-centric urban environment.'"
            ],
            "application/vnd.google.colaboratory.intrinsic+json": {
              "type": "string"
            }
          },
          "metadata": {},
          "execution_count": 47
        }
      ]
    },
    {
      "cell_type": "markdown",
      "source": [
        "Okay, we can not test the classification performance of the Word2vec embeddings."
      ],
      "metadata": {
        "id": "lh30iEspuf48"
      }
    },
    {
      "cell_type": "code",
      "source": [
        "def word2vec_train_model(train_dataset: pd.DataFrame,\n",
        "                         test_dataset: pd.DataFrame) -> LogisticRegression:\n",
        "    '''Trains a logistic regression model on a Word2vec embedded corpus.\n",
        "\n",
        "    Args:\n",
        "        train_dataset (Pandas DataFrame):\n",
        "            The dataset on which to train the logistic regression\n",
        "            model. Must have a 'text' and 'generated' column.\n",
        "        test_dataset (Pandas DataFrame):\n",
        "            The dataset on which to evaluate the logistic regression\n",
        "            model. Must have a 'text' and 'generated' column.\n",
        "\n",
        "    Returns:\n",
        "        LogisticRegression:\n",
        "            The trained model.\n",
        "    '''\n",
        "    # Embed the dataset\n",
        "    word2vec_embeddings_train = [word2vec_embed_doc(str(doc)) for doc in train_dataset['text']]\n",
        "    word2vec_embeddings_test = [word2vec_embed_doc(str(doc)) for doc in test_dataset['text']]\n",
        "\n",
        "    # Convert the lists of embeddings to one big matrix\n",
        "    word2vec_embeddings_train = np.stack(word2vec_embeddings_train)\n",
        "    word2vec_embeddings_test = np.stack(word2vec_embeddings_test)\n",
        "\n",
        "    # Define the classification model, as there are an unequal number of classes we balance the class weight.\n",
        "    model = LogisticRegression(max_iter=1_000,class_weight = 'balanced')\n",
        "\n",
        "    # Train the model\n",
        "    model.fit(word2vec_embeddings_train, train_dataset.generated)\n",
        "\n",
        "    # Evaluate the model on the validation set.\n",
        "    predictions = model.predict(word2vec_embeddings_test)\n",
        "    #print(predictions)\n",
        "    test_balanced_acc = balanced_accuracy_score(test_dataset.generated, predictions)\n",
        "    print(f'The model achieved a {100 * test_balanced_acc:.2f}% '\n",
        "          f'balanced accuracy on the test set.')\n",
        "\n",
        "    # Return the trained model\n",
        "    return model\n",
        "\n",
        "\n",
        "model = word2vec_train_model(train_dataset=small_train, test_dataset=small_test)"
      ],
      "metadata": {
        "colab": {
          "base_uri": "https://localhost:8080/"
        },
        "id": "HKxjT-8UuZ1r",
        "outputId": "6ceadfc2-739b-4d09-e89c-7eb3a264515e"
      },
      "execution_count": 48,
      "outputs": [
        {
          "output_type": "stream",
          "name": "stdout",
          "text": [
            "The model achieved a 76.11% balanced accuracy on the test set.\n"
          ]
        }
      ]
    },
    {
      "cell_type": "markdown",
      "source": [
        "That was... not as good. What went wrong?\n",
        "\n",
        "Word2Vec starts training in random places, and needs to deduce that a pair of words are alike. This can only be done when it has seen a plethora of information rich examples which nudge these words into similar postions in the embedding. Thus it seems natural that to arrange the embedding space such that all pairwise similarities are upheld *simultaneously*, we require a very large set of opportunities to 'nugde' the embeddings in such a way.\n",
        "\n",
        "In our revatively small dataset, there might be no examples where the desired-to-be-alike words are in similar nearby-word contexts. This problem is exacerbated when embeddings need to move far for their original initialisation.\n",
        "\n",
        "The essence of Word2Vec is using bulk data, and bulk training, to force the creation and mapping of generalisable patterns. This leads us naturally into the next seciton in which we shall employ the use of pretrained `FastText` vectors where we hope to show the scalability of this representation.\n"
      ],
      "metadata": {
        "id": "aaZhyRKCvXII"
      }
    },
    {
      "cell_type": "code",
      "source": [
        "word2vec = fit_word2vec(train.text)\n",
        "word2vec"
      ],
      "metadata": {
        "colab": {
          "base_uri": "https://localhost:8080/"
        },
        "id": "nMmZh-GKph2r",
        "outputId": "92c6c7db-f384-4f31-88c4-f33e19ac984e"
      },
      "execution_count": 49,
      "outputs": [
        {
          "output_type": "stream",
          "name": "stderr",
          "text": [
            "WARNING:gensim.models.word2vec:EPOCH 0: supplied example count (0) did not equal expected count (23316)\n",
            "WARNING:gensim.models.word2vec:EPOCH 0: supplied raw word count (0) did not equal expected count (9876769)\n",
            "WARNING:gensim.models.word2vec:EPOCH 1: supplied example count (0) did not equal expected count (23316)\n",
            "WARNING:gensim.models.word2vec:EPOCH 1: supplied raw word count (0) did not equal expected count (9876769)\n",
            "WARNING:gensim.models.word2vec:EPOCH 2: supplied example count (0) did not equal expected count (23316)\n",
            "WARNING:gensim.models.word2vec:EPOCH 2: supplied raw word count (0) did not equal expected count (9876769)\n",
            "WARNING:gensim.models.word2vec:EPOCH 3: supplied example count (0) did not equal expected count (23316)\n",
            "WARNING:gensim.models.word2vec:EPOCH 3: supplied raw word count (0) did not equal expected count (9876769)\n",
            "WARNING:gensim.models.word2vec:EPOCH 4: supplied example count (0) did not equal expected count (23316)\n",
            "WARNING:gensim.models.word2vec:EPOCH 4: supplied raw word count (0) did not equal expected count (9876769)\n"
          ]
        },
        {
          "output_type": "execute_result",
          "data": {
            "text/plain": [
              "<gensim.models.word2vec.Word2Vec at 0x7cf09b8bd870>"
            ]
          },
          "metadata": {},
          "execution_count": 49
        }
      ]
    },
    {
      "cell_type": "code",
      "source": [
        "model_larger = word2vec_train_model(train_dataset=train, test_dataset=test)"
      ],
      "metadata": {
        "colab": {
          "base_uri": "https://localhost:8080/"
        },
        "id": "Naz2CS3WHsLF",
        "outputId": "c3cc3d24-d185-417d-841b-1abceada372a"
      },
      "execution_count": 50,
      "outputs": [
        {
          "output_type": "stream",
          "name": "stdout",
          "text": [
            "The model achieved a 81.25% balanced accuracy on the test set.\n"
          ]
        }
      ]
    },
    {
      "cell_type": "markdown",
      "source": [
        "Increasing the training data increased performance by approximately 5%. This indicates the need for a large corpus when using Word2Vec."
      ],
      "metadata": {
        "id": "lMcmI_BHp3u1"
      }
    },
    {
      "cell_type": "markdown",
      "source": [
        "Let us test against our small sample outside of the dataset."
      ],
      "metadata": {
        "id": "nhdqkh3DmWKx"
      }
    },
    {
      "cell_type": "code",
      "source": [
        "sample_essay = pd.DataFrame.from_dict(sample_essay)\n",
        "model_sample = word2vec_train_model(train_dataset=train, test_dataset=sample_essay)"
      ],
      "metadata": {
        "colab": {
          "base_uri": "https://localhost:8080/"
        },
        "id": "pM0yYucqlyPZ",
        "outputId": "0521cfb4-67c6-4ae7-b575-291e2b42c722"
      },
      "execution_count": 51,
      "outputs": [
        {
          "output_type": "stream",
          "name": "stdout",
          "text": [
            "The model achieved a 87.50% balanced accuracy on the test set.\n"
          ]
        }
      ]
    },
    {
      "cell_type": "markdown",
      "source": [
        "It no longer fails completely!"
      ],
      "metadata": {
        "id": "eaVSDNLMmgyJ"
      }
    },
    {
      "cell_type": "code",
      "source": [
        "# Delete the Word2vec embeddings again, to save some memory\n",
        "del word2vec, model\n",
        "gc.collect()"
      ],
      "metadata": {
        "colab": {
          "base_uri": "https://localhost:8080/"
        },
        "id": "NDjGQfRnyLqW",
        "outputId": "c18060e3-a7d7-4f67-9418-ca8204f75db1"
      },
      "execution_count": null,
      "outputs": [
        {
          "output_type": "execute_result",
          "data": {
            "text/plain": [
              "180"
            ]
          },
          "metadata": {},
          "execution_count": 39
        }
      ]
    },
    {
      "cell_type": "markdown",
      "source": [
        "## Transformer Representation\n",
        "\n",
        "The transformer, first introduced in (Vaswani, A., Shazeer, N., Parmar, N., Uszkoreit, J., Jones, L., Gomez, A.N., Kaiser, Ł. and Polosukhin, I., 2017. Attention is all you need. Advances in neural information processing systems, 30.) is a deep learning architecture which uses the concept of attention to process text.\n",
        "\n",
        "We utilise transfer learning here. To achieve this, we use the `transformers` library, which makes using state-of-the-art transformer embeddings really simple.\n",
        "\n",
        "In this section we will be using the `Hello-SimpleAI/chatgpt-detector-roberta` model, a pretrained model available on [the HuggingFace Hub](https://hf.co). We use this model as it has been trained on ai generated text data, and we hope this will allow our model to generalise better."
      ],
      "metadata": {
        "id": "ufYwv3SU8eeS"
      }
    },
    {
      "cell_type": "code",
      "source": [
        "def load_pretrained_transformer(model_id: str = 'Hello-SimpleAI/chatgpt-detector-roberta') -> tuple:\n",
        "    '''Load pretrained transformer with its tokeniser.\n",
        "\n",
        "    Args:\n",
        "        model_id (str, optional):\n",
        "            The transformer model to load. Defaults to 'roberta-base'.\n",
        "\n",
        "    Returns:\n",
        "        tuple:\n",
        "            A pair of the pretrained transformer and its tokeniser.\n",
        "    '''\n",
        "    # Create list of all the labels in the dataset\n",
        "    generated = [0,1]\n",
        "\n",
        "    # Load model\n",
        "    config = dict(num_labels=len(generated),\n",
        "                  id2label={id:lbl for id, lbl in enumerate(generated)},\n",
        "                  label2id={lbl:id for id, lbl in enumerate(generated)})\n",
        "    config = AutoConfig.from_pretrained(model_id, **config)\n",
        "    tokeniser = AutoTokenizer.from_pretrained(model_id)\n",
        "    model = AutoModelForSequenceClassification.from_pretrained(model_id,\n",
        "                                                               config=config)\n",
        "\n",
        "    return model, tokeniser\n",
        "\n",
        "\n",
        "tf_model, tokeniser = load_pretrained_transformer()"
      ],
      "metadata": {
        "id": "o2ounpYS88bu"
      },
      "execution_count": 9,
      "outputs": []
    },
    {
      "cell_type": "code",
      "source": [
        "doc = 'This tokeniser is really quite extravagant.'\n",
        "[tokeniser.decode(tok) for tok in tokeniser(doc).input_ids]"
      ],
      "metadata": {
        "colab": {
          "base_uri": "https://localhost:8080/"
        },
        "id": "7NqSi_Jq9J0B",
        "outputId": "9d41b9a7-4595-4caa-f0b1-ebcd8a399e6c"
      },
      "execution_count": 10,
      "outputs": [
        {
          "output_type": "execute_result",
          "data": {
            "text/plain": [
              "['<s>',\n",
              " 'This',\n",
              " ' token',\n",
              " 'iser',\n",
              " ' is',\n",
              " ' really',\n",
              " ' quite',\n",
              " ' extravagant',\n",
              " '.',\n",
              " '</s>']"
            ]
          },
          "metadata": {},
          "execution_count": 10
        }
      ]
    },
    {
      "cell_type": "code",
      "source": [
        "def tokenise_corpus(dataset: pd.DataFrame, tokeniser) -> Dataset:\n",
        "    '''Tokenises a dataset according to a pretrained tokeniser.\n",
        "\n",
        "    Args:\n",
        "        dataset (Pandas DataFrame):\n",
        "            The dataset to tokenise. Must have 'text' and 'label' columns.\n",
        "\n",
        "    Returns:\n",
        "        HuggingFace Dataset:\n",
        "            The tokenised dataset.\n",
        "    '''\n",
        "    # Build HuggingFace datasets\n",
        "    dataset = Dataset.from_dict(dict(doc=dataset.text, labels=dataset.generated))\n",
        "\n",
        "    # TODO: Create a function which takes a dictionary as input and which calls\n",
        "    #       our `tokeniser` on the `doc` entry of the dictionary. When calling\n",
        "    #       `tokeniser` you want to set `truncation=True` and `padding=True`, as\n",
        "    #       otherwise you will encounter an error!\n",
        "    def tokenise(examples: dict) -> dict:\n",
        "        return tokeniser(examples['doc'], truncation=True, padding=True)\n",
        "\n",
        "    # Tokenise dataset\n",
        "    tokenised = dataset.map(tokenise, batched=True)\n",
        "\n",
        "\n",
        "    # Return tokenised dataset\n",
        "    return tokenised\n",
        "\n",
        "tokenised_train = tokenise_corpus(small_train, tokeniser=tokeniser)\n",
        "tokenised_test = tokenise_corpus(small_test, tokeniser=tokeniser)\n",
        "sample_essay = pd.DataFrame.from_dict(sample_essay)\n",
        "tokenised_sample = tokenise_corpus(sample_essay, tokeniser=tokeniser)"
      ],
      "metadata": {
        "colab": {
          "base_uri": "https://localhost:8080/",
          "height": 113,
          "referenced_widgets": [
            "44ab5fce8dc74151828fa88f340077b4",
            "5ea6e4e386434980909e39fd251aad77",
            "3b84c4c2c2bb455a8cd703c3d10962b8",
            "63f2fdcb0c804c70830b3e4a9e9f44ad",
            "8286edd7b9b94291a16250d23633859e",
            "b863757eeee24057b864e2e2493b72c2",
            "a16812ed5b66444499faab08c4972c3d",
            "fb0a6d2c1978488f91b948e6e9604a06",
            "d5a509c69a4c454b88a45ac1e34266ba",
            "4b3fa774c715413c83d2f1cd6b67d0f2",
            "be6e43d315d84377a490544f4e6ecabd",
            "e0eb3740ce6242fa932faa03cb2bf9d9",
            "6e5868bc74f84a62ae02a57fbc00dd83",
            "462c5c34cb4e4679a11a9bdbef0b1e04",
            "51e12e3db9ba4f4d8243859be0ba40e6",
            "03c726b065614059b2da14f00690fbd1",
            "9d2b3a21615341a8acbbbe5dfcc2a04c",
            "46546a1688ba437dbfb3b3cba7cab286",
            "00afdf70cae64030a2c2e8fcfca3a32f",
            "a69d46659dd64a52811b846891478512",
            "a79647ef538544afb92bd330f34b48ea",
            "db663a3c82ab411c9a90f7dc37770cc6",
            "d7285cc0c803450b8a3ceeec46c7678b",
            "ae94d22f00ff49e3b87658ee5148c34c",
            "648f518977fe4284bd86762fa9eb7f98",
            "14e33c47a8f144d2bebe6766e223a38b",
            "ce888be7e4d64329a3eb1eee95225923",
            "9a71fc5e5b814dc5a993c759fc71cfc9",
            "44b4e8dd9cca46749c06ced5e559c227",
            "135933392a6a4af2abdd698c32a82a50",
            "b3ef64f8dc4c4536b7ce761c0d2054f9",
            "c7f6fde7833840a78d5f4955a7e364b1",
            "935736395fae4a359a3bb605f7b2bac9"
          ]
        },
        "id": "j2h1o72g9MAX",
        "outputId": "8d78840a-b2f3-40eb-8d75-bcb5c9141c1c"
      },
      "execution_count": 13,
      "outputs": [
        {
          "output_type": "display_data",
          "data": {
            "text/plain": [
              "Map:   0%|          | 0/500 [00:00<?, ? examples/s]"
            ],
            "application/vnd.jupyter.widget-view+json": {
              "version_major": 2,
              "version_minor": 0,
              "model_id": "44ab5fce8dc74151828fa88f340077b4"
            }
          },
          "metadata": {}
        },
        {
          "output_type": "display_data",
          "data": {
            "text/plain": [
              "Map:   0%|          | 0/100 [00:00<?, ? examples/s]"
            ],
            "application/vnd.jupyter.widget-view+json": {
              "version_major": 2,
              "version_minor": 0,
              "model_id": "e0eb3740ce6242fa932faa03cb2bf9d9"
            }
          },
          "metadata": {}
        },
        {
          "output_type": "display_data",
          "data": {
            "text/plain": [
              "Map:   0%|          | 0/8 [00:00<?, ? examples/s]"
            ],
            "application/vnd.jupyter.widget-view+json": {
              "version_major": 2,
              "version_minor": 0,
              "model_id": "d7285cc0c803450b8a3ceeec46c7678b"
            }
          },
          "metadata": {}
        }
      ]
    },
    {
      "cell_type": "code",
      "source": [
        "!pip install transformers[torch]"
      ],
      "metadata": {
        "colab": {
          "base_uri": "https://localhost:8080/"
        },
        "id": "pyYXO8va9vfl",
        "outputId": "878fff64-904e-4eb0-d87b-0f25f233443e"
      },
      "execution_count": 14,
      "outputs": [
        {
          "output_type": "stream",
          "name": "stdout",
          "text": [
            "Requirement already satisfied: transformers[torch] in /usr/local/lib/python3.10/dist-packages (4.35.2)\n",
            "Requirement already satisfied: filelock in /usr/local/lib/python3.10/dist-packages (from transformers[torch]) (3.13.1)\n",
            "Requirement already satisfied: huggingface-hub<1.0,>=0.16.4 in /usr/local/lib/python3.10/dist-packages (from transformers[torch]) (0.19.4)\n",
            "Requirement already satisfied: numpy>=1.17 in /usr/local/lib/python3.10/dist-packages (from transformers[torch]) (1.23.5)\n",
            "Requirement already satisfied: packaging>=20.0 in /usr/local/lib/python3.10/dist-packages (from transformers[torch]) (23.2)\n",
            "Requirement already satisfied: pyyaml>=5.1 in /usr/local/lib/python3.10/dist-packages (from transformers[torch]) (6.0.1)\n",
            "Requirement already satisfied: regex!=2019.12.17 in /usr/local/lib/python3.10/dist-packages (from transformers[torch]) (2023.6.3)\n",
            "Requirement already satisfied: requests in /usr/local/lib/python3.10/dist-packages (from transformers[torch]) (2.31.0)\n",
            "Requirement already satisfied: tokenizers<0.19,>=0.14 in /usr/local/lib/python3.10/dist-packages (from transformers[torch]) (0.15.0)\n",
            "Requirement already satisfied: safetensors>=0.3.1 in /usr/local/lib/python3.10/dist-packages (from transformers[torch]) (0.4.0)\n",
            "Requirement already satisfied: tqdm>=4.27 in /usr/local/lib/python3.10/dist-packages (from transformers[torch]) (4.66.1)\n",
            "Requirement already satisfied: torch!=1.12.0,>=1.10 in /usr/local/lib/python3.10/dist-packages (from transformers[torch]) (2.1.0+cu118)\n",
            "Requirement already satisfied: accelerate>=0.20.3 in /usr/local/lib/python3.10/dist-packages (from transformers[torch]) (0.24.1)\n",
            "Requirement already satisfied: psutil in /usr/local/lib/python3.10/dist-packages (from accelerate>=0.20.3->transformers[torch]) (5.9.5)\n",
            "Requirement already satisfied: fsspec>=2023.5.0 in /usr/local/lib/python3.10/dist-packages (from huggingface-hub<1.0,>=0.16.4->transformers[torch]) (2023.6.0)\n",
            "Requirement already satisfied: typing-extensions>=3.7.4.3 in /usr/local/lib/python3.10/dist-packages (from huggingface-hub<1.0,>=0.16.4->transformers[torch]) (4.5.0)\n",
            "Requirement already satisfied: sympy in /usr/local/lib/python3.10/dist-packages (from torch!=1.12.0,>=1.10->transformers[torch]) (1.12)\n",
            "Requirement already satisfied: networkx in /usr/local/lib/python3.10/dist-packages (from torch!=1.12.0,>=1.10->transformers[torch]) (3.2.1)\n",
            "Requirement already satisfied: jinja2 in /usr/local/lib/python3.10/dist-packages (from torch!=1.12.0,>=1.10->transformers[torch]) (3.1.2)\n",
            "Requirement already satisfied: triton==2.1.0 in /usr/local/lib/python3.10/dist-packages (from torch!=1.12.0,>=1.10->transformers[torch]) (2.1.0)\n",
            "Requirement already satisfied: charset-normalizer<4,>=2 in /usr/local/lib/python3.10/dist-packages (from requests->transformers[torch]) (3.3.2)\n",
            "Requirement already satisfied: idna<4,>=2.5 in /usr/local/lib/python3.10/dist-packages (from requests->transformers[torch]) (3.4)\n",
            "Requirement already satisfied: urllib3<3,>=1.21.1 in /usr/local/lib/python3.10/dist-packages (from requests->transformers[torch]) (2.0.7)\n",
            "Requirement already satisfied: certifi>=2017.4.17 in /usr/local/lib/python3.10/dist-packages (from requests->transformers[torch]) (2023.7.22)\n",
            "Requirement already satisfied: MarkupSafe>=2.0 in /usr/local/lib/python3.10/dist-packages (from jinja2->torch!=1.12.0,>=1.10->transformers[torch]) (2.1.3)\n",
            "Requirement already satisfied: mpmath>=0.19 in /usr/local/lib/python3.10/dist-packages (from sympy->torch!=1.12.0,>=1.10->transformers[torch]) (1.3.0)\n"
          ]
        }
      ]
    },
    {
      "cell_type": "code",
      "source": [
        "! pip install -U accelerate\n",
        "! pip install -U transformers"
      ],
      "metadata": {
        "colab": {
          "base_uri": "https://localhost:8080/"
        },
        "id": "_ZjYIkoJ-JqQ",
        "outputId": "951dcff2-8ec5-410c-d211-203303997435"
      },
      "execution_count": 15,
      "outputs": [
        {
          "output_type": "stream",
          "name": "stdout",
          "text": [
            "Requirement already satisfied: accelerate in /usr/local/lib/python3.10/dist-packages (0.24.1)\n",
            "Requirement already satisfied: numpy>=1.17 in /usr/local/lib/python3.10/dist-packages (from accelerate) (1.23.5)\n",
            "Requirement already satisfied: packaging>=20.0 in /usr/local/lib/python3.10/dist-packages (from accelerate) (23.2)\n",
            "Requirement already satisfied: psutil in /usr/local/lib/python3.10/dist-packages (from accelerate) (5.9.5)\n",
            "Requirement already satisfied: pyyaml in /usr/local/lib/python3.10/dist-packages (from accelerate) (6.0.1)\n",
            "Requirement already satisfied: torch>=1.10.0 in /usr/local/lib/python3.10/dist-packages (from accelerate) (2.1.0+cu118)\n",
            "Requirement already satisfied: huggingface-hub in /usr/local/lib/python3.10/dist-packages (from accelerate) (0.19.4)\n",
            "Requirement already satisfied: filelock in /usr/local/lib/python3.10/dist-packages (from torch>=1.10.0->accelerate) (3.13.1)\n",
            "Requirement already satisfied: typing-extensions in /usr/local/lib/python3.10/dist-packages (from torch>=1.10.0->accelerate) (4.5.0)\n",
            "Requirement already satisfied: sympy in /usr/local/lib/python3.10/dist-packages (from torch>=1.10.0->accelerate) (1.12)\n",
            "Requirement already satisfied: networkx in /usr/local/lib/python3.10/dist-packages (from torch>=1.10.0->accelerate) (3.2.1)\n",
            "Requirement already satisfied: jinja2 in /usr/local/lib/python3.10/dist-packages (from torch>=1.10.0->accelerate) (3.1.2)\n",
            "Requirement already satisfied: fsspec in /usr/local/lib/python3.10/dist-packages (from torch>=1.10.0->accelerate) (2023.6.0)\n",
            "Requirement already satisfied: triton==2.1.0 in /usr/local/lib/python3.10/dist-packages (from torch>=1.10.0->accelerate) (2.1.0)\n",
            "Requirement already satisfied: requests in /usr/local/lib/python3.10/dist-packages (from huggingface-hub->accelerate) (2.31.0)\n",
            "Requirement already satisfied: tqdm>=4.42.1 in /usr/local/lib/python3.10/dist-packages (from huggingface-hub->accelerate) (4.66.1)\n",
            "Requirement already satisfied: MarkupSafe>=2.0 in /usr/local/lib/python3.10/dist-packages (from jinja2->torch>=1.10.0->accelerate) (2.1.3)\n",
            "Requirement already satisfied: charset-normalizer<4,>=2 in /usr/local/lib/python3.10/dist-packages (from requests->huggingface-hub->accelerate) (3.3.2)\n",
            "Requirement already satisfied: idna<4,>=2.5 in /usr/local/lib/python3.10/dist-packages (from requests->huggingface-hub->accelerate) (3.4)\n",
            "Requirement already satisfied: urllib3<3,>=1.21.1 in /usr/local/lib/python3.10/dist-packages (from requests->huggingface-hub->accelerate) (2.0.7)\n",
            "Requirement already satisfied: certifi>=2017.4.17 in /usr/local/lib/python3.10/dist-packages (from requests->huggingface-hub->accelerate) (2023.7.22)\n",
            "Requirement already satisfied: mpmath>=0.19 in /usr/local/lib/python3.10/dist-packages (from sympy->torch>=1.10.0->accelerate) (1.3.0)\n",
            "Requirement already satisfied: transformers in /usr/local/lib/python3.10/dist-packages (4.35.2)\n",
            "Requirement already satisfied: filelock in /usr/local/lib/python3.10/dist-packages (from transformers) (3.13.1)\n",
            "Requirement already satisfied: huggingface-hub<1.0,>=0.16.4 in /usr/local/lib/python3.10/dist-packages (from transformers) (0.19.4)\n",
            "Requirement already satisfied: numpy>=1.17 in /usr/local/lib/python3.10/dist-packages (from transformers) (1.23.5)\n",
            "Requirement already satisfied: packaging>=20.0 in /usr/local/lib/python3.10/dist-packages (from transformers) (23.2)\n",
            "Requirement already satisfied: pyyaml>=5.1 in /usr/local/lib/python3.10/dist-packages (from transformers) (6.0.1)\n",
            "Requirement already satisfied: regex!=2019.12.17 in /usr/local/lib/python3.10/dist-packages (from transformers) (2023.6.3)\n",
            "Requirement already satisfied: requests in /usr/local/lib/python3.10/dist-packages (from transformers) (2.31.0)\n",
            "Requirement already satisfied: tokenizers<0.19,>=0.14 in /usr/local/lib/python3.10/dist-packages (from transformers) (0.15.0)\n",
            "Requirement already satisfied: safetensors>=0.3.1 in /usr/local/lib/python3.10/dist-packages (from transformers) (0.4.0)\n",
            "Requirement already satisfied: tqdm>=4.27 in /usr/local/lib/python3.10/dist-packages (from transformers) (4.66.1)\n",
            "Requirement already satisfied: fsspec>=2023.5.0 in /usr/local/lib/python3.10/dist-packages (from huggingface-hub<1.0,>=0.16.4->transformers) (2023.6.0)\n",
            "Requirement already satisfied: typing-extensions>=3.7.4.3 in /usr/local/lib/python3.10/dist-packages (from huggingface-hub<1.0,>=0.16.4->transformers) (4.5.0)\n",
            "Requirement already satisfied: charset-normalizer<4,>=2 in /usr/local/lib/python3.10/dist-packages (from requests->transformers) (3.3.2)\n",
            "Requirement already satisfied: idna<4,>=2.5 in /usr/local/lib/python3.10/dist-packages (from requests->transformers) (3.4)\n",
            "Requirement already satisfied: urllib3<3,>=1.21.1 in /usr/local/lib/python3.10/dist-packages (from requests->transformers) (2.0.7)\n",
            "Requirement already satisfied: certifi>=2017.4.17 in /usr/local/lib/python3.10/dist-packages (from requests->transformers) (2023.7.22)\n"
          ]
        }
      ]
    },
    {
      "cell_type": "code",
      "source": [
        "def finetune_transformer(tf_model,\n",
        "                         tokenised_train: Dataset,\n",
        "                         tokenised_test: Dataset):\n",
        "    '''Train transformer model.\n",
        "\n",
        "    Args:\n",
        "        tf_model (HuggingFace Transformer):\n",
        "            Pretrained transformer.\n",
        "        tokenised_train (Dataset):\n",
        "            Tokenised train dataset.\n",
        "        tokenised_test (Dataset):\n",
        "            Tokenised test dataset.\n",
        "\n",
        "    Returns:\n",
        "      HuggingFace Transformer:\n",
        "          Finetuned transformer.\n",
        "    '''\n",
        "    # Set up training arguments\n",
        "    tf_logging.set_verbosity_warning()\n",
        "    training_args = TrainingArguments(\n",
        "        output_dir='.',\n",
        "        evaluation_strategy='epoch',\n",
        "        logging_strategy='epoch',\n",
        "        save_strategy='epoch',\n",
        "        num_train_epochs=20,\n",
        "        per_device_train_batch_size=8,\n",
        "        per_device_eval_batch_size=8,\n",
        "        gradient_accumulation_steps=4,\n",
        "        learning_rate=2e-5,\n",
        "        warmup_steps=len(train) // 8,\n",
        "        save_total_limit=1,\n",
        "        load_best_model_at_end=True\n",
        "    )\n",
        "\n",
        "    def compute_metrics(predictions_and_labels: tuple) -> dict:\n",
        "        '''Helper function to compute the balanced accuracy'''\n",
        "        predictions, generated = predictions_and_labels\n",
        "        predictions = predictions.argmax(axis=-1)\n",
        "        results = balanced_accuracy_score(generated, predictions)\n",
        "        #print(generated)\n",
        "        #print(predictions)\n",
        "        return dict(balanced_accuracy=results)\n",
        "\n",
        "    # Initialise the Trainer object\n",
        "    trainer = Trainer(model=tf_model,\n",
        "                      args=training_args,\n",
        "                      train_dataset=tokenised_train,\n",
        "                      eval_dataset=tokenised_test,\n",
        "                      tokenizer=tokeniser,\n",
        "                      compute_metrics=compute_metrics)\n",
        "\n",
        "    # Train\n",
        "    trainer.train()\n",
        "\n",
        "    return tf_model\n",
        "\n"
      ],
      "metadata": {
        "id": "wwr6rLvw9ywa"
      },
      "execution_count": 16,
      "outputs": []
    },
    {
      "cell_type": "code",
      "source": [
        "tf_model = finetune_transformer(tf_model=tf_model,\n",
        "                                tokenised_train=tokenised_train,\n",
        "                                tokenised_test=tokenised_test)"
      ],
      "metadata": {
        "colab": {
          "base_uri": "https://localhost:8080/",
          "height": 355
        },
        "id": "u4UlcQQKZoII",
        "outputId": "8262306f-558e-4baa-d43a-14b07561597e"
      },
      "execution_count": 17,
      "outputs": [
        {
          "output_type": "error",
          "ename": "KeyboardInterrupt",
          "evalue": "ignored",
          "traceback": [
            "\u001b[0;31m---------------------------------------------------------------------------\u001b[0m",
            "\u001b[0;31mKeyboardInterrupt\u001b[0m                         Traceback (most recent call last)",
            "\u001b[0;32m<ipython-input-17-d488c6d28fa1>\u001b[0m in \u001b[0;36m<cell line: 1>\u001b[0;34m()\u001b[0m\n\u001b[0;32m----> 1\u001b[0;31m tf_model = finetune_transformer(tf_model=tf_model,\n\u001b[0m\u001b[1;32m      2\u001b[0m                                 \u001b[0mtokenised_train\u001b[0m\u001b[0;34m=\u001b[0m\u001b[0mtokenised_train\u001b[0m\u001b[0;34m,\u001b[0m\u001b[0;34m\u001b[0m\u001b[0;34m\u001b[0m\u001b[0m\n\u001b[1;32m      3\u001b[0m                                 tokenised_test=tokenised_test)\n",
            "\u001b[0;32m<ipython-input-16-0009d6da0f61>\u001b[0m in \u001b[0;36mfinetune_transformer\u001b[0;34m(tf_model, tokenised_train, tokenised_test)\u001b[0m\n\u001b[1;32m     43\u001b[0m \u001b[0;34m\u001b[0m\u001b[0m\n\u001b[1;32m     44\u001b[0m     \u001b[0;31m# Initialise the Trainer object\u001b[0m\u001b[0;34m\u001b[0m\u001b[0;34m\u001b[0m\u001b[0m\n\u001b[0;32m---> 45\u001b[0;31m     trainer = Trainer(model=tf_model,\n\u001b[0m\u001b[1;32m     46\u001b[0m                       \u001b[0margs\u001b[0m\u001b[0;34m=\u001b[0m\u001b[0mtraining_args\u001b[0m\u001b[0;34m,\u001b[0m\u001b[0;34m\u001b[0m\u001b[0;34m\u001b[0m\u001b[0m\n\u001b[1;32m     47\u001b[0m                       \u001b[0mtrain_dataset\u001b[0m\u001b[0;34m=\u001b[0m\u001b[0mtokenised_train\u001b[0m\u001b[0;34m,\u001b[0m\u001b[0;34m\u001b[0m\u001b[0;34m\u001b[0m\u001b[0m\n",
            "\u001b[0;32m/usr/local/lib/python3.10/dist-packages/transformers/trainer.py\u001b[0m in \u001b[0;36m__init__\u001b[0;34m(self, model, args, data_collator, train_dataset, eval_dataset, tokenizer, model_init, compute_metrics, callbacks, optimizers, preprocess_logits_for_metrics)\u001b[0m\n\u001b[1;32m    479\u001b[0m             \u001b[0;32mand\u001b[0m \u001b[0;32mnot\u001b[0m \u001b[0mgetattr\u001b[0m\u001b[0;34m(\u001b[0m\u001b[0mmodel\u001b[0m\u001b[0;34m,\u001b[0m \u001b[0;34m\"quantization_method\"\u001b[0m\u001b[0;34m,\u001b[0m \u001b[0;32mNone\u001b[0m\u001b[0;34m)\u001b[0m \u001b[0;34m==\u001b[0m \u001b[0mQuantizationMethod\u001b[0m\u001b[0;34m.\u001b[0m\u001b[0mBITS_AND_BYTES\u001b[0m\u001b[0;34m\u001b[0m\u001b[0;34m\u001b[0m\u001b[0m\n\u001b[1;32m    480\u001b[0m         ):\n\u001b[0;32m--> 481\u001b[0;31m             \u001b[0mself\u001b[0m\u001b[0;34m.\u001b[0m\u001b[0m_move_model_to_device\u001b[0m\u001b[0;34m(\u001b[0m\u001b[0mmodel\u001b[0m\u001b[0;34m,\u001b[0m \u001b[0margs\u001b[0m\u001b[0;34m.\u001b[0m\u001b[0mdevice\u001b[0m\u001b[0;34m)\u001b[0m\u001b[0;34m\u001b[0m\u001b[0;34m\u001b[0m\u001b[0m\n\u001b[0m\u001b[1;32m    482\u001b[0m \u001b[0;34m\u001b[0m\u001b[0m\n\u001b[1;32m    483\u001b[0m         \u001b[0;31m# Force n_gpu to 1 to avoid DataParallel as MP will manage the GPUs\u001b[0m\u001b[0;34m\u001b[0m\u001b[0;34m\u001b[0m\u001b[0m\n",
            "\u001b[0;32m/usr/local/lib/python3.10/dist-packages/transformers/trainer.py\u001b[0m in \u001b[0;36m_move_model_to_device\u001b[0;34m(self, model, device)\u001b[0m\n\u001b[1;32m    714\u001b[0m \u001b[0;34m\u001b[0m\u001b[0m\n\u001b[1;32m    715\u001b[0m     \u001b[0;32mdef\u001b[0m \u001b[0m_move_model_to_device\u001b[0m\u001b[0;34m(\u001b[0m\u001b[0mself\u001b[0m\u001b[0;34m,\u001b[0m \u001b[0mmodel\u001b[0m\u001b[0;34m,\u001b[0m \u001b[0mdevice\u001b[0m\u001b[0;34m)\u001b[0m\u001b[0;34m:\u001b[0m\u001b[0;34m\u001b[0m\u001b[0;34m\u001b[0m\u001b[0m\n\u001b[0;32m--> 716\u001b[0;31m         \u001b[0mmodel\u001b[0m \u001b[0;34m=\u001b[0m \u001b[0mmodel\u001b[0m\u001b[0;34m.\u001b[0m\u001b[0mto\u001b[0m\u001b[0;34m(\u001b[0m\u001b[0mdevice\u001b[0m\u001b[0;34m)\u001b[0m\u001b[0;34m\u001b[0m\u001b[0;34m\u001b[0m\u001b[0m\n\u001b[0m\u001b[1;32m    717\u001b[0m         \u001b[0;31m# Moving a model to an XLA device disconnects the tied weights, so we have to retie them.\u001b[0m\u001b[0;34m\u001b[0m\u001b[0;34m\u001b[0m\u001b[0m\n\u001b[1;32m    718\u001b[0m         \u001b[0;32mif\u001b[0m \u001b[0mself\u001b[0m\u001b[0;34m.\u001b[0m\u001b[0margs\u001b[0m\u001b[0;34m.\u001b[0m\u001b[0mparallel_mode\u001b[0m \u001b[0;34m==\u001b[0m \u001b[0mParallelMode\u001b[0m\u001b[0;34m.\u001b[0m\u001b[0mTPU\u001b[0m \u001b[0;32mand\u001b[0m \u001b[0mhasattr\u001b[0m\u001b[0;34m(\u001b[0m\u001b[0mmodel\u001b[0m\u001b[0;34m,\u001b[0m \u001b[0;34m\"tie_weights\"\u001b[0m\u001b[0;34m)\u001b[0m\u001b[0;34m:\u001b[0m\u001b[0;34m\u001b[0m\u001b[0;34m\u001b[0m\u001b[0m\n",
            "\u001b[0;32m/usr/local/lib/python3.10/dist-packages/transformers/modeling_utils.py\u001b[0m in \u001b[0;36mto\u001b[0;34m(self, *args, **kwargs)\u001b[0m\n\u001b[1;32m   2269\u001b[0m                     \u001b[0;34m\" `dtype` by passing the correct `torch_dtype` argument.\"\u001b[0m\u001b[0;34m\u001b[0m\u001b[0;34m\u001b[0m\u001b[0m\n\u001b[1;32m   2270\u001b[0m                 )\n\u001b[0;32m-> 2271\u001b[0;31m         \u001b[0;32mreturn\u001b[0m \u001b[0msuper\u001b[0m\u001b[0;34m(\u001b[0m\u001b[0;34m)\u001b[0m\u001b[0;34m.\u001b[0m\u001b[0mto\u001b[0m\u001b[0;34m(\u001b[0m\u001b[0;34m*\u001b[0m\u001b[0margs\u001b[0m\u001b[0;34m,\u001b[0m \u001b[0;34m**\u001b[0m\u001b[0mkwargs\u001b[0m\u001b[0;34m)\u001b[0m\u001b[0;34m\u001b[0m\u001b[0;34m\u001b[0m\u001b[0m\n\u001b[0m\u001b[1;32m   2272\u001b[0m \u001b[0;34m\u001b[0m\u001b[0m\n\u001b[1;32m   2273\u001b[0m     \u001b[0;32mdef\u001b[0m \u001b[0mhalf\u001b[0m\u001b[0;34m(\u001b[0m\u001b[0mself\u001b[0m\u001b[0;34m,\u001b[0m \u001b[0;34m*\u001b[0m\u001b[0margs\u001b[0m\u001b[0;34m)\u001b[0m\u001b[0;34m:\u001b[0m\u001b[0;34m\u001b[0m\u001b[0;34m\u001b[0m\u001b[0m\n",
            "\u001b[0;32m/usr/local/lib/python3.10/dist-packages/torch/nn/modules/module.py\u001b[0m in \u001b[0;36mto\u001b[0;34m(self, *args, **kwargs)\u001b[0m\n\u001b[1;32m   1158\u001b[0m             \u001b[0;32mreturn\u001b[0m \u001b[0mt\u001b[0m\u001b[0;34m.\u001b[0m\u001b[0mto\u001b[0m\u001b[0;34m(\u001b[0m\u001b[0mdevice\u001b[0m\u001b[0;34m,\u001b[0m \u001b[0mdtype\u001b[0m \u001b[0;32mif\u001b[0m \u001b[0mt\u001b[0m\u001b[0;34m.\u001b[0m\u001b[0mis_floating_point\u001b[0m\u001b[0;34m(\u001b[0m\u001b[0;34m)\u001b[0m \u001b[0;32mor\u001b[0m \u001b[0mt\u001b[0m\u001b[0;34m.\u001b[0m\u001b[0mis_complex\u001b[0m\u001b[0;34m(\u001b[0m\u001b[0;34m)\u001b[0m \u001b[0;32melse\u001b[0m \u001b[0;32mNone\u001b[0m\u001b[0;34m,\u001b[0m \u001b[0mnon_blocking\u001b[0m\u001b[0;34m)\u001b[0m\u001b[0;34m\u001b[0m\u001b[0;34m\u001b[0m\u001b[0m\n\u001b[1;32m   1159\u001b[0m \u001b[0;34m\u001b[0m\u001b[0m\n\u001b[0;32m-> 1160\u001b[0;31m         \u001b[0;32mreturn\u001b[0m \u001b[0mself\u001b[0m\u001b[0;34m.\u001b[0m\u001b[0m_apply\u001b[0m\u001b[0;34m(\u001b[0m\u001b[0mconvert\u001b[0m\u001b[0;34m)\u001b[0m\u001b[0;34m\u001b[0m\u001b[0;34m\u001b[0m\u001b[0m\n\u001b[0m\u001b[1;32m   1161\u001b[0m \u001b[0;34m\u001b[0m\u001b[0m\n\u001b[1;32m   1162\u001b[0m     def register_full_backward_pre_hook(\n",
            "\u001b[0;32m/usr/local/lib/python3.10/dist-packages/torch/nn/modules/module.py\u001b[0m in \u001b[0;36m_apply\u001b[0;34m(self, fn, recurse)\u001b[0m\n\u001b[1;32m    808\u001b[0m         \u001b[0;32mif\u001b[0m \u001b[0mrecurse\u001b[0m\u001b[0;34m:\u001b[0m\u001b[0;34m\u001b[0m\u001b[0;34m\u001b[0m\u001b[0m\n\u001b[1;32m    809\u001b[0m             \u001b[0;32mfor\u001b[0m \u001b[0mmodule\u001b[0m \u001b[0;32min\u001b[0m \u001b[0mself\u001b[0m\u001b[0;34m.\u001b[0m\u001b[0mchildren\u001b[0m\u001b[0;34m(\u001b[0m\u001b[0;34m)\u001b[0m\u001b[0;34m:\u001b[0m\u001b[0;34m\u001b[0m\u001b[0;34m\u001b[0m\u001b[0m\n\u001b[0;32m--> 810\u001b[0;31m                 \u001b[0mmodule\u001b[0m\u001b[0;34m.\u001b[0m\u001b[0m_apply\u001b[0m\u001b[0;34m(\u001b[0m\u001b[0mfn\u001b[0m\u001b[0;34m)\u001b[0m\u001b[0;34m\u001b[0m\u001b[0;34m\u001b[0m\u001b[0m\n\u001b[0m\u001b[1;32m    811\u001b[0m \u001b[0;34m\u001b[0m\u001b[0m\n\u001b[1;32m    812\u001b[0m         \u001b[0;32mdef\u001b[0m \u001b[0mcompute_should_use_set_data\u001b[0m\u001b[0;34m(\u001b[0m\u001b[0mtensor\u001b[0m\u001b[0;34m,\u001b[0m \u001b[0mtensor_applied\u001b[0m\u001b[0;34m)\u001b[0m\u001b[0;34m:\u001b[0m\u001b[0;34m\u001b[0m\u001b[0;34m\u001b[0m\u001b[0m\n",
            "\u001b[0;32m/usr/local/lib/python3.10/dist-packages/torch/nn/modules/module.py\u001b[0m in \u001b[0;36m_apply\u001b[0;34m(self, fn, recurse)\u001b[0m\n\u001b[1;32m    808\u001b[0m         \u001b[0;32mif\u001b[0m \u001b[0mrecurse\u001b[0m\u001b[0;34m:\u001b[0m\u001b[0;34m\u001b[0m\u001b[0;34m\u001b[0m\u001b[0m\n\u001b[1;32m    809\u001b[0m             \u001b[0;32mfor\u001b[0m \u001b[0mmodule\u001b[0m \u001b[0;32min\u001b[0m \u001b[0mself\u001b[0m\u001b[0;34m.\u001b[0m\u001b[0mchildren\u001b[0m\u001b[0;34m(\u001b[0m\u001b[0;34m)\u001b[0m\u001b[0;34m:\u001b[0m\u001b[0;34m\u001b[0m\u001b[0;34m\u001b[0m\u001b[0m\n\u001b[0;32m--> 810\u001b[0;31m                 \u001b[0mmodule\u001b[0m\u001b[0;34m.\u001b[0m\u001b[0m_apply\u001b[0m\u001b[0;34m(\u001b[0m\u001b[0mfn\u001b[0m\u001b[0;34m)\u001b[0m\u001b[0;34m\u001b[0m\u001b[0;34m\u001b[0m\u001b[0m\n\u001b[0m\u001b[1;32m    811\u001b[0m \u001b[0;34m\u001b[0m\u001b[0m\n\u001b[1;32m    812\u001b[0m         \u001b[0;32mdef\u001b[0m \u001b[0mcompute_should_use_set_data\u001b[0m\u001b[0;34m(\u001b[0m\u001b[0mtensor\u001b[0m\u001b[0;34m,\u001b[0m \u001b[0mtensor_applied\u001b[0m\u001b[0;34m)\u001b[0m\u001b[0;34m:\u001b[0m\u001b[0;34m\u001b[0m\u001b[0;34m\u001b[0m\u001b[0m\n",
            "\u001b[0;32m/usr/local/lib/python3.10/dist-packages/torch/nn/modules/module.py\u001b[0m in \u001b[0;36m_apply\u001b[0;34m(self, fn, recurse)\u001b[0m\n\u001b[1;32m    808\u001b[0m         \u001b[0;32mif\u001b[0m \u001b[0mrecurse\u001b[0m\u001b[0;34m:\u001b[0m\u001b[0;34m\u001b[0m\u001b[0;34m\u001b[0m\u001b[0m\n\u001b[1;32m    809\u001b[0m             \u001b[0;32mfor\u001b[0m \u001b[0mmodule\u001b[0m \u001b[0;32min\u001b[0m \u001b[0mself\u001b[0m\u001b[0;34m.\u001b[0m\u001b[0mchildren\u001b[0m\u001b[0;34m(\u001b[0m\u001b[0;34m)\u001b[0m\u001b[0;34m:\u001b[0m\u001b[0;34m\u001b[0m\u001b[0;34m\u001b[0m\u001b[0m\n\u001b[0;32m--> 810\u001b[0;31m                 \u001b[0mmodule\u001b[0m\u001b[0;34m.\u001b[0m\u001b[0m_apply\u001b[0m\u001b[0;34m(\u001b[0m\u001b[0mfn\u001b[0m\u001b[0;34m)\u001b[0m\u001b[0;34m\u001b[0m\u001b[0;34m\u001b[0m\u001b[0m\n\u001b[0m\u001b[1;32m    811\u001b[0m \u001b[0;34m\u001b[0m\u001b[0m\n\u001b[1;32m    812\u001b[0m         \u001b[0;32mdef\u001b[0m \u001b[0mcompute_should_use_set_data\u001b[0m\u001b[0;34m(\u001b[0m\u001b[0mtensor\u001b[0m\u001b[0;34m,\u001b[0m \u001b[0mtensor_applied\u001b[0m\u001b[0;34m)\u001b[0m\u001b[0;34m:\u001b[0m\u001b[0;34m\u001b[0m\u001b[0;34m\u001b[0m\u001b[0m\n",
            "\u001b[0;32m/usr/local/lib/python3.10/dist-packages/torch/nn/modules/module.py\u001b[0m in \u001b[0;36m_apply\u001b[0;34m(self, fn, recurse)\u001b[0m\n\u001b[1;32m    831\u001b[0m             \u001b[0;31m# `with torch.no_grad():`\u001b[0m\u001b[0;34m\u001b[0m\u001b[0;34m\u001b[0m\u001b[0m\n\u001b[1;32m    832\u001b[0m             \u001b[0;32mwith\u001b[0m \u001b[0mtorch\u001b[0m\u001b[0;34m.\u001b[0m\u001b[0mno_grad\u001b[0m\u001b[0;34m(\u001b[0m\u001b[0;34m)\u001b[0m\u001b[0;34m:\u001b[0m\u001b[0;34m\u001b[0m\u001b[0;34m\u001b[0m\u001b[0m\n\u001b[0;32m--> 833\u001b[0;31m                 \u001b[0mparam_applied\u001b[0m \u001b[0;34m=\u001b[0m \u001b[0mfn\u001b[0m\u001b[0;34m(\u001b[0m\u001b[0mparam\u001b[0m\u001b[0;34m)\u001b[0m\u001b[0;34m\u001b[0m\u001b[0;34m\u001b[0m\u001b[0m\n\u001b[0m\u001b[1;32m    834\u001b[0m             \u001b[0mshould_use_set_data\u001b[0m \u001b[0;34m=\u001b[0m \u001b[0mcompute_should_use_set_data\u001b[0m\u001b[0;34m(\u001b[0m\u001b[0mparam\u001b[0m\u001b[0;34m,\u001b[0m \u001b[0mparam_applied\u001b[0m\u001b[0;34m)\u001b[0m\u001b[0;34m\u001b[0m\u001b[0;34m\u001b[0m\u001b[0m\n\u001b[1;32m    835\u001b[0m             \u001b[0;32mif\u001b[0m \u001b[0mshould_use_set_data\u001b[0m\u001b[0;34m:\u001b[0m\u001b[0;34m\u001b[0m\u001b[0;34m\u001b[0m\u001b[0m\n",
            "\u001b[0;32m/usr/local/lib/python3.10/dist-packages/torch/nn/modules/module.py\u001b[0m in \u001b[0;36mconvert\u001b[0;34m(t)\u001b[0m\n\u001b[1;32m   1156\u001b[0m                 return t.to(device, dtype if t.is_floating_point() or t.is_complex() else None,\n\u001b[1;32m   1157\u001b[0m                             non_blocking, memory_format=convert_to_format)\n\u001b[0;32m-> 1158\u001b[0;31m             \u001b[0;32mreturn\u001b[0m \u001b[0mt\u001b[0m\u001b[0;34m.\u001b[0m\u001b[0mto\u001b[0m\u001b[0;34m(\u001b[0m\u001b[0mdevice\u001b[0m\u001b[0;34m,\u001b[0m \u001b[0mdtype\u001b[0m \u001b[0;32mif\u001b[0m \u001b[0mt\u001b[0m\u001b[0;34m.\u001b[0m\u001b[0mis_floating_point\u001b[0m\u001b[0;34m(\u001b[0m\u001b[0;34m)\u001b[0m \u001b[0;32mor\u001b[0m \u001b[0mt\u001b[0m\u001b[0;34m.\u001b[0m\u001b[0mis_complex\u001b[0m\u001b[0;34m(\u001b[0m\u001b[0;34m)\u001b[0m \u001b[0;32melse\u001b[0m \u001b[0;32mNone\u001b[0m\u001b[0;34m,\u001b[0m \u001b[0mnon_blocking\u001b[0m\u001b[0;34m)\u001b[0m\u001b[0;34m\u001b[0m\u001b[0;34m\u001b[0m\u001b[0m\n\u001b[0m\u001b[1;32m   1159\u001b[0m \u001b[0;34m\u001b[0m\u001b[0m\n\u001b[1;32m   1160\u001b[0m         \u001b[0;32mreturn\u001b[0m \u001b[0mself\u001b[0m\u001b[0;34m.\u001b[0m\u001b[0m_apply\u001b[0m\u001b[0;34m(\u001b[0m\u001b[0mconvert\u001b[0m\u001b[0;34m)\u001b[0m\u001b[0;34m\u001b[0m\u001b[0;34m\u001b[0m\u001b[0m\n",
            "\u001b[0;31mKeyboardInterrupt\u001b[0m: "
          ]
        }
      ]
    },
    {
      "cell_type": "markdown",
      "source": [
        "an 83.6% balanced accuracy is good! However from inspection of predicitons we can see our training loss starts to creep up."
      ],
      "metadata": {
        "id": "1Uvs8OiwD47Z"
      }
    },
    {
      "cell_type": "code",
      "source": [
        "tf_model = finetune_transformer(tf_model=tf_model,\n",
        "                                tokenised_train=tokenised_train,\n",
        "                                tokenised_test=tokenised_sample)"
      ],
      "metadata": {
        "colab": {
          "base_uri": "https://localhost:8080/",
          "height": 594
        },
        "id": "kAhQKVgqZlvV",
        "outputId": "b4488d96-f6c4-4eb8-eabc-709e8de198cc"
      },
      "execution_count": 21,
      "outputs": [
        {
          "output_type": "stream",
          "name": "stderr",
          "text": [
            "You're using a RobertaTokenizerFast tokenizer. Please note that with a fast tokenizer, using the `__call__` method is faster than using a method to encode the text followed by a call to the `pad` method to get a padded encoding.\n"
          ]
        },
        {
          "output_type": "display_data",
          "data": {
            "text/plain": [
              "<IPython.core.display.HTML object>"
            ],
            "text/html": [
              "\n",
              "    <div>\n",
              "      \n",
              "      <progress value='300' max='300' style='width:300px; height:20px; vertical-align: middle;'></progress>\n",
              "      [300/300 17:34, Epoch 19/20]\n",
              "    </div>\n",
              "    <table border=\"1\" class=\"dataframe\">\n",
              "  <thead>\n",
              " <tr style=\"text-align: left;\">\n",
              "      <th>Epoch</th>\n",
              "      <th>Training Loss</th>\n",
              "      <th>Validation Loss</th>\n",
              "      <th>Balanced Accuracy</th>\n",
              "    </tr>\n",
              "  </thead>\n",
              "  <tbody>\n",
              "    <tr>\n",
              "      <td>0</td>\n",
              "      <td>1.362900</td>\n",
              "      <td>0.007803</td>\n",
              "      <td>1.000000</td>\n",
              "    </tr>\n",
              "    <tr>\n",
              "      <td>1</td>\n",
              "      <td>1.240300</td>\n",
              "      <td>0.008313</td>\n",
              "      <td>1.000000</td>\n",
              "    </tr>\n",
              "    <tr>\n",
              "      <td>2</td>\n",
              "      <td>1.279700</td>\n",
              "      <td>0.009317</td>\n",
              "      <td>1.000000</td>\n",
              "    </tr>\n",
              "    <tr>\n",
              "      <td>4</td>\n",
              "      <td>1.151800</td>\n",
              "      <td>0.013608</td>\n",
              "      <td>1.000000</td>\n",
              "    </tr>\n",
              "    <tr>\n",
              "      <td>5</td>\n",
              "      <td>1.041500</td>\n",
              "      <td>0.016793</td>\n",
              "      <td>1.000000</td>\n",
              "    </tr>\n",
              "    <tr>\n",
              "      <td>6</td>\n",
              "      <td>0.909900</td>\n",
              "      <td>0.022602</td>\n",
              "      <td>1.000000</td>\n",
              "    </tr>\n",
              "    <tr>\n",
              "      <td>8</td>\n",
              "      <td>0.752800</td>\n",
              "      <td>0.042116</td>\n",
              "      <td>1.000000</td>\n",
              "    </tr>\n",
              "    <tr>\n",
              "      <td>9</td>\n",
              "      <td>0.614100</td>\n",
              "      <td>0.059571</td>\n",
              "      <td>1.000000</td>\n",
              "    </tr>\n",
              "    <tr>\n",
              "      <td>10</td>\n",
              "      <td>0.539800</td>\n",
              "      <td>0.079565</td>\n",
              "      <td>1.000000</td>\n",
              "    </tr>\n",
              "    <tr>\n",
              "      <td>12</td>\n",
              "      <td>0.460900</td>\n",
              "      <td>0.111570</td>\n",
              "      <td>1.000000</td>\n",
              "    </tr>\n",
              "    <tr>\n",
              "      <td>13</td>\n",
              "      <td>0.418700</td>\n",
              "      <td>0.119152</td>\n",
              "      <td>1.000000</td>\n",
              "    </tr>\n",
              "    <tr>\n",
              "      <td>14</td>\n",
              "      <td>0.388300</td>\n",
              "      <td>0.132553</td>\n",
              "      <td>1.000000</td>\n",
              "    </tr>\n",
              "    <tr>\n",
              "      <td>16</td>\n",
              "      <td>0.369800</td>\n",
              "      <td>0.118740</td>\n",
              "      <td>1.000000</td>\n",
              "    </tr>\n",
              "    <tr>\n",
              "      <td>17</td>\n",
              "      <td>0.339900</td>\n",
              "      <td>0.115817</td>\n",
              "      <td>1.000000</td>\n",
              "    </tr>\n",
              "    <tr>\n",
              "      <td>18</td>\n",
              "      <td>0.330000</td>\n",
              "      <td>0.108775</td>\n",
              "      <td>1.000000</td>\n",
              "    </tr>\n",
              "    <tr>\n",
              "      <td>19</td>\n",
              "      <td>0.427700</td>\n",
              "      <td>0.108182</td>\n",
              "      <td>1.000000</td>\n",
              "    </tr>\n",
              "  </tbody>\n",
              "</table><p>"
            ]
          },
          "metadata": {}
        }
      ]
    },
    {
      "cell_type": "markdown",
      "source": [
        "Now that is a better result than before, this leads us to believe it is more generalisable!"
      ],
      "metadata": {
        "id": "wFk1jiVxecdS"
      }
    },
    {
      "cell_type": "markdown",
      "source": [
        "\n",
        "\n",
        "---\n",
        "\n",
        "\n",
        "\n",
        "| Embedding/Model | Run time over 22400 documents | Comments |\n",
        "| --- | --- | --- |\n",
        "| BoW - Logistic regression | >30hours | Unfeesable run time for large vocabularies. Large storage required (every edcoding is of length len(vocab)+1). |\n",
        "| TF-IDF - Logistic regression | ≈10s | Much faster, large space requirements, not generalisable .|\n",
        "| Word2Vec | ≈30s | Feesably fast, much less space requirements (embeddings of length 100.) Able to classify outside of the dataset.  |\n",
        "| Transformer | ≈15min (reduced data) | Slower, results seem to generalise. |"
      ],
      "metadata": {
        "id": "lGPzkoCki2Oc"
      }
    },
    {
      "cell_type": "markdown",
      "source": [
        "# Data at scale"
      ],
      "metadata": {
        "id": "gTXWFBKZrNbC"
      }
    },
    {
      "cell_type": "markdown",
      "source": [
        "From the work above, the tranformer seems to generalise best. This is to be expected due to tranfer learning, the model is already trained on a *massive* corous of text related to the issue.\n",
        "\n",
        "An issue seems to be the runtime of the model, at almost 15 minute run time for the small_train and small_test dataset. One approach to solving this issue is model parallelism. This approach seeks to improve runtime by slippting up the data in certain ways, and asking multiple gpu/tpu's to complete the task in unison, syncronising together each step.\n",
        "\n",
        "`Hugging face` introduces different notions of model parallelism (https://huggingface.co/docs/transformers/v4.15.0/parallelism#concepts):\n",
        "\n",
        "\n",
        "\n",
        "1.   DataParallel (DP) - the same setup is replicated multiple times, and each being fed a slice of the data. The processing is done in parallel and all setups are synchronized at the end of each training step.\n",
        "2.   TensorParallel (TP) - each tensor is split up into multiple chunks, so instead of having the whole tensor reside on a single gpu, each shard of the tensor resides on its designated gpu. During processing each shard gets processed separately and in parallel on different GPUs and the results are synced at the end of the step. This is what one may call horizontal parallelism, as the splitting happens on horizontal level.\n",
        "3.   PipelineParallel (PP) - the model is split up vertically (layer-level) across multiple GPUs, so that only one or several layers of the model are places on a single gpu. Each gpu processes in parallel different stages of the pipeline and working on a small chunk of the batch.\n",
        "4.   Zero Redundancy Optimizer (ZeRO) - Also performs sharding of the tensors somewhat similar to TP, except the whole tensor gets reconstructed in time for a forward or backward computation, therefore the model doesn’t need to be modified. It also supports various offloading techniques to compensate for limited GPU memory."
      ],
      "metadata": {
        "id": "wQMYM1murN3b"
      }
    },
    {
      "cell_type": "markdown",
      "source": [
        "The hugging face trainer allows for the implementation of the third-party solution **[deep speed](https://github.com/microsoft/DeepSpeed)**.\n",
        "\n",
        "(Rajbhandari, S., Rasley, J., Ruwase, O. and He, Y., 2020, November. Zero: Memory optimizations toward training trillion parameter models. In SC20: International Conference for High Performance Computing, Networking, Storage and Analysis (pp. 1-16). IEEE.)"
      ],
      "metadata": {
        "id": "xk94c4SStnfp"
      }
    },
    {
      "cell_type": "code",
      "source": [
        "!pip install deepspeed"
      ],
      "metadata": {
        "colab": {
          "base_uri": "https://localhost:8080/"
        },
        "id": "ACkXkZPguijh",
        "outputId": "bbf3a0df-bec4-4166-bfa3-ee2e7116357b"
      },
      "execution_count": 18,
      "outputs": [
        {
          "output_type": "stream",
          "name": "stdout",
          "text": [
            "Requirement already satisfied: deepspeed in /usr/local/lib/python3.10/dist-packages (0.12.3)\n",
            "Requirement already satisfied: hjson in /usr/local/lib/python3.10/dist-packages (from deepspeed) (3.1.0)\n",
            "Requirement already satisfied: ninja in /usr/local/lib/python3.10/dist-packages (from deepspeed) (1.11.1.1)\n",
            "Requirement already satisfied: numpy in /usr/local/lib/python3.10/dist-packages (from deepspeed) (1.23.5)\n",
            "Requirement already satisfied: packaging>=20.0 in /usr/local/lib/python3.10/dist-packages (from deepspeed) (23.2)\n",
            "Requirement already satisfied: psutil in /usr/local/lib/python3.10/dist-packages (from deepspeed) (5.9.5)\n",
            "Requirement already satisfied: py-cpuinfo in /usr/local/lib/python3.10/dist-packages (from deepspeed) (9.0.0)\n",
            "Requirement already satisfied: pydantic in /usr/local/lib/python3.10/dist-packages (from deepspeed) (1.10.13)\n",
            "Requirement already satisfied: pynvml in /usr/local/lib/python3.10/dist-packages (from deepspeed) (11.5.0)\n",
            "Requirement already satisfied: torch in /usr/local/lib/python3.10/dist-packages (from deepspeed) (2.1.0+cu118)\n",
            "Requirement already satisfied: tqdm in /usr/local/lib/python3.10/dist-packages (from deepspeed) (4.66.1)\n",
            "Requirement already satisfied: typing-extensions>=4.2.0 in /usr/local/lib/python3.10/dist-packages (from pydantic->deepspeed) (4.5.0)\n",
            "Requirement already satisfied: filelock in /usr/local/lib/python3.10/dist-packages (from torch->deepspeed) (3.13.1)\n",
            "Requirement already satisfied: sympy in /usr/local/lib/python3.10/dist-packages (from torch->deepspeed) (1.12)\n",
            "Requirement already satisfied: networkx in /usr/local/lib/python3.10/dist-packages (from torch->deepspeed) (3.2.1)\n",
            "Requirement already satisfied: jinja2 in /usr/local/lib/python3.10/dist-packages (from torch->deepspeed) (3.1.2)\n",
            "Requirement already satisfied: fsspec in /usr/local/lib/python3.10/dist-packages (from torch->deepspeed) (2023.6.0)\n",
            "Requirement already satisfied: triton==2.1.0 in /usr/local/lib/python3.10/dist-packages (from torch->deepspeed) (2.1.0)\n",
            "Requirement already satisfied: MarkupSafe>=2.0 in /usr/local/lib/python3.10/dist-packages (from jinja2->torch->deepspeed) (2.1.3)\n",
            "Requirement already satisfied: mpmath>=0.19 in /usr/local/lib/python3.10/dist-packages (from sympy->torch->deepspeed) (1.3.0)\n"
          ]
        }
      ]
    },
    {
      "cell_type": "code",
      "source": [],
      "metadata": {
        "id": "hT_C-yEYvF_t"
      },
      "execution_count": 55,
      "outputs": []
    },
    {
      "cell_type": "code",
      "source": [
        "def finetune_transformer_deepspeed(tf_model,\n",
        "                         tokenised_train: Dataset,\n",
        "                         tokenised_test: Dataset):\n",
        "    '''Train transformer model.\n",
        "\n",
        "    Args:\n",
        "        tf_model (HuggingFace Transformer):\n",
        "            Pretrained transformer.\n",
        "        tokenised_train (Dataset):\n",
        "            Tokenised train dataset.\n",
        "        tokenised_test (Dataset):\n",
        "            Tokenised test dataset.\n",
        "\n",
        "    Returns:\n",
        "      HuggingFace Transformer:\n",
        "          Finetuned transformer.\n",
        "    '''\n",
        "    # Set up training arguments\n",
        "    deepspeed= \"ds_config_zero3.json\"\n",
        "    tf_logging.set_verbosity_warning()\n",
        "    training_args = TrainingArguments(\n",
        "        output_dir='.',\n",
        "        evaluation_strategy='epoch',\n",
        "        logging_strategy='epoch',\n",
        "        save_strategy='epoch',\n",
        "        num_train_epochs=5,\n",
        "        per_device_train_batch_size=8,\n",
        "        per_device_eval_batch_size=8,\n",
        "        gradient_accumulation_steps=4,\n",
        "        learning_rate=2e-5,\n",
        "        warmup_steps=len(train) // 8,\n",
        "        save_total_limit=1,\n",
        "        load_best_model_at_end=True,\n",
        "        deepspeed= {\n",
        "    \"fp16\": {\n",
        "        \"enabled\": \"auto\",\n",
        "        \"loss_scale\": 0,\n",
        "        \"loss_scale_window\": 1000,\n",
        "        \"initial_scale_power\": 16,\n",
        "        \"hysteresis\": 2,\n",
        "        \"min_loss_scale\": 1\n",
        "    },\n",
        "\n",
        "    \"optimizer\": {\n",
        "        \"type\": \"AdamW\",\n",
        "        \"params\": {\n",
        "            \"lr\": \"auto\",\n",
        "            \"betas\": \"auto\",\n",
        "            \"eps\": \"auto\",\n",
        "            \"weight_decay\": \"auto\"\n",
        "        }\n",
        "    },\n",
        "\n",
        "    \"scheduler\": {\n",
        "        \"type\": \"WarmupLR\",\n",
        "        \"params\": {\n",
        "            \"warmup_min_lr\": \"auto\",\n",
        "            \"warmup_max_lr\": \"auto\",\n",
        "            \"warmup_num_steps\": \"auto\"\n",
        "        }\n",
        "    },\n",
        "\n",
        "    \"zero_optimization\": {\n",
        "        \"stage\": 3,\n",
        "        \"offload_optimizer\": {\n",
        "            \"device\": \"cpu\",\n",
        "            \"pin_memory\": True\n",
        "        },\n",
        "        \"offload_param\": {\n",
        "            \"device\": \"cpu\",\n",
        "            \"pin_memory\": True\n",
        "        },\n",
        "        \"overlap_comm\": True,\n",
        "        \"contiguous_gradients\": True,\n",
        "        \"sub_group_size\": 1e9,\n",
        "        \"reduce_bucket_size\": \"auto\",\n",
        "        \"stage3_prefetch_bucket_size\": \"auto\",\n",
        "        \"stage3_param_persistence_threshold\": \"auto\",\n",
        "        \"stage3_max_live_parameters\": 1e9,\n",
        "        \"stage3_max_reuse_distance\": 1e9,\n",
        "        \"stage3_gather_16bit_weights_on_model_save\": True\n",
        "    },\n",
        "\n",
        "    \"gradient_accumulation_steps\": \"auto\",\n",
        "    \"gradient_clipping\": \"auto\",\n",
        "    \"steps_per_print\": 2000,\n",
        "    \"train_batch_size\": \"auto\",\n",
        "    \"train_micro_batch_size_per_gpu\": \"auto\",\n",
        "    \"wall_clock_breakdown\": False\n",
        "}\n",
        "    )\n",
        "\n",
        "    def compute_metrics(predictions_and_labels: tuple) -> dict:\n",
        "        '''Helper function to compute the balanced accuracy'''\n",
        "        predictions, generated = predictions_and_labels\n",
        "        predictions = predictions.argmax(axis=-1)\n",
        "        results = balanced_accuracy_score(generated, predictions)\n",
        "        #print(generated)\n",
        "        #print(predictions)\n",
        "        return dict(balanced_accuracy=results)\n",
        "    import os\n",
        "\n",
        "    os.environ[\"MASTER_ADDR\"] = \"localhost\"\n",
        "    os.environ[\"MASTER_PORT\"] = \"9994\"  # modify if RuntimeError: Address already in use\n",
        "    os.environ[\"RANK\"] = \"0\"\n",
        "    os.environ[\"LOCAL_RANK\"] = \"0\"\n",
        "    os.environ[\"WORLD_SIZE\"] = \"1\"\n",
        "    # Initialise the Trainer object\n",
        "    trainer = Trainer(model=tf_model,\n",
        "                      args=training_args,\n",
        "                      train_dataset=tokenised_train,\n",
        "                      eval_dataset=tokenised_test,\n",
        "                      tokenizer=tokeniser,\n",
        "                      compute_metrics=compute_metrics)\n",
        "\n",
        "    # Train\n",
        "    trainer.train()\n",
        "\n",
        "    return tf_model\n",
        "\n"
      ],
      "metadata": {
        "id": "TrSd2AjbvvMr"
      },
      "execution_count": 19,
      "outputs": []
    },
    {
      "cell_type": "code",
      "source": [
        "!pip install transformers datasets accelerate nvidia-ml-py3"
      ],
      "metadata": {
        "colab": {
          "base_uri": "https://localhost:8080/"
        },
        "id": "W6ST4hZBx2Vs",
        "outputId": "fd489869-a4cd-42ec-be7c-c0cc57448900"
      },
      "execution_count": 20,
      "outputs": [
        {
          "output_type": "stream",
          "name": "stdout",
          "text": [
            "Requirement already satisfied: transformers in /usr/local/lib/python3.10/dist-packages (4.35.2)\n",
            "Requirement already satisfied: datasets in /usr/local/lib/python3.10/dist-packages (2.15.0)\n",
            "Requirement already satisfied: accelerate in /usr/local/lib/python3.10/dist-packages (0.24.1)\n",
            "Requirement already satisfied: nvidia-ml-py3 in /usr/local/lib/python3.10/dist-packages (7.352.0)\n",
            "Requirement already satisfied: filelock in /usr/local/lib/python3.10/dist-packages (from transformers) (3.13.1)\n",
            "Requirement already satisfied: huggingface-hub<1.0,>=0.16.4 in /usr/local/lib/python3.10/dist-packages (from transformers) (0.19.4)\n",
            "Requirement already satisfied: numpy>=1.17 in /usr/local/lib/python3.10/dist-packages (from transformers) (1.23.5)\n",
            "Requirement already satisfied: packaging>=20.0 in /usr/local/lib/python3.10/dist-packages (from transformers) (23.2)\n",
            "Requirement already satisfied: pyyaml>=5.1 in /usr/local/lib/python3.10/dist-packages (from transformers) (6.0.1)\n",
            "Requirement already satisfied: regex!=2019.12.17 in /usr/local/lib/python3.10/dist-packages (from transformers) (2023.6.3)\n",
            "Requirement already satisfied: requests in /usr/local/lib/python3.10/dist-packages (from transformers) (2.31.0)\n",
            "Requirement already satisfied: tokenizers<0.19,>=0.14 in /usr/local/lib/python3.10/dist-packages (from transformers) (0.15.0)\n",
            "Requirement already satisfied: safetensors>=0.3.1 in /usr/local/lib/python3.10/dist-packages (from transformers) (0.4.0)\n",
            "Requirement already satisfied: tqdm>=4.27 in /usr/local/lib/python3.10/dist-packages (from transformers) (4.66.1)\n",
            "Requirement already satisfied: pyarrow>=8.0.0 in /usr/local/lib/python3.10/dist-packages (from datasets) (9.0.0)\n",
            "Requirement already satisfied: pyarrow-hotfix in /usr/local/lib/python3.10/dist-packages (from datasets) (0.6)\n",
            "Requirement already satisfied: dill<0.3.8,>=0.3.0 in /usr/local/lib/python3.10/dist-packages (from datasets) (0.3.7)\n",
            "Requirement already satisfied: pandas in /usr/local/lib/python3.10/dist-packages (from datasets) (1.5.3)\n",
            "Requirement already satisfied: xxhash in /usr/local/lib/python3.10/dist-packages (from datasets) (3.4.1)\n",
            "Requirement already satisfied: multiprocess in /usr/local/lib/python3.10/dist-packages (from datasets) (0.70.15)\n",
            "Requirement already satisfied: fsspec[http]<=2023.10.0,>=2023.1.0 in /usr/local/lib/python3.10/dist-packages (from datasets) (2023.6.0)\n",
            "Requirement already satisfied: aiohttp in /usr/local/lib/python3.10/dist-packages (from datasets) (3.8.6)\n",
            "Requirement already satisfied: psutil in /usr/local/lib/python3.10/dist-packages (from accelerate) (5.9.5)\n",
            "Requirement already satisfied: torch>=1.10.0 in /usr/local/lib/python3.10/dist-packages (from accelerate) (2.1.0+cu118)\n",
            "Requirement already satisfied: attrs>=17.3.0 in /usr/local/lib/python3.10/dist-packages (from aiohttp->datasets) (23.1.0)\n",
            "Requirement already satisfied: charset-normalizer<4.0,>=2.0 in /usr/local/lib/python3.10/dist-packages (from aiohttp->datasets) (3.3.2)\n",
            "Requirement already satisfied: multidict<7.0,>=4.5 in /usr/local/lib/python3.10/dist-packages (from aiohttp->datasets) (6.0.4)\n",
            "Requirement already satisfied: async-timeout<5.0,>=4.0.0a3 in /usr/local/lib/python3.10/dist-packages (from aiohttp->datasets) (4.0.3)\n",
            "Requirement already satisfied: yarl<2.0,>=1.0 in /usr/local/lib/python3.10/dist-packages (from aiohttp->datasets) (1.9.2)\n",
            "Requirement already satisfied: frozenlist>=1.1.1 in /usr/local/lib/python3.10/dist-packages (from aiohttp->datasets) (1.4.0)\n",
            "Requirement already satisfied: aiosignal>=1.1.2 in /usr/local/lib/python3.10/dist-packages (from aiohttp->datasets) (1.3.1)\n",
            "Requirement already satisfied: typing-extensions>=3.7.4.3 in /usr/local/lib/python3.10/dist-packages (from huggingface-hub<1.0,>=0.16.4->transformers) (4.5.0)\n",
            "Requirement already satisfied: idna<4,>=2.5 in /usr/local/lib/python3.10/dist-packages (from requests->transformers) (3.4)\n",
            "Requirement already satisfied: urllib3<3,>=1.21.1 in /usr/local/lib/python3.10/dist-packages (from requests->transformers) (2.0.7)\n",
            "Requirement already satisfied: certifi>=2017.4.17 in /usr/local/lib/python3.10/dist-packages (from requests->transformers) (2023.7.22)\n",
            "Requirement already satisfied: sympy in /usr/local/lib/python3.10/dist-packages (from torch>=1.10.0->accelerate) (1.12)\n",
            "Requirement already satisfied: networkx in /usr/local/lib/python3.10/dist-packages (from torch>=1.10.0->accelerate) (3.2.1)\n",
            "Requirement already satisfied: jinja2 in /usr/local/lib/python3.10/dist-packages (from torch>=1.10.0->accelerate) (3.1.2)\n",
            "Requirement already satisfied: triton==2.1.0 in /usr/local/lib/python3.10/dist-packages (from torch>=1.10.0->accelerate) (2.1.0)\n",
            "Requirement already satisfied: python-dateutil>=2.8.1 in /usr/local/lib/python3.10/dist-packages (from pandas->datasets) (2.8.2)\n",
            "Requirement already satisfied: pytz>=2020.1 in /usr/local/lib/python3.10/dist-packages (from pandas->datasets) (2023.3.post1)\n",
            "Requirement already satisfied: six>=1.5 in /usr/local/lib/python3.10/dist-packages (from python-dateutil>=2.8.1->pandas->datasets) (1.16.0)\n",
            "Requirement already satisfied: MarkupSafe>=2.0 in /usr/local/lib/python3.10/dist-packages (from jinja2->torch>=1.10.0->accelerate) (2.1.3)\n",
            "Requirement already satisfied: mpmath>=0.19 in /usr/local/lib/python3.10/dist-packages (from sympy->torch>=1.10.0->accelerate) (1.3.0)\n"
          ]
        }
      ]
    },
    {
      "cell_type": "code",
      "source": [
        "from pynvml import *\n",
        "def print_gpu_utilization():\n",
        "    nvmlInit()\n",
        "    handle = nvmlDeviceGetHandleByIndex(0)\n",
        "    info = nvmlDeviceGetMemoryInfo(handle)\n",
        "    print(f\"GPU memory occupied: {info.used//1024**2} MB.\")\n",
        "\n",
        "def print_summary(result):\n",
        "    print(f\"Time: {result.metrics['train_runtime']:.2f}\")\n",
        "    print(f\"Samples/second: {result.metrics['train_samples_per_second']:.2f}\")\n",
        ""
      ],
      "metadata": {
        "id": "ABO05Evvx5Au"
      },
      "execution_count": 21,
      "outputs": []
    },
    {
      "cell_type": "code",
      "source": [
        "print_gpu_utilization()\n",
        "\n"
      ],
      "metadata": {
        "colab": {
          "base_uri": "https://localhost:8080/"
        },
        "id": "pAFjGS3px7bc",
        "outputId": "a9acd913-362f-42a8-84dd-eb636d4e321c"
      },
      "execution_count": 22,
      "outputs": [
        {
          "output_type": "stream",
          "name": "stdout",
          "text": [
            "GPU memory occupied: 1039 MB.\n"
          ]
        }
      ]
    },
    {
      "cell_type": "code",
      "source": [
        "import torch"
      ],
      "metadata": {
        "id": "qOpqLpLKzVYi"
      },
      "execution_count": 23,
      "outputs": []
    },
    {
      "cell_type": "code",
      "source": [
        "torch.ones((1, 1)).to(\"cuda\")\n",
        "print_gpu_utilization()"
      ],
      "metadata": {
        "id": "D0ZVHOIRzV6H"
      },
      "execution_count": null,
      "outputs": []
    },
    {
      "cell_type": "code",
      "source": [
        "from transformers import AutoModelForSequenceClassification"
      ],
      "metadata": {
        "id": "whnF97dMztAv"
      },
      "execution_count": 24,
      "outputs": []
    },
    {
      "cell_type": "code",
      "source": [
        "tf_model = finetune_transformer_deepspeed(tf_model=tf_model,\n",
        "                                tokenised_train=tokenised_train,\n",
        "                                tokenised_test=tokenised_test)"
      ],
      "metadata": {
        "colab": {
          "base_uri": "https://localhost:8080/",
          "height": 340
        },
        "id": "ENOpXGx6v8YW",
        "outputId": "2e7bb47f-17d7-4d0b-fb78-79934b15d557"
      },
      "execution_count": 26,
      "outputs": [
        {
          "output_type": "stream",
          "name": "stderr",
          "text": [
            "Using /root/.cache/torch_extensions/py310_cu118 as PyTorch extensions root...\n",
            "Detected CUDA files, patching ldflags\n",
            "Emitting ninja build file /root/.cache/torch_extensions/py310_cu118/cpu_adam/build.ninja...\n",
            "Building extension module cpu_adam...\n",
            "Allowing ninja to set a default number of workers... (overridable by setting the environment variable MAX_JOBS=N)\n",
            "Loading extension module cpu_adam...\n"
          ]
        },
        {
          "output_type": "stream",
          "name": "stdout",
          "text": [
            "Time to load cpu_adam op: 3.5441372394561768 seconds\n",
            "Parameter Offload: Total persistent parameters: 124418 in 126 params\n"
          ]
        },
        {
          "output_type": "display_data",
          "data": {
            "text/plain": [
              "<IPython.core.display.HTML object>"
            ],
            "text/html": [
              "\n",
              "    <div>\n",
              "      \n",
              "      <progress value='75' max='75' style='width:300px; height:20px; vertical-align: middle;'></progress>\n",
              "      [75/75 09:39, Epoch 4/5]\n",
              "    </div>\n",
              "    <table border=\"1\" class=\"dataframe\">\n",
              "  <thead>\n",
              " <tr style=\"text-align: left;\">\n",
              "      <th>Epoch</th>\n",
              "      <th>Training Loss</th>\n",
              "      <th>Validation Loss</th>\n",
              "      <th>Balanced Accuracy</th>\n",
              "    </tr>\n",
              "  </thead>\n",
              "  <tbody>\n",
              "    <tr>\n",
              "      <td>0</td>\n",
              "      <td>1.025800</td>\n",
              "      <td>0.984692</td>\n",
              "      <td>0.718360</td>\n",
              "    </tr>\n",
              "    <tr>\n",
              "      <td>1</td>\n",
              "      <td>0.491100</td>\n",
              "      <td>0.582736</td>\n",
              "      <td>0.799911</td>\n",
              "    </tr>\n",
              "    <tr>\n",
              "      <td>2</td>\n",
              "      <td>0.362200</td>\n",
              "      <td>0.434037</td>\n",
              "      <td>0.822193</td>\n",
              "    </tr>\n",
              "    <tr>\n",
              "      <td>4</td>\n",
              "      <td>0.243100</td>\n",
              "      <td>0.338479</td>\n",
              "      <td>0.850713</td>\n",
              "    </tr>\n",
              "  </tbody>\n",
              "</table><p>"
            ]
          },
          "metadata": {}
        }
      ]
    },
    {
      "cell_type": "markdown",
      "source": [
        "Reduced runtime, improved results!"
      ],
      "metadata": {
        "id": "Sm8TEQ4e_ps0"
      }
    },
    {
      "cell_type": "markdown",
      "source": [
        "\n",
        "# To Do\n",
        "\n",
        "*   talk about multi gpu use + how you would do it\n",
        "*   talk about super computer use\n"
      ],
      "metadata": {
        "id": "YaBeNo2C_z4q"
      }
    }
  ]
}