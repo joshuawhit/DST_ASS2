{
  "nbformat": 4,
  "nbformat_minor": 0,
  "metadata": {
    "colab": {
      "provenance": [],
      "gpuType": "T4",
      "include_colab_link": true
    },
    "kernelspec": {
      "name": "python3",
      "display_name": "Python 3"
    },
    "language_info": {
      "name": "python"
    },
    "accelerator": "GPU",
    "widgets": {
      "application/vnd.jupyter.widget-state+json": {
        "f9e965c081f84006865ada936a1c8fdb": {
          "model_module": "@jupyter-widgets/controls",
          "model_name": "HBoxModel",
          "model_module_version": "1.5.0",
          "state": {
            "_dom_classes": [],
            "_model_module": "@jupyter-widgets/controls",
            "_model_module_version": "1.5.0",
            "_model_name": "HBoxModel",
            "_view_count": null,
            "_view_module": "@jupyter-widgets/controls",
            "_view_module_version": "1.5.0",
            "_view_name": "HBoxView",
            "box_style": "",
            "children": [
              "IPY_MODEL_97da2235349d4beabccca98e6976233c",
              "IPY_MODEL_b07e913ba19a4f12a2bce17c81b5582c",
              "IPY_MODEL_464673a544c645e89b1b55d9af1d7734"
            ],
            "layout": "IPY_MODEL_3fa5b6f98d8c492eb44f8f9e7ee9e405"
          }
        },
        "97da2235349d4beabccca98e6976233c": {
          "model_module": "@jupyter-widgets/controls",
          "model_name": "HTMLModel",
          "model_module_version": "1.5.0",
          "state": {
            "_dom_classes": [],
            "_model_module": "@jupyter-widgets/controls",
            "_model_module_version": "1.5.0",
            "_model_name": "HTMLModel",
            "_view_count": null,
            "_view_module": "@jupyter-widgets/controls",
            "_view_module_version": "1.5.0",
            "_view_name": "HTMLView",
            "description": "",
            "description_tooltip": null,
            "layout": "IPY_MODEL_c43e218672c945d1a73dd637061e2556",
            "placeholder": "​",
            "style": "IPY_MODEL_4af18ce718094f518bd451aa00ebc32d",
            "value": "100%"
          }
        },
        "b07e913ba19a4f12a2bce17c81b5582c": {
          "model_module": "@jupyter-widgets/controls",
          "model_name": "FloatProgressModel",
          "model_module_version": "1.5.0",
          "state": {
            "_dom_classes": [],
            "_model_module": "@jupyter-widgets/controls",
            "_model_module_version": "1.5.0",
            "_model_name": "FloatProgressModel",
            "_view_count": null,
            "_view_module": "@jupyter-widgets/controls",
            "_view_module_version": "1.5.0",
            "_view_name": "ProgressView",
            "bar_style": "success",
            "description": "",
            "description_tooltip": null,
            "layout": "IPY_MODEL_3b73ba3e0e7b414c8d8be87dfad090ac",
            "max": 500,
            "min": 0,
            "orientation": "horizontal",
            "style": "IPY_MODEL_9fc2a475b9734e56b6ec30cd7dc2fb2f",
            "value": 500
          }
        },
        "464673a544c645e89b1b55d9af1d7734": {
          "model_module": "@jupyter-widgets/controls",
          "model_name": "HTMLModel",
          "model_module_version": "1.5.0",
          "state": {
            "_dom_classes": [],
            "_model_module": "@jupyter-widgets/controls",
            "_model_module_version": "1.5.0",
            "_model_name": "HTMLModel",
            "_view_count": null,
            "_view_module": "@jupyter-widgets/controls",
            "_view_module_version": "1.5.0",
            "_view_name": "HTMLView",
            "description": "",
            "description_tooltip": null,
            "layout": "IPY_MODEL_ae7e9838bbb9465caf025f3aac4b2643",
            "placeholder": "​",
            "style": "IPY_MODEL_d2cc98f526e74652a8202070c5d645ce",
            "value": " 500/500 [01:18&lt;00:00,  9.22it/s]"
          }
        },
        "3fa5b6f98d8c492eb44f8f9e7ee9e405": {
          "model_module": "@jupyter-widgets/base",
          "model_name": "LayoutModel",
          "model_module_version": "1.2.0",
          "state": {
            "_model_module": "@jupyter-widgets/base",
            "_model_module_version": "1.2.0",
            "_model_name": "LayoutModel",
            "_view_count": null,
            "_view_module": "@jupyter-widgets/base",
            "_view_module_version": "1.2.0",
            "_view_name": "LayoutView",
            "align_content": null,
            "align_items": null,
            "align_self": null,
            "border": null,
            "bottom": null,
            "display": null,
            "flex": null,
            "flex_flow": null,
            "grid_area": null,
            "grid_auto_columns": null,
            "grid_auto_flow": null,
            "grid_auto_rows": null,
            "grid_column": null,
            "grid_gap": null,
            "grid_row": null,
            "grid_template_areas": null,
            "grid_template_columns": null,
            "grid_template_rows": null,
            "height": null,
            "justify_content": null,
            "justify_items": null,
            "left": null,
            "margin": null,
            "max_height": null,
            "max_width": null,
            "min_height": null,
            "min_width": null,
            "object_fit": null,
            "object_position": null,
            "order": null,
            "overflow": null,
            "overflow_x": null,
            "overflow_y": null,
            "padding": null,
            "right": null,
            "top": null,
            "visibility": null,
            "width": null
          }
        },
        "c43e218672c945d1a73dd637061e2556": {
          "model_module": "@jupyter-widgets/base",
          "model_name": "LayoutModel",
          "model_module_version": "1.2.0",
          "state": {
            "_model_module": "@jupyter-widgets/base",
            "_model_module_version": "1.2.0",
            "_model_name": "LayoutModel",
            "_view_count": null,
            "_view_module": "@jupyter-widgets/base",
            "_view_module_version": "1.2.0",
            "_view_name": "LayoutView",
            "align_content": null,
            "align_items": null,
            "align_self": null,
            "border": null,
            "bottom": null,
            "display": null,
            "flex": null,
            "flex_flow": null,
            "grid_area": null,
            "grid_auto_columns": null,
            "grid_auto_flow": null,
            "grid_auto_rows": null,
            "grid_column": null,
            "grid_gap": null,
            "grid_row": null,
            "grid_template_areas": null,
            "grid_template_columns": null,
            "grid_template_rows": null,
            "height": null,
            "justify_content": null,
            "justify_items": null,
            "left": null,
            "margin": null,
            "max_height": null,
            "max_width": null,
            "min_height": null,
            "min_width": null,
            "object_fit": null,
            "object_position": null,
            "order": null,
            "overflow": null,
            "overflow_x": null,
            "overflow_y": null,
            "padding": null,
            "right": null,
            "top": null,
            "visibility": null,
            "width": null
          }
        },
        "4af18ce718094f518bd451aa00ebc32d": {
          "model_module": "@jupyter-widgets/controls",
          "model_name": "DescriptionStyleModel",
          "model_module_version": "1.5.0",
          "state": {
            "_model_module": "@jupyter-widgets/controls",
            "_model_module_version": "1.5.0",
            "_model_name": "DescriptionStyleModel",
            "_view_count": null,
            "_view_module": "@jupyter-widgets/base",
            "_view_module_version": "1.2.0",
            "_view_name": "StyleView",
            "description_width": ""
          }
        },
        "3b73ba3e0e7b414c8d8be87dfad090ac": {
          "model_module": "@jupyter-widgets/base",
          "model_name": "LayoutModel",
          "model_module_version": "1.2.0",
          "state": {
            "_model_module": "@jupyter-widgets/base",
            "_model_module_version": "1.2.0",
            "_model_name": "LayoutModel",
            "_view_count": null,
            "_view_module": "@jupyter-widgets/base",
            "_view_module_version": "1.2.0",
            "_view_name": "LayoutView",
            "align_content": null,
            "align_items": null,
            "align_self": null,
            "border": null,
            "bottom": null,
            "display": null,
            "flex": null,
            "flex_flow": null,
            "grid_area": null,
            "grid_auto_columns": null,
            "grid_auto_flow": null,
            "grid_auto_rows": null,
            "grid_column": null,
            "grid_gap": null,
            "grid_row": null,
            "grid_template_areas": null,
            "grid_template_columns": null,
            "grid_template_rows": null,
            "height": null,
            "justify_content": null,
            "justify_items": null,
            "left": null,
            "margin": null,
            "max_height": null,
            "max_width": null,
            "min_height": null,
            "min_width": null,
            "object_fit": null,
            "object_position": null,
            "order": null,
            "overflow": null,
            "overflow_x": null,
            "overflow_y": null,
            "padding": null,
            "right": null,
            "top": null,
            "visibility": null,
            "width": null
          }
        },
        "9fc2a475b9734e56b6ec30cd7dc2fb2f": {
          "model_module": "@jupyter-widgets/controls",
          "model_name": "ProgressStyleModel",
          "model_module_version": "1.5.0",
          "state": {
            "_model_module": "@jupyter-widgets/controls",
            "_model_module_version": "1.5.0",
            "_model_name": "ProgressStyleModel",
            "_view_count": null,
            "_view_module": "@jupyter-widgets/base",
            "_view_module_version": "1.2.0",
            "_view_name": "StyleView",
            "bar_color": null,
            "description_width": ""
          }
        },
        "ae7e9838bbb9465caf025f3aac4b2643": {
          "model_module": "@jupyter-widgets/base",
          "model_name": "LayoutModel",
          "model_module_version": "1.2.0",
          "state": {
            "_model_module": "@jupyter-widgets/base",
            "_model_module_version": "1.2.0",
            "_model_name": "LayoutModel",
            "_view_count": null,
            "_view_module": "@jupyter-widgets/base",
            "_view_module_version": "1.2.0",
            "_view_name": "LayoutView",
            "align_content": null,
            "align_items": null,
            "align_self": null,
            "border": null,
            "bottom": null,
            "display": null,
            "flex": null,
            "flex_flow": null,
            "grid_area": null,
            "grid_auto_columns": null,
            "grid_auto_flow": null,
            "grid_auto_rows": null,
            "grid_column": null,
            "grid_gap": null,
            "grid_row": null,
            "grid_template_areas": null,
            "grid_template_columns": null,
            "grid_template_rows": null,
            "height": null,
            "justify_content": null,
            "justify_items": null,
            "left": null,
            "margin": null,
            "max_height": null,
            "max_width": null,
            "min_height": null,
            "min_width": null,
            "object_fit": null,
            "object_position": null,
            "order": null,
            "overflow": null,
            "overflow_x": null,
            "overflow_y": null,
            "padding": null,
            "right": null,
            "top": null,
            "visibility": null,
            "width": null
          }
        },
        "d2cc98f526e74652a8202070c5d645ce": {
          "model_module": "@jupyter-widgets/controls",
          "model_name": "DescriptionStyleModel",
          "model_module_version": "1.5.0",
          "state": {
            "_model_module": "@jupyter-widgets/controls",
            "_model_module_version": "1.5.0",
            "_model_name": "DescriptionStyleModel",
            "_view_count": null,
            "_view_module": "@jupyter-widgets/base",
            "_view_module_version": "1.2.0",
            "_view_name": "StyleView",
            "description_width": ""
          }
        },
        "862fa4253e624dc299b31e8e1b93da82": {
          "model_module": "@jupyter-widgets/controls",
          "model_name": "HBoxModel",
          "model_module_version": "1.5.0",
          "state": {
            "_dom_classes": [],
            "_model_module": "@jupyter-widgets/controls",
            "_model_module_version": "1.5.0",
            "_model_name": "HBoxModel",
            "_view_count": null,
            "_view_module": "@jupyter-widgets/controls",
            "_view_module_version": "1.5.0",
            "_view_name": "HBoxView",
            "box_style": "",
            "children": [
              "IPY_MODEL_bd0ef04d80fa45888976828fa6acfcf8",
              "IPY_MODEL_895db256fc1d4c418c650d160ee0b56e",
              "IPY_MODEL_959ef1a58fd145e4849070f07087d919"
            ],
            "layout": "IPY_MODEL_4b42e91a53fe482997c6826ca28a9a0f"
          }
        },
        "bd0ef04d80fa45888976828fa6acfcf8": {
          "model_module": "@jupyter-widgets/controls",
          "model_name": "HTMLModel",
          "model_module_version": "1.5.0",
          "state": {
            "_dom_classes": [],
            "_model_module": "@jupyter-widgets/controls",
            "_model_module_version": "1.5.0",
            "_model_name": "HTMLModel",
            "_view_count": null,
            "_view_module": "@jupyter-widgets/controls",
            "_view_module_version": "1.5.0",
            "_view_name": "HTMLView",
            "description": "",
            "description_tooltip": null,
            "layout": "IPY_MODEL_75989514e1d44ffbb0e7e985aade1767",
            "placeholder": "​",
            "style": "IPY_MODEL_43bdf1f959cc434fb7ce7568d10f932c",
            "value": "100%"
          }
        },
        "895db256fc1d4c418c650d160ee0b56e": {
          "model_module": "@jupyter-widgets/controls",
          "model_name": "FloatProgressModel",
          "model_module_version": "1.5.0",
          "state": {
            "_dom_classes": [],
            "_model_module": "@jupyter-widgets/controls",
            "_model_module_version": "1.5.0",
            "_model_name": "FloatProgressModel",
            "_view_count": null,
            "_view_module": "@jupyter-widgets/controls",
            "_view_module_version": "1.5.0",
            "_view_name": "ProgressView",
            "bar_style": "success",
            "description": "",
            "description_tooltip": null,
            "layout": "IPY_MODEL_dbb6c5ae40bc46479970c0ffe3f6bf73",
            "max": 100,
            "min": 0,
            "orientation": "horizontal",
            "style": "IPY_MODEL_16c945091f6a4f348958d81eeddbcdb7",
            "value": 100
          }
        },
        "959ef1a58fd145e4849070f07087d919": {
          "model_module": "@jupyter-widgets/controls",
          "model_name": "HTMLModel",
          "model_module_version": "1.5.0",
          "state": {
            "_dom_classes": [],
            "_model_module": "@jupyter-widgets/controls",
            "_model_module_version": "1.5.0",
            "_model_name": "HTMLModel",
            "_view_count": null,
            "_view_module": "@jupyter-widgets/controls",
            "_view_module_version": "1.5.0",
            "_view_name": "HTMLView",
            "description": "",
            "description_tooltip": null,
            "layout": "IPY_MODEL_51bdaf341cfb4d11b62db05304954d82",
            "placeholder": "​",
            "style": "IPY_MODEL_834b357e7c774608aa6706679fb20f1f",
            "value": " 100/100 [00:13&lt;00:00,  5.60it/s]"
          }
        },
        "4b42e91a53fe482997c6826ca28a9a0f": {
          "model_module": "@jupyter-widgets/base",
          "model_name": "LayoutModel",
          "model_module_version": "1.2.0",
          "state": {
            "_model_module": "@jupyter-widgets/base",
            "_model_module_version": "1.2.0",
            "_model_name": "LayoutModel",
            "_view_count": null,
            "_view_module": "@jupyter-widgets/base",
            "_view_module_version": "1.2.0",
            "_view_name": "LayoutView",
            "align_content": null,
            "align_items": null,
            "align_self": null,
            "border": null,
            "bottom": null,
            "display": null,
            "flex": null,
            "flex_flow": null,
            "grid_area": null,
            "grid_auto_columns": null,
            "grid_auto_flow": null,
            "grid_auto_rows": null,
            "grid_column": null,
            "grid_gap": null,
            "grid_row": null,
            "grid_template_areas": null,
            "grid_template_columns": null,
            "grid_template_rows": null,
            "height": null,
            "justify_content": null,
            "justify_items": null,
            "left": null,
            "margin": null,
            "max_height": null,
            "max_width": null,
            "min_height": null,
            "min_width": null,
            "object_fit": null,
            "object_position": null,
            "order": null,
            "overflow": null,
            "overflow_x": null,
            "overflow_y": null,
            "padding": null,
            "right": null,
            "top": null,
            "visibility": null,
            "width": null
          }
        },
        "75989514e1d44ffbb0e7e985aade1767": {
          "model_module": "@jupyter-widgets/base",
          "model_name": "LayoutModel",
          "model_module_version": "1.2.0",
          "state": {
            "_model_module": "@jupyter-widgets/base",
            "_model_module_version": "1.2.0",
            "_model_name": "LayoutModel",
            "_view_count": null,
            "_view_module": "@jupyter-widgets/base",
            "_view_module_version": "1.2.0",
            "_view_name": "LayoutView",
            "align_content": null,
            "align_items": null,
            "align_self": null,
            "border": null,
            "bottom": null,
            "display": null,
            "flex": null,
            "flex_flow": null,
            "grid_area": null,
            "grid_auto_columns": null,
            "grid_auto_flow": null,
            "grid_auto_rows": null,
            "grid_column": null,
            "grid_gap": null,
            "grid_row": null,
            "grid_template_areas": null,
            "grid_template_columns": null,
            "grid_template_rows": null,
            "height": null,
            "justify_content": null,
            "justify_items": null,
            "left": null,
            "margin": null,
            "max_height": null,
            "max_width": null,
            "min_height": null,
            "min_width": null,
            "object_fit": null,
            "object_position": null,
            "order": null,
            "overflow": null,
            "overflow_x": null,
            "overflow_y": null,
            "padding": null,
            "right": null,
            "top": null,
            "visibility": null,
            "width": null
          }
        },
        "43bdf1f959cc434fb7ce7568d10f932c": {
          "model_module": "@jupyter-widgets/controls",
          "model_name": "DescriptionStyleModel",
          "model_module_version": "1.5.0",
          "state": {
            "_model_module": "@jupyter-widgets/controls",
            "_model_module_version": "1.5.0",
            "_model_name": "DescriptionStyleModel",
            "_view_count": null,
            "_view_module": "@jupyter-widgets/base",
            "_view_module_version": "1.2.0",
            "_view_name": "StyleView",
            "description_width": ""
          }
        },
        "dbb6c5ae40bc46479970c0ffe3f6bf73": {
          "model_module": "@jupyter-widgets/base",
          "model_name": "LayoutModel",
          "model_module_version": "1.2.0",
          "state": {
            "_model_module": "@jupyter-widgets/base",
            "_model_module_version": "1.2.0",
            "_model_name": "LayoutModel",
            "_view_count": null,
            "_view_module": "@jupyter-widgets/base",
            "_view_module_version": "1.2.0",
            "_view_name": "LayoutView",
            "align_content": null,
            "align_items": null,
            "align_self": null,
            "border": null,
            "bottom": null,
            "display": null,
            "flex": null,
            "flex_flow": null,
            "grid_area": null,
            "grid_auto_columns": null,
            "grid_auto_flow": null,
            "grid_auto_rows": null,
            "grid_column": null,
            "grid_gap": null,
            "grid_row": null,
            "grid_template_areas": null,
            "grid_template_columns": null,
            "grid_template_rows": null,
            "height": null,
            "justify_content": null,
            "justify_items": null,
            "left": null,
            "margin": null,
            "max_height": null,
            "max_width": null,
            "min_height": null,
            "min_width": null,
            "object_fit": null,
            "object_position": null,
            "order": null,
            "overflow": null,
            "overflow_x": null,
            "overflow_y": null,
            "padding": null,
            "right": null,
            "top": null,
            "visibility": null,
            "width": null
          }
        },
        "16c945091f6a4f348958d81eeddbcdb7": {
          "model_module": "@jupyter-widgets/controls",
          "model_name": "ProgressStyleModel",
          "model_module_version": "1.5.0",
          "state": {
            "_model_module": "@jupyter-widgets/controls",
            "_model_module_version": "1.5.0",
            "_model_name": "ProgressStyleModel",
            "_view_count": null,
            "_view_module": "@jupyter-widgets/base",
            "_view_module_version": "1.2.0",
            "_view_name": "StyleView",
            "bar_color": null,
            "description_width": ""
          }
        },
        "51bdaf341cfb4d11b62db05304954d82": {
          "model_module": "@jupyter-widgets/base",
          "model_name": "LayoutModel",
          "model_module_version": "1.2.0",
          "state": {
            "_model_module": "@jupyter-widgets/base",
            "_model_module_version": "1.2.0",
            "_model_name": "LayoutModel",
            "_view_count": null,
            "_view_module": "@jupyter-widgets/base",
            "_view_module_version": "1.2.0",
            "_view_name": "LayoutView",
            "align_content": null,
            "align_items": null,
            "align_self": null,
            "border": null,
            "bottom": null,
            "display": null,
            "flex": null,
            "flex_flow": null,
            "grid_area": null,
            "grid_auto_columns": null,
            "grid_auto_flow": null,
            "grid_auto_rows": null,
            "grid_column": null,
            "grid_gap": null,
            "grid_row": null,
            "grid_template_areas": null,
            "grid_template_columns": null,
            "grid_template_rows": null,
            "height": null,
            "justify_content": null,
            "justify_items": null,
            "left": null,
            "margin": null,
            "max_height": null,
            "max_width": null,
            "min_height": null,
            "min_width": null,
            "object_fit": null,
            "object_position": null,
            "order": null,
            "overflow": null,
            "overflow_x": null,
            "overflow_y": null,
            "padding": null,
            "right": null,
            "top": null,
            "visibility": null,
            "width": null
          }
        },
        "834b357e7c774608aa6706679fb20f1f": {
          "model_module": "@jupyter-widgets/controls",
          "model_name": "DescriptionStyleModel",
          "model_module_version": "1.5.0",
          "state": {
            "_model_module": "@jupyter-widgets/controls",
            "_model_module_version": "1.5.0",
            "_model_name": "DescriptionStyleModel",
            "_view_count": null,
            "_view_module": "@jupyter-widgets/base",
            "_view_module_version": "1.2.0",
            "_view_name": "StyleView",
            "description_width": ""
          }
        },
        "c3d00eb23f5442569e5b4b30d048458f": {
          "model_module": "@jupyter-widgets/controls",
          "model_name": "HBoxModel",
          "model_module_version": "1.5.0",
          "state": {
            "_dom_classes": [],
            "_model_module": "@jupyter-widgets/controls",
            "_model_module_version": "1.5.0",
            "_model_name": "HBoxModel",
            "_view_count": null,
            "_view_module": "@jupyter-widgets/controls",
            "_view_module_version": "1.5.0",
            "_view_name": "HBoxView",
            "box_style": "",
            "children": [
              "IPY_MODEL_496cc747f2a14c7d9750c8e8a7f5f5cc",
              "IPY_MODEL_dadbef194b054f04a15f7c13b91bd1b1",
              "IPY_MODEL_fd5e03f6d59e4b5c8a30a955a3d052c2"
            ],
            "layout": "IPY_MODEL_5d3d85bd9f58491382b2e57f0b39d31d"
          }
        },
        "496cc747f2a14c7d9750c8e8a7f5f5cc": {
          "model_module": "@jupyter-widgets/controls",
          "model_name": "HTMLModel",
          "model_module_version": "1.5.0",
          "state": {
            "_dom_classes": [],
            "_model_module": "@jupyter-widgets/controls",
            "_model_module_version": "1.5.0",
            "_model_name": "HTMLModel",
            "_view_count": null,
            "_view_module": "@jupyter-widgets/controls",
            "_view_module_version": "1.5.0",
            "_view_name": "HTMLView",
            "description": "",
            "description_tooltip": null,
            "layout": "IPY_MODEL_fe81187bb3d543d7a54e7af8e6cc9c4b",
            "placeholder": "​",
            "style": "IPY_MODEL_81742adce7e045ffabd8bf8fb5c4e7fa",
            "value": "100%"
          }
        },
        "dadbef194b054f04a15f7c13b91bd1b1": {
          "model_module": "@jupyter-widgets/controls",
          "model_name": "FloatProgressModel",
          "model_module_version": "1.5.0",
          "state": {
            "_dom_classes": [],
            "_model_module": "@jupyter-widgets/controls",
            "_model_module_version": "1.5.0",
            "_model_name": "FloatProgressModel",
            "_view_count": null,
            "_view_module": "@jupyter-widgets/controls",
            "_view_module_version": "1.5.0",
            "_view_name": "ProgressView",
            "bar_style": "success",
            "description": "",
            "description_tooltip": null,
            "layout": "IPY_MODEL_e2c465c9b3ad490c85a96e0919afb416",
            "max": 100,
            "min": 0,
            "orientation": "horizontal",
            "style": "IPY_MODEL_40b9f6b636ef4f7cb305055826846260",
            "value": 100
          }
        },
        "fd5e03f6d59e4b5c8a30a955a3d052c2": {
          "model_module": "@jupyter-widgets/controls",
          "model_name": "HTMLModel",
          "model_module_version": "1.5.0",
          "state": {
            "_dom_classes": [],
            "_model_module": "@jupyter-widgets/controls",
            "_model_module_version": "1.5.0",
            "_model_name": "HTMLModel",
            "_view_count": null,
            "_view_module": "@jupyter-widgets/controls",
            "_view_module_version": "1.5.0",
            "_view_name": "HTMLView",
            "description": "",
            "description_tooltip": null,
            "layout": "IPY_MODEL_cbca9ca1d0ea4231ae7a246a23b9ac4f",
            "placeholder": "​",
            "style": "IPY_MODEL_9901bcb9edfa442b98811c78e1b68c08",
            "value": " 100/100 [00:13&lt;00:00,  7.07it/s]"
          }
        },
        "5d3d85bd9f58491382b2e57f0b39d31d": {
          "model_module": "@jupyter-widgets/base",
          "model_name": "LayoutModel",
          "model_module_version": "1.2.0",
          "state": {
            "_model_module": "@jupyter-widgets/base",
            "_model_module_version": "1.2.0",
            "_model_name": "LayoutModel",
            "_view_count": null,
            "_view_module": "@jupyter-widgets/base",
            "_view_module_version": "1.2.0",
            "_view_name": "LayoutView",
            "align_content": null,
            "align_items": null,
            "align_self": null,
            "border": null,
            "bottom": null,
            "display": null,
            "flex": null,
            "flex_flow": null,
            "grid_area": null,
            "grid_auto_columns": null,
            "grid_auto_flow": null,
            "grid_auto_rows": null,
            "grid_column": null,
            "grid_gap": null,
            "grid_row": null,
            "grid_template_areas": null,
            "grid_template_columns": null,
            "grid_template_rows": null,
            "height": null,
            "justify_content": null,
            "justify_items": null,
            "left": null,
            "margin": null,
            "max_height": null,
            "max_width": null,
            "min_height": null,
            "min_width": null,
            "object_fit": null,
            "object_position": null,
            "order": null,
            "overflow": null,
            "overflow_x": null,
            "overflow_y": null,
            "padding": null,
            "right": null,
            "top": null,
            "visibility": null,
            "width": null
          }
        },
        "fe81187bb3d543d7a54e7af8e6cc9c4b": {
          "model_module": "@jupyter-widgets/base",
          "model_name": "LayoutModel",
          "model_module_version": "1.2.0",
          "state": {
            "_model_module": "@jupyter-widgets/base",
            "_model_module_version": "1.2.0",
            "_model_name": "LayoutModel",
            "_view_count": null,
            "_view_module": "@jupyter-widgets/base",
            "_view_module_version": "1.2.0",
            "_view_name": "LayoutView",
            "align_content": null,
            "align_items": null,
            "align_self": null,
            "border": null,
            "bottom": null,
            "display": null,
            "flex": null,
            "flex_flow": null,
            "grid_area": null,
            "grid_auto_columns": null,
            "grid_auto_flow": null,
            "grid_auto_rows": null,
            "grid_column": null,
            "grid_gap": null,
            "grid_row": null,
            "grid_template_areas": null,
            "grid_template_columns": null,
            "grid_template_rows": null,
            "height": null,
            "justify_content": null,
            "justify_items": null,
            "left": null,
            "margin": null,
            "max_height": null,
            "max_width": null,
            "min_height": null,
            "min_width": null,
            "object_fit": null,
            "object_position": null,
            "order": null,
            "overflow": null,
            "overflow_x": null,
            "overflow_y": null,
            "padding": null,
            "right": null,
            "top": null,
            "visibility": null,
            "width": null
          }
        },
        "81742adce7e045ffabd8bf8fb5c4e7fa": {
          "model_module": "@jupyter-widgets/controls",
          "model_name": "DescriptionStyleModel",
          "model_module_version": "1.5.0",
          "state": {
            "_model_module": "@jupyter-widgets/controls",
            "_model_module_version": "1.5.0",
            "_model_name": "DescriptionStyleModel",
            "_view_count": null,
            "_view_module": "@jupyter-widgets/base",
            "_view_module_version": "1.2.0",
            "_view_name": "StyleView",
            "description_width": ""
          }
        },
        "e2c465c9b3ad490c85a96e0919afb416": {
          "model_module": "@jupyter-widgets/base",
          "model_name": "LayoutModel",
          "model_module_version": "1.2.0",
          "state": {
            "_model_module": "@jupyter-widgets/base",
            "_model_module_version": "1.2.0",
            "_model_name": "LayoutModel",
            "_view_count": null,
            "_view_module": "@jupyter-widgets/base",
            "_view_module_version": "1.2.0",
            "_view_name": "LayoutView",
            "align_content": null,
            "align_items": null,
            "align_self": null,
            "border": null,
            "bottom": null,
            "display": null,
            "flex": null,
            "flex_flow": null,
            "grid_area": null,
            "grid_auto_columns": null,
            "grid_auto_flow": null,
            "grid_auto_rows": null,
            "grid_column": null,
            "grid_gap": null,
            "grid_row": null,
            "grid_template_areas": null,
            "grid_template_columns": null,
            "grid_template_rows": null,
            "height": null,
            "justify_content": null,
            "justify_items": null,
            "left": null,
            "margin": null,
            "max_height": null,
            "max_width": null,
            "min_height": null,
            "min_width": null,
            "object_fit": null,
            "object_position": null,
            "order": null,
            "overflow": null,
            "overflow_x": null,
            "overflow_y": null,
            "padding": null,
            "right": null,
            "top": null,
            "visibility": null,
            "width": null
          }
        },
        "40b9f6b636ef4f7cb305055826846260": {
          "model_module": "@jupyter-widgets/controls",
          "model_name": "ProgressStyleModel",
          "model_module_version": "1.5.0",
          "state": {
            "_model_module": "@jupyter-widgets/controls",
            "_model_module_version": "1.5.0",
            "_model_name": "ProgressStyleModel",
            "_view_count": null,
            "_view_module": "@jupyter-widgets/base",
            "_view_module_version": "1.2.0",
            "_view_name": "StyleView",
            "bar_color": null,
            "description_width": ""
          }
        },
        "cbca9ca1d0ea4231ae7a246a23b9ac4f": {
          "model_module": "@jupyter-widgets/base",
          "model_name": "LayoutModel",
          "model_module_version": "1.2.0",
          "state": {
            "_model_module": "@jupyter-widgets/base",
            "_model_module_version": "1.2.0",
            "_model_name": "LayoutModel",
            "_view_count": null,
            "_view_module": "@jupyter-widgets/base",
            "_view_module_version": "1.2.0",
            "_view_name": "LayoutView",
            "align_content": null,
            "align_items": null,
            "align_self": null,
            "border": null,
            "bottom": null,
            "display": null,
            "flex": null,
            "flex_flow": null,
            "grid_area": null,
            "grid_auto_columns": null,
            "grid_auto_flow": null,
            "grid_auto_rows": null,
            "grid_column": null,
            "grid_gap": null,
            "grid_row": null,
            "grid_template_areas": null,
            "grid_template_columns": null,
            "grid_template_rows": null,
            "height": null,
            "justify_content": null,
            "justify_items": null,
            "left": null,
            "margin": null,
            "max_height": null,
            "max_width": null,
            "min_height": null,
            "min_width": null,
            "object_fit": null,
            "object_position": null,
            "order": null,
            "overflow": null,
            "overflow_x": null,
            "overflow_y": null,
            "padding": null,
            "right": null,
            "top": null,
            "visibility": null,
            "width": null
          }
        },
        "9901bcb9edfa442b98811c78e1b68c08": {
          "model_module": "@jupyter-widgets/controls",
          "model_name": "DescriptionStyleModel",
          "model_module_version": "1.5.0",
          "state": {
            "_model_module": "@jupyter-widgets/controls",
            "_model_module_version": "1.5.0",
            "_model_name": "DescriptionStyleModel",
            "_view_count": null,
            "_view_module": "@jupyter-widgets/base",
            "_view_module_version": "1.2.0",
            "_view_name": "StyleView",
            "description_width": ""
          }
        },
        "943b848d6d674517b7e20ce263c475a2": {
          "model_module": "@jupyter-widgets/controls",
          "model_name": "HBoxModel",
          "model_module_version": "1.5.0",
          "state": {
            "_dom_classes": [],
            "_model_module": "@jupyter-widgets/controls",
            "_model_module_version": "1.5.0",
            "_model_name": "HBoxModel",
            "_view_count": null,
            "_view_module": "@jupyter-widgets/controls",
            "_view_module_version": "1.5.0",
            "_view_name": "HBoxView",
            "box_style": "",
            "children": [
              "IPY_MODEL_7da204c5119d4b6a966856dcdbda8636",
              "IPY_MODEL_35d945e3a11447eeafce32716c841dfd",
              "IPY_MODEL_6953a56a582a48c493906257d7040854"
            ],
            "layout": "IPY_MODEL_f02a336bb306409899b205ac679a22f1"
          }
        },
        "7da204c5119d4b6a966856dcdbda8636": {
          "model_module": "@jupyter-widgets/controls",
          "model_name": "HTMLModel",
          "model_module_version": "1.5.0",
          "state": {
            "_dom_classes": [],
            "_model_module": "@jupyter-widgets/controls",
            "_model_module_version": "1.5.0",
            "_model_name": "HTMLModel",
            "_view_count": null,
            "_view_module": "@jupyter-widgets/controls",
            "_view_module_version": "1.5.0",
            "_view_name": "HTMLView",
            "description": "",
            "description_tooltip": null,
            "layout": "IPY_MODEL_5a1586eb38e049d4b3e034b7db72fa1a",
            "placeholder": "​",
            "style": "IPY_MODEL_47da53a4d9e042ffa368d4080fb86450",
            "value": "100%"
          }
        },
        "35d945e3a11447eeafce32716c841dfd": {
          "model_module": "@jupyter-widgets/controls",
          "model_name": "FloatProgressModel",
          "model_module_version": "1.5.0",
          "state": {
            "_dom_classes": [],
            "_model_module": "@jupyter-widgets/controls",
            "_model_module_version": "1.5.0",
            "_model_name": "FloatProgressModel",
            "_view_count": null,
            "_view_module": "@jupyter-widgets/controls",
            "_view_module_version": "1.5.0",
            "_view_name": "ProgressView",
            "bar_style": "success",
            "description": "",
            "description_tooltip": null,
            "layout": "IPY_MODEL_25e5ee323d32429d810d148f9c2deecf",
            "max": 500,
            "min": 0,
            "orientation": "horizontal",
            "style": "IPY_MODEL_3811620cac824a4f9e22dac6442192ac",
            "value": 500
          }
        },
        "6953a56a582a48c493906257d7040854": {
          "model_module": "@jupyter-widgets/controls",
          "model_name": "HTMLModel",
          "model_module_version": "1.5.0",
          "state": {
            "_dom_classes": [],
            "_model_module": "@jupyter-widgets/controls",
            "_model_module_version": "1.5.0",
            "_model_name": "HTMLModel",
            "_view_count": null,
            "_view_module": "@jupyter-widgets/controls",
            "_view_module_version": "1.5.0",
            "_view_name": "HTMLView",
            "description": "",
            "description_tooltip": null,
            "layout": "IPY_MODEL_294b181d3e5a461bb662693e102536c6",
            "placeholder": "​",
            "style": "IPY_MODEL_668f22a53e154552ab15b7a752be46f2",
            "value": " 500/500 [01:05&lt;00:00,  5.35it/s]"
          }
        },
        "f02a336bb306409899b205ac679a22f1": {
          "model_module": "@jupyter-widgets/base",
          "model_name": "LayoutModel",
          "model_module_version": "1.2.0",
          "state": {
            "_model_module": "@jupyter-widgets/base",
            "_model_module_version": "1.2.0",
            "_model_name": "LayoutModel",
            "_view_count": null,
            "_view_module": "@jupyter-widgets/base",
            "_view_module_version": "1.2.0",
            "_view_name": "LayoutView",
            "align_content": null,
            "align_items": null,
            "align_self": null,
            "border": null,
            "bottom": null,
            "display": null,
            "flex": null,
            "flex_flow": null,
            "grid_area": null,
            "grid_auto_columns": null,
            "grid_auto_flow": null,
            "grid_auto_rows": null,
            "grid_column": null,
            "grid_gap": null,
            "grid_row": null,
            "grid_template_areas": null,
            "grid_template_columns": null,
            "grid_template_rows": null,
            "height": null,
            "justify_content": null,
            "justify_items": null,
            "left": null,
            "margin": null,
            "max_height": null,
            "max_width": null,
            "min_height": null,
            "min_width": null,
            "object_fit": null,
            "object_position": null,
            "order": null,
            "overflow": null,
            "overflow_x": null,
            "overflow_y": null,
            "padding": null,
            "right": null,
            "top": null,
            "visibility": null,
            "width": null
          }
        },
        "5a1586eb38e049d4b3e034b7db72fa1a": {
          "model_module": "@jupyter-widgets/base",
          "model_name": "LayoutModel",
          "model_module_version": "1.2.0",
          "state": {
            "_model_module": "@jupyter-widgets/base",
            "_model_module_version": "1.2.0",
            "_model_name": "LayoutModel",
            "_view_count": null,
            "_view_module": "@jupyter-widgets/base",
            "_view_module_version": "1.2.0",
            "_view_name": "LayoutView",
            "align_content": null,
            "align_items": null,
            "align_self": null,
            "border": null,
            "bottom": null,
            "display": null,
            "flex": null,
            "flex_flow": null,
            "grid_area": null,
            "grid_auto_columns": null,
            "grid_auto_flow": null,
            "grid_auto_rows": null,
            "grid_column": null,
            "grid_gap": null,
            "grid_row": null,
            "grid_template_areas": null,
            "grid_template_columns": null,
            "grid_template_rows": null,
            "height": null,
            "justify_content": null,
            "justify_items": null,
            "left": null,
            "margin": null,
            "max_height": null,
            "max_width": null,
            "min_height": null,
            "min_width": null,
            "object_fit": null,
            "object_position": null,
            "order": null,
            "overflow": null,
            "overflow_x": null,
            "overflow_y": null,
            "padding": null,
            "right": null,
            "top": null,
            "visibility": null,
            "width": null
          }
        },
        "47da53a4d9e042ffa368d4080fb86450": {
          "model_module": "@jupyter-widgets/controls",
          "model_name": "DescriptionStyleModel",
          "model_module_version": "1.5.0",
          "state": {
            "_model_module": "@jupyter-widgets/controls",
            "_model_module_version": "1.5.0",
            "_model_name": "DescriptionStyleModel",
            "_view_count": null,
            "_view_module": "@jupyter-widgets/base",
            "_view_module_version": "1.2.0",
            "_view_name": "StyleView",
            "description_width": ""
          }
        },
        "25e5ee323d32429d810d148f9c2deecf": {
          "model_module": "@jupyter-widgets/base",
          "model_name": "LayoutModel",
          "model_module_version": "1.2.0",
          "state": {
            "_model_module": "@jupyter-widgets/base",
            "_model_module_version": "1.2.0",
            "_model_name": "LayoutModel",
            "_view_count": null,
            "_view_module": "@jupyter-widgets/base",
            "_view_module_version": "1.2.0",
            "_view_name": "LayoutView",
            "align_content": null,
            "align_items": null,
            "align_self": null,
            "border": null,
            "bottom": null,
            "display": null,
            "flex": null,
            "flex_flow": null,
            "grid_area": null,
            "grid_auto_columns": null,
            "grid_auto_flow": null,
            "grid_auto_rows": null,
            "grid_column": null,
            "grid_gap": null,
            "grid_row": null,
            "grid_template_areas": null,
            "grid_template_columns": null,
            "grid_template_rows": null,
            "height": null,
            "justify_content": null,
            "justify_items": null,
            "left": null,
            "margin": null,
            "max_height": null,
            "max_width": null,
            "min_height": null,
            "min_width": null,
            "object_fit": null,
            "object_position": null,
            "order": null,
            "overflow": null,
            "overflow_x": null,
            "overflow_y": null,
            "padding": null,
            "right": null,
            "top": null,
            "visibility": null,
            "width": null
          }
        },
        "3811620cac824a4f9e22dac6442192ac": {
          "model_module": "@jupyter-widgets/controls",
          "model_name": "ProgressStyleModel",
          "model_module_version": "1.5.0",
          "state": {
            "_model_module": "@jupyter-widgets/controls",
            "_model_module_version": "1.5.0",
            "_model_name": "ProgressStyleModel",
            "_view_count": null,
            "_view_module": "@jupyter-widgets/base",
            "_view_module_version": "1.2.0",
            "_view_name": "StyleView",
            "bar_color": null,
            "description_width": ""
          }
        },
        "294b181d3e5a461bb662693e102536c6": {
          "model_module": "@jupyter-widgets/base",
          "model_name": "LayoutModel",
          "model_module_version": "1.2.0",
          "state": {
            "_model_module": "@jupyter-widgets/base",
            "_model_module_version": "1.2.0",
            "_model_name": "LayoutModel",
            "_view_count": null,
            "_view_module": "@jupyter-widgets/base",
            "_view_module_version": "1.2.0",
            "_view_name": "LayoutView",
            "align_content": null,
            "align_items": null,
            "align_self": null,
            "border": null,
            "bottom": null,
            "display": null,
            "flex": null,
            "flex_flow": null,
            "grid_area": null,
            "grid_auto_columns": null,
            "grid_auto_flow": null,
            "grid_auto_rows": null,
            "grid_column": null,
            "grid_gap": null,
            "grid_row": null,
            "grid_template_areas": null,
            "grid_template_columns": null,
            "grid_template_rows": null,
            "height": null,
            "justify_content": null,
            "justify_items": null,
            "left": null,
            "margin": null,
            "max_height": null,
            "max_width": null,
            "min_height": null,
            "min_width": null,
            "object_fit": null,
            "object_position": null,
            "order": null,
            "overflow": null,
            "overflow_x": null,
            "overflow_y": null,
            "padding": null,
            "right": null,
            "top": null,
            "visibility": null,
            "width": null
          }
        },
        "668f22a53e154552ab15b7a752be46f2": {
          "model_module": "@jupyter-widgets/controls",
          "model_name": "DescriptionStyleModel",
          "model_module_version": "1.5.0",
          "state": {
            "_model_module": "@jupyter-widgets/controls",
            "_model_module_version": "1.5.0",
            "_model_name": "DescriptionStyleModel",
            "_view_count": null,
            "_view_module": "@jupyter-widgets/base",
            "_view_module_version": "1.2.0",
            "_view_name": "StyleView",
            "description_width": ""
          }
        },
        "98ab7523e3f042b4a9d6a553f2ee8016": {
          "model_module": "@jupyter-widgets/controls",
          "model_name": "HBoxModel",
          "model_module_version": "1.5.0",
          "state": {
            "_dom_classes": [],
            "_model_module": "@jupyter-widgets/controls",
            "_model_module_version": "1.5.0",
            "_model_name": "HBoxModel",
            "_view_count": null,
            "_view_module": "@jupyter-widgets/controls",
            "_view_module_version": "1.5.0",
            "_view_name": "HBoxView",
            "box_style": "",
            "children": [
              "IPY_MODEL_d33a99e071eb44d48d31d0d898566d4c",
              "IPY_MODEL_5f3ea1806c3a47beb582cd9dcb218715",
              "IPY_MODEL_4231d92de9bd4f539a121d3327534b3a"
            ],
            "layout": "IPY_MODEL_142b3be86e9249bf92150b3acd0a4409"
          }
        },
        "d33a99e071eb44d48d31d0d898566d4c": {
          "model_module": "@jupyter-widgets/controls",
          "model_name": "HTMLModel",
          "model_module_version": "1.5.0",
          "state": {
            "_dom_classes": [],
            "_model_module": "@jupyter-widgets/controls",
            "_model_module_version": "1.5.0",
            "_model_name": "HTMLModel",
            "_view_count": null,
            "_view_module": "@jupyter-widgets/controls",
            "_view_module_version": "1.5.0",
            "_view_name": "HTMLView",
            "description": "",
            "description_tooltip": null,
            "layout": "IPY_MODEL_7ef2eb072d184299b327fc31b258a3c4",
            "placeholder": "​",
            "style": "IPY_MODEL_2b7cad3cdfef4893bd058bf31c185467",
            "value": "100%"
          }
        },
        "5f3ea1806c3a47beb582cd9dcb218715": {
          "model_module": "@jupyter-widgets/controls",
          "model_name": "FloatProgressModel",
          "model_module_version": "1.5.0",
          "state": {
            "_dom_classes": [],
            "_model_module": "@jupyter-widgets/controls",
            "_model_module_version": "1.5.0",
            "_model_name": "FloatProgressModel",
            "_view_count": null,
            "_view_module": "@jupyter-widgets/controls",
            "_view_module_version": "1.5.0",
            "_view_name": "ProgressView",
            "bar_style": "success",
            "description": "",
            "description_tooltip": null,
            "layout": "IPY_MODEL_cb5911f7429f4e09a9714f6957610fd0",
            "max": 500,
            "min": 0,
            "orientation": "horizontal",
            "style": "IPY_MODEL_4aaf113ae39a400d935cdfab26c4e44b",
            "value": 500
          }
        },
        "4231d92de9bd4f539a121d3327534b3a": {
          "model_module": "@jupyter-widgets/controls",
          "model_name": "HTMLModel",
          "model_module_version": "1.5.0",
          "state": {
            "_dom_classes": [],
            "_model_module": "@jupyter-widgets/controls",
            "_model_module_version": "1.5.0",
            "_model_name": "HTMLModel",
            "_view_count": null,
            "_view_module": "@jupyter-widgets/controls",
            "_view_module_version": "1.5.0",
            "_view_name": "HTMLView",
            "description": "",
            "description_tooltip": null,
            "layout": "IPY_MODEL_b589785845784d0fadc9c1576b57a0c3",
            "placeholder": "​",
            "style": "IPY_MODEL_3a87cca612c14d5db9b5d37a75d5000b",
            "value": " 500/500 [01:00&lt;00:00,  9.37it/s]"
          }
        },
        "142b3be86e9249bf92150b3acd0a4409": {
          "model_module": "@jupyter-widgets/base",
          "model_name": "LayoutModel",
          "model_module_version": "1.2.0",
          "state": {
            "_model_module": "@jupyter-widgets/base",
            "_model_module_version": "1.2.0",
            "_model_name": "LayoutModel",
            "_view_count": null,
            "_view_module": "@jupyter-widgets/base",
            "_view_module_version": "1.2.0",
            "_view_name": "LayoutView",
            "align_content": null,
            "align_items": null,
            "align_self": null,
            "border": null,
            "bottom": null,
            "display": null,
            "flex": null,
            "flex_flow": null,
            "grid_area": null,
            "grid_auto_columns": null,
            "grid_auto_flow": null,
            "grid_auto_rows": null,
            "grid_column": null,
            "grid_gap": null,
            "grid_row": null,
            "grid_template_areas": null,
            "grid_template_columns": null,
            "grid_template_rows": null,
            "height": null,
            "justify_content": null,
            "justify_items": null,
            "left": null,
            "margin": null,
            "max_height": null,
            "max_width": null,
            "min_height": null,
            "min_width": null,
            "object_fit": null,
            "object_position": null,
            "order": null,
            "overflow": null,
            "overflow_x": null,
            "overflow_y": null,
            "padding": null,
            "right": null,
            "top": null,
            "visibility": null,
            "width": null
          }
        },
        "7ef2eb072d184299b327fc31b258a3c4": {
          "model_module": "@jupyter-widgets/base",
          "model_name": "LayoutModel",
          "model_module_version": "1.2.0",
          "state": {
            "_model_module": "@jupyter-widgets/base",
            "_model_module_version": "1.2.0",
            "_model_name": "LayoutModel",
            "_view_count": null,
            "_view_module": "@jupyter-widgets/base",
            "_view_module_version": "1.2.0",
            "_view_name": "LayoutView",
            "align_content": null,
            "align_items": null,
            "align_self": null,
            "border": null,
            "bottom": null,
            "display": null,
            "flex": null,
            "flex_flow": null,
            "grid_area": null,
            "grid_auto_columns": null,
            "grid_auto_flow": null,
            "grid_auto_rows": null,
            "grid_column": null,
            "grid_gap": null,
            "grid_row": null,
            "grid_template_areas": null,
            "grid_template_columns": null,
            "grid_template_rows": null,
            "height": null,
            "justify_content": null,
            "justify_items": null,
            "left": null,
            "margin": null,
            "max_height": null,
            "max_width": null,
            "min_height": null,
            "min_width": null,
            "object_fit": null,
            "object_position": null,
            "order": null,
            "overflow": null,
            "overflow_x": null,
            "overflow_y": null,
            "padding": null,
            "right": null,
            "top": null,
            "visibility": null,
            "width": null
          }
        },
        "2b7cad3cdfef4893bd058bf31c185467": {
          "model_module": "@jupyter-widgets/controls",
          "model_name": "DescriptionStyleModel",
          "model_module_version": "1.5.0",
          "state": {
            "_model_module": "@jupyter-widgets/controls",
            "_model_module_version": "1.5.0",
            "_model_name": "DescriptionStyleModel",
            "_view_count": null,
            "_view_module": "@jupyter-widgets/base",
            "_view_module_version": "1.2.0",
            "_view_name": "StyleView",
            "description_width": ""
          }
        },
        "cb5911f7429f4e09a9714f6957610fd0": {
          "model_module": "@jupyter-widgets/base",
          "model_name": "LayoutModel",
          "model_module_version": "1.2.0",
          "state": {
            "_model_module": "@jupyter-widgets/base",
            "_model_module_version": "1.2.0",
            "_model_name": "LayoutModel",
            "_view_count": null,
            "_view_module": "@jupyter-widgets/base",
            "_view_module_version": "1.2.0",
            "_view_name": "LayoutView",
            "align_content": null,
            "align_items": null,
            "align_self": null,
            "border": null,
            "bottom": null,
            "display": null,
            "flex": null,
            "flex_flow": null,
            "grid_area": null,
            "grid_auto_columns": null,
            "grid_auto_flow": null,
            "grid_auto_rows": null,
            "grid_column": null,
            "grid_gap": null,
            "grid_row": null,
            "grid_template_areas": null,
            "grid_template_columns": null,
            "grid_template_rows": null,
            "height": null,
            "justify_content": null,
            "justify_items": null,
            "left": null,
            "margin": null,
            "max_height": null,
            "max_width": null,
            "min_height": null,
            "min_width": null,
            "object_fit": null,
            "object_position": null,
            "order": null,
            "overflow": null,
            "overflow_x": null,
            "overflow_y": null,
            "padding": null,
            "right": null,
            "top": null,
            "visibility": null,
            "width": null
          }
        },
        "4aaf113ae39a400d935cdfab26c4e44b": {
          "model_module": "@jupyter-widgets/controls",
          "model_name": "ProgressStyleModel",
          "model_module_version": "1.5.0",
          "state": {
            "_model_module": "@jupyter-widgets/controls",
            "_model_module_version": "1.5.0",
            "_model_name": "ProgressStyleModel",
            "_view_count": null,
            "_view_module": "@jupyter-widgets/base",
            "_view_module_version": "1.2.0",
            "_view_name": "StyleView",
            "bar_color": null,
            "description_width": ""
          }
        },
        "b589785845784d0fadc9c1576b57a0c3": {
          "model_module": "@jupyter-widgets/base",
          "model_name": "LayoutModel",
          "model_module_version": "1.2.0",
          "state": {
            "_model_module": "@jupyter-widgets/base",
            "_model_module_version": "1.2.0",
            "_model_name": "LayoutModel",
            "_view_count": null,
            "_view_module": "@jupyter-widgets/base",
            "_view_module_version": "1.2.0",
            "_view_name": "LayoutView",
            "align_content": null,
            "align_items": null,
            "align_self": null,
            "border": null,
            "bottom": null,
            "display": null,
            "flex": null,
            "flex_flow": null,
            "grid_area": null,
            "grid_auto_columns": null,
            "grid_auto_flow": null,
            "grid_auto_rows": null,
            "grid_column": null,
            "grid_gap": null,
            "grid_row": null,
            "grid_template_areas": null,
            "grid_template_columns": null,
            "grid_template_rows": null,
            "height": null,
            "justify_content": null,
            "justify_items": null,
            "left": null,
            "margin": null,
            "max_height": null,
            "max_width": null,
            "min_height": null,
            "min_width": null,
            "object_fit": null,
            "object_position": null,
            "order": null,
            "overflow": null,
            "overflow_x": null,
            "overflow_y": null,
            "padding": null,
            "right": null,
            "top": null,
            "visibility": null,
            "width": null
          }
        },
        "3a87cca612c14d5db9b5d37a75d5000b": {
          "model_module": "@jupyter-widgets/controls",
          "model_name": "DescriptionStyleModel",
          "model_module_version": "1.5.0",
          "state": {
            "_model_module": "@jupyter-widgets/controls",
            "_model_module_version": "1.5.0",
            "_model_name": "DescriptionStyleModel",
            "_view_count": null,
            "_view_module": "@jupyter-widgets/base",
            "_view_module_version": "1.2.0",
            "_view_name": "StyleView",
            "description_width": ""
          }
        },
        "baef609522404ebfb18b34d96ee83674": {
          "model_module": "@jupyter-widgets/controls",
          "model_name": "HBoxModel",
          "model_module_version": "1.5.0",
          "state": {
            "_dom_classes": [],
            "_model_module": "@jupyter-widgets/controls",
            "_model_module_version": "1.5.0",
            "_model_name": "HBoxModel",
            "_view_count": null,
            "_view_module": "@jupyter-widgets/controls",
            "_view_module_version": "1.5.0",
            "_view_name": "HBoxView",
            "box_style": "",
            "children": [
              "IPY_MODEL_5452d9b3a5cf49caa5d45c62d9b22162",
              "IPY_MODEL_84a9bc0e3f264d05b83b4c0ef0cd5ad0",
              "IPY_MODEL_d282344f97344695bf525fed5655c27f"
            ],
            "layout": "IPY_MODEL_3588e0bb1b3c4d9199adea005365b717"
          }
        },
        "5452d9b3a5cf49caa5d45c62d9b22162": {
          "model_module": "@jupyter-widgets/controls",
          "model_name": "HTMLModel",
          "model_module_version": "1.5.0",
          "state": {
            "_dom_classes": [],
            "_model_module": "@jupyter-widgets/controls",
            "_model_module_version": "1.5.0",
            "_model_name": "HTMLModel",
            "_view_count": null,
            "_view_module": "@jupyter-widgets/controls",
            "_view_module_version": "1.5.0",
            "_view_name": "HTMLView",
            "description": "",
            "description_tooltip": null,
            "layout": "IPY_MODEL_1f8e813f129443aeb77c3bb37f92a430",
            "placeholder": "​",
            "style": "IPY_MODEL_f94f4ed9349648d28e1364b4de50c4fe",
            "value": "100%"
          }
        },
        "84a9bc0e3f264d05b83b4c0ef0cd5ad0": {
          "model_module": "@jupyter-widgets/controls",
          "model_name": "FloatProgressModel",
          "model_module_version": "1.5.0",
          "state": {
            "_dom_classes": [],
            "_model_module": "@jupyter-widgets/controls",
            "_model_module_version": "1.5.0",
            "_model_name": "FloatProgressModel",
            "_view_count": null,
            "_view_module": "@jupyter-widgets/controls",
            "_view_module_version": "1.5.0",
            "_view_name": "ProgressView",
            "bar_style": "success",
            "description": "",
            "description_tooltip": null,
            "layout": "IPY_MODEL_b5548b3e4d9d40f396b178b9ce53350d",
            "max": 1000,
            "min": 0,
            "orientation": "horizontal",
            "style": "IPY_MODEL_707b1d30bd644efbb972e8104fda272c",
            "value": 1000
          }
        },
        "d282344f97344695bf525fed5655c27f": {
          "model_module": "@jupyter-widgets/controls",
          "model_name": "HTMLModel",
          "model_module_version": "1.5.0",
          "state": {
            "_dom_classes": [],
            "_model_module": "@jupyter-widgets/controls",
            "_model_module_version": "1.5.0",
            "_model_name": "HTMLModel",
            "_view_count": null,
            "_view_module": "@jupyter-widgets/controls",
            "_view_module_version": "1.5.0",
            "_view_name": "HTMLView",
            "description": "",
            "description_tooltip": null,
            "layout": "IPY_MODEL_8740769ea7c047509b2e72eb1eaadc4e",
            "placeholder": "​",
            "style": "IPY_MODEL_a488b4ca61d5419fa768f24b200b8c96",
            "value": " 1000/1000 [02:04&lt;00:00,  5.55it/s]"
          }
        },
        "3588e0bb1b3c4d9199adea005365b717": {
          "model_module": "@jupyter-widgets/base",
          "model_name": "LayoutModel",
          "model_module_version": "1.2.0",
          "state": {
            "_model_module": "@jupyter-widgets/base",
            "_model_module_version": "1.2.0",
            "_model_name": "LayoutModel",
            "_view_count": null,
            "_view_module": "@jupyter-widgets/base",
            "_view_module_version": "1.2.0",
            "_view_name": "LayoutView",
            "align_content": null,
            "align_items": null,
            "align_self": null,
            "border": null,
            "bottom": null,
            "display": null,
            "flex": null,
            "flex_flow": null,
            "grid_area": null,
            "grid_auto_columns": null,
            "grid_auto_flow": null,
            "grid_auto_rows": null,
            "grid_column": null,
            "grid_gap": null,
            "grid_row": null,
            "grid_template_areas": null,
            "grid_template_columns": null,
            "grid_template_rows": null,
            "height": null,
            "justify_content": null,
            "justify_items": null,
            "left": null,
            "margin": null,
            "max_height": null,
            "max_width": null,
            "min_height": null,
            "min_width": null,
            "object_fit": null,
            "object_position": null,
            "order": null,
            "overflow": null,
            "overflow_x": null,
            "overflow_y": null,
            "padding": null,
            "right": null,
            "top": null,
            "visibility": null,
            "width": null
          }
        },
        "1f8e813f129443aeb77c3bb37f92a430": {
          "model_module": "@jupyter-widgets/base",
          "model_name": "LayoutModel",
          "model_module_version": "1.2.0",
          "state": {
            "_model_module": "@jupyter-widgets/base",
            "_model_module_version": "1.2.0",
            "_model_name": "LayoutModel",
            "_view_count": null,
            "_view_module": "@jupyter-widgets/base",
            "_view_module_version": "1.2.0",
            "_view_name": "LayoutView",
            "align_content": null,
            "align_items": null,
            "align_self": null,
            "border": null,
            "bottom": null,
            "display": null,
            "flex": null,
            "flex_flow": null,
            "grid_area": null,
            "grid_auto_columns": null,
            "grid_auto_flow": null,
            "grid_auto_rows": null,
            "grid_column": null,
            "grid_gap": null,
            "grid_row": null,
            "grid_template_areas": null,
            "grid_template_columns": null,
            "grid_template_rows": null,
            "height": null,
            "justify_content": null,
            "justify_items": null,
            "left": null,
            "margin": null,
            "max_height": null,
            "max_width": null,
            "min_height": null,
            "min_width": null,
            "object_fit": null,
            "object_position": null,
            "order": null,
            "overflow": null,
            "overflow_x": null,
            "overflow_y": null,
            "padding": null,
            "right": null,
            "top": null,
            "visibility": null,
            "width": null
          }
        },
        "f94f4ed9349648d28e1364b4de50c4fe": {
          "model_module": "@jupyter-widgets/controls",
          "model_name": "DescriptionStyleModel",
          "model_module_version": "1.5.0",
          "state": {
            "_model_module": "@jupyter-widgets/controls",
            "_model_module_version": "1.5.0",
            "_model_name": "DescriptionStyleModel",
            "_view_count": null,
            "_view_module": "@jupyter-widgets/base",
            "_view_module_version": "1.2.0",
            "_view_name": "StyleView",
            "description_width": ""
          }
        },
        "b5548b3e4d9d40f396b178b9ce53350d": {
          "model_module": "@jupyter-widgets/base",
          "model_name": "LayoutModel",
          "model_module_version": "1.2.0",
          "state": {
            "_model_module": "@jupyter-widgets/base",
            "_model_module_version": "1.2.0",
            "_model_name": "LayoutModel",
            "_view_count": null,
            "_view_module": "@jupyter-widgets/base",
            "_view_module_version": "1.2.0",
            "_view_name": "LayoutView",
            "align_content": null,
            "align_items": null,
            "align_self": null,
            "border": null,
            "bottom": null,
            "display": null,
            "flex": null,
            "flex_flow": null,
            "grid_area": null,
            "grid_auto_columns": null,
            "grid_auto_flow": null,
            "grid_auto_rows": null,
            "grid_column": null,
            "grid_gap": null,
            "grid_row": null,
            "grid_template_areas": null,
            "grid_template_columns": null,
            "grid_template_rows": null,
            "height": null,
            "justify_content": null,
            "justify_items": null,
            "left": null,
            "margin": null,
            "max_height": null,
            "max_width": null,
            "min_height": null,
            "min_width": null,
            "object_fit": null,
            "object_position": null,
            "order": null,
            "overflow": null,
            "overflow_x": null,
            "overflow_y": null,
            "padding": null,
            "right": null,
            "top": null,
            "visibility": null,
            "width": null
          }
        },
        "707b1d30bd644efbb972e8104fda272c": {
          "model_module": "@jupyter-widgets/controls",
          "model_name": "ProgressStyleModel",
          "model_module_version": "1.5.0",
          "state": {
            "_model_module": "@jupyter-widgets/controls",
            "_model_module_version": "1.5.0",
            "_model_name": "ProgressStyleModel",
            "_view_count": null,
            "_view_module": "@jupyter-widgets/base",
            "_view_module_version": "1.2.0",
            "_view_name": "StyleView",
            "bar_color": null,
            "description_width": ""
          }
        },
        "8740769ea7c047509b2e72eb1eaadc4e": {
          "model_module": "@jupyter-widgets/base",
          "model_name": "LayoutModel",
          "model_module_version": "1.2.0",
          "state": {
            "_model_module": "@jupyter-widgets/base",
            "_model_module_version": "1.2.0",
            "_model_name": "LayoutModel",
            "_view_count": null,
            "_view_module": "@jupyter-widgets/base",
            "_view_module_version": "1.2.0",
            "_view_name": "LayoutView",
            "align_content": null,
            "align_items": null,
            "align_self": null,
            "border": null,
            "bottom": null,
            "display": null,
            "flex": null,
            "flex_flow": null,
            "grid_area": null,
            "grid_auto_columns": null,
            "grid_auto_flow": null,
            "grid_auto_rows": null,
            "grid_column": null,
            "grid_gap": null,
            "grid_row": null,
            "grid_template_areas": null,
            "grid_template_columns": null,
            "grid_template_rows": null,
            "height": null,
            "justify_content": null,
            "justify_items": null,
            "left": null,
            "margin": null,
            "max_height": null,
            "max_width": null,
            "min_height": null,
            "min_width": null,
            "object_fit": null,
            "object_position": null,
            "order": null,
            "overflow": null,
            "overflow_x": null,
            "overflow_y": null,
            "padding": null,
            "right": null,
            "top": null,
            "visibility": null,
            "width": null
          }
        },
        "a488b4ca61d5419fa768f24b200b8c96": {
          "model_module": "@jupyter-widgets/controls",
          "model_name": "DescriptionStyleModel",
          "model_module_version": "1.5.0",
          "state": {
            "_model_module": "@jupyter-widgets/controls",
            "_model_module_version": "1.5.0",
            "_model_name": "DescriptionStyleModel",
            "_view_count": null,
            "_view_module": "@jupyter-widgets/base",
            "_view_module_version": "1.2.0",
            "_view_name": "StyleView",
            "description_width": ""
          }
        },
        "6e7fee228828445f826fcf4c377111fd": {
          "model_module": "@jupyter-widgets/controls",
          "model_name": "HBoxModel",
          "model_module_version": "1.5.0",
          "state": {
            "_dom_classes": [],
            "_model_module": "@jupyter-widgets/controls",
            "_model_module_version": "1.5.0",
            "_model_name": "HBoxModel",
            "_view_count": null,
            "_view_module": "@jupyter-widgets/controls",
            "_view_module_version": "1.5.0",
            "_view_name": "HBoxView",
            "box_style": "",
            "children": [
              "IPY_MODEL_44fbb8694500496387c20c008a9024cc",
              "IPY_MODEL_4a880323a250496c80074ffe124c303b",
              "IPY_MODEL_40de622ab994494ab6c4f68439549dbc"
            ],
            "layout": "IPY_MODEL_6eb251bb09c642a9979b82a2882306db"
          }
        },
        "44fbb8694500496387c20c008a9024cc": {
          "model_module": "@jupyter-widgets/controls",
          "model_name": "HTMLModel",
          "model_module_version": "1.5.0",
          "state": {
            "_dom_classes": [],
            "_model_module": "@jupyter-widgets/controls",
            "_model_module_version": "1.5.0",
            "_model_name": "HTMLModel",
            "_view_count": null,
            "_view_module": "@jupyter-widgets/controls",
            "_view_module_version": "1.5.0",
            "_view_name": "HTMLView",
            "description": "",
            "description_tooltip": null,
            "layout": "IPY_MODEL_2db8438272ad41b29e8b3820582a8eb1",
            "placeholder": "​",
            "style": "IPY_MODEL_c130f52e893948e887d865ae36ff1703",
            "value": "config.json: 100%"
          }
        },
        "4a880323a250496c80074ffe124c303b": {
          "model_module": "@jupyter-widgets/controls",
          "model_name": "FloatProgressModel",
          "model_module_version": "1.5.0",
          "state": {
            "_dom_classes": [],
            "_model_module": "@jupyter-widgets/controls",
            "_model_module_version": "1.5.0",
            "_model_name": "FloatProgressModel",
            "_view_count": null,
            "_view_module": "@jupyter-widgets/controls",
            "_view_module_version": "1.5.0",
            "_view_name": "ProgressView",
            "bar_style": "success",
            "description": "",
            "description_tooltip": null,
            "layout": "IPY_MODEL_71469cd2b75c47b596cc05dd7791b76d",
            "max": 858,
            "min": 0,
            "orientation": "horizontal",
            "style": "IPY_MODEL_fdd06b6a4cc9476fac6220e38a8c5cbd",
            "value": 858
          }
        },
        "40de622ab994494ab6c4f68439549dbc": {
          "model_module": "@jupyter-widgets/controls",
          "model_name": "HTMLModel",
          "model_module_version": "1.5.0",
          "state": {
            "_dom_classes": [],
            "_model_module": "@jupyter-widgets/controls",
            "_model_module_version": "1.5.0",
            "_model_name": "HTMLModel",
            "_view_count": null,
            "_view_module": "@jupyter-widgets/controls",
            "_view_module_version": "1.5.0",
            "_view_name": "HTMLView",
            "description": "",
            "description_tooltip": null,
            "layout": "IPY_MODEL_06d0add497274f5399931d4a3f6f2ce2",
            "placeholder": "​",
            "style": "IPY_MODEL_983850baf11d423c9d0d9a4881da82a9",
            "value": " 858/858 [00:00&lt;00:00, 41.9kB/s]"
          }
        },
        "6eb251bb09c642a9979b82a2882306db": {
          "model_module": "@jupyter-widgets/base",
          "model_name": "LayoutModel",
          "model_module_version": "1.2.0",
          "state": {
            "_model_module": "@jupyter-widgets/base",
            "_model_module_version": "1.2.0",
            "_model_name": "LayoutModel",
            "_view_count": null,
            "_view_module": "@jupyter-widgets/base",
            "_view_module_version": "1.2.0",
            "_view_name": "LayoutView",
            "align_content": null,
            "align_items": null,
            "align_self": null,
            "border": null,
            "bottom": null,
            "display": null,
            "flex": null,
            "flex_flow": null,
            "grid_area": null,
            "grid_auto_columns": null,
            "grid_auto_flow": null,
            "grid_auto_rows": null,
            "grid_column": null,
            "grid_gap": null,
            "grid_row": null,
            "grid_template_areas": null,
            "grid_template_columns": null,
            "grid_template_rows": null,
            "height": null,
            "justify_content": null,
            "justify_items": null,
            "left": null,
            "margin": null,
            "max_height": null,
            "max_width": null,
            "min_height": null,
            "min_width": null,
            "object_fit": null,
            "object_position": null,
            "order": null,
            "overflow": null,
            "overflow_x": null,
            "overflow_y": null,
            "padding": null,
            "right": null,
            "top": null,
            "visibility": null,
            "width": null
          }
        },
        "2db8438272ad41b29e8b3820582a8eb1": {
          "model_module": "@jupyter-widgets/base",
          "model_name": "LayoutModel",
          "model_module_version": "1.2.0",
          "state": {
            "_model_module": "@jupyter-widgets/base",
            "_model_module_version": "1.2.0",
            "_model_name": "LayoutModel",
            "_view_count": null,
            "_view_module": "@jupyter-widgets/base",
            "_view_module_version": "1.2.0",
            "_view_name": "LayoutView",
            "align_content": null,
            "align_items": null,
            "align_self": null,
            "border": null,
            "bottom": null,
            "display": null,
            "flex": null,
            "flex_flow": null,
            "grid_area": null,
            "grid_auto_columns": null,
            "grid_auto_flow": null,
            "grid_auto_rows": null,
            "grid_column": null,
            "grid_gap": null,
            "grid_row": null,
            "grid_template_areas": null,
            "grid_template_columns": null,
            "grid_template_rows": null,
            "height": null,
            "justify_content": null,
            "justify_items": null,
            "left": null,
            "margin": null,
            "max_height": null,
            "max_width": null,
            "min_height": null,
            "min_width": null,
            "object_fit": null,
            "object_position": null,
            "order": null,
            "overflow": null,
            "overflow_x": null,
            "overflow_y": null,
            "padding": null,
            "right": null,
            "top": null,
            "visibility": null,
            "width": null
          }
        },
        "c130f52e893948e887d865ae36ff1703": {
          "model_module": "@jupyter-widgets/controls",
          "model_name": "DescriptionStyleModel",
          "model_module_version": "1.5.0",
          "state": {
            "_model_module": "@jupyter-widgets/controls",
            "_model_module_version": "1.5.0",
            "_model_name": "DescriptionStyleModel",
            "_view_count": null,
            "_view_module": "@jupyter-widgets/base",
            "_view_module_version": "1.2.0",
            "_view_name": "StyleView",
            "description_width": ""
          }
        },
        "71469cd2b75c47b596cc05dd7791b76d": {
          "model_module": "@jupyter-widgets/base",
          "model_name": "LayoutModel",
          "model_module_version": "1.2.0",
          "state": {
            "_model_module": "@jupyter-widgets/base",
            "_model_module_version": "1.2.0",
            "_model_name": "LayoutModel",
            "_view_count": null,
            "_view_module": "@jupyter-widgets/base",
            "_view_module_version": "1.2.0",
            "_view_name": "LayoutView",
            "align_content": null,
            "align_items": null,
            "align_self": null,
            "border": null,
            "bottom": null,
            "display": null,
            "flex": null,
            "flex_flow": null,
            "grid_area": null,
            "grid_auto_columns": null,
            "grid_auto_flow": null,
            "grid_auto_rows": null,
            "grid_column": null,
            "grid_gap": null,
            "grid_row": null,
            "grid_template_areas": null,
            "grid_template_columns": null,
            "grid_template_rows": null,
            "height": null,
            "justify_content": null,
            "justify_items": null,
            "left": null,
            "margin": null,
            "max_height": null,
            "max_width": null,
            "min_height": null,
            "min_width": null,
            "object_fit": null,
            "object_position": null,
            "order": null,
            "overflow": null,
            "overflow_x": null,
            "overflow_y": null,
            "padding": null,
            "right": null,
            "top": null,
            "visibility": null,
            "width": null
          }
        },
        "fdd06b6a4cc9476fac6220e38a8c5cbd": {
          "model_module": "@jupyter-widgets/controls",
          "model_name": "ProgressStyleModel",
          "model_module_version": "1.5.0",
          "state": {
            "_model_module": "@jupyter-widgets/controls",
            "_model_module_version": "1.5.0",
            "_model_name": "ProgressStyleModel",
            "_view_count": null,
            "_view_module": "@jupyter-widgets/base",
            "_view_module_version": "1.2.0",
            "_view_name": "StyleView",
            "bar_color": null,
            "description_width": ""
          }
        },
        "06d0add497274f5399931d4a3f6f2ce2": {
          "model_module": "@jupyter-widgets/base",
          "model_name": "LayoutModel",
          "model_module_version": "1.2.0",
          "state": {
            "_model_module": "@jupyter-widgets/base",
            "_model_module_version": "1.2.0",
            "_model_name": "LayoutModel",
            "_view_count": null,
            "_view_module": "@jupyter-widgets/base",
            "_view_module_version": "1.2.0",
            "_view_name": "LayoutView",
            "align_content": null,
            "align_items": null,
            "align_self": null,
            "border": null,
            "bottom": null,
            "display": null,
            "flex": null,
            "flex_flow": null,
            "grid_area": null,
            "grid_auto_columns": null,
            "grid_auto_flow": null,
            "grid_auto_rows": null,
            "grid_column": null,
            "grid_gap": null,
            "grid_row": null,
            "grid_template_areas": null,
            "grid_template_columns": null,
            "grid_template_rows": null,
            "height": null,
            "justify_content": null,
            "justify_items": null,
            "left": null,
            "margin": null,
            "max_height": null,
            "max_width": null,
            "min_height": null,
            "min_width": null,
            "object_fit": null,
            "object_position": null,
            "order": null,
            "overflow": null,
            "overflow_x": null,
            "overflow_y": null,
            "padding": null,
            "right": null,
            "top": null,
            "visibility": null,
            "width": null
          }
        },
        "983850baf11d423c9d0d9a4881da82a9": {
          "model_module": "@jupyter-widgets/controls",
          "model_name": "DescriptionStyleModel",
          "model_module_version": "1.5.0",
          "state": {
            "_model_module": "@jupyter-widgets/controls",
            "_model_module_version": "1.5.0",
            "_model_name": "DescriptionStyleModel",
            "_view_count": null,
            "_view_module": "@jupyter-widgets/base",
            "_view_module_version": "1.2.0",
            "_view_name": "StyleView",
            "description_width": ""
          }
        },
        "d2bf7e53817b4f2f9fdb8e3ff247f9e4": {
          "model_module": "@jupyter-widgets/controls",
          "model_name": "HBoxModel",
          "model_module_version": "1.5.0",
          "state": {
            "_dom_classes": [],
            "_model_module": "@jupyter-widgets/controls",
            "_model_module_version": "1.5.0",
            "_model_name": "HBoxModel",
            "_view_count": null,
            "_view_module": "@jupyter-widgets/controls",
            "_view_module_version": "1.5.0",
            "_view_name": "HBoxView",
            "box_style": "",
            "children": [
              "IPY_MODEL_7f78dc4f21ba4831b579fb460689e20b",
              "IPY_MODEL_19b91e887c5741bbaa0a441007abc5b0",
              "IPY_MODEL_d4a7c2f253d34a47b65581530d7acbdd"
            ],
            "layout": "IPY_MODEL_2987944165104650b5cfb6d13850d091"
          }
        },
        "7f78dc4f21ba4831b579fb460689e20b": {
          "model_module": "@jupyter-widgets/controls",
          "model_name": "HTMLModel",
          "model_module_version": "1.5.0",
          "state": {
            "_dom_classes": [],
            "_model_module": "@jupyter-widgets/controls",
            "_model_module_version": "1.5.0",
            "_model_name": "HTMLModel",
            "_view_count": null,
            "_view_module": "@jupyter-widgets/controls",
            "_view_module_version": "1.5.0",
            "_view_name": "HTMLView",
            "description": "",
            "description_tooltip": null,
            "layout": "IPY_MODEL_b98a5c7022fb4692bf47eb63b71a6e1f",
            "placeholder": "​",
            "style": "IPY_MODEL_044518ddad734cf1b3ddfb23994ad69a",
            "value": "tokenizer_config.json: 100%"
          }
        },
        "19b91e887c5741bbaa0a441007abc5b0": {
          "model_module": "@jupyter-widgets/controls",
          "model_name": "FloatProgressModel",
          "model_module_version": "1.5.0",
          "state": {
            "_dom_classes": [],
            "_model_module": "@jupyter-widgets/controls",
            "_model_module_version": "1.5.0",
            "_model_name": "FloatProgressModel",
            "_view_count": null,
            "_view_module": "@jupyter-widgets/controls",
            "_view_module_version": "1.5.0",
            "_view_name": "ProgressView",
            "bar_style": "success",
            "description": "",
            "description_tooltip": null,
            "layout": "IPY_MODEL_5483fbec681d438d84cd37fadfe071b1",
            "max": 391,
            "min": 0,
            "orientation": "horizontal",
            "style": "IPY_MODEL_d6ed356de9ed4dfe92dca6ec6e4d2629",
            "value": 391
          }
        },
        "d4a7c2f253d34a47b65581530d7acbdd": {
          "model_module": "@jupyter-widgets/controls",
          "model_name": "HTMLModel",
          "model_module_version": "1.5.0",
          "state": {
            "_dom_classes": [],
            "_model_module": "@jupyter-widgets/controls",
            "_model_module_version": "1.5.0",
            "_model_name": "HTMLModel",
            "_view_count": null,
            "_view_module": "@jupyter-widgets/controls",
            "_view_module_version": "1.5.0",
            "_view_name": "HTMLView",
            "description": "",
            "description_tooltip": null,
            "layout": "IPY_MODEL_b95b6a55bf27457e977831493884e699",
            "placeholder": "​",
            "style": "IPY_MODEL_535e6516b31244899da524b5da3376d3",
            "value": " 391/391 [00:00&lt;00:00, 22.6kB/s]"
          }
        },
        "2987944165104650b5cfb6d13850d091": {
          "model_module": "@jupyter-widgets/base",
          "model_name": "LayoutModel",
          "model_module_version": "1.2.0",
          "state": {
            "_model_module": "@jupyter-widgets/base",
            "_model_module_version": "1.2.0",
            "_model_name": "LayoutModel",
            "_view_count": null,
            "_view_module": "@jupyter-widgets/base",
            "_view_module_version": "1.2.0",
            "_view_name": "LayoutView",
            "align_content": null,
            "align_items": null,
            "align_self": null,
            "border": null,
            "bottom": null,
            "display": null,
            "flex": null,
            "flex_flow": null,
            "grid_area": null,
            "grid_auto_columns": null,
            "grid_auto_flow": null,
            "grid_auto_rows": null,
            "grid_column": null,
            "grid_gap": null,
            "grid_row": null,
            "grid_template_areas": null,
            "grid_template_columns": null,
            "grid_template_rows": null,
            "height": null,
            "justify_content": null,
            "justify_items": null,
            "left": null,
            "margin": null,
            "max_height": null,
            "max_width": null,
            "min_height": null,
            "min_width": null,
            "object_fit": null,
            "object_position": null,
            "order": null,
            "overflow": null,
            "overflow_x": null,
            "overflow_y": null,
            "padding": null,
            "right": null,
            "top": null,
            "visibility": null,
            "width": null
          }
        },
        "b98a5c7022fb4692bf47eb63b71a6e1f": {
          "model_module": "@jupyter-widgets/base",
          "model_name": "LayoutModel",
          "model_module_version": "1.2.0",
          "state": {
            "_model_module": "@jupyter-widgets/base",
            "_model_module_version": "1.2.0",
            "_model_name": "LayoutModel",
            "_view_count": null,
            "_view_module": "@jupyter-widgets/base",
            "_view_module_version": "1.2.0",
            "_view_name": "LayoutView",
            "align_content": null,
            "align_items": null,
            "align_self": null,
            "border": null,
            "bottom": null,
            "display": null,
            "flex": null,
            "flex_flow": null,
            "grid_area": null,
            "grid_auto_columns": null,
            "grid_auto_flow": null,
            "grid_auto_rows": null,
            "grid_column": null,
            "grid_gap": null,
            "grid_row": null,
            "grid_template_areas": null,
            "grid_template_columns": null,
            "grid_template_rows": null,
            "height": null,
            "justify_content": null,
            "justify_items": null,
            "left": null,
            "margin": null,
            "max_height": null,
            "max_width": null,
            "min_height": null,
            "min_width": null,
            "object_fit": null,
            "object_position": null,
            "order": null,
            "overflow": null,
            "overflow_x": null,
            "overflow_y": null,
            "padding": null,
            "right": null,
            "top": null,
            "visibility": null,
            "width": null
          }
        },
        "044518ddad734cf1b3ddfb23994ad69a": {
          "model_module": "@jupyter-widgets/controls",
          "model_name": "DescriptionStyleModel",
          "model_module_version": "1.5.0",
          "state": {
            "_model_module": "@jupyter-widgets/controls",
            "_model_module_version": "1.5.0",
            "_model_name": "DescriptionStyleModel",
            "_view_count": null,
            "_view_module": "@jupyter-widgets/base",
            "_view_module_version": "1.2.0",
            "_view_name": "StyleView",
            "description_width": ""
          }
        },
        "5483fbec681d438d84cd37fadfe071b1": {
          "model_module": "@jupyter-widgets/base",
          "model_name": "LayoutModel",
          "model_module_version": "1.2.0",
          "state": {
            "_model_module": "@jupyter-widgets/base",
            "_model_module_version": "1.2.0",
            "_model_name": "LayoutModel",
            "_view_count": null,
            "_view_module": "@jupyter-widgets/base",
            "_view_module_version": "1.2.0",
            "_view_name": "LayoutView",
            "align_content": null,
            "align_items": null,
            "align_self": null,
            "border": null,
            "bottom": null,
            "display": null,
            "flex": null,
            "flex_flow": null,
            "grid_area": null,
            "grid_auto_columns": null,
            "grid_auto_flow": null,
            "grid_auto_rows": null,
            "grid_column": null,
            "grid_gap": null,
            "grid_row": null,
            "grid_template_areas": null,
            "grid_template_columns": null,
            "grid_template_rows": null,
            "height": null,
            "justify_content": null,
            "justify_items": null,
            "left": null,
            "margin": null,
            "max_height": null,
            "max_width": null,
            "min_height": null,
            "min_width": null,
            "object_fit": null,
            "object_position": null,
            "order": null,
            "overflow": null,
            "overflow_x": null,
            "overflow_y": null,
            "padding": null,
            "right": null,
            "top": null,
            "visibility": null,
            "width": null
          }
        },
        "d6ed356de9ed4dfe92dca6ec6e4d2629": {
          "model_module": "@jupyter-widgets/controls",
          "model_name": "ProgressStyleModel",
          "model_module_version": "1.5.0",
          "state": {
            "_model_module": "@jupyter-widgets/controls",
            "_model_module_version": "1.5.0",
            "_model_name": "ProgressStyleModel",
            "_view_count": null,
            "_view_module": "@jupyter-widgets/base",
            "_view_module_version": "1.2.0",
            "_view_name": "StyleView",
            "bar_color": null,
            "description_width": ""
          }
        },
        "b95b6a55bf27457e977831493884e699": {
          "model_module": "@jupyter-widgets/base",
          "model_name": "LayoutModel",
          "model_module_version": "1.2.0",
          "state": {
            "_model_module": "@jupyter-widgets/base",
            "_model_module_version": "1.2.0",
            "_model_name": "LayoutModel",
            "_view_count": null,
            "_view_module": "@jupyter-widgets/base",
            "_view_module_version": "1.2.0",
            "_view_name": "LayoutView",
            "align_content": null,
            "align_items": null,
            "align_self": null,
            "border": null,
            "bottom": null,
            "display": null,
            "flex": null,
            "flex_flow": null,
            "grid_area": null,
            "grid_auto_columns": null,
            "grid_auto_flow": null,
            "grid_auto_rows": null,
            "grid_column": null,
            "grid_gap": null,
            "grid_row": null,
            "grid_template_areas": null,
            "grid_template_columns": null,
            "grid_template_rows": null,
            "height": null,
            "justify_content": null,
            "justify_items": null,
            "left": null,
            "margin": null,
            "max_height": null,
            "max_width": null,
            "min_height": null,
            "min_width": null,
            "object_fit": null,
            "object_position": null,
            "order": null,
            "overflow": null,
            "overflow_x": null,
            "overflow_y": null,
            "padding": null,
            "right": null,
            "top": null,
            "visibility": null,
            "width": null
          }
        },
        "535e6516b31244899da524b5da3376d3": {
          "model_module": "@jupyter-widgets/controls",
          "model_name": "DescriptionStyleModel",
          "model_module_version": "1.5.0",
          "state": {
            "_model_module": "@jupyter-widgets/controls",
            "_model_module_version": "1.5.0",
            "_model_name": "DescriptionStyleModel",
            "_view_count": null,
            "_view_module": "@jupyter-widgets/base",
            "_view_module_version": "1.2.0",
            "_view_name": "StyleView",
            "description_width": ""
          }
        },
        "a0138a00bdf846159f50f316b1b2b3dd": {
          "model_module": "@jupyter-widgets/controls",
          "model_name": "HBoxModel",
          "model_module_version": "1.5.0",
          "state": {
            "_dom_classes": [],
            "_model_module": "@jupyter-widgets/controls",
            "_model_module_version": "1.5.0",
            "_model_name": "HBoxModel",
            "_view_count": null,
            "_view_module": "@jupyter-widgets/controls",
            "_view_module_version": "1.5.0",
            "_view_name": "HBoxView",
            "box_style": "",
            "children": [
              "IPY_MODEL_6cc5fcb5cf9e406caef6e1fc66539dee",
              "IPY_MODEL_52ab1c832efc4aeb975681d451b7d821",
              "IPY_MODEL_56750a08aa754e7d89a65d9164c6a7d5"
            ],
            "layout": "IPY_MODEL_f05d0eec7fb846609bcad4e5f62d82d3"
          }
        },
        "6cc5fcb5cf9e406caef6e1fc66539dee": {
          "model_module": "@jupyter-widgets/controls",
          "model_name": "HTMLModel",
          "model_module_version": "1.5.0",
          "state": {
            "_dom_classes": [],
            "_model_module": "@jupyter-widgets/controls",
            "_model_module_version": "1.5.0",
            "_model_name": "HTMLModel",
            "_view_count": null,
            "_view_module": "@jupyter-widgets/controls",
            "_view_module_version": "1.5.0",
            "_view_name": "HTMLView",
            "description": "",
            "description_tooltip": null,
            "layout": "IPY_MODEL_c8d0fb13891740a19384bddaf2c21149",
            "placeholder": "​",
            "style": "IPY_MODEL_710c6a75848f4f428bc643e724e469af",
            "value": "vocab.json: 100%"
          }
        },
        "52ab1c832efc4aeb975681d451b7d821": {
          "model_module": "@jupyter-widgets/controls",
          "model_name": "FloatProgressModel",
          "model_module_version": "1.5.0",
          "state": {
            "_dom_classes": [],
            "_model_module": "@jupyter-widgets/controls",
            "_model_module_version": "1.5.0",
            "_model_name": "FloatProgressModel",
            "_view_count": null,
            "_view_module": "@jupyter-widgets/controls",
            "_view_module_version": "1.5.0",
            "_view_name": "ProgressView",
            "bar_style": "success",
            "description": "",
            "description_tooltip": null,
            "layout": "IPY_MODEL_ad745cac5c8947fcbc1d822c6ea853c8",
            "max": 798293,
            "min": 0,
            "orientation": "horizontal",
            "style": "IPY_MODEL_620338c8361f4fcd90b4c52604a51fb0",
            "value": 798293
          }
        },
        "56750a08aa754e7d89a65d9164c6a7d5": {
          "model_module": "@jupyter-widgets/controls",
          "model_name": "HTMLModel",
          "model_module_version": "1.5.0",
          "state": {
            "_dom_classes": [],
            "_model_module": "@jupyter-widgets/controls",
            "_model_module_version": "1.5.0",
            "_model_name": "HTMLModel",
            "_view_count": null,
            "_view_module": "@jupyter-widgets/controls",
            "_view_module_version": "1.5.0",
            "_view_name": "HTMLView",
            "description": "",
            "description_tooltip": null,
            "layout": "IPY_MODEL_f8ae1b3d6e594d869c517f0eaff6ac79",
            "placeholder": "​",
            "style": "IPY_MODEL_e259d376006349ce93dfec5e10665032",
            "value": " 798k/798k [00:00&lt;00:00, 6.22MB/s]"
          }
        },
        "f05d0eec7fb846609bcad4e5f62d82d3": {
          "model_module": "@jupyter-widgets/base",
          "model_name": "LayoutModel",
          "model_module_version": "1.2.0",
          "state": {
            "_model_module": "@jupyter-widgets/base",
            "_model_module_version": "1.2.0",
            "_model_name": "LayoutModel",
            "_view_count": null,
            "_view_module": "@jupyter-widgets/base",
            "_view_module_version": "1.2.0",
            "_view_name": "LayoutView",
            "align_content": null,
            "align_items": null,
            "align_self": null,
            "border": null,
            "bottom": null,
            "display": null,
            "flex": null,
            "flex_flow": null,
            "grid_area": null,
            "grid_auto_columns": null,
            "grid_auto_flow": null,
            "grid_auto_rows": null,
            "grid_column": null,
            "grid_gap": null,
            "grid_row": null,
            "grid_template_areas": null,
            "grid_template_columns": null,
            "grid_template_rows": null,
            "height": null,
            "justify_content": null,
            "justify_items": null,
            "left": null,
            "margin": null,
            "max_height": null,
            "max_width": null,
            "min_height": null,
            "min_width": null,
            "object_fit": null,
            "object_position": null,
            "order": null,
            "overflow": null,
            "overflow_x": null,
            "overflow_y": null,
            "padding": null,
            "right": null,
            "top": null,
            "visibility": null,
            "width": null
          }
        },
        "c8d0fb13891740a19384bddaf2c21149": {
          "model_module": "@jupyter-widgets/base",
          "model_name": "LayoutModel",
          "model_module_version": "1.2.0",
          "state": {
            "_model_module": "@jupyter-widgets/base",
            "_model_module_version": "1.2.0",
            "_model_name": "LayoutModel",
            "_view_count": null,
            "_view_module": "@jupyter-widgets/base",
            "_view_module_version": "1.2.0",
            "_view_name": "LayoutView",
            "align_content": null,
            "align_items": null,
            "align_self": null,
            "border": null,
            "bottom": null,
            "display": null,
            "flex": null,
            "flex_flow": null,
            "grid_area": null,
            "grid_auto_columns": null,
            "grid_auto_flow": null,
            "grid_auto_rows": null,
            "grid_column": null,
            "grid_gap": null,
            "grid_row": null,
            "grid_template_areas": null,
            "grid_template_columns": null,
            "grid_template_rows": null,
            "height": null,
            "justify_content": null,
            "justify_items": null,
            "left": null,
            "margin": null,
            "max_height": null,
            "max_width": null,
            "min_height": null,
            "min_width": null,
            "object_fit": null,
            "object_position": null,
            "order": null,
            "overflow": null,
            "overflow_x": null,
            "overflow_y": null,
            "padding": null,
            "right": null,
            "top": null,
            "visibility": null,
            "width": null
          }
        },
        "710c6a75848f4f428bc643e724e469af": {
          "model_module": "@jupyter-widgets/controls",
          "model_name": "DescriptionStyleModel",
          "model_module_version": "1.5.0",
          "state": {
            "_model_module": "@jupyter-widgets/controls",
            "_model_module_version": "1.5.0",
            "_model_name": "DescriptionStyleModel",
            "_view_count": null,
            "_view_module": "@jupyter-widgets/base",
            "_view_module_version": "1.2.0",
            "_view_name": "StyleView",
            "description_width": ""
          }
        },
        "ad745cac5c8947fcbc1d822c6ea853c8": {
          "model_module": "@jupyter-widgets/base",
          "model_name": "LayoutModel",
          "model_module_version": "1.2.0",
          "state": {
            "_model_module": "@jupyter-widgets/base",
            "_model_module_version": "1.2.0",
            "_model_name": "LayoutModel",
            "_view_count": null,
            "_view_module": "@jupyter-widgets/base",
            "_view_module_version": "1.2.0",
            "_view_name": "LayoutView",
            "align_content": null,
            "align_items": null,
            "align_self": null,
            "border": null,
            "bottom": null,
            "display": null,
            "flex": null,
            "flex_flow": null,
            "grid_area": null,
            "grid_auto_columns": null,
            "grid_auto_flow": null,
            "grid_auto_rows": null,
            "grid_column": null,
            "grid_gap": null,
            "grid_row": null,
            "grid_template_areas": null,
            "grid_template_columns": null,
            "grid_template_rows": null,
            "height": null,
            "justify_content": null,
            "justify_items": null,
            "left": null,
            "margin": null,
            "max_height": null,
            "max_width": null,
            "min_height": null,
            "min_width": null,
            "object_fit": null,
            "object_position": null,
            "order": null,
            "overflow": null,
            "overflow_x": null,
            "overflow_y": null,
            "padding": null,
            "right": null,
            "top": null,
            "visibility": null,
            "width": null
          }
        },
        "620338c8361f4fcd90b4c52604a51fb0": {
          "model_module": "@jupyter-widgets/controls",
          "model_name": "ProgressStyleModel",
          "model_module_version": "1.5.0",
          "state": {
            "_model_module": "@jupyter-widgets/controls",
            "_model_module_version": "1.5.0",
            "_model_name": "ProgressStyleModel",
            "_view_count": null,
            "_view_module": "@jupyter-widgets/base",
            "_view_module_version": "1.2.0",
            "_view_name": "StyleView",
            "bar_color": null,
            "description_width": ""
          }
        },
        "f8ae1b3d6e594d869c517f0eaff6ac79": {
          "model_module": "@jupyter-widgets/base",
          "model_name": "LayoutModel",
          "model_module_version": "1.2.0",
          "state": {
            "_model_module": "@jupyter-widgets/base",
            "_model_module_version": "1.2.0",
            "_model_name": "LayoutModel",
            "_view_count": null,
            "_view_module": "@jupyter-widgets/base",
            "_view_module_version": "1.2.0",
            "_view_name": "LayoutView",
            "align_content": null,
            "align_items": null,
            "align_self": null,
            "border": null,
            "bottom": null,
            "display": null,
            "flex": null,
            "flex_flow": null,
            "grid_area": null,
            "grid_auto_columns": null,
            "grid_auto_flow": null,
            "grid_auto_rows": null,
            "grid_column": null,
            "grid_gap": null,
            "grid_row": null,
            "grid_template_areas": null,
            "grid_template_columns": null,
            "grid_template_rows": null,
            "height": null,
            "justify_content": null,
            "justify_items": null,
            "left": null,
            "margin": null,
            "max_height": null,
            "max_width": null,
            "min_height": null,
            "min_width": null,
            "object_fit": null,
            "object_position": null,
            "order": null,
            "overflow": null,
            "overflow_x": null,
            "overflow_y": null,
            "padding": null,
            "right": null,
            "top": null,
            "visibility": null,
            "width": null
          }
        },
        "e259d376006349ce93dfec5e10665032": {
          "model_module": "@jupyter-widgets/controls",
          "model_name": "DescriptionStyleModel",
          "model_module_version": "1.5.0",
          "state": {
            "_model_module": "@jupyter-widgets/controls",
            "_model_module_version": "1.5.0",
            "_model_name": "DescriptionStyleModel",
            "_view_count": null,
            "_view_module": "@jupyter-widgets/base",
            "_view_module_version": "1.2.0",
            "_view_name": "StyleView",
            "description_width": ""
          }
        },
        "8d92a59b9eae470fb37b7dfb53c160db": {
          "model_module": "@jupyter-widgets/controls",
          "model_name": "HBoxModel",
          "model_module_version": "1.5.0",
          "state": {
            "_dom_classes": [],
            "_model_module": "@jupyter-widgets/controls",
            "_model_module_version": "1.5.0",
            "_model_name": "HBoxModel",
            "_view_count": null,
            "_view_module": "@jupyter-widgets/controls",
            "_view_module_version": "1.5.0",
            "_view_name": "HBoxView",
            "box_style": "",
            "children": [
              "IPY_MODEL_499acd38e682449ba432f7f5f361835c",
              "IPY_MODEL_a4f4a10ba89447c9b16bee1d69e8ad98",
              "IPY_MODEL_91e7f53ad417469cb7456ad4db60a939"
            ],
            "layout": "IPY_MODEL_2384b1c3db33462994eeca9c63ae86b4"
          }
        },
        "499acd38e682449ba432f7f5f361835c": {
          "model_module": "@jupyter-widgets/controls",
          "model_name": "HTMLModel",
          "model_module_version": "1.5.0",
          "state": {
            "_dom_classes": [],
            "_model_module": "@jupyter-widgets/controls",
            "_model_module_version": "1.5.0",
            "_model_name": "HTMLModel",
            "_view_count": null,
            "_view_module": "@jupyter-widgets/controls",
            "_view_module_version": "1.5.0",
            "_view_name": "HTMLView",
            "description": "",
            "description_tooltip": null,
            "layout": "IPY_MODEL_41f73fd969c640fb8c7ac98fc4b95921",
            "placeholder": "​",
            "style": "IPY_MODEL_efe3c232813d4d1692be121cbbc932c9",
            "value": "merges.txt: 100%"
          }
        },
        "a4f4a10ba89447c9b16bee1d69e8ad98": {
          "model_module": "@jupyter-widgets/controls",
          "model_name": "FloatProgressModel",
          "model_module_version": "1.5.0",
          "state": {
            "_dom_classes": [],
            "_model_module": "@jupyter-widgets/controls",
            "_model_module_version": "1.5.0",
            "_model_name": "FloatProgressModel",
            "_view_count": null,
            "_view_module": "@jupyter-widgets/controls",
            "_view_module_version": "1.5.0",
            "_view_name": "ProgressView",
            "bar_style": "success",
            "description": "",
            "description_tooltip": null,
            "layout": "IPY_MODEL_d49400a5e04044c4b94a3c7190678555",
            "max": 456356,
            "min": 0,
            "orientation": "horizontal",
            "style": "IPY_MODEL_ef7ac64ae26346de8e4dbdde12c1bbad",
            "value": 456356
          }
        },
        "91e7f53ad417469cb7456ad4db60a939": {
          "model_module": "@jupyter-widgets/controls",
          "model_name": "HTMLModel",
          "model_module_version": "1.5.0",
          "state": {
            "_dom_classes": [],
            "_model_module": "@jupyter-widgets/controls",
            "_model_module_version": "1.5.0",
            "_model_name": "HTMLModel",
            "_view_count": null,
            "_view_module": "@jupyter-widgets/controls",
            "_view_module_version": "1.5.0",
            "_view_name": "HTMLView",
            "description": "",
            "description_tooltip": null,
            "layout": "IPY_MODEL_3890ae2ce3664625b58f438177a796ff",
            "placeholder": "​",
            "style": "IPY_MODEL_292ad9f2e51f4c5ebbf066c5c2bf08f3",
            "value": " 456k/456k [00:00&lt;00:00, 7.67MB/s]"
          }
        },
        "2384b1c3db33462994eeca9c63ae86b4": {
          "model_module": "@jupyter-widgets/base",
          "model_name": "LayoutModel",
          "model_module_version": "1.2.0",
          "state": {
            "_model_module": "@jupyter-widgets/base",
            "_model_module_version": "1.2.0",
            "_model_name": "LayoutModel",
            "_view_count": null,
            "_view_module": "@jupyter-widgets/base",
            "_view_module_version": "1.2.0",
            "_view_name": "LayoutView",
            "align_content": null,
            "align_items": null,
            "align_self": null,
            "border": null,
            "bottom": null,
            "display": null,
            "flex": null,
            "flex_flow": null,
            "grid_area": null,
            "grid_auto_columns": null,
            "grid_auto_flow": null,
            "grid_auto_rows": null,
            "grid_column": null,
            "grid_gap": null,
            "grid_row": null,
            "grid_template_areas": null,
            "grid_template_columns": null,
            "grid_template_rows": null,
            "height": null,
            "justify_content": null,
            "justify_items": null,
            "left": null,
            "margin": null,
            "max_height": null,
            "max_width": null,
            "min_height": null,
            "min_width": null,
            "object_fit": null,
            "object_position": null,
            "order": null,
            "overflow": null,
            "overflow_x": null,
            "overflow_y": null,
            "padding": null,
            "right": null,
            "top": null,
            "visibility": null,
            "width": null
          }
        },
        "41f73fd969c640fb8c7ac98fc4b95921": {
          "model_module": "@jupyter-widgets/base",
          "model_name": "LayoutModel",
          "model_module_version": "1.2.0",
          "state": {
            "_model_module": "@jupyter-widgets/base",
            "_model_module_version": "1.2.0",
            "_model_name": "LayoutModel",
            "_view_count": null,
            "_view_module": "@jupyter-widgets/base",
            "_view_module_version": "1.2.0",
            "_view_name": "LayoutView",
            "align_content": null,
            "align_items": null,
            "align_self": null,
            "border": null,
            "bottom": null,
            "display": null,
            "flex": null,
            "flex_flow": null,
            "grid_area": null,
            "grid_auto_columns": null,
            "grid_auto_flow": null,
            "grid_auto_rows": null,
            "grid_column": null,
            "grid_gap": null,
            "grid_row": null,
            "grid_template_areas": null,
            "grid_template_columns": null,
            "grid_template_rows": null,
            "height": null,
            "justify_content": null,
            "justify_items": null,
            "left": null,
            "margin": null,
            "max_height": null,
            "max_width": null,
            "min_height": null,
            "min_width": null,
            "object_fit": null,
            "object_position": null,
            "order": null,
            "overflow": null,
            "overflow_x": null,
            "overflow_y": null,
            "padding": null,
            "right": null,
            "top": null,
            "visibility": null,
            "width": null
          }
        },
        "efe3c232813d4d1692be121cbbc932c9": {
          "model_module": "@jupyter-widgets/controls",
          "model_name": "DescriptionStyleModel",
          "model_module_version": "1.5.0",
          "state": {
            "_model_module": "@jupyter-widgets/controls",
            "_model_module_version": "1.5.0",
            "_model_name": "DescriptionStyleModel",
            "_view_count": null,
            "_view_module": "@jupyter-widgets/base",
            "_view_module_version": "1.2.0",
            "_view_name": "StyleView",
            "description_width": ""
          }
        },
        "d49400a5e04044c4b94a3c7190678555": {
          "model_module": "@jupyter-widgets/base",
          "model_name": "LayoutModel",
          "model_module_version": "1.2.0",
          "state": {
            "_model_module": "@jupyter-widgets/base",
            "_model_module_version": "1.2.0",
            "_model_name": "LayoutModel",
            "_view_count": null,
            "_view_module": "@jupyter-widgets/base",
            "_view_module_version": "1.2.0",
            "_view_name": "LayoutView",
            "align_content": null,
            "align_items": null,
            "align_self": null,
            "border": null,
            "bottom": null,
            "display": null,
            "flex": null,
            "flex_flow": null,
            "grid_area": null,
            "grid_auto_columns": null,
            "grid_auto_flow": null,
            "grid_auto_rows": null,
            "grid_column": null,
            "grid_gap": null,
            "grid_row": null,
            "grid_template_areas": null,
            "grid_template_columns": null,
            "grid_template_rows": null,
            "height": null,
            "justify_content": null,
            "justify_items": null,
            "left": null,
            "margin": null,
            "max_height": null,
            "max_width": null,
            "min_height": null,
            "min_width": null,
            "object_fit": null,
            "object_position": null,
            "order": null,
            "overflow": null,
            "overflow_x": null,
            "overflow_y": null,
            "padding": null,
            "right": null,
            "top": null,
            "visibility": null,
            "width": null
          }
        },
        "ef7ac64ae26346de8e4dbdde12c1bbad": {
          "model_module": "@jupyter-widgets/controls",
          "model_name": "ProgressStyleModel",
          "model_module_version": "1.5.0",
          "state": {
            "_model_module": "@jupyter-widgets/controls",
            "_model_module_version": "1.5.0",
            "_model_name": "ProgressStyleModel",
            "_view_count": null,
            "_view_module": "@jupyter-widgets/base",
            "_view_module_version": "1.2.0",
            "_view_name": "StyleView",
            "bar_color": null,
            "description_width": ""
          }
        },
        "3890ae2ce3664625b58f438177a796ff": {
          "model_module": "@jupyter-widgets/base",
          "model_name": "LayoutModel",
          "model_module_version": "1.2.0",
          "state": {
            "_model_module": "@jupyter-widgets/base",
            "_model_module_version": "1.2.0",
            "_model_name": "LayoutModel",
            "_view_count": null,
            "_view_module": "@jupyter-widgets/base",
            "_view_module_version": "1.2.0",
            "_view_name": "LayoutView",
            "align_content": null,
            "align_items": null,
            "align_self": null,
            "border": null,
            "bottom": null,
            "display": null,
            "flex": null,
            "flex_flow": null,
            "grid_area": null,
            "grid_auto_columns": null,
            "grid_auto_flow": null,
            "grid_auto_rows": null,
            "grid_column": null,
            "grid_gap": null,
            "grid_row": null,
            "grid_template_areas": null,
            "grid_template_columns": null,
            "grid_template_rows": null,
            "height": null,
            "justify_content": null,
            "justify_items": null,
            "left": null,
            "margin": null,
            "max_height": null,
            "max_width": null,
            "min_height": null,
            "min_width": null,
            "object_fit": null,
            "object_position": null,
            "order": null,
            "overflow": null,
            "overflow_x": null,
            "overflow_y": null,
            "padding": null,
            "right": null,
            "top": null,
            "visibility": null,
            "width": null
          }
        },
        "292ad9f2e51f4c5ebbf066c5c2bf08f3": {
          "model_module": "@jupyter-widgets/controls",
          "model_name": "DescriptionStyleModel",
          "model_module_version": "1.5.0",
          "state": {
            "_model_module": "@jupyter-widgets/controls",
            "_model_module_version": "1.5.0",
            "_model_name": "DescriptionStyleModel",
            "_view_count": null,
            "_view_module": "@jupyter-widgets/base",
            "_view_module_version": "1.2.0",
            "_view_name": "StyleView",
            "description_width": ""
          }
        },
        "2af2ef70586e4bd29998cf71358d6fb7": {
          "model_module": "@jupyter-widgets/controls",
          "model_name": "HBoxModel",
          "model_module_version": "1.5.0",
          "state": {
            "_dom_classes": [],
            "_model_module": "@jupyter-widgets/controls",
            "_model_module_version": "1.5.0",
            "_model_name": "HBoxModel",
            "_view_count": null,
            "_view_module": "@jupyter-widgets/controls",
            "_view_module_version": "1.5.0",
            "_view_name": "HBoxView",
            "box_style": "",
            "children": [
              "IPY_MODEL_3f0864f3a7cb411590eb786514665bf3",
              "IPY_MODEL_d8795a93096f48b99547eca6bfcd75e7",
              "IPY_MODEL_0185dfa5630746d2a0fe0fa813fd82da"
            ],
            "layout": "IPY_MODEL_91ed1302835c4907a51160a1a015fc41"
          }
        },
        "3f0864f3a7cb411590eb786514665bf3": {
          "model_module": "@jupyter-widgets/controls",
          "model_name": "HTMLModel",
          "model_module_version": "1.5.0",
          "state": {
            "_dom_classes": [],
            "_model_module": "@jupyter-widgets/controls",
            "_model_module_version": "1.5.0",
            "_model_name": "HTMLModel",
            "_view_count": null,
            "_view_module": "@jupyter-widgets/controls",
            "_view_module_version": "1.5.0",
            "_view_name": "HTMLView",
            "description": "",
            "description_tooltip": null,
            "layout": "IPY_MODEL_4e6a1e028c67473cb8b1a12066f8c9b2",
            "placeholder": "​",
            "style": "IPY_MODEL_86239e1639d04bb691894e11069c92ee",
            "value": "tokenizer.json: 100%"
          }
        },
        "d8795a93096f48b99547eca6bfcd75e7": {
          "model_module": "@jupyter-widgets/controls",
          "model_name": "FloatProgressModel",
          "model_module_version": "1.5.0",
          "state": {
            "_dom_classes": [],
            "_model_module": "@jupyter-widgets/controls",
            "_model_module_version": "1.5.0",
            "_model_name": "FloatProgressModel",
            "_view_count": null,
            "_view_module": "@jupyter-widgets/controls",
            "_view_module_version": "1.5.0",
            "_view_name": "ProgressView",
            "bar_style": "success",
            "description": "",
            "description_tooltip": null,
            "layout": "IPY_MODEL_ea7a6fce02e342e6a2c0cc4e712fe717",
            "max": 2108689,
            "min": 0,
            "orientation": "horizontal",
            "style": "IPY_MODEL_8e2e8deec02642caac53454308cb711e",
            "value": 2108689
          }
        },
        "0185dfa5630746d2a0fe0fa813fd82da": {
          "model_module": "@jupyter-widgets/controls",
          "model_name": "HTMLModel",
          "model_module_version": "1.5.0",
          "state": {
            "_dom_classes": [],
            "_model_module": "@jupyter-widgets/controls",
            "_model_module_version": "1.5.0",
            "_model_name": "HTMLModel",
            "_view_count": null,
            "_view_module": "@jupyter-widgets/controls",
            "_view_module_version": "1.5.0",
            "_view_name": "HTMLView",
            "description": "",
            "description_tooltip": null,
            "layout": "IPY_MODEL_59bb66f39c3d4d68a0ac1f759fa318b3",
            "placeholder": "​",
            "style": "IPY_MODEL_f0cbddf750d14b168722993b3a6e71f1",
            "value": " 2.11M/2.11M [00:00&lt;00:00, 10.2MB/s]"
          }
        },
        "91ed1302835c4907a51160a1a015fc41": {
          "model_module": "@jupyter-widgets/base",
          "model_name": "LayoutModel",
          "model_module_version": "1.2.0",
          "state": {
            "_model_module": "@jupyter-widgets/base",
            "_model_module_version": "1.2.0",
            "_model_name": "LayoutModel",
            "_view_count": null,
            "_view_module": "@jupyter-widgets/base",
            "_view_module_version": "1.2.0",
            "_view_name": "LayoutView",
            "align_content": null,
            "align_items": null,
            "align_self": null,
            "border": null,
            "bottom": null,
            "display": null,
            "flex": null,
            "flex_flow": null,
            "grid_area": null,
            "grid_auto_columns": null,
            "grid_auto_flow": null,
            "grid_auto_rows": null,
            "grid_column": null,
            "grid_gap": null,
            "grid_row": null,
            "grid_template_areas": null,
            "grid_template_columns": null,
            "grid_template_rows": null,
            "height": null,
            "justify_content": null,
            "justify_items": null,
            "left": null,
            "margin": null,
            "max_height": null,
            "max_width": null,
            "min_height": null,
            "min_width": null,
            "object_fit": null,
            "object_position": null,
            "order": null,
            "overflow": null,
            "overflow_x": null,
            "overflow_y": null,
            "padding": null,
            "right": null,
            "top": null,
            "visibility": null,
            "width": null
          }
        },
        "4e6a1e028c67473cb8b1a12066f8c9b2": {
          "model_module": "@jupyter-widgets/base",
          "model_name": "LayoutModel",
          "model_module_version": "1.2.0",
          "state": {
            "_model_module": "@jupyter-widgets/base",
            "_model_module_version": "1.2.0",
            "_model_name": "LayoutModel",
            "_view_count": null,
            "_view_module": "@jupyter-widgets/base",
            "_view_module_version": "1.2.0",
            "_view_name": "LayoutView",
            "align_content": null,
            "align_items": null,
            "align_self": null,
            "border": null,
            "bottom": null,
            "display": null,
            "flex": null,
            "flex_flow": null,
            "grid_area": null,
            "grid_auto_columns": null,
            "grid_auto_flow": null,
            "grid_auto_rows": null,
            "grid_column": null,
            "grid_gap": null,
            "grid_row": null,
            "grid_template_areas": null,
            "grid_template_columns": null,
            "grid_template_rows": null,
            "height": null,
            "justify_content": null,
            "justify_items": null,
            "left": null,
            "margin": null,
            "max_height": null,
            "max_width": null,
            "min_height": null,
            "min_width": null,
            "object_fit": null,
            "object_position": null,
            "order": null,
            "overflow": null,
            "overflow_x": null,
            "overflow_y": null,
            "padding": null,
            "right": null,
            "top": null,
            "visibility": null,
            "width": null
          }
        },
        "86239e1639d04bb691894e11069c92ee": {
          "model_module": "@jupyter-widgets/controls",
          "model_name": "DescriptionStyleModel",
          "model_module_version": "1.5.0",
          "state": {
            "_model_module": "@jupyter-widgets/controls",
            "_model_module_version": "1.5.0",
            "_model_name": "DescriptionStyleModel",
            "_view_count": null,
            "_view_module": "@jupyter-widgets/base",
            "_view_module_version": "1.2.0",
            "_view_name": "StyleView",
            "description_width": ""
          }
        },
        "ea7a6fce02e342e6a2c0cc4e712fe717": {
          "model_module": "@jupyter-widgets/base",
          "model_name": "LayoutModel",
          "model_module_version": "1.2.0",
          "state": {
            "_model_module": "@jupyter-widgets/base",
            "_model_module_version": "1.2.0",
            "_model_name": "LayoutModel",
            "_view_count": null,
            "_view_module": "@jupyter-widgets/base",
            "_view_module_version": "1.2.0",
            "_view_name": "LayoutView",
            "align_content": null,
            "align_items": null,
            "align_self": null,
            "border": null,
            "bottom": null,
            "display": null,
            "flex": null,
            "flex_flow": null,
            "grid_area": null,
            "grid_auto_columns": null,
            "grid_auto_flow": null,
            "grid_auto_rows": null,
            "grid_column": null,
            "grid_gap": null,
            "grid_row": null,
            "grid_template_areas": null,
            "grid_template_columns": null,
            "grid_template_rows": null,
            "height": null,
            "justify_content": null,
            "justify_items": null,
            "left": null,
            "margin": null,
            "max_height": null,
            "max_width": null,
            "min_height": null,
            "min_width": null,
            "object_fit": null,
            "object_position": null,
            "order": null,
            "overflow": null,
            "overflow_x": null,
            "overflow_y": null,
            "padding": null,
            "right": null,
            "top": null,
            "visibility": null,
            "width": null
          }
        },
        "8e2e8deec02642caac53454308cb711e": {
          "model_module": "@jupyter-widgets/controls",
          "model_name": "ProgressStyleModel",
          "model_module_version": "1.5.0",
          "state": {
            "_model_module": "@jupyter-widgets/controls",
            "_model_module_version": "1.5.0",
            "_model_name": "ProgressStyleModel",
            "_view_count": null,
            "_view_module": "@jupyter-widgets/base",
            "_view_module_version": "1.2.0",
            "_view_name": "StyleView",
            "bar_color": null,
            "description_width": ""
          }
        },
        "59bb66f39c3d4d68a0ac1f759fa318b3": {
          "model_module": "@jupyter-widgets/base",
          "model_name": "LayoutModel",
          "model_module_version": "1.2.0",
          "state": {
            "_model_module": "@jupyter-widgets/base",
            "_model_module_version": "1.2.0",
            "_model_name": "LayoutModel",
            "_view_count": null,
            "_view_module": "@jupyter-widgets/base",
            "_view_module_version": "1.2.0",
            "_view_name": "LayoutView",
            "align_content": null,
            "align_items": null,
            "align_self": null,
            "border": null,
            "bottom": null,
            "display": null,
            "flex": null,
            "flex_flow": null,
            "grid_area": null,
            "grid_auto_columns": null,
            "grid_auto_flow": null,
            "grid_auto_rows": null,
            "grid_column": null,
            "grid_gap": null,
            "grid_row": null,
            "grid_template_areas": null,
            "grid_template_columns": null,
            "grid_template_rows": null,
            "height": null,
            "justify_content": null,
            "justify_items": null,
            "left": null,
            "margin": null,
            "max_height": null,
            "max_width": null,
            "min_height": null,
            "min_width": null,
            "object_fit": null,
            "object_position": null,
            "order": null,
            "overflow": null,
            "overflow_x": null,
            "overflow_y": null,
            "padding": null,
            "right": null,
            "top": null,
            "visibility": null,
            "width": null
          }
        },
        "f0cbddf750d14b168722993b3a6e71f1": {
          "model_module": "@jupyter-widgets/controls",
          "model_name": "DescriptionStyleModel",
          "model_module_version": "1.5.0",
          "state": {
            "_model_module": "@jupyter-widgets/controls",
            "_model_module_version": "1.5.0",
            "_model_name": "DescriptionStyleModel",
            "_view_count": null,
            "_view_module": "@jupyter-widgets/base",
            "_view_module_version": "1.2.0",
            "_view_name": "StyleView",
            "description_width": ""
          }
        },
        "9deeb5d214124a9aaa2e4d5731362672": {
          "model_module": "@jupyter-widgets/controls",
          "model_name": "HBoxModel",
          "model_module_version": "1.5.0",
          "state": {
            "_dom_classes": [],
            "_model_module": "@jupyter-widgets/controls",
            "_model_module_version": "1.5.0",
            "_model_name": "HBoxModel",
            "_view_count": null,
            "_view_module": "@jupyter-widgets/controls",
            "_view_module_version": "1.5.0",
            "_view_name": "HBoxView",
            "box_style": "",
            "children": [
              "IPY_MODEL_9a63a1e3d45146e2a41cb0dc9e883a1c",
              "IPY_MODEL_1fe20526a7d84413914443efa2105b31",
              "IPY_MODEL_bfdc36c4a6d04d208bf56b6a278fbe85"
            ],
            "layout": "IPY_MODEL_829a3a28bd754ea7a23584167275f436"
          }
        },
        "9a63a1e3d45146e2a41cb0dc9e883a1c": {
          "model_module": "@jupyter-widgets/controls",
          "model_name": "HTMLModel",
          "model_module_version": "1.5.0",
          "state": {
            "_dom_classes": [],
            "_model_module": "@jupyter-widgets/controls",
            "_model_module_version": "1.5.0",
            "_model_name": "HTMLModel",
            "_view_count": null,
            "_view_module": "@jupyter-widgets/controls",
            "_view_module_version": "1.5.0",
            "_view_name": "HTMLView",
            "description": "",
            "description_tooltip": null,
            "layout": "IPY_MODEL_647674f55ee34d319f43501e024605b4",
            "placeholder": "​",
            "style": "IPY_MODEL_fa3e8458ba5c4aa79b21b9df36fba21d",
            "value": "special_tokens_map.json: 100%"
          }
        },
        "1fe20526a7d84413914443efa2105b31": {
          "model_module": "@jupyter-widgets/controls",
          "model_name": "FloatProgressModel",
          "model_module_version": "1.5.0",
          "state": {
            "_dom_classes": [],
            "_model_module": "@jupyter-widgets/controls",
            "_model_module_version": "1.5.0",
            "_model_name": "FloatProgressModel",
            "_view_count": null,
            "_view_module": "@jupyter-widgets/controls",
            "_view_module_version": "1.5.0",
            "_view_name": "ProgressView",
            "bar_style": "success",
            "description": "",
            "description_tooltip": null,
            "layout": "IPY_MODEL_b27eb1c8be854fa892198a90f5d773d1",
            "max": 280,
            "min": 0,
            "orientation": "horizontal",
            "style": "IPY_MODEL_da10db22a6fc461493c5bf5e64c76aca",
            "value": 280
          }
        },
        "bfdc36c4a6d04d208bf56b6a278fbe85": {
          "model_module": "@jupyter-widgets/controls",
          "model_name": "HTMLModel",
          "model_module_version": "1.5.0",
          "state": {
            "_dom_classes": [],
            "_model_module": "@jupyter-widgets/controls",
            "_model_module_version": "1.5.0",
            "_model_name": "HTMLModel",
            "_view_count": null,
            "_view_module": "@jupyter-widgets/controls",
            "_view_module_version": "1.5.0",
            "_view_name": "HTMLView",
            "description": "",
            "description_tooltip": null,
            "layout": "IPY_MODEL_d70e65f264064063bf5821bb15a80dad",
            "placeholder": "​",
            "style": "IPY_MODEL_9c9a8c3203e840c381f60d655e217a42",
            "value": " 280/280 [00:00&lt;00:00, 9.94kB/s]"
          }
        },
        "829a3a28bd754ea7a23584167275f436": {
          "model_module": "@jupyter-widgets/base",
          "model_name": "LayoutModel",
          "model_module_version": "1.2.0",
          "state": {
            "_model_module": "@jupyter-widgets/base",
            "_model_module_version": "1.2.0",
            "_model_name": "LayoutModel",
            "_view_count": null,
            "_view_module": "@jupyter-widgets/base",
            "_view_module_version": "1.2.0",
            "_view_name": "LayoutView",
            "align_content": null,
            "align_items": null,
            "align_self": null,
            "border": null,
            "bottom": null,
            "display": null,
            "flex": null,
            "flex_flow": null,
            "grid_area": null,
            "grid_auto_columns": null,
            "grid_auto_flow": null,
            "grid_auto_rows": null,
            "grid_column": null,
            "grid_gap": null,
            "grid_row": null,
            "grid_template_areas": null,
            "grid_template_columns": null,
            "grid_template_rows": null,
            "height": null,
            "justify_content": null,
            "justify_items": null,
            "left": null,
            "margin": null,
            "max_height": null,
            "max_width": null,
            "min_height": null,
            "min_width": null,
            "object_fit": null,
            "object_position": null,
            "order": null,
            "overflow": null,
            "overflow_x": null,
            "overflow_y": null,
            "padding": null,
            "right": null,
            "top": null,
            "visibility": null,
            "width": null
          }
        },
        "647674f55ee34d319f43501e024605b4": {
          "model_module": "@jupyter-widgets/base",
          "model_name": "LayoutModel",
          "model_module_version": "1.2.0",
          "state": {
            "_model_module": "@jupyter-widgets/base",
            "_model_module_version": "1.2.0",
            "_model_name": "LayoutModel",
            "_view_count": null,
            "_view_module": "@jupyter-widgets/base",
            "_view_module_version": "1.2.0",
            "_view_name": "LayoutView",
            "align_content": null,
            "align_items": null,
            "align_self": null,
            "border": null,
            "bottom": null,
            "display": null,
            "flex": null,
            "flex_flow": null,
            "grid_area": null,
            "grid_auto_columns": null,
            "grid_auto_flow": null,
            "grid_auto_rows": null,
            "grid_column": null,
            "grid_gap": null,
            "grid_row": null,
            "grid_template_areas": null,
            "grid_template_columns": null,
            "grid_template_rows": null,
            "height": null,
            "justify_content": null,
            "justify_items": null,
            "left": null,
            "margin": null,
            "max_height": null,
            "max_width": null,
            "min_height": null,
            "min_width": null,
            "object_fit": null,
            "object_position": null,
            "order": null,
            "overflow": null,
            "overflow_x": null,
            "overflow_y": null,
            "padding": null,
            "right": null,
            "top": null,
            "visibility": null,
            "width": null
          }
        },
        "fa3e8458ba5c4aa79b21b9df36fba21d": {
          "model_module": "@jupyter-widgets/controls",
          "model_name": "DescriptionStyleModel",
          "model_module_version": "1.5.0",
          "state": {
            "_model_module": "@jupyter-widgets/controls",
            "_model_module_version": "1.5.0",
            "_model_name": "DescriptionStyleModel",
            "_view_count": null,
            "_view_module": "@jupyter-widgets/base",
            "_view_module_version": "1.2.0",
            "_view_name": "StyleView",
            "description_width": ""
          }
        },
        "b27eb1c8be854fa892198a90f5d773d1": {
          "model_module": "@jupyter-widgets/base",
          "model_name": "LayoutModel",
          "model_module_version": "1.2.0",
          "state": {
            "_model_module": "@jupyter-widgets/base",
            "_model_module_version": "1.2.0",
            "_model_name": "LayoutModel",
            "_view_count": null,
            "_view_module": "@jupyter-widgets/base",
            "_view_module_version": "1.2.0",
            "_view_name": "LayoutView",
            "align_content": null,
            "align_items": null,
            "align_self": null,
            "border": null,
            "bottom": null,
            "display": null,
            "flex": null,
            "flex_flow": null,
            "grid_area": null,
            "grid_auto_columns": null,
            "grid_auto_flow": null,
            "grid_auto_rows": null,
            "grid_column": null,
            "grid_gap": null,
            "grid_row": null,
            "grid_template_areas": null,
            "grid_template_columns": null,
            "grid_template_rows": null,
            "height": null,
            "justify_content": null,
            "justify_items": null,
            "left": null,
            "margin": null,
            "max_height": null,
            "max_width": null,
            "min_height": null,
            "min_width": null,
            "object_fit": null,
            "object_position": null,
            "order": null,
            "overflow": null,
            "overflow_x": null,
            "overflow_y": null,
            "padding": null,
            "right": null,
            "top": null,
            "visibility": null,
            "width": null
          }
        },
        "da10db22a6fc461493c5bf5e64c76aca": {
          "model_module": "@jupyter-widgets/controls",
          "model_name": "ProgressStyleModel",
          "model_module_version": "1.5.0",
          "state": {
            "_model_module": "@jupyter-widgets/controls",
            "_model_module_version": "1.5.0",
            "_model_name": "ProgressStyleModel",
            "_view_count": null,
            "_view_module": "@jupyter-widgets/base",
            "_view_module_version": "1.2.0",
            "_view_name": "StyleView",
            "bar_color": null,
            "description_width": ""
          }
        },
        "d70e65f264064063bf5821bb15a80dad": {
          "model_module": "@jupyter-widgets/base",
          "model_name": "LayoutModel",
          "model_module_version": "1.2.0",
          "state": {
            "_model_module": "@jupyter-widgets/base",
            "_model_module_version": "1.2.0",
            "_model_name": "LayoutModel",
            "_view_count": null,
            "_view_module": "@jupyter-widgets/base",
            "_view_module_version": "1.2.0",
            "_view_name": "LayoutView",
            "align_content": null,
            "align_items": null,
            "align_self": null,
            "border": null,
            "bottom": null,
            "display": null,
            "flex": null,
            "flex_flow": null,
            "grid_area": null,
            "grid_auto_columns": null,
            "grid_auto_flow": null,
            "grid_auto_rows": null,
            "grid_column": null,
            "grid_gap": null,
            "grid_row": null,
            "grid_template_areas": null,
            "grid_template_columns": null,
            "grid_template_rows": null,
            "height": null,
            "justify_content": null,
            "justify_items": null,
            "left": null,
            "margin": null,
            "max_height": null,
            "max_width": null,
            "min_height": null,
            "min_width": null,
            "object_fit": null,
            "object_position": null,
            "order": null,
            "overflow": null,
            "overflow_x": null,
            "overflow_y": null,
            "padding": null,
            "right": null,
            "top": null,
            "visibility": null,
            "width": null
          }
        },
        "9c9a8c3203e840c381f60d655e217a42": {
          "model_module": "@jupyter-widgets/controls",
          "model_name": "DescriptionStyleModel",
          "model_module_version": "1.5.0",
          "state": {
            "_model_module": "@jupyter-widgets/controls",
            "_model_module_version": "1.5.0",
            "_model_name": "DescriptionStyleModel",
            "_view_count": null,
            "_view_module": "@jupyter-widgets/base",
            "_view_module_version": "1.2.0",
            "_view_name": "StyleView",
            "description_width": ""
          }
        },
        "4626a4c9b69d4a518ffbe530bd5c7587": {
          "model_module": "@jupyter-widgets/controls",
          "model_name": "HBoxModel",
          "model_module_version": "1.5.0",
          "state": {
            "_dom_classes": [],
            "_model_module": "@jupyter-widgets/controls",
            "_model_module_version": "1.5.0",
            "_model_name": "HBoxModel",
            "_view_count": null,
            "_view_module": "@jupyter-widgets/controls",
            "_view_module_version": "1.5.0",
            "_view_name": "HBoxView",
            "box_style": "",
            "children": [
              "IPY_MODEL_f871ac597aae43299712132e9cde5c16",
              "IPY_MODEL_ca05060168644835b8f80a83b69d49ce",
              "IPY_MODEL_2fd6007020884417b0ca440820b64630"
            ],
            "layout": "IPY_MODEL_4ed8380e9fe648cfb8e1fc5fba3ca789"
          }
        },
        "f871ac597aae43299712132e9cde5c16": {
          "model_module": "@jupyter-widgets/controls",
          "model_name": "HTMLModel",
          "model_module_version": "1.5.0",
          "state": {
            "_dom_classes": [],
            "_model_module": "@jupyter-widgets/controls",
            "_model_module_version": "1.5.0",
            "_model_name": "HTMLModel",
            "_view_count": null,
            "_view_module": "@jupyter-widgets/controls",
            "_view_module_version": "1.5.0",
            "_view_name": "HTMLView",
            "description": "",
            "description_tooltip": null,
            "layout": "IPY_MODEL_d229fda2a0144833bfff9649d7c8589e",
            "placeholder": "​",
            "style": "IPY_MODEL_7afbe353604646e49386fee173fecd2e",
            "value": "pytorch_model.bin: 100%"
          }
        },
        "ca05060168644835b8f80a83b69d49ce": {
          "model_module": "@jupyter-widgets/controls",
          "model_name": "FloatProgressModel",
          "model_module_version": "1.5.0",
          "state": {
            "_dom_classes": [],
            "_model_module": "@jupyter-widgets/controls",
            "_model_module_version": "1.5.0",
            "_model_name": "FloatProgressModel",
            "_view_count": null,
            "_view_module": "@jupyter-widgets/controls",
            "_view_module_version": "1.5.0",
            "_view_name": "ProgressView",
            "bar_style": "success",
            "description": "",
            "description_tooltip": null,
            "layout": "IPY_MODEL_cb4c3a1e6239462e933b7519102b890c",
            "max": 498657517,
            "min": 0,
            "orientation": "horizontal",
            "style": "IPY_MODEL_a357d60e53b24359b682ae042deaacf9",
            "value": 498657517
          }
        },
        "2fd6007020884417b0ca440820b64630": {
          "model_module": "@jupyter-widgets/controls",
          "model_name": "HTMLModel",
          "model_module_version": "1.5.0",
          "state": {
            "_dom_classes": [],
            "_model_module": "@jupyter-widgets/controls",
            "_model_module_version": "1.5.0",
            "_model_name": "HTMLModel",
            "_view_count": null,
            "_view_module": "@jupyter-widgets/controls",
            "_view_module_version": "1.5.0",
            "_view_name": "HTMLView",
            "description": "",
            "description_tooltip": null,
            "layout": "IPY_MODEL_3f002b6cfc9d4bddaf96fe271b3b6ba7",
            "placeholder": "​",
            "style": "IPY_MODEL_ba1163bd942849f4beef9e7f6ece3907",
            "value": " 499M/499M [00:04&lt;00:00, 110MB/s]"
          }
        },
        "4ed8380e9fe648cfb8e1fc5fba3ca789": {
          "model_module": "@jupyter-widgets/base",
          "model_name": "LayoutModel",
          "model_module_version": "1.2.0",
          "state": {
            "_model_module": "@jupyter-widgets/base",
            "_model_module_version": "1.2.0",
            "_model_name": "LayoutModel",
            "_view_count": null,
            "_view_module": "@jupyter-widgets/base",
            "_view_module_version": "1.2.0",
            "_view_name": "LayoutView",
            "align_content": null,
            "align_items": null,
            "align_self": null,
            "border": null,
            "bottom": null,
            "display": null,
            "flex": null,
            "flex_flow": null,
            "grid_area": null,
            "grid_auto_columns": null,
            "grid_auto_flow": null,
            "grid_auto_rows": null,
            "grid_column": null,
            "grid_gap": null,
            "grid_row": null,
            "grid_template_areas": null,
            "grid_template_columns": null,
            "grid_template_rows": null,
            "height": null,
            "justify_content": null,
            "justify_items": null,
            "left": null,
            "margin": null,
            "max_height": null,
            "max_width": null,
            "min_height": null,
            "min_width": null,
            "object_fit": null,
            "object_position": null,
            "order": null,
            "overflow": null,
            "overflow_x": null,
            "overflow_y": null,
            "padding": null,
            "right": null,
            "top": null,
            "visibility": null,
            "width": null
          }
        },
        "d229fda2a0144833bfff9649d7c8589e": {
          "model_module": "@jupyter-widgets/base",
          "model_name": "LayoutModel",
          "model_module_version": "1.2.0",
          "state": {
            "_model_module": "@jupyter-widgets/base",
            "_model_module_version": "1.2.0",
            "_model_name": "LayoutModel",
            "_view_count": null,
            "_view_module": "@jupyter-widgets/base",
            "_view_module_version": "1.2.0",
            "_view_name": "LayoutView",
            "align_content": null,
            "align_items": null,
            "align_self": null,
            "border": null,
            "bottom": null,
            "display": null,
            "flex": null,
            "flex_flow": null,
            "grid_area": null,
            "grid_auto_columns": null,
            "grid_auto_flow": null,
            "grid_auto_rows": null,
            "grid_column": null,
            "grid_gap": null,
            "grid_row": null,
            "grid_template_areas": null,
            "grid_template_columns": null,
            "grid_template_rows": null,
            "height": null,
            "justify_content": null,
            "justify_items": null,
            "left": null,
            "margin": null,
            "max_height": null,
            "max_width": null,
            "min_height": null,
            "min_width": null,
            "object_fit": null,
            "object_position": null,
            "order": null,
            "overflow": null,
            "overflow_x": null,
            "overflow_y": null,
            "padding": null,
            "right": null,
            "top": null,
            "visibility": null,
            "width": null
          }
        },
        "7afbe353604646e49386fee173fecd2e": {
          "model_module": "@jupyter-widgets/controls",
          "model_name": "DescriptionStyleModel",
          "model_module_version": "1.5.0",
          "state": {
            "_model_module": "@jupyter-widgets/controls",
            "_model_module_version": "1.5.0",
            "_model_name": "DescriptionStyleModel",
            "_view_count": null,
            "_view_module": "@jupyter-widgets/base",
            "_view_module_version": "1.2.0",
            "_view_name": "StyleView",
            "description_width": ""
          }
        },
        "cb4c3a1e6239462e933b7519102b890c": {
          "model_module": "@jupyter-widgets/base",
          "model_name": "LayoutModel",
          "model_module_version": "1.2.0",
          "state": {
            "_model_module": "@jupyter-widgets/base",
            "_model_module_version": "1.2.0",
            "_model_name": "LayoutModel",
            "_view_count": null,
            "_view_module": "@jupyter-widgets/base",
            "_view_module_version": "1.2.0",
            "_view_name": "LayoutView",
            "align_content": null,
            "align_items": null,
            "align_self": null,
            "border": null,
            "bottom": null,
            "display": null,
            "flex": null,
            "flex_flow": null,
            "grid_area": null,
            "grid_auto_columns": null,
            "grid_auto_flow": null,
            "grid_auto_rows": null,
            "grid_column": null,
            "grid_gap": null,
            "grid_row": null,
            "grid_template_areas": null,
            "grid_template_columns": null,
            "grid_template_rows": null,
            "height": null,
            "justify_content": null,
            "justify_items": null,
            "left": null,
            "margin": null,
            "max_height": null,
            "max_width": null,
            "min_height": null,
            "min_width": null,
            "object_fit": null,
            "object_position": null,
            "order": null,
            "overflow": null,
            "overflow_x": null,
            "overflow_y": null,
            "padding": null,
            "right": null,
            "top": null,
            "visibility": null,
            "width": null
          }
        },
        "a357d60e53b24359b682ae042deaacf9": {
          "model_module": "@jupyter-widgets/controls",
          "model_name": "ProgressStyleModel",
          "model_module_version": "1.5.0",
          "state": {
            "_model_module": "@jupyter-widgets/controls",
            "_model_module_version": "1.5.0",
            "_model_name": "ProgressStyleModel",
            "_view_count": null,
            "_view_module": "@jupyter-widgets/base",
            "_view_module_version": "1.2.0",
            "_view_name": "StyleView",
            "bar_color": null,
            "description_width": ""
          }
        },
        "3f002b6cfc9d4bddaf96fe271b3b6ba7": {
          "model_module": "@jupyter-widgets/base",
          "model_name": "LayoutModel",
          "model_module_version": "1.2.0",
          "state": {
            "_model_module": "@jupyter-widgets/base",
            "_model_module_version": "1.2.0",
            "_model_name": "LayoutModel",
            "_view_count": null,
            "_view_module": "@jupyter-widgets/base",
            "_view_module_version": "1.2.0",
            "_view_name": "LayoutView",
            "align_content": null,
            "align_items": null,
            "align_self": null,
            "border": null,
            "bottom": null,
            "display": null,
            "flex": null,
            "flex_flow": null,
            "grid_area": null,
            "grid_auto_columns": null,
            "grid_auto_flow": null,
            "grid_auto_rows": null,
            "grid_column": null,
            "grid_gap": null,
            "grid_row": null,
            "grid_template_areas": null,
            "grid_template_columns": null,
            "grid_template_rows": null,
            "height": null,
            "justify_content": null,
            "justify_items": null,
            "left": null,
            "margin": null,
            "max_height": null,
            "max_width": null,
            "min_height": null,
            "min_width": null,
            "object_fit": null,
            "object_position": null,
            "order": null,
            "overflow": null,
            "overflow_x": null,
            "overflow_y": null,
            "padding": null,
            "right": null,
            "top": null,
            "visibility": null,
            "width": null
          }
        },
        "ba1163bd942849f4beef9e7f6ece3907": {
          "model_module": "@jupyter-widgets/controls",
          "model_name": "DescriptionStyleModel",
          "model_module_version": "1.5.0",
          "state": {
            "_model_module": "@jupyter-widgets/controls",
            "_model_module_version": "1.5.0",
            "_model_name": "DescriptionStyleModel",
            "_view_count": null,
            "_view_module": "@jupyter-widgets/base",
            "_view_module_version": "1.2.0",
            "_view_name": "StyleView",
            "description_width": ""
          }
        },
        "0ac2e2b50c9841cb8ce2c029389d1737": {
          "model_module": "@jupyter-widgets/controls",
          "model_name": "HBoxModel",
          "model_module_version": "1.5.0",
          "state": {
            "_dom_classes": [],
            "_model_module": "@jupyter-widgets/controls",
            "_model_module_version": "1.5.0",
            "_model_name": "HBoxModel",
            "_view_count": null,
            "_view_module": "@jupyter-widgets/controls",
            "_view_module_version": "1.5.0",
            "_view_name": "HBoxView",
            "box_style": "",
            "children": [
              "IPY_MODEL_3a8741ab4d2243daa0723d487fc82e21",
              "IPY_MODEL_853fd46008134911a5059e97aa0de82f",
              "IPY_MODEL_2819469582624e37bad2c97e8556c2d6"
            ],
            "layout": "IPY_MODEL_264bcc9cc638464ab92c7ccdc82f0ea1"
          }
        },
        "3a8741ab4d2243daa0723d487fc82e21": {
          "model_module": "@jupyter-widgets/controls",
          "model_name": "HTMLModel",
          "model_module_version": "1.5.0",
          "state": {
            "_dom_classes": [],
            "_model_module": "@jupyter-widgets/controls",
            "_model_module_version": "1.5.0",
            "_model_name": "HTMLModel",
            "_view_count": null,
            "_view_module": "@jupyter-widgets/controls",
            "_view_module_version": "1.5.0",
            "_view_name": "HTMLView",
            "description": "",
            "description_tooltip": null,
            "layout": "IPY_MODEL_6595157a6471431fac22c51ad0b9daeb",
            "placeholder": "​",
            "style": "IPY_MODEL_53632d5bcf8a44e1811a12413aa815ad",
            "value": "Map: 100%"
          }
        },
        "853fd46008134911a5059e97aa0de82f": {
          "model_module": "@jupyter-widgets/controls",
          "model_name": "FloatProgressModel",
          "model_module_version": "1.5.0",
          "state": {
            "_dom_classes": [],
            "_model_module": "@jupyter-widgets/controls",
            "_model_module_version": "1.5.0",
            "_model_name": "FloatProgressModel",
            "_view_count": null,
            "_view_module": "@jupyter-widgets/controls",
            "_view_module_version": "1.5.0",
            "_view_name": "ProgressView",
            "bar_style": "success",
            "description": "",
            "description_tooltip": null,
            "layout": "IPY_MODEL_4d944bb90aa041eaa252af5ff8cbb983",
            "max": 500,
            "min": 0,
            "orientation": "horizontal",
            "style": "IPY_MODEL_f0d401541b2b457bb9eb95ae3708c89e",
            "value": 500
          }
        },
        "2819469582624e37bad2c97e8556c2d6": {
          "model_module": "@jupyter-widgets/controls",
          "model_name": "HTMLModel",
          "model_module_version": "1.5.0",
          "state": {
            "_dom_classes": [],
            "_model_module": "@jupyter-widgets/controls",
            "_model_module_version": "1.5.0",
            "_model_name": "HTMLModel",
            "_view_count": null,
            "_view_module": "@jupyter-widgets/controls",
            "_view_module_version": "1.5.0",
            "_view_name": "HTMLView",
            "description": "",
            "description_tooltip": null,
            "layout": "IPY_MODEL_60b5bfab985a4bf1b868b2aa3dd98a9d",
            "placeholder": "​",
            "style": "IPY_MODEL_9a9d3714e0e14ec8b46a094c9541b255",
            "value": " 500/500 [00:00&lt;00:00, 640.47 examples/s]"
          }
        },
        "264bcc9cc638464ab92c7ccdc82f0ea1": {
          "model_module": "@jupyter-widgets/base",
          "model_name": "LayoutModel",
          "model_module_version": "1.2.0",
          "state": {
            "_model_module": "@jupyter-widgets/base",
            "_model_module_version": "1.2.0",
            "_model_name": "LayoutModel",
            "_view_count": null,
            "_view_module": "@jupyter-widgets/base",
            "_view_module_version": "1.2.0",
            "_view_name": "LayoutView",
            "align_content": null,
            "align_items": null,
            "align_self": null,
            "border": null,
            "bottom": null,
            "display": null,
            "flex": null,
            "flex_flow": null,
            "grid_area": null,
            "grid_auto_columns": null,
            "grid_auto_flow": null,
            "grid_auto_rows": null,
            "grid_column": null,
            "grid_gap": null,
            "grid_row": null,
            "grid_template_areas": null,
            "grid_template_columns": null,
            "grid_template_rows": null,
            "height": null,
            "justify_content": null,
            "justify_items": null,
            "left": null,
            "margin": null,
            "max_height": null,
            "max_width": null,
            "min_height": null,
            "min_width": null,
            "object_fit": null,
            "object_position": null,
            "order": null,
            "overflow": null,
            "overflow_x": null,
            "overflow_y": null,
            "padding": null,
            "right": null,
            "top": null,
            "visibility": null,
            "width": null
          }
        },
        "6595157a6471431fac22c51ad0b9daeb": {
          "model_module": "@jupyter-widgets/base",
          "model_name": "LayoutModel",
          "model_module_version": "1.2.0",
          "state": {
            "_model_module": "@jupyter-widgets/base",
            "_model_module_version": "1.2.0",
            "_model_name": "LayoutModel",
            "_view_count": null,
            "_view_module": "@jupyter-widgets/base",
            "_view_module_version": "1.2.0",
            "_view_name": "LayoutView",
            "align_content": null,
            "align_items": null,
            "align_self": null,
            "border": null,
            "bottom": null,
            "display": null,
            "flex": null,
            "flex_flow": null,
            "grid_area": null,
            "grid_auto_columns": null,
            "grid_auto_flow": null,
            "grid_auto_rows": null,
            "grid_column": null,
            "grid_gap": null,
            "grid_row": null,
            "grid_template_areas": null,
            "grid_template_columns": null,
            "grid_template_rows": null,
            "height": null,
            "justify_content": null,
            "justify_items": null,
            "left": null,
            "margin": null,
            "max_height": null,
            "max_width": null,
            "min_height": null,
            "min_width": null,
            "object_fit": null,
            "object_position": null,
            "order": null,
            "overflow": null,
            "overflow_x": null,
            "overflow_y": null,
            "padding": null,
            "right": null,
            "top": null,
            "visibility": null,
            "width": null
          }
        },
        "53632d5bcf8a44e1811a12413aa815ad": {
          "model_module": "@jupyter-widgets/controls",
          "model_name": "DescriptionStyleModel",
          "model_module_version": "1.5.0",
          "state": {
            "_model_module": "@jupyter-widgets/controls",
            "_model_module_version": "1.5.0",
            "_model_name": "DescriptionStyleModel",
            "_view_count": null,
            "_view_module": "@jupyter-widgets/base",
            "_view_module_version": "1.2.0",
            "_view_name": "StyleView",
            "description_width": ""
          }
        },
        "4d944bb90aa041eaa252af5ff8cbb983": {
          "model_module": "@jupyter-widgets/base",
          "model_name": "LayoutModel",
          "model_module_version": "1.2.0",
          "state": {
            "_model_module": "@jupyter-widgets/base",
            "_model_module_version": "1.2.0",
            "_model_name": "LayoutModel",
            "_view_count": null,
            "_view_module": "@jupyter-widgets/base",
            "_view_module_version": "1.2.0",
            "_view_name": "LayoutView",
            "align_content": null,
            "align_items": null,
            "align_self": null,
            "border": null,
            "bottom": null,
            "display": null,
            "flex": null,
            "flex_flow": null,
            "grid_area": null,
            "grid_auto_columns": null,
            "grid_auto_flow": null,
            "grid_auto_rows": null,
            "grid_column": null,
            "grid_gap": null,
            "grid_row": null,
            "grid_template_areas": null,
            "grid_template_columns": null,
            "grid_template_rows": null,
            "height": null,
            "justify_content": null,
            "justify_items": null,
            "left": null,
            "margin": null,
            "max_height": null,
            "max_width": null,
            "min_height": null,
            "min_width": null,
            "object_fit": null,
            "object_position": null,
            "order": null,
            "overflow": null,
            "overflow_x": null,
            "overflow_y": null,
            "padding": null,
            "right": null,
            "top": null,
            "visibility": null,
            "width": null
          }
        },
        "f0d401541b2b457bb9eb95ae3708c89e": {
          "model_module": "@jupyter-widgets/controls",
          "model_name": "ProgressStyleModel",
          "model_module_version": "1.5.0",
          "state": {
            "_model_module": "@jupyter-widgets/controls",
            "_model_module_version": "1.5.0",
            "_model_name": "ProgressStyleModel",
            "_view_count": null,
            "_view_module": "@jupyter-widgets/base",
            "_view_module_version": "1.2.0",
            "_view_name": "StyleView",
            "bar_color": null,
            "description_width": ""
          }
        },
        "60b5bfab985a4bf1b868b2aa3dd98a9d": {
          "model_module": "@jupyter-widgets/base",
          "model_name": "LayoutModel",
          "model_module_version": "1.2.0",
          "state": {
            "_model_module": "@jupyter-widgets/base",
            "_model_module_version": "1.2.0",
            "_model_name": "LayoutModel",
            "_view_count": null,
            "_view_module": "@jupyter-widgets/base",
            "_view_module_version": "1.2.0",
            "_view_name": "LayoutView",
            "align_content": null,
            "align_items": null,
            "align_self": null,
            "border": null,
            "bottom": null,
            "display": null,
            "flex": null,
            "flex_flow": null,
            "grid_area": null,
            "grid_auto_columns": null,
            "grid_auto_flow": null,
            "grid_auto_rows": null,
            "grid_column": null,
            "grid_gap": null,
            "grid_row": null,
            "grid_template_areas": null,
            "grid_template_columns": null,
            "grid_template_rows": null,
            "height": null,
            "justify_content": null,
            "justify_items": null,
            "left": null,
            "margin": null,
            "max_height": null,
            "max_width": null,
            "min_height": null,
            "min_width": null,
            "object_fit": null,
            "object_position": null,
            "order": null,
            "overflow": null,
            "overflow_x": null,
            "overflow_y": null,
            "padding": null,
            "right": null,
            "top": null,
            "visibility": null,
            "width": null
          }
        },
        "9a9d3714e0e14ec8b46a094c9541b255": {
          "model_module": "@jupyter-widgets/controls",
          "model_name": "DescriptionStyleModel",
          "model_module_version": "1.5.0",
          "state": {
            "_model_module": "@jupyter-widgets/controls",
            "_model_module_version": "1.5.0",
            "_model_name": "DescriptionStyleModel",
            "_view_count": null,
            "_view_module": "@jupyter-widgets/base",
            "_view_module_version": "1.2.0",
            "_view_name": "StyleView",
            "description_width": ""
          }
        },
        "aaf766a4ec3d41ac98bccf08374ff09b": {
          "model_module": "@jupyter-widgets/controls",
          "model_name": "HBoxModel",
          "model_module_version": "1.5.0",
          "state": {
            "_dom_classes": [],
            "_model_module": "@jupyter-widgets/controls",
            "_model_module_version": "1.5.0",
            "_model_name": "HBoxModel",
            "_view_count": null,
            "_view_module": "@jupyter-widgets/controls",
            "_view_module_version": "1.5.0",
            "_view_name": "HBoxView",
            "box_style": "",
            "children": [
              "IPY_MODEL_305a25c3f4434f9ea247d2669c3f33a1",
              "IPY_MODEL_1075b8a3b7f148e1b7f1c5e301992c68",
              "IPY_MODEL_4257033ed8e54952bd99f2d2c0d2d244"
            ],
            "layout": "IPY_MODEL_dc9da2e2a65b4e3998ee893e55cf276b"
          }
        },
        "305a25c3f4434f9ea247d2669c3f33a1": {
          "model_module": "@jupyter-widgets/controls",
          "model_name": "HTMLModel",
          "model_module_version": "1.5.0",
          "state": {
            "_dom_classes": [],
            "_model_module": "@jupyter-widgets/controls",
            "_model_module_version": "1.5.0",
            "_model_name": "HTMLModel",
            "_view_count": null,
            "_view_module": "@jupyter-widgets/controls",
            "_view_module_version": "1.5.0",
            "_view_name": "HTMLView",
            "description": "",
            "description_tooltip": null,
            "layout": "IPY_MODEL_8f05ed140d8d4014997a08fad4afc3e7",
            "placeholder": "​",
            "style": "IPY_MODEL_054964a3d122419db8a44c4218e29899",
            "value": "Map: 100%"
          }
        },
        "1075b8a3b7f148e1b7f1c5e301992c68": {
          "model_module": "@jupyter-widgets/controls",
          "model_name": "FloatProgressModel",
          "model_module_version": "1.5.0",
          "state": {
            "_dom_classes": [],
            "_model_module": "@jupyter-widgets/controls",
            "_model_module_version": "1.5.0",
            "_model_name": "FloatProgressModel",
            "_view_count": null,
            "_view_module": "@jupyter-widgets/controls",
            "_view_module_version": "1.5.0",
            "_view_name": "ProgressView",
            "bar_style": "success",
            "description": "",
            "description_tooltip": null,
            "layout": "IPY_MODEL_c4f17f65092f41dc91408c097848fe3f",
            "max": 100,
            "min": 0,
            "orientation": "horizontal",
            "style": "IPY_MODEL_00ad63dd32fc4c6fa07ca99a17aef399",
            "value": 100
          }
        },
        "4257033ed8e54952bd99f2d2c0d2d244": {
          "model_module": "@jupyter-widgets/controls",
          "model_name": "HTMLModel",
          "model_module_version": "1.5.0",
          "state": {
            "_dom_classes": [],
            "_model_module": "@jupyter-widgets/controls",
            "_model_module_version": "1.5.0",
            "_model_name": "HTMLModel",
            "_view_count": null,
            "_view_module": "@jupyter-widgets/controls",
            "_view_module_version": "1.5.0",
            "_view_name": "HTMLView",
            "description": "",
            "description_tooltip": null,
            "layout": "IPY_MODEL_9c1c1ea1c38f4652b20d1bd5f6527829",
            "placeholder": "​",
            "style": "IPY_MODEL_93eed9df417f425eb4790ed2df237355",
            "value": " 100/100 [00:00&lt;00:00, 535.35 examples/s]"
          }
        },
        "dc9da2e2a65b4e3998ee893e55cf276b": {
          "model_module": "@jupyter-widgets/base",
          "model_name": "LayoutModel",
          "model_module_version": "1.2.0",
          "state": {
            "_model_module": "@jupyter-widgets/base",
            "_model_module_version": "1.2.0",
            "_model_name": "LayoutModel",
            "_view_count": null,
            "_view_module": "@jupyter-widgets/base",
            "_view_module_version": "1.2.0",
            "_view_name": "LayoutView",
            "align_content": null,
            "align_items": null,
            "align_self": null,
            "border": null,
            "bottom": null,
            "display": null,
            "flex": null,
            "flex_flow": null,
            "grid_area": null,
            "grid_auto_columns": null,
            "grid_auto_flow": null,
            "grid_auto_rows": null,
            "grid_column": null,
            "grid_gap": null,
            "grid_row": null,
            "grid_template_areas": null,
            "grid_template_columns": null,
            "grid_template_rows": null,
            "height": null,
            "justify_content": null,
            "justify_items": null,
            "left": null,
            "margin": null,
            "max_height": null,
            "max_width": null,
            "min_height": null,
            "min_width": null,
            "object_fit": null,
            "object_position": null,
            "order": null,
            "overflow": null,
            "overflow_x": null,
            "overflow_y": null,
            "padding": null,
            "right": null,
            "top": null,
            "visibility": null,
            "width": null
          }
        },
        "8f05ed140d8d4014997a08fad4afc3e7": {
          "model_module": "@jupyter-widgets/base",
          "model_name": "LayoutModel",
          "model_module_version": "1.2.0",
          "state": {
            "_model_module": "@jupyter-widgets/base",
            "_model_module_version": "1.2.0",
            "_model_name": "LayoutModel",
            "_view_count": null,
            "_view_module": "@jupyter-widgets/base",
            "_view_module_version": "1.2.0",
            "_view_name": "LayoutView",
            "align_content": null,
            "align_items": null,
            "align_self": null,
            "border": null,
            "bottom": null,
            "display": null,
            "flex": null,
            "flex_flow": null,
            "grid_area": null,
            "grid_auto_columns": null,
            "grid_auto_flow": null,
            "grid_auto_rows": null,
            "grid_column": null,
            "grid_gap": null,
            "grid_row": null,
            "grid_template_areas": null,
            "grid_template_columns": null,
            "grid_template_rows": null,
            "height": null,
            "justify_content": null,
            "justify_items": null,
            "left": null,
            "margin": null,
            "max_height": null,
            "max_width": null,
            "min_height": null,
            "min_width": null,
            "object_fit": null,
            "object_position": null,
            "order": null,
            "overflow": null,
            "overflow_x": null,
            "overflow_y": null,
            "padding": null,
            "right": null,
            "top": null,
            "visibility": null,
            "width": null
          }
        },
        "054964a3d122419db8a44c4218e29899": {
          "model_module": "@jupyter-widgets/controls",
          "model_name": "DescriptionStyleModel",
          "model_module_version": "1.5.0",
          "state": {
            "_model_module": "@jupyter-widgets/controls",
            "_model_module_version": "1.5.0",
            "_model_name": "DescriptionStyleModel",
            "_view_count": null,
            "_view_module": "@jupyter-widgets/base",
            "_view_module_version": "1.2.0",
            "_view_name": "StyleView",
            "description_width": ""
          }
        },
        "c4f17f65092f41dc91408c097848fe3f": {
          "model_module": "@jupyter-widgets/base",
          "model_name": "LayoutModel",
          "model_module_version": "1.2.0",
          "state": {
            "_model_module": "@jupyter-widgets/base",
            "_model_module_version": "1.2.0",
            "_model_name": "LayoutModel",
            "_view_count": null,
            "_view_module": "@jupyter-widgets/base",
            "_view_module_version": "1.2.0",
            "_view_name": "LayoutView",
            "align_content": null,
            "align_items": null,
            "align_self": null,
            "border": null,
            "bottom": null,
            "display": null,
            "flex": null,
            "flex_flow": null,
            "grid_area": null,
            "grid_auto_columns": null,
            "grid_auto_flow": null,
            "grid_auto_rows": null,
            "grid_column": null,
            "grid_gap": null,
            "grid_row": null,
            "grid_template_areas": null,
            "grid_template_columns": null,
            "grid_template_rows": null,
            "height": null,
            "justify_content": null,
            "justify_items": null,
            "left": null,
            "margin": null,
            "max_height": null,
            "max_width": null,
            "min_height": null,
            "min_width": null,
            "object_fit": null,
            "object_position": null,
            "order": null,
            "overflow": null,
            "overflow_x": null,
            "overflow_y": null,
            "padding": null,
            "right": null,
            "top": null,
            "visibility": null,
            "width": null
          }
        },
        "00ad63dd32fc4c6fa07ca99a17aef399": {
          "model_module": "@jupyter-widgets/controls",
          "model_name": "ProgressStyleModel",
          "model_module_version": "1.5.0",
          "state": {
            "_model_module": "@jupyter-widgets/controls",
            "_model_module_version": "1.5.0",
            "_model_name": "ProgressStyleModel",
            "_view_count": null,
            "_view_module": "@jupyter-widgets/base",
            "_view_module_version": "1.2.0",
            "_view_name": "StyleView",
            "bar_color": null,
            "description_width": ""
          }
        },
        "9c1c1ea1c38f4652b20d1bd5f6527829": {
          "model_module": "@jupyter-widgets/base",
          "model_name": "LayoutModel",
          "model_module_version": "1.2.0",
          "state": {
            "_model_module": "@jupyter-widgets/base",
            "_model_module_version": "1.2.0",
            "_model_name": "LayoutModel",
            "_view_count": null,
            "_view_module": "@jupyter-widgets/base",
            "_view_module_version": "1.2.0",
            "_view_name": "LayoutView",
            "align_content": null,
            "align_items": null,
            "align_self": null,
            "border": null,
            "bottom": null,
            "display": null,
            "flex": null,
            "flex_flow": null,
            "grid_area": null,
            "grid_auto_columns": null,
            "grid_auto_flow": null,
            "grid_auto_rows": null,
            "grid_column": null,
            "grid_gap": null,
            "grid_row": null,
            "grid_template_areas": null,
            "grid_template_columns": null,
            "grid_template_rows": null,
            "height": null,
            "justify_content": null,
            "justify_items": null,
            "left": null,
            "margin": null,
            "max_height": null,
            "max_width": null,
            "min_height": null,
            "min_width": null,
            "object_fit": null,
            "object_position": null,
            "order": null,
            "overflow": null,
            "overflow_x": null,
            "overflow_y": null,
            "padding": null,
            "right": null,
            "top": null,
            "visibility": null,
            "width": null
          }
        },
        "93eed9df417f425eb4790ed2df237355": {
          "model_module": "@jupyter-widgets/controls",
          "model_name": "DescriptionStyleModel",
          "model_module_version": "1.5.0",
          "state": {
            "_model_module": "@jupyter-widgets/controls",
            "_model_module_version": "1.5.0",
            "_model_name": "DescriptionStyleModel",
            "_view_count": null,
            "_view_module": "@jupyter-widgets/base",
            "_view_module_version": "1.2.0",
            "_view_name": "StyleView",
            "description_width": ""
          }
        },
        "0392eb486c1244f0b2f1f1e387c863c9": {
          "model_module": "@jupyter-widgets/controls",
          "model_name": "HBoxModel",
          "model_module_version": "1.5.0",
          "state": {
            "_dom_classes": [],
            "_model_module": "@jupyter-widgets/controls",
            "_model_module_version": "1.5.0",
            "_model_name": "HBoxModel",
            "_view_count": null,
            "_view_module": "@jupyter-widgets/controls",
            "_view_module_version": "1.5.0",
            "_view_name": "HBoxView",
            "box_style": "",
            "children": [
              "IPY_MODEL_7540102149e942819889d03de0c1c562",
              "IPY_MODEL_dd8a02eccf9b43108f83a420b5b2284d",
              "IPY_MODEL_eb8b4216883c44d6a3b7d0d2749a6e78"
            ],
            "layout": "IPY_MODEL_c1028483d9524a7397dbe36651a28b5b"
          }
        },
        "7540102149e942819889d03de0c1c562": {
          "model_module": "@jupyter-widgets/controls",
          "model_name": "HTMLModel",
          "model_module_version": "1.5.0",
          "state": {
            "_dom_classes": [],
            "_model_module": "@jupyter-widgets/controls",
            "_model_module_version": "1.5.0",
            "_model_name": "HTMLModel",
            "_view_count": null,
            "_view_module": "@jupyter-widgets/controls",
            "_view_module_version": "1.5.0",
            "_view_name": "HTMLView",
            "description": "",
            "description_tooltip": null,
            "layout": "IPY_MODEL_6feecb62fb934dc0888328a6bbeb7a80",
            "placeholder": "​",
            "style": "IPY_MODEL_4243c6c5263a460ca46c043beac7b9a5",
            "value": "Map: 100%"
          }
        },
        "dd8a02eccf9b43108f83a420b5b2284d": {
          "model_module": "@jupyter-widgets/controls",
          "model_name": "FloatProgressModel",
          "model_module_version": "1.5.0",
          "state": {
            "_dom_classes": [],
            "_model_module": "@jupyter-widgets/controls",
            "_model_module_version": "1.5.0",
            "_model_name": "FloatProgressModel",
            "_view_count": null,
            "_view_module": "@jupyter-widgets/controls",
            "_view_module_version": "1.5.0",
            "_view_name": "ProgressView",
            "bar_style": "success",
            "description": "",
            "description_tooltip": null,
            "layout": "IPY_MODEL_e3bf29f34ffd4facb14583916e348c98",
            "max": 8,
            "min": 0,
            "orientation": "horizontal",
            "style": "IPY_MODEL_e6f240ef119442b0af43e4060feece5f",
            "value": 8
          }
        },
        "eb8b4216883c44d6a3b7d0d2749a6e78": {
          "model_module": "@jupyter-widgets/controls",
          "model_name": "HTMLModel",
          "model_module_version": "1.5.0",
          "state": {
            "_dom_classes": [],
            "_model_module": "@jupyter-widgets/controls",
            "_model_module_version": "1.5.0",
            "_model_name": "HTMLModel",
            "_view_count": null,
            "_view_module": "@jupyter-widgets/controls",
            "_view_module_version": "1.5.0",
            "_view_name": "HTMLView",
            "description": "",
            "description_tooltip": null,
            "layout": "IPY_MODEL_5ef8a6a878154d91ae7c9986b0111fd6",
            "placeholder": "​",
            "style": "IPY_MODEL_0829b541062a423d8645413373fad67f",
            "value": " 8/8 [00:00&lt;00:00, 187.85 examples/s]"
          }
        },
        "c1028483d9524a7397dbe36651a28b5b": {
          "model_module": "@jupyter-widgets/base",
          "model_name": "LayoutModel",
          "model_module_version": "1.2.0",
          "state": {
            "_model_module": "@jupyter-widgets/base",
            "_model_module_version": "1.2.0",
            "_model_name": "LayoutModel",
            "_view_count": null,
            "_view_module": "@jupyter-widgets/base",
            "_view_module_version": "1.2.0",
            "_view_name": "LayoutView",
            "align_content": null,
            "align_items": null,
            "align_self": null,
            "border": null,
            "bottom": null,
            "display": null,
            "flex": null,
            "flex_flow": null,
            "grid_area": null,
            "grid_auto_columns": null,
            "grid_auto_flow": null,
            "grid_auto_rows": null,
            "grid_column": null,
            "grid_gap": null,
            "grid_row": null,
            "grid_template_areas": null,
            "grid_template_columns": null,
            "grid_template_rows": null,
            "height": null,
            "justify_content": null,
            "justify_items": null,
            "left": null,
            "margin": null,
            "max_height": null,
            "max_width": null,
            "min_height": null,
            "min_width": null,
            "object_fit": null,
            "object_position": null,
            "order": null,
            "overflow": null,
            "overflow_x": null,
            "overflow_y": null,
            "padding": null,
            "right": null,
            "top": null,
            "visibility": null,
            "width": null
          }
        },
        "6feecb62fb934dc0888328a6bbeb7a80": {
          "model_module": "@jupyter-widgets/base",
          "model_name": "LayoutModel",
          "model_module_version": "1.2.0",
          "state": {
            "_model_module": "@jupyter-widgets/base",
            "_model_module_version": "1.2.0",
            "_model_name": "LayoutModel",
            "_view_count": null,
            "_view_module": "@jupyter-widgets/base",
            "_view_module_version": "1.2.0",
            "_view_name": "LayoutView",
            "align_content": null,
            "align_items": null,
            "align_self": null,
            "border": null,
            "bottom": null,
            "display": null,
            "flex": null,
            "flex_flow": null,
            "grid_area": null,
            "grid_auto_columns": null,
            "grid_auto_flow": null,
            "grid_auto_rows": null,
            "grid_column": null,
            "grid_gap": null,
            "grid_row": null,
            "grid_template_areas": null,
            "grid_template_columns": null,
            "grid_template_rows": null,
            "height": null,
            "justify_content": null,
            "justify_items": null,
            "left": null,
            "margin": null,
            "max_height": null,
            "max_width": null,
            "min_height": null,
            "min_width": null,
            "object_fit": null,
            "object_position": null,
            "order": null,
            "overflow": null,
            "overflow_x": null,
            "overflow_y": null,
            "padding": null,
            "right": null,
            "top": null,
            "visibility": null,
            "width": null
          }
        },
        "4243c6c5263a460ca46c043beac7b9a5": {
          "model_module": "@jupyter-widgets/controls",
          "model_name": "DescriptionStyleModel",
          "model_module_version": "1.5.0",
          "state": {
            "_model_module": "@jupyter-widgets/controls",
            "_model_module_version": "1.5.0",
            "_model_name": "DescriptionStyleModel",
            "_view_count": null,
            "_view_module": "@jupyter-widgets/base",
            "_view_module_version": "1.2.0",
            "_view_name": "StyleView",
            "description_width": ""
          }
        },
        "e3bf29f34ffd4facb14583916e348c98": {
          "model_module": "@jupyter-widgets/base",
          "model_name": "LayoutModel",
          "model_module_version": "1.2.0",
          "state": {
            "_model_module": "@jupyter-widgets/base",
            "_model_module_version": "1.2.0",
            "_model_name": "LayoutModel",
            "_view_count": null,
            "_view_module": "@jupyter-widgets/base",
            "_view_module_version": "1.2.0",
            "_view_name": "LayoutView",
            "align_content": null,
            "align_items": null,
            "align_self": null,
            "border": null,
            "bottom": null,
            "display": null,
            "flex": null,
            "flex_flow": null,
            "grid_area": null,
            "grid_auto_columns": null,
            "grid_auto_flow": null,
            "grid_auto_rows": null,
            "grid_column": null,
            "grid_gap": null,
            "grid_row": null,
            "grid_template_areas": null,
            "grid_template_columns": null,
            "grid_template_rows": null,
            "height": null,
            "justify_content": null,
            "justify_items": null,
            "left": null,
            "margin": null,
            "max_height": null,
            "max_width": null,
            "min_height": null,
            "min_width": null,
            "object_fit": null,
            "object_position": null,
            "order": null,
            "overflow": null,
            "overflow_x": null,
            "overflow_y": null,
            "padding": null,
            "right": null,
            "top": null,
            "visibility": null,
            "width": null
          }
        },
        "e6f240ef119442b0af43e4060feece5f": {
          "model_module": "@jupyter-widgets/controls",
          "model_name": "ProgressStyleModel",
          "model_module_version": "1.5.0",
          "state": {
            "_model_module": "@jupyter-widgets/controls",
            "_model_module_version": "1.5.0",
            "_model_name": "ProgressStyleModel",
            "_view_count": null,
            "_view_module": "@jupyter-widgets/base",
            "_view_module_version": "1.2.0",
            "_view_name": "StyleView",
            "bar_color": null,
            "description_width": ""
          }
        },
        "5ef8a6a878154d91ae7c9986b0111fd6": {
          "model_module": "@jupyter-widgets/base",
          "model_name": "LayoutModel",
          "model_module_version": "1.2.0",
          "state": {
            "_model_module": "@jupyter-widgets/base",
            "_model_module_version": "1.2.0",
            "_model_name": "LayoutModel",
            "_view_count": null,
            "_view_module": "@jupyter-widgets/base",
            "_view_module_version": "1.2.0",
            "_view_name": "LayoutView",
            "align_content": null,
            "align_items": null,
            "align_self": null,
            "border": null,
            "bottom": null,
            "display": null,
            "flex": null,
            "flex_flow": null,
            "grid_area": null,
            "grid_auto_columns": null,
            "grid_auto_flow": null,
            "grid_auto_rows": null,
            "grid_column": null,
            "grid_gap": null,
            "grid_row": null,
            "grid_template_areas": null,
            "grid_template_columns": null,
            "grid_template_rows": null,
            "height": null,
            "justify_content": null,
            "justify_items": null,
            "left": null,
            "margin": null,
            "max_height": null,
            "max_width": null,
            "min_height": null,
            "min_width": null,
            "object_fit": null,
            "object_position": null,
            "order": null,
            "overflow": null,
            "overflow_x": null,
            "overflow_y": null,
            "padding": null,
            "right": null,
            "top": null,
            "visibility": null,
            "width": null
          }
        },
        "0829b541062a423d8645413373fad67f": {
          "model_module": "@jupyter-widgets/controls",
          "model_name": "DescriptionStyleModel",
          "model_module_version": "1.5.0",
          "state": {
            "_model_module": "@jupyter-widgets/controls",
            "_model_module_version": "1.5.0",
            "_model_name": "DescriptionStyleModel",
            "_view_count": null,
            "_view_module": "@jupyter-widgets/base",
            "_view_module_version": "1.2.0",
            "_view_name": "StyleView",
            "description_width": ""
          }
        }
      }
    }
  },
  "cells": [
    {
      "cell_type": "markdown",
      "metadata": {
        "id": "view-in-github",
        "colab_type": "text"
      },
      "source": [
        "<a href=\"https://colab.research.google.com/github/joshuawhit/DST_ASS2/blob/main/report_1.ipynb\" target=\"_parent\"><img src=\"https://colab.research.google.com/assets/colab-badge.svg\" alt=\"Open In Colab\"/></a>"
      ]
    },
    {
      "cell_type": "markdown",
      "source": [
        "# Natural Language Processing for AI-generated text detection.\n",
        "\n",
        "B. Minogue, H. Pullin, Y. Wang, J. White."
      ],
      "metadata": {
        "id": "tMn46jquGYol"
      }
    },
    {
      "cell_type": "markdown",
      "source": [
        "# Introduction\n",
        "\n",
        "In this project, we explore different natural language classification models as applied on the LLM - Detect AI Generated Text dataset, found on the Kaggle website here: https://www.kaggle.com/datasets/sunilthite/llm-detect-ai-generated-text-dataset. We seek to classify wether an inputted text is AI generated or Humanly generated for the role of malpratice detection in essay submissions.\n",
        "\n",
        "We hope to explore both the performance and scalability of models ranging in complexity from a simple bag of words model up to fine tuned but pretrainined transformers. Although unavailable for this project we will discuss how and when techniques such as GPU parallelisation can be used to improve model training time.\n",
        "\n",
        "We also introduce the use of supercomputers, such as the University of Bristol's own 'BlueCrystal' machine, and how they can be used efficiently."
      ],
      "metadata": {
        "id": "AXxrPJxRGYRH"
      }
    },
    {
      "cell_type": "markdown",
      "source": [
        "# The Dataset\n",
        "\n",
        "The dataset consists of 28000 essay pieces of essay text (with an average length of approxamtely 380 words, see below), each with an associated key representing wether it is humanly or AI generated. We choose this dataset in particular due to its source being essay data, the same type of data we hope to be able to classify. Furthermore it can be seen as quite 'clean data' (no missing values) and the data also has class proportions close to an even split, which is useful for neural model training."
      ],
      "metadata": {
        "id": "Py1DKrKIXYt4"
      }
    },
    {
      "cell_type": "markdown",
      "source": [
        "# Performance Metrics\n",
        "\n",
        "Due to the nature of the task at hand being a binary classifcation task we use sensitivity, F1 score and accuracy as our evaluation metrics for the models. This is as we deem the cost of misclassifiction to be higher for the positive case 'AI generated'. In other words, not detecting the text as malpractice is more detrimental than flagging human text as AI as we assume these would be checked after the preliminary screening by a human."
      ],
      "metadata": {
        "id": "9I5RjGpvbIr0"
      }
    },
    {
      "cell_type": "code",
      "source": [
        "!pip install datasets\n",
        "!pip install wget\n",
        "!pip install fasttext\n",
        "!pip install transformers"
      ],
      "metadata": {
        "colab": {
          "base_uri": "https://localhost:8080/"
        },
        "id": "to3z9Ki3mwg_",
        "outputId": "291742f3-7ead-40c4-cd4a-373bb5c120b6"
      },
      "execution_count": 1,
      "outputs": [
        {
          "output_type": "stream",
          "name": "stdout",
          "text": [
            "Collecting datasets\n",
            "  Downloading datasets-2.15.0-py3-none-any.whl (521 kB)\n",
            "\u001b[2K     \u001b[90m━━━━━━━━━━━━━━━━━━━━━━━━━━━━━━━━━━━━━━━━\u001b[0m \u001b[32m521.2/521.2 kB\u001b[0m \u001b[31m4.4 MB/s\u001b[0m eta \u001b[36m0:00:00\u001b[0m\n",
            "\u001b[?25hRequirement already satisfied: numpy>=1.17 in /usr/local/lib/python3.10/dist-packages (from datasets) (1.23.5)\n",
            "Requirement already satisfied: pyarrow>=8.0.0 in /usr/local/lib/python3.10/dist-packages (from datasets) (9.0.0)\n",
            "Collecting pyarrow-hotfix (from datasets)\n",
            "  Downloading pyarrow_hotfix-0.6-py3-none-any.whl (7.9 kB)\n",
            "Collecting dill<0.3.8,>=0.3.0 (from datasets)\n",
            "  Downloading dill-0.3.7-py3-none-any.whl (115 kB)\n",
            "\u001b[2K     \u001b[90m━━━━━━━━━━━━━━━━━━━━━━━━━━━━━━━━━━━━━━━━\u001b[0m \u001b[32m115.3/115.3 kB\u001b[0m \u001b[31m12.7 MB/s\u001b[0m eta \u001b[36m0:00:00\u001b[0m\n",
            "\u001b[?25hRequirement already satisfied: pandas in /usr/local/lib/python3.10/dist-packages (from datasets) (1.5.3)\n",
            "Requirement already satisfied: requests>=2.19.0 in /usr/local/lib/python3.10/dist-packages (from datasets) (2.31.0)\n",
            "Requirement already satisfied: tqdm>=4.62.1 in /usr/local/lib/python3.10/dist-packages (from datasets) (4.66.1)\n",
            "Requirement already satisfied: xxhash in /usr/local/lib/python3.10/dist-packages (from datasets) (3.4.1)\n",
            "Collecting multiprocess (from datasets)\n",
            "  Downloading multiprocess-0.70.15-py310-none-any.whl (134 kB)\n",
            "\u001b[2K     \u001b[90m━━━━━━━━━━━━━━━━━━━━━━━━━━━━━━━━━━━━━━━━\u001b[0m \u001b[32m134.8/134.8 kB\u001b[0m \u001b[31m17.3 MB/s\u001b[0m eta \u001b[36m0:00:00\u001b[0m\n",
            "\u001b[?25hRequirement already satisfied: fsspec[http]<=2023.10.0,>=2023.1.0 in /usr/local/lib/python3.10/dist-packages (from datasets) (2023.6.0)\n",
            "Requirement already satisfied: aiohttp in /usr/local/lib/python3.10/dist-packages (from datasets) (3.8.6)\n",
            "Requirement already satisfied: huggingface-hub>=0.18.0 in /usr/local/lib/python3.10/dist-packages (from datasets) (0.19.4)\n",
            "Requirement already satisfied: packaging in /usr/local/lib/python3.10/dist-packages (from datasets) (23.2)\n",
            "Requirement already satisfied: pyyaml>=5.1 in /usr/local/lib/python3.10/dist-packages (from datasets) (6.0.1)\n",
            "Requirement already satisfied: attrs>=17.3.0 in /usr/local/lib/python3.10/dist-packages (from aiohttp->datasets) (23.1.0)\n",
            "Requirement already satisfied: charset-normalizer<4.0,>=2.0 in /usr/local/lib/python3.10/dist-packages (from aiohttp->datasets) (3.3.2)\n",
            "Requirement already satisfied: multidict<7.0,>=4.5 in /usr/local/lib/python3.10/dist-packages (from aiohttp->datasets) (6.0.4)\n",
            "Requirement already satisfied: async-timeout<5.0,>=4.0.0a3 in /usr/local/lib/python3.10/dist-packages (from aiohttp->datasets) (4.0.3)\n",
            "Requirement already satisfied: yarl<2.0,>=1.0 in /usr/local/lib/python3.10/dist-packages (from aiohttp->datasets) (1.9.2)\n",
            "Requirement already satisfied: frozenlist>=1.1.1 in /usr/local/lib/python3.10/dist-packages (from aiohttp->datasets) (1.4.0)\n",
            "Requirement already satisfied: aiosignal>=1.1.2 in /usr/local/lib/python3.10/dist-packages (from aiohttp->datasets) (1.3.1)\n",
            "Requirement already satisfied: filelock in /usr/local/lib/python3.10/dist-packages (from huggingface-hub>=0.18.0->datasets) (3.13.1)\n",
            "Requirement already satisfied: typing-extensions>=3.7.4.3 in /usr/local/lib/python3.10/dist-packages (from huggingface-hub>=0.18.0->datasets) (4.5.0)\n",
            "Requirement already satisfied: idna<4,>=2.5 in /usr/local/lib/python3.10/dist-packages (from requests>=2.19.0->datasets) (3.4)\n",
            "Requirement already satisfied: urllib3<3,>=1.21.1 in /usr/local/lib/python3.10/dist-packages (from requests>=2.19.0->datasets) (2.0.7)\n",
            "Requirement already satisfied: certifi>=2017.4.17 in /usr/local/lib/python3.10/dist-packages (from requests>=2.19.0->datasets) (2023.7.22)\n",
            "Requirement already satisfied: python-dateutil>=2.8.1 in /usr/local/lib/python3.10/dist-packages (from pandas->datasets) (2.8.2)\n",
            "Requirement already satisfied: pytz>=2020.1 in /usr/local/lib/python3.10/dist-packages (from pandas->datasets) (2023.3.post1)\n",
            "Requirement already satisfied: six>=1.5 in /usr/local/lib/python3.10/dist-packages (from python-dateutil>=2.8.1->pandas->datasets) (1.16.0)\n",
            "Installing collected packages: pyarrow-hotfix, dill, multiprocess, datasets\n",
            "Successfully installed datasets-2.15.0 dill-0.3.7 multiprocess-0.70.15 pyarrow-hotfix-0.6\n",
            "Collecting wget\n",
            "  Downloading wget-3.2.zip (10 kB)\n",
            "  Preparing metadata (setup.py) ... \u001b[?25l\u001b[?25hdone\n",
            "Building wheels for collected packages: wget\n",
            "  Building wheel for wget (setup.py) ... \u001b[?25l\u001b[?25hdone\n",
            "  Created wheel for wget: filename=wget-3.2-py3-none-any.whl size=9657 sha256=b01e69c06dce2b714c8e6709f80e5f5bdef718da7873d8d3d5cd2b902b827e80\n",
            "  Stored in directory: /root/.cache/pip/wheels/8b/f1/7f/5c94f0a7a505ca1c81cd1d9208ae2064675d97582078e6c769\n",
            "Successfully built wget\n",
            "Installing collected packages: wget\n",
            "Successfully installed wget-3.2\n",
            "Collecting fasttext\n",
            "  Downloading fasttext-0.9.2.tar.gz (68 kB)\n",
            "\u001b[2K     \u001b[90m━━━━━━━━━━━━━━━━━━━━━━━━━━━━━━━━━━━━━━━━\u001b[0m \u001b[32m68.8/68.8 kB\u001b[0m \u001b[31m1.3 MB/s\u001b[0m eta \u001b[36m0:00:00\u001b[0m\n",
            "\u001b[?25h  Preparing metadata (setup.py) ... \u001b[?25l\u001b[?25hdone\n",
            "Collecting pybind11>=2.2 (from fasttext)\n",
            "  Using cached pybind11-2.11.1-py3-none-any.whl (227 kB)\n",
            "Requirement already satisfied: setuptools>=0.7.0 in /usr/local/lib/python3.10/dist-packages (from fasttext) (67.7.2)\n",
            "Requirement already satisfied: numpy in /usr/local/lib/python3.10/dist-packages (from fasttext) (1.23.5)\n",
            "Building wheels for collected packages: fasttext\n",
            "  Building wheel for fasttext (setup.py) ... \u001b[?25l\u001b[?25hdone\n",
            "  Created wheel for fasttext: filename=fasttext-0.9.2-cp310-cp310-linux_x86_64.whl size=4199773 sha256=24a8300a1bec3d38a6796df240424f1c4db3c577b2cd31cef47b3d5bb5411023\n",
            "  Stored in directory: /root/.cache/pip/wheels/a5/13/75/f811c84a8ab36eedbaef977a6a58a98990e8e0f1967f98f394\n",
            "Successfully built fasttext\n",
            "Installing collected packages: pybind11, fasttext\n",
            "Successfully installed fasttext-0.9.2 pybind11-2.11.1\n",
            "Requirement already satisfied: transformers in /usr/local/lib/python3.10/dist-packages (4.35.2)\n",
            "Requirement already satisfied: filelock in /usr/local/lib/python3.10/dist-packages (from transformers) (3.13.1)\n",
            "Requirement already satisfied: huggingface-hub<1.0,>=0.16.4 in /usr/local/lib/python3.10/dist-packages (from transformers) (0.19.4)\n",
            "Requirement already satisfied: numpy>=1.17 in /usr/local/lib/python3.10/dist-packages (from transformers) (1.23.5)\n",
            "Requirement already satisfied: packaging>=20.0 in /usr/local/lib/python3.10/dist-packages (from transformers) (23.2)\n",
            "Requirement already satisfied: pyyaml>=5.1 in /usr/local/lib/python3.10/dist-packages (from transformers) (6.0.1)\n",
            "Requirement already satisfied: regex!=2019.12.17 in /usr/local/lib/python3.10/dist-packages (from transformers) (2023.6.3)\n",
            "Requirement already satisfied: requests in /usr/local/lib/python3.10/dist-packages (from transformers) (2.31.0)\n",
            "Requirement already satisfied: tokenizers<0.19,>=0.14 in /usr/local/lib/python3.10/dist-packages (from transformers) (0.15.0)\n",
            "Requirement already satisfied: safetensors>=0.3.1 in /usr/local/lib/python3.10/dist-packages (from transformers) (0.4.0)\n",
            "Requirement already satisfied: tqdm>=4.27 in /usr/local/lib/python3.10/dist-packages (from transformers) (4.66.1)\n",
            "Requirement already satisfied: fsspec>=2023.5.0 in /usr/local/lib/python3.10/dist-packages (from huggingface-hub<1.0,>=0.16.4->transformers) (2023.6.0)\n",
            "Requirement already satisfied: typing-extensions>=3.7.4.3 in /usr/local/lib/python3.10/dist-packages (from huggingface-hub<1.0,>=0.16.4->transformers) (4.5.0)\n",
            "Requirement already satisfied: charset-normalizer<4,>=2 in /usr/local/lib/python3.10/dist-packages (from requests->transformers) (3.3.2)\n",
            "Requirement already satisfied: idna<4,>=2.5 in /usr/local/lib/python3.10/dist-packages (from requests->transformers) (3.4)\n",
            "Requirement already satisfied: urllib3<3,>=1.21.1 in /usr/local/lib/python3.10/dist-packages (from requests->transformers) (2.0.7)\n",
            "Requirement already satisfied: certifi>=2017.4.17 in /usr/local/lib/python3.10/dist-packages (from requests->transformers) (2023.7.22)\n"
          ]
        }
      ]
    },
    {
      "cell_type": "code",
      "source": [
        "import numpy as np\n",
        "import pandas as pd\n",
        "import random\n",
        "import matplotlib.pyplot as plt\n",
        "import seaborn as sns\n",
        "import matplotlib.pyplot as plotter\n",
        "import plotly.graph_objects as go\n",
        "import plotly.express as px\n",
        "\n",
        "from sklearn.model_selection import train_test_split\n",
        "import tensorflow as tf\n",
        "import warnings\n",
        "warnings.filterwarnings('ignore')\n",
        "from datasets import load_dataset, Dataset, load_metric\n",
        "from typing import List, Callable, Dict\n",
        "import re\n",
        "from sklearn.linear_model import LogisticRegression\n",
        "from sklearn.metrics import balanced_accuracy_score\n",
        "from sklearn.feature_extraction.text import TfidfVectorizer\n",
        "from gensim.models.word2vec import Word2Vec\n",
        "from tqdm.auto import tqdm\n",
        "import wget\n",
        "import zipfile\n",
        "import io\n",
        "import time\n",
        "import torch\n",
        "import gc\n",
        "import traceback\n",
        "import fasttext.util\n",
        "from ipywidgets import widgets\n",
        "from transformers import (AutoConfig, AutoTokenizer, AutoModel,\n",
        "                          AutoModelForSequenceClassification,\n",
        "                          TrainingArguments, Trainer,\n",
        "                          DataCollatorWithPadding,\n",
        "                          EarlyStoppingCallback)\n",
        "from transformers import logging as tf_logging\n",
        "tf_logging.set_verbosity_error()\n",
        "tqdm.pandas()\n",
        "plt.style.use('ggplot')"
      ],
      "metadata": {
        "id": "BrV24DrkmxT6"
      },
      "execution_count": 2,
      "outputs": []
    },
    {
      "cell_type": "markdown",
      "source": [
        "Here we load our google drive to our notebook to download the dataset into a pandas dataframe."
      ],
      "metadata": {
        "id": "lr6QJTTveiVa"
      }
    },
    {
      "cell_type": "code",
      "source": [
        "from google.colab import drive\n",
        "\n",
        "drive.mount('/content/drive')"
      ],
      "metadata": {
        "colab": {
          "base_uri": "https://localhost:8080/"
        },
        "id": "YK0vPdHyTL3B",
        "outputId": "7aca23d3-7e9f-47f6-9fd6-9b62468eecf4"
      },
      "execution_count": 3,
      "outputs": [
        {
          "output_type": "stream",
          "name": "stdout",
          "text": [
            "Mounted at /content/drive\n"
          ]
        }
      ]
    },
    {
      "cell_type": "code",
      "source": [
        "df = pd.read_csv('/content/drive/MyDrive/Training_Essay_Data.csv')\n",
        "df.name = 'whole'"
      ],
      "metadata": {
        "id": "09PH4yPqU_ST"
      },
      "execution_count": 4,
      "outputs": []
    },
    {
      "cell_type": "markdown",
      "source": [
        "We create a train-test split using the sklearn built-in function, fixing the initial state for reproducibility."
      ],
      "metadata": {
        "id": "BRTZzeb5fFMo"
      }
    },
    {
      "cell_type": "code",
      "source": [
        "train , test =train_test_split(df,test_size=0.2,train_size=0.8,random_state=1)\n",
        "train.name = 'training'\n",
        "test.name = 'testing'"
      ],
      "metadata": {
        "id": "mhzJU0EmVEVF"
      },
      "execution_count": 5,
      "outputs": []
    },
    {
      "cell_type": "code",
      "source": [
        "train.head()\n",
        "\n",
        "traindist = np.mean(train['generated'])\n",
        "print('The trained data has {}% AI generated text (3s.f.)'.format(round(traindist,3)))\n",
        "testdist = np.mean(test['generated'])\n",
        "print('The test data has {}% AI generated text (3s.f.)'.format(round(testdist,3)))\n",
        "textwords=np.zeros(len(df['text']))\n",
        "for i in range(0,len(df['text'])-1):\n",
        "  textwords[i] = len(df['text'][i].split())\n",
        "\n",
        "\n",
        "mean_length=np.mean(np.mean(textwords))\n",
        "print('The mean length of a document is {} words.'.format(round(mean_length,3)))\n"
      ],
      "metadata": {
        "colab": {
          "base_uri": "https://localhost:8080/"
        },
        "id": "cc4epX9LV0co",
        "outputId": "153789dd-1d3d-4be7-fea8-b07796598a91"
      },
      "execution_count": 6,
      "outputs": [
        {
          "output_type": "stream",
          "name": "stdout",
          "text": [
            "The trained data has 0.403% AI generated text (3s.f.)\n",
            "The test data has 0.386% AI generated text (3s.f.)\n",
            "The mean length of a document is 383.129 words.\n"
          ]
        }
      ]
    },
    {
      "cell_type": "markdown",
      "source": [
        "From above we see the Train and Test data both have a similar split over the labels distribution. We also quikcly inspect the average length of each piece of text, noting that 383 words is quite large."
      ],
      "metadata": {
        "id": "CIiBakxafX4M"
      }
    },
    {
      "cell_type": "code",
      "source": [
        "def draw_hist_words(histt: pd.DataFrame):\n",
        "  '''Draws a histogram of the number of words in each document.\n",
        "\n",
        "    Args:\n",
        "        df:\n",
        "            dataframe of texts with 'text' as the key for the documents.\n",
        "\n",
        "    Returns:\n",
        "        NA:\n",
        "            plots histogram\n",
        "    '''\n",
        "  plt.figure(figsize=(8,5))\n",
        "  histt['text'].str.split().map(lambda x: len(x)).hist()\n",
        "  plt.title(\"Histogram of the number of words in each text for \"+histt.name+\" data\")\n",
        "  plt.xlabel('Number of characters')\n",
        "  plt.ylabel('Number of documents')\n",
        "  plt.show()"
      ],
      "metadata": {
        "id": "D6fzTLBCh60N"
      },
      "execution_count": 7,
      "outputs": []
    },
    {
      "cell_type": "code",
      "source": [
        "draw_hist_words(train)"
      ],
      "metadata": {
        "colab": {
          "base_uri": "https://localhost:8080/",
          "height": 492
        },
        "id": "SUcMWRTwgCD1",
        "outputId": "c8809d24-8d3d-47a7-ef68-d56f41d4c8e1"
      },
      "execution_count": 8,
      "outputs": [
        {
          "output_type": "display_data",
          "data": {
            "text/plain": [
              "<Figure size 800x500 with 1 Axes>"
            ],
            "image/png": "[encoded data removed]"
          },
          "metadata": {}
        }
      ]
    },
    {
      "cell_type": "code",
      "source": [
        "draw_hist_words(test)"
      ],
      "metadata": {
        "colab": {
          "base_uri": "https://localhost:8080/",
          "height": 492
        },
        "id": "6dXGWjJmh3bV",
        "outputId": "71dc6191-80c2-4f07-efb6-78481f9fdba9"
      },
      "execution_count": 9,
      "outputs": [
        {
          "output_type": "display_data",
          "data": {
            "text/plain": [
              "<Figure size 800x500 with 1 Axes>"
            ],
            "image/png": "[encoded data removed]"
          },
          "metadata": {}
        }
      ]
    },
    {
      "cell_type": "code",
      "source": [
        "def plot_text_length_distribution(df: pd.DataFrame):\n",
        "    '''Plots a histogram of the lengths of the texts in the dataset.\n",
        "\n",
        "    Args:\n",
        "        df (Pandas DataFrame):\n",
        "            The input dataframe. Must have a 'text' column.\n",
        "    '''\n",
        "\n",
        "    df['Letter_Count'] = df['text'].apply(lambda x: len(x))\n",
        "    df.Letter_Count.hist(bins='auto')\n",
        "    plt.title('Text length distribution of the '+df.name+' dataset')\n",
        "    plt.xlabel('Number of characters')\n",
        "    plt.ylabel('Number of documents')\n",
        "    plt.show()\n",
        "\n",
        "\n",
        "plot_text_length_distribution(train)"
      ],
      "metadata": {
        "colab": {
          "base_uri": "https://localhost:8080/",
          "height": 477
        },
        "id": "6bWLJge8hbIH",
        "outputId": "b7e7b9fc-142f-40ac-c711-832d2712948b"
      },
      "execution_count": 10,
      "outputs": [
        {
          "output_type": "display_data",
          "data": {
            "text/plain": [
              "<Figure size 640x480 with 1 Axes>"
            ],
            "image/png": "[encoded data removed]"
          },
          "metadata": {}
        }
      ]
    },
    {
      "cell_type": "code",
      "source": [
        "plot_text_length_distribution(test)"
      ],
      "metadata": {
        "colab": {
          "base_uri": "https://localhost:8080/",
          "height": 477
        },
        "id": "unGchaNwmHDG",
        "outputId": "0e2071ec-c504-465d-b6c5-54ebed5c4268"
      },
      "execution_count": 11,
      "outputs": [
        {
          "output_type": "display_data",
          "data": {
            "text/plain": [
              "<Figure size 640x480 with 1 Axes>"
            ],
            "image/png": "[encoded data removed]"
          },
          "metadata": {}
        }
      ]
    },
    {
      "cell_type": "markdown",
      "source": [
        "Let us now create a vocabulary.The build_vocabulary function takes a parameter corpus, which should be a list containing text documents (List of str), where each element represents a document.\n",
        "\n",
        "The function first processes each document using the regular expression re.sub('^[ a-zA-Z]', '', doc) to remove non-alphabetic characters.\n",
        "\n",
        "Then, using a list comprehension (all_words = [word for doc in corpus for word in doc.split()]), each document is split into words, forming a list containing all words.\n",
        "\n",
        "Next, by converting this list to a set and then back to a list, the function obtains the vocabulary unique_words containing all unique words.\n",
        "\n",
        "Finally, the function returns the constructed vocabulary unique_words.\n",
        "\n",
        "In the actual code, the function is called with build_vocabulary(train.text.tolist()), converting the text from the training data into a vocabulary and saving the result in the variable vocabulary.\n",
        "\n",
        "The output of len(vocabulary) represents the count of unique words in the vocabulary."
      ],
      "metadata": {
        "id": "E3yKvPKJlIa-"
      }
    },
    {
      "cell_type": "code",
      "source": [
        "def build_vocabulary(corpus: List[str]) -> List[str]:\n",
        "    '''Constructs the vocabulary from a corpus.\n",
        "\n",
        "    Args:\n",
        "        list of str:\n",
        "            The corpus, being a list of documents.\n",
        "\n",
        "    Returns:\n",
        "        list of str:\n",
        "            A list containing all unique words in the corpus.\n",
        "    '''\n",
        "    # We simplify things here and remove all non-characters from the documents.\n",
        "    corpus = [re.sub('^[ a-zA-Z]', '', doc) for doc in corpus]\n",
        "\n",
        "    #We next split every document into words by spaces, and collect these\n",
        "    all_words = [word for doc in corpus for word in doc.split()]\n",
        "    # We then get all the unique words by converting the list to a `set` and back\n",
        "    unique_words = list(set(all_words))\n",
        "\n",
        "    # Return the vocabulary\n",
        "    return unique_words\n",
        "\n",
        "\n",
        "vocabulary = build_vocabulary(train.text.tolist())\n",
        "len(vocabulary)"
      ],
      "metadata": {
        "colab": {
          "base_uri": "https://localhost:8080/"
        },
        "id": "Xgm0rr8OlSZV",
        "outputId": "99000e01-7ce8-40ac-882e-b63d13aa55f7"
      },
      "execution_count": 12,
      "outputs": [
        {
          "output_type": "execute_result",
          "data": {
            "text/plain": [
              "141967"
            ]
          },
          "metadata": {},
          "execution_count": 12
        }
      ]
    },
    {
      "cell_type": "markdown",
      "source": [
        "This result is considered reasonable considering that this number is lower than the 250,000 generally believed to be the number of words in the English language."
      ],
      "metadata": {
        "id": "Sx0xD2CLQjAm"
      }
    },
    {
      "cell_type": "markdown",
      "source": [
        "Let us start with a bag of words embedding, starting from a simple one hot encoder, we add the ability to handle words outside the vocabulary (we might come across words in the test dataset which do not occur in the training dataset)"
      ],
      "metadata": {
        "id": "TfHd2GEbnmAP"
      }
    },
    {
      "cell_type": "code",
      "source": [
        "def one_hot_encode(word: str, vocabulary: List[str]) -> np.ndarray:\n",
        "    '''One-hot encode a word according to our vocabulary.\n",
        "\n",
        "    Args:\n",
        "        word (str):\n",
        "            The word to be encoded. It needs to be present\n",
        "            within our vocabulary!\n",
        "        vocabulary (list):\n",
        "            List of unique words in the corpus.\n",
        "\n",
        "    Returns:\n",
        "        NumPy array:\n",
        "            The resulting one-hot encoding.\n",
        "    '''\n",
        "    embedding = np.zeros(len(vocabulary))\n",
        "\n",
        "    # Get the position at which the word appears in the vocabulary\n",
        "    vocab_position = vocabulary.index(word)\n",
        "\n",
        "    # make it a one hot vector\n",
        "    embedding[vocab_position] = 1\n",
        "    return embedding\n",
        "\n",
        "\n",
        "one_hot_embedding = one_hot_encode('happy',vocabulary)\n",
        "assert one_hot_embedding.sum() == 1\n",
        "one_hot_embedding"
      ],
      "metadata": {
        "colab": {
          "base_uri": "https://localhost:8080/"
        },
        "id": "9Nb177R4n5dV",
        "outputId": "4d34c391-1cc2-499e-ddb8-f682761ec400"
      },
      "execution_count": 13,
      "outputs": [
        {
          "output_type": "execute_result",
          "data": {
            "text/plain": [
              "array([0., 0., 0., ..., 0., 0., 0.])"
            ]
          },
          "metadata": {},
          "execution_count": 13
        }
      ]
    },
    {
      "cell_type": "markdown",
      "source": [
        "The improved_one_hot_encode function is an enhanced version of the previous one_hot_encode function. Here are the key differences:\n",
        "\n",
        "Handling Words Not in Vocabulary:\n",
        "\n",
        "In the new function, a try block attempts to use the one_hot_encode function to encode the word.\n",
        "If the word is not present in the vocabulary, a ValueError is raised, and the control goes to the except block.\n",
        "Embedding for Out-of-Vocabulary Words:\n",
        "\n",
        "In the except block, the function creates an embedding for out-of-vocabulary words.\n",
        "It initializes a zero-filled array with a length one greater than the vocabulary length (np.zeros(len(vocabulary) + 1)).\n",
        "It sets the last position of the array to 1 (embedding[-1] = 1), indicating that the word is not in the vocabulary.\n",
        "Returning the Embedding:\n",
        "\n",
        "The function returns the resulting embedding whether it came from the try block or the except block."
      ],
      "metadata": {
        "id": "mke-1vZPRm00"
      }
    },
    {
      "cell_type": "code",
      "source": [
        "def improved_one_hot_encode(word: str, vocabulary: List[str]) -> np.ndarray:\n",
        "    '''One-hot encode a word.\n",
        "\n",
        "    This can also deal with words not in the vocabulary.\n",
        "\n",
        "    Args:\n",
        "        word (str):\n",
        "            The word to be encoded.\n",
        "        vocabulary (list):\n",
        "            List of unique words in the corpus.\n",
        "\n",
        "    Returns:\n",
        "        NumPy array:\n",
        "            The resulting one-hot encoding.\n",
        "    '''\n",
        "\n",
        "    # Return the embedding, whether it came from the \"try block\"\n",
        "    # or the \"except block\"\n",
        "    try:\n",
        "        # We embed using our previous function, and add a zero at the end, showing it IS in the vocabulary\n",
        "        embedding = np.concatenate((one_hot_encode(word, vocabulary), [0]))\n",
        "\n",
        "    except ValueError:\n",
        "        #when the word is not in our vocabulary.\n",
        "        embedding = np.zeros(len(vocabulary) + 1)\n",
        "        embedding[-1] = 1\n",
        "    return embedding\n",
        "    return embedding\n",
        "\n",
        "embedding = improved_one_hot_encode('Thisisnotaword',vocabulary)\n",
        "assert embedding.sum() == 1\n",
        "embedding"
      ],
      "metadata": {
        "colab": {
          "base_uri": "https://localhost:8080/"
        },
        "id": "qvB7YSKVnzcc",
        "outputId": "9a7f2922-bf09-46a1-fd5f-688034407909"
      },
      "execution_count": 14,
      "outputs": [
        {
          "output_type": "execute_result",
          "data": {
            "text/plain": [
              "array([0., 0., 0., ..., 0., 0., 1.])"
            ]
          },
          "metadata": {},
          "execution_count": 14
        }
      ]
    },
    {
      "cell_type": "markdown",
      "source": [
        "We define a function named bag_of_words_embed, whose function is to convert the input document (string) into the representation of the bag of words model (Bag of Words). Simply put, the function of this function is to represent the document as a vector, where each element of the vector represents the number of occurrences of the corresponding word in the document."
      ],
      "metadata": {
        "id": "xF627H3RSKEm"
      }
    },
    {
      "cell_type": "markdown",
      "source": [],
      "metadata": {
        "id": "kSasPkX2SKC-"
      }
    },
    {
      "cell_type": "code",
      "source": [
        "def bag_of_words_embed(doc: str) -> np.ndarray:\n",
        "    '''Embed a document using the bag-of-words representation.\n",
        "\n",
        "    Args:\n",
        "        doc (str):\n",
        "            The document we want to embed.\n",
        "\n",
        "    Returns:\n",
        "        NumPy array:\n",
        "            The resulting bag-of-words embedding.\n",
        "    '''\n",
        "    # We simplify things here and remove all non-characters from the document,\n",
        "    # just like we did when we created the vocabulary\n",
        "    doc = re.sub('[^a-zA-Z ]', '', doc)\n",
        "\n",
        "    # Split up the document into a list of words\n",
        "    words = doc.split()\n",
        "\n",
        "    # Embed all the words, resulting in a list of NumPy arrays\n",
        "    embeddings = [improved_one_hot_encode(word,vocabulary) for word in words]\n",
        "\n",
        "    # Sum up all the one-hot encoded vectors in `embeddings`\n",
        "    bag_of_words_embedding = np.sum(embeddings, axis=0)\n",
        "\n",
        "    # Return the embedding\n",
        "    return bag_of_words_embedding\n",
        "\n",
        "\n",
        "embedding = bag_of_words_embed('This is a test')\n",
        "assert embedding.sum() == 4\n",
        "embedding"
      ],
      "metadata": {
        "colab": {
          "base_uri": "https://localhost:8080/"
        },
        "id": "cr7hltHuo7Dn",
        "outputId": "23090c32-20fb-4179-db50-cdaf1778635c"
      },
      "execution_count": 15,
      "outputs": [
        {
          "output_type": "execute_result",
          "data": {
            "text/plain": [
              "array([0., 0., 0., ..., 0., 0., 0.])"
            ]
          },
          "metadata": {},
          "execution_count": 15
        }
      ]
    },
    {
      "cell_type": "markdown",
      "source": [
        "We have now created a simple bag of words embedding from scratch. Lets see how slow this is."
      ],
      "metadata": {
        "id": "bbPQeZrlpLyH"
      }
    },
    {
      "cell_type": "code",
      "source": [
        "#bag_of_words_embeddings_train = np.stack(train.text.progress_apply(bag_of_words_embed))\n",
        "##!!Based on the time complexity estimate, I think this operation can be completed within 1.5 hours. Please recalculate the time.!!\n"
      ],
      "metadata": {
        "id": "ea2g_DMDpaDn"
      },
      "execution_count": 16,
      "outputs": []
    },
    {
      "cell_type": "markdown",
      "source": [
        "This would take us over 30 hours to complete. If we consider time complexity, the specific implementation of the bag_of_words_embed function will determine its time complexity. Generally speaking, the process of building a Bag-of-Words model involves looping through the words in the text and building a vocabulary, and then generating a vector for each text. If there are n words in a text and the size of the vocabulary is m, then the time complexity of building a vector for each text is usually $O(n * m)$. If this process is independent for each text, the time complexity for the entire training set is $O(N * n * m)$, where N is the number of texts."
      ],
      "metadata": {
        "id": "v5FTByMznAfd"
      }
    },
    {
      "cell_type": "markdown",
      "source": [
        "This is not feesable and so we create a much smaller version of the datset, so we can hope to find some results."
      ],
      "metadata": {
        "id": "t8mCaxvApr_Z"
      }
    },
    {
      "cell_type": "code",
      "source": [
        "\n",
        "small_train , small_test =train.iloc[:500],test.iloc[:100]\n",
        "small_train.name = 'training'\n",
        "small_test.name = 'testing'"
      ],
      "metadata": {
        "id": "Q5EwegLFp870"
      },
      "execution_count": 17,
      "outputs": []
    },
    {
      "cell_type": "markdown",
      "source": [
        "We create a new Vocabulary, noting the size has greatly reduced."
      ],
      "metadata": {
        "id": "Dgo4toSWqwqa"
      }
    },
    {
      "cell_type": "code",
      "source": [
        "vocabulary = build_vocabulary(small_train.text.tolist())\n",
        "len(vocabulary)"
      ],
      "metadata": {
        "colab": {
          "base_uri": "https://localhost:8080/"
        },
        "id": "B3PsTGRzrjo7",
        "outputId": "d5962a51-e3e6-4588-e3a6-4676e3dacf02"
      },
      "execution_count": 18,
      "outputs": [
        {
          "output_type": "execute_result",
          "data": {
            "text/plain": [
              "16743"
            ]
          },
          "metadata": {},
          "execution_count": 18
        }
      ]
    },
    {
      "cell_type": "markdown",
      "source": [
        "\n",
        "It can also be noticed that vocabulary has also decreased."
      ],
      "metadata": {
        "id": "dpcYVvTun_MC"
      }
    },
    {
      "cell_type": "markdown",
      "source": [
        "Let use our functions on this smaller dataset."
      ],
      "metadata": {
        "id": "fDvTblR4r1D4"
      }
    },
    {
      "cell_type": "code",
      "source": [
        "bag_of_words_embeddings_train = np.stack(small_train.text.progress_apply(bag_of_words_embed))\n",
        "bag_of_words_embeddings_train.shape"
      ],
      "metadata": {
        "colab": {
          "base_uri": "https://localhost:8080/",
          "height": 66,
          "referenced_widgets": [
            "f9e965c081f84006865ada936a1c8fdb",
            "97da2235349d4beabccca98e6976233c",
            "b07e913ba19a4f12a2bce17c81b5582c",
            "464673a544c645e89b1b55d9af1d7734",
            "3fa5b6f98d8c492eb44f8f9e7ee9e405",
            "c43e218672c945d1a73dd637061e2556",
            "4af18ce718094f518bd451aa00ebc32d",
            "3b73ba3e0e7b414c8d8be87dfad090ac",
            "9fc2a475b9734e56b6ec30cd7dc2fb2f",
            "ae7e9838bbb9465caf025f3aac4b2643",
            "d2cc98f526e74652a8202070c5d645ce"
          ]
        },
        "id": "xOXo-2Npr0SN",
        "outputId": "8f654437-384f-4fa7-d462-1e29e96f47c6"
      },
      "execution_count": 19,
      "outputs": [
        {
          "output_type": "display_data",
          "data": {
            "text/plain": [
              "  0%|          | 0/500 [00:00<?, ?it/s]"
            ],
            "application/vnd.jupyter.widget-view+json": {
              "version_major": 2,
              "version_minor": 0,
              "model_id": "f9e965c081f84006865ada936a1c8fdb"
            }
          },
          "metadata": {}
        },
        {
          "output_type": "execute_result",
          "data": {
            "text/plain": [
              "(500, 16744)"
            ]
          },
          "metadata": {},
          "execution_count": 19
        }
      ]
    },
    {
      "cell_type": "code",
      "source": [
        "bag_of_words_embeddings_test = np.stack(small_test.text.progress_apply(bag_of_words_embed))"
      ],
      "metadata": {
        "colab": {
          "base_uri": "https://localhost:8080/",
          "height": 49,
          "referenced_widgets": [
            "862fa4253e624dc299b31e8e1b93da82",
            "bd0ef04d80fa45888976828fa6acfcf8",
            "895db256fc1d4c418c650d160ee0b56e",
            "959ef1a58fd145e4849070f07087d919",
            "4b42e91a53fe482997c6826ca28a9a0f",
            "75989514e1d44ffbb0e7e985aade1767",
            "43bdf1f959cc434fb7ce7568d10f932c",
            "dbb6c5ae40bc46479970c0ffe3f6bf73",
            "16c945091f6a4f348958d81eeddbcdb7",
            "51bdaf341cfb4d11b62db05304954d82",
            "834b357e7c774608aa6706679fb20f1f"
          ]
        },
        "id": "1yAgW0W2-e1g",
        "outputId": "9b61da36-c9a9-4c7d-de17-88637698b796"
      },
      "execution_count": 20,
      "outputs": [
        {
          "output_type": "display_data",
          "data": {
            "text/plain": [
              "  0%|          | 0/100 [00:00<?, ?it/s]"
            ],
            "application/vnd.jupyter.widget-view+json": {
              "version_major": 2,
              "version_minor": 0,
              "model_id": "862fa4253e624dc299b31e8e1b93da82"
            }
          },
          "metadata": {}
        }
      ]
    },
    {
      "cell_type": "markdown",
      "source": [
        "When the average text length remains unchanged, the current time complexity is\n",
        "\n",
        "reduced by about 389 times (due to the reduction of the data set and the\n",
        "\n",
        "reduction of vocabulary). However, the actual running speed will not increase\n",
        "\n",
        "exactly according to this factor. In fact The running speed is increased by\n",
        "\n",
        "about 50-70 times. There are many possible reasons. It may be that the fixed\n",
        "\n",
        "overhead of the code prevents some operations from being simplified. It may\n",
        "\n",
        "also be that for calculations of this scale, colab automatically turns on\n",
        "\n",
        "parallel algorithms or optimizes the algorithm."
      ],
      "metadata": {
        "id": "eulAoARks04w"
      }
    },
    {
      "cell_type": "markdown",
      "source": [
        "That still takes a long time... We save the results in a csv for as so we do not have to run this again.\n",
        "\n",
        "This is to be expected with the massive length of the word representations, as the embeddings are the size of the vocabulary itself."
      ],
      "metadata": {
        "id": "yn9sJhM28GOb"
      }
    },
    {
      "cell_type": "code",
      "source": [
        "#np.savetxt('bag_of_words_train.csv', bag_of_words_embeddings_train, delimiter=',')\n",
        "#np.savetxt('bag_of_words_test.csv', bag_of_words_embeddings_test, delimiter=',')"
      ],
      "metadata": {
        "id": "XWHN2e_w-H4-"
      },
      "execution_count": 21,
      "outputs": []
    },
    {
      "cell_type": "markdown",
      "source": [
        "below is code to load the data back in."
      ],
      "metadata": {
        "id": "xqTDfGK_DuRS"
      }
    },
    {
      "cell_type": "code",
      "source": [
        "#bag_of_words_embeddings_train = pd.read_csv('bag_of_words_train.csv', sep=',', header=None)\n",
        "#bag_of_words_embeddings_test = pd.read_csv('bag_of_words_test.csv', sep=',', header=None)\n",
        "#bag_of_words_embeddings_train = bag_of_words_embeddings_train.to_numpy()\n",
        "#bag_of_words_embeddings_test = bag_of_words_embeddings_test.to_numpy()"
      ],
      "metadata": {
        "id": "5ppCUOJEDHut"
      },
      "execution_count": 22,
      "outputs": []
    },
    {
      "cell_type": "markdown",
      "source": [
        "Let us fit a simple logististic regression model to the data as this is a binary classification problem."
      ],
      "metadata": {
        "id": "tom4O3Tj-HRM"
      }
    },
    {
      "cell_type": "code",
      "source": [
        "# Define the model\n",
        "model = LogisticRegression(max_iter=1_000)\n",
        "\n",
        "# Train the model\n",
        "model.fit(bag_of_words_embeddings_train, small_train.generated)"
      ],
      "metadata": {
        "colab": {
          "base_uri": "https://localhost:8080/",
          "height": 75
        },
        "id": "OcEI6PkYDGdI",
        "outputId": "964e441e-796a-4a32-c51f-ff5045d55a6a"
      },
      "execution_count": 23,
      "outputs": [
        {
          "output_type": "execute_result",
          "data": {
            "text/plain": [
              "LogisticRegression(max_iter=1000)"
            ],
            "text/html": [
              "<style>#sk-container-id-1 {color: black;background-color: white;}#sk-container-id-1 pre{padding: 0;}#sk-container-id-1 div.sk-toggleable {background-color: white;}#sk-container-id-1 label.sk-toggleable__label {cursor: pointer;display: block;width: 100%;margin-bottom: 0;padding: 0.3em;box-sizing: border-box;text-align: center;}#sk-container-id-1 label.sk-toggleable__label-arrow:before {content: \"▸\";float: left;margin-right: 0.25em;color: #696969;}#sk-container-id-1 label.sk-toggleable__label-arrow:hover:before {color: black;}#sk-container-id-1 div.sk-estimator:hover label.sk-toggleable__label-arrow:before {color: black;}#sk-container-id-1 div.sk-toggleable__content {max-height: 0;max-width: 0;overflow: hidden;text-align: left;background-color: #f0f8ff;}#sk-container-id-1 div.sk-toggleable__content pre {margin: 0.2em;color: black;border-radius: 0.25em;background-color: #f0f8ff;}#sk-container-id-1 input.sk-toggleable__control:checked~div.sk-toggleable__content {max-height: 200px;max-width: 100%;overflow: auto;}#sk-container-id-1 input.sk-toggleable__control:checked~label.sk-toggleable__label-arrow:before {content: \"▾\";}#sk-container-id-1 div.sk-estimator input.sk-toggleable__control:checked~label.sk-toggleable__label {background-color: #d4ebff;}#sk-container-id-1 div.sk-label input.sk-toggleable__control:checked~label.sk-toggleable__label {background-color: #d4ebff;}#sk-container-id-1 input.sk-hidden--visually {border: 0;clip: rect(1px 1px 1px 1px);clip: rect(1px, 1px, 1px, 1px);height: 1px;margin: -1px;overflow: hidden;padding: 0;position: absolute;width: 1px;}#sk-container-id-1 div.sk-estimator {font-family: monospace;background-color: #f0f8ff;border: 1px dotted black;border-radius: 0.25em;box-sizing: border-box;margin-bottom: 0.5em;}#sk-container-id-1 div.sk-estimator:hover {background-color: #d4ebff;}#sk-container-id-1 div.sk-parallel-item::after {content: \"\";width: 100%;border-bottom: 1px solid gray;flex-grow: 1;}#sk-container-id-1 div.sk-label:hover label.sk-toggleable__label {background-color: #d4ebff;}#sk-container-id-1 div.sk-serial::before {content: \"\";position: absolute;border-left: 1px solid gray;box-sizing: border-box;top: 0;bottom: 0;left: 50%;z-index: 0;}#sk-container-id-1 div.sk-serial {display: flex;flex-direction: column;align-items: center;background-color: white;padding-right: 0.2em;padding-left: 0.2em;position: relative;}#sk-container-id-1 div.sk-item {position: relative;z-index: 1;}#sk-container-id-1 div.sk-parallel {display: flex;align-items: stretch;justify-content: center;background-color: white;position: relative;}#sk-container-id-1 div.sk-item::before, #sk-container-id-1 div.sk-parallel-item::before {content: \"\";position: absolute;border-left: 1px solid gray;box-sizing: border-box;top: 0;bottom: 0;left: 50%;z-index: -1;}#sk-container-id-1 div.sk-parallel-item {display: flex;flex-direction: column;z-index: 1;position: relative;background-color: white;}#sk-container-id-1 div.sk-parallel-item:first-child::after {align-self: flex-end;width: 50%;}#sk-container-id-1 div.sk-parallel-item:last-child::after {align-self: flex-start;width: 50%;}#sk-container-id-1 div.sk-parallel-item:only-child::after {width: 0;}#sk-container-id-1 div.sk-dashed-wrapped {border: 1px dashed gray;margin: 0 0.4em 0.5em 0.4em;box-sizing: border-box;padding-bottom: 0.4em;background-color: white;}#sk-container-id-1 div.sk-label label {font-family: monospace;font-weight: bold;display: inline-block;line-height: 1.2em;}#sk-container-id-1 div.sk-label-container {text-align: center;}#sk-container-id-1 div.sk-container {/* jupyter's `normalize.less` sets `[hidden] { display: none; }` but bootstrap.min.css set `[hidden] { display: none !important; }` so we also need the `!important` here to be able to override the default hidden behavior on the sphinx rendered scikit-learn.org. See: https://github.com/scikit-learn/scikit-learn/issues/21755 */display: inline-block !important;position: relative;}#sk-container-id-1 div.sk-text-repr-fallback {display: none;}</style><div id=\"sk-container-id-1\" class=\"sk-top-container\"><div class=\"sk-text-repr-fallback\"><pre>LogisticRegression(max_iter=1000)</pre><b>In a Jupyter environment, please rerun this cell to show the HTML representation or trust the notebook. <br />On GitHub, the HTML representation is unable to render, please try loading this page with nbviewer.org.</b></div><div class=\"sk-container\" hidden><div class=\"sk-item\"><div class=\"sk-estimator sk-toggleable\"><input class=\"sk-toggleable__control sk-hidden--visually\" id=\"sk-estimator-id-1\" type=\"checkbox\" checked><label for=\"sk-estimator-id-1\" class=\"sk-toggleable__label sk-toggleable__label-arrow\">LogisticRegression</label><div class=\"sk-toggleable__content\"><pre>LogisticRegression(max_iter=1000)</pre></div></div></div></div></div>"
            ]
          },
          "metadata": {},
          "execution_count": 23
        }
      ]
    },
    {
      "cell_type": "code",
      "source": [
        "# Note that the metric used by the `score` method varies from model to\n",
        "# model. For the logistic regression model this metric is accuracy.\n",
        "test_acc = model.score(bag_of_words_embeddings_test, small_test.generated)\n",
        "print(f'The model achieved a {100 * test_acc:.2f}% accuracy '\n",
        "      f'on the test set.')"
      ],
      "metadata": {
        "colab": {
          "base_uri": "https://localhost:8080/"
        },
        "id": "w4zxygEgEQrN",
        "outputId": "03cc9cb5-4d20-4542-d739-b56a32be83a2"
      },
      "execution_count": 24,
      "outputs": [
        {
          "output_type": "stream",
          "name": "stdout",
          "text": [
            "The model achieved a 96.00% accuracy on the test set.\n"
          ]
        }
      ]
    },
    {
      "cell_type": "markdown",
      "source": [
        "When class sizes are unequal, the accuracy score can be misleading, we use the baanced accuracy instead."
      ],
      "metadata": {
        "id": "dtk0owqsx1G4"
      }
    },
    {
      "cell_type": "code",
      "source": [
        "predictions = model.predict(bag_of_words_embeddings_test)\n",
        "test_balanced_acc = balanced_accuracy_score(small_test.generated, predictions)\n",
        "print(f'The model achieved a {100 * test_balanced_acc:.2f}% balanced '\n",
        "      f'accuracy on the test set.')"
      ],
      "metadata": {
        "colab": {
          "base_uri": "https://localhost:8080/"
        },
        "id": "dODnxk9jHZYT",
        "outputId": "9557e025-919c-4545-dc93-391407c1f000"
      },
      "execution_count": 25,
      "outputs": [
        {
          "output_type": "stream",
          "name": "stdout",
          "text": [
            "The model achieved a 96.26% balanced accuracy on the test set.\n"
          ]
        }
      ]
    },
    {
      "cell_type": "markdown",
      "source": [
        "Such a high accuracy is concerning. I hypothesise that how the embedding deals with out-of-vocabulary words is causing the high results as we expect to only see out of vocabulary words in the test set."
      ],
      "metadata": {
        "id": "i7BjhDOkyAb8"
      }
    },
    {
      "cell_type": "code",
      "source": [
        "def test_vocabulary(corpus1: List[str], corpus2: List[str]) -> List[str]:\n",
        "    '''Find the percentage of words seen inside corpus2 that are also inside corpus2.\n",
        "\n",
        "    Args:\n",
        "        list of str:\n",
        "            The corpus1, being a list of documents.\n",
        "            The corpus2, being a list of documents.\n",
        "\n",
        "    Returns:\n",
        "        float:\n",
        "            percentage of words seen in corpus2 that are also in corpus1.\n",
        "    '''\n",
        "    # We simplify things here and remove all non-characters from the documents.\n",
        "    corpus1 = [re.sub('^[ a-zA-Z]', '', doc) for doc in corpus1]\n",
        "    corpus2 = [re.sub('^[ a-zA-Z]', '', doc) for doc in corpus2]\n",
        "    #We next split every document into words by spaces, and collect these\n",
        "    all_words1 = [word for doc in corpus1 for word in doc.split()]\n",
        "    all_words2 = [word for doc in corpus2 for word in doc.split()]\n",
        "    # We then get all the unique words by converting the list to a `set` and back\n",
        "    unique_words1 = list(set(all_words1))\n",
        "    unique_words2 = list(set(all_words2))\n",
        "\n",
        "    same_words = list(set(unique_words1).intersection(unique_words2))\n",
        "\n",
        "    percentage = (len(same_words)/len(unique_words2))*100\n",
        "\n",
        "\n",
        "    # Return the percentage\n",
        "    return percentage\n",
        "\n"
      ],
      "metadata": {
        "id": "AeqqSDOBi4Uf"
      },
      "execution_count": 26,
      "outputs": []
    },
    {
      "cell_type": "code",
      "source": [
        "similarity = test_vocabulary(small_train['text'],small_test['text'])"
      ],
      "metadata": {
        "id": "ATb-g-8ygQIm"
      },
      "execution_count": 27,
      "outputs": []
    },
    {
      "cell_type": "code",
      "source": [
        "print(f'{similarity:.2f}% of the words in the corpus for the small test set were seen in the small train set.')\n"
      ],
      "metadata": {
        "colab": {
          "base_uri": "https://localhost:8080/"
        },
        "id": "AOL77sVWiXSE",
        "outputId": "b1559136-c6cd-4c6e-ec4b-031b4fb3863d"
      },
      "execution_count": 28,
      "outputs": [
        {
          "output_type": "stream",
          "name": "stdout",
          "text": [
            "73.11% of the words in the corpus for the small test set were seen in the small train set.\n"
          ]
        }
      ]
    },
    {
      "cell_type": "markdown",
      "source": [
        "These results seem dubious in nature as current leading models in this domain are not nearly as accurate. I hypothesise that the model is only looking at the last digit as all words are seem in the training data, but ony approximately 75% are seen otherwise."
      ],
      "metadata": {
        "id": "bnsQzrHsNm6S"
      }
    },
    {
      "cell_type": "code",
      "source": [
        "model.coef_[0][-1]\n"
      ],
      "metadata": {
        "colab": {
          "base_uri": "https://localhost:8080/"
        },
        "id": "pSOrFsIrOLtf",
        "outputId": "41aad00b-b98b-4027-e108-98322fbf398f"
      },
      "execution_count": 29,
      "outputs": [
        {
          "output_type": "execute_result",
          "data": {
            "text/plain": [
              "-0.01907503193946139"
            ]
          },
          "metadata": {},
          "execution_count": 29
        }
      ]
    },
    {
      "cell_type": "code",
      "source": [
        "print(str(model.coef_[0][1])+' '+ str(model.coef_[0][4])+' ' +str(model.coef_[0][5])+' '+ str(model.coef_[0][10]))"
      ],
      "metadata": {
        "colab": {
          "base_uri": "https://localhost:8080/"
        },
        "id": "3g3NAldOPCoC",
        "outputId": "3ab6a8d0-9bb3-46e6-e9ed-91f4bacd43d4"
      },
      "execution_count": 30,
      "outputs": [
        {
          "output_type": "stream",
          "name": "stdout",
          "text": [
            "-0.0069014752670989955 -0.0026074309523398047 0.001447912369982671 0.0\n"
          ]
        }
      ]
    },
    {
      "cell_type": "markdown",
      "source": [
        "The last coefficient is non-zero and many of the other seem to be zero. Lets modify the functions to handel new data differrently."
      ],
      "metadata": {
        "id": "nNLIeWR_PEDq"
      }
    },
    {
      "cell_type": "markdown",
      "source": [
        "Compared with our previous coding method, there are the following changes:\n",
        "Modified Function (improved_one_hot_encode2), Handles the case when the word is not in the vocabulary by generating a random one-hot encoding for it And uses randomization to generate a one-hot encoding for out-of-vocabulary words."
      ],
      "metadata": {
        "id": "-6M0ChC2yfKb"
      }
    },
    {
      "cell_type": "code",
      "source": [
        "def improved_one_hot_encode2(word: str, vocabulary: List[str]) -> np.ndarray:\n",
        "    '''One-hot encode a word.\n",
        "\n",
        "    This can also deal with words not in the vocabulary, by setting it to a random word.\n",
        "\n",
        "    Args:\n",
        "        word (str):\n",
        "            The word to be encoded.\n",
        "        vocabulary (list):\n",
        "            List of unique words in the corpus.\n",
        "\n",
        "    Returns:\n",
        "        NumPy array:\n",
        "            The resulting one-hot encoding.\n",
        "    '''\n",
        "\n",
        "    # Return the embedding, whether it came from the \"try block\"\n",
        "    # or the \"except block\"\n",
        "    try:\n",
        "        # We embed using our previous function, and add a zero at the end, showing it IS in the vocabulary\n",
        "        embedding = one_hot_encode(word,vocabulary)\n",
        "\n",
        "    except ValueError:\n",
        "        #when the word is not in our vocabulary.\n",
        "        index = random.randint(0,len(vocabulary)-1)\n",
        "        embedding = np.zeros(len(vocabulary))\n",
        "        embedding[index] = 1\n",
        "    return embedding\n",
        "    return embedding\n",
        "\n",
        "embedding = improved_one_hot_encode2('segesgrggrhdhttfhffth',vocabulary)\n",
        "assert embedding.sum() == 1\n",
        "embedding"
      ],
      "metadata": {
        "colab": {
          "base_uri": "https://localhost:8080/"
        },
        "id": "yCYcsNGjPn3c",
        "outputId": "9266e750-9b52-40d5-ba70-0fdf95af6997"
      },
      "execution_count": 31,
      "outputs": [
        {
          "output_type": "execute_result",
          "data": {
            "text/plain": [
              "array([0., 0., 0., ..., 0., 0., 0.])"
            ]
          },
          "metadata": {},
          "execution_count": 31
        }
      ]
    },
    {
      "cell_type": "markdown",
      "source": [
        "takes a document as input and creates a bag-of-words embedding for that document."
      ],
      "metadata": {
        "id": "Yg-aDrBqzoue"
      }
    },
    {
      "cell_type": "code",
      "source": [
        "def bag_of_words_embed2(doc: str) -> np.ndarray:\n",
        "    '''Embed a document using the bag-of-words representation.\n",
        "\n",
        "    Args:\n",
        "        doc (str):\n",
        "            The document we want to embed.\n",
        "\n",
        "    Returns:\n",
        "        NumPy array:\n",
        "            The resulting bag-of-words embedding.\n",
        "    '''\n",
        "    # We simplify things here and remove all non-characters from the document,\n",
        "    # just like we did when we created the vocabulary\n",
        "    doc = re.sub('[^a-zA-Z ]', '', doc)\n",
        "\n",
        "    # Split up the document into a list of words\n",
        "    words = doc.split()\n",
        "\n",
        "    # Embed all the words, resulting in a list of NumPy arrays\n",
        "    embeddings = [improved_one_hot_encode2(word,vocabulary) for word in words]\n",
        "\n",
        "    # Sum up all the one-hot encoded vectors in `embeddings`\n",
        "    bag_of_words_embedding = np.sum(embeddings, axis=0)\n",
        "\n",
        "    # Return the embedding\n",
        "    return bag_of_words_embedding\n",
        "\n",
        "\n",
        "embedding = bag_of_words_embed2('This is a test')\n",
        "assert embedding.sum() == 4\n",
        "embedding"
      ],
      "metadata": {
        "colab": {
          "base_uri": "https://localhost:8080/"
        },
        "id": "9GiEdztnQgNu",
        "outputId": "5b0272f9-0d80-4c2f-fe4f-72ce3a9ecd3e"
      },
      "execution_count": 32,
      "outputs": [
        {
          "output_type": "execute_result",
          "data": {
            "text/plain": [
              "array([0., 0., 0., ..., 0., 0., 0.])"
            ]
          },
          "metadata": {},
          "execution_count": 32
        }
      ]
    },
    {
      "cell_type": "code",
      "source": [
        "bag_of_words_embeddings_test2 = np.stack(small_test.text.progress_apply(bag_of_words_embed2))\n",
        "bag_of_words_embeddings_train2 = np.stack(small_train.text.progress_apply(bag_of_words_embed2))"
      ],
      "metadata": {
        "colab": {
          "base_uri": "https://localhost:8080/",
          "height": 81,
          "referenced_widgets": [
            "c3d00eb23f5442569e5b4b30d048458f",
            "496cc747f2a14c7d9750c8e8a7f5f5cc",
            "dadbef194b054f04a15f7c13b91bd1b1",
            "fd5e03f6d59e4b5c8a30a955a3d052c2",
            "5d3d85bd9f58491382b2e57f0b39d31d",
            "fe81187bb3d543d7a54e7af8e6cc9c4b",
            "81742adce7e045ffabd8bf8fb5c4e7fa",
            "e2c465c9b3ad490c85a96e0919afb416",
            "40b9f6b636ef4f7cb305055826846260",
            "cbca9ca1d0ea4231ae7a246a23b9ac4f",
            "9901bcb9edfa442b98811c78e1b68c08",
            "943b848d6d674517b7e20ce263c475a2",
            "7da204c5119d4b6a966856dcdbda8636",
            "35d945e3a11447eeafce32716c841dfd",
            "6953a56a582a48c493906257d7040854",
            "f02a336bb306409899b205ac679a22f1",
            "5a1586eb38e049d4b3e034b7db72fa1a",
            "47da53a4d9e042ffa368d4080fb86450",
            "25e5ee323d32429d810d148f9c2deecf",
            "3811620cac824a4f9e22dac6442192ac",
            "294b181d3e5a461bb662693e102536c6",
            "668f22a53e154552ab15b7a752be46f2"
          ]
        },
        "id": "xmP_Du2RRQYb",
        "outputId": "aca63d96-a2c6-41d8-eb3b-215b85e06ce4"
      },
      "execution_count": 33,
      "outputs": [
        {
          "output_type": "display_data",
          "data": {
            "text/plain": [
              "  0%|          | 0/100 [00:00<?, ?it/s]"
            ],
            "application/vnd.jupyter.widget-view+json": {
              "version_major": 2,
              "version_minor": 0,
              "model_id": "c3d00eb23f5442569e5b4b30d048458f"
            }
          },
          "metadata": {}
        },
        {
          "output_type": "display_data",
          "data": {
            "text/plain": [
              "  0%|          | 0/500 [00:00<?, ?it/s]"
            ],
            "application/vnd.jupyter.widget-view+json": {
              "version_major": 2,
              "version_minor": 0,
              "model_id": "943b848d6d674517b7e20ce263c475a2"
            }
          },
          "metadata": {}
        }
      ]
    },
    {
      "cell_type": "markdown",
      "source": [
        "The time complexity remains unchanged and the running time is approximately the same. Now for the new encoding, the regression is done again."
      ],
      "metadata": {
        "id": "e9Muz976z8rO"
      }
    },
    {
      "cell_type": "code",
      "source": [
        "\n",
        "# Define the model\n",
        "model = LogisticRegression(max_iter=1_000)\n",
        "\n",
        "# Train the model\n",
        "model.fit(bag_of_words_embeddings_train2, small_train.generated)\n",
        "\n",
        "# Note that the metric used by the `score` method varies from model to\n",
        "# model. For the logistic regression model this metric is accuracy.\n",
        "test_acc2 = model.score(bag_of_words_embeddings_test2, small_test.generated)\n",
        "print(f'The model achieved a {100 * test_acc2:.2f}% accuracy '\n",
        "      f'on the test set.')\n",
        "\n",
        "predictions2 = model.predict(bag_of_words_embeddings_test2)\n",
        "test_balanced_acc2 = balanced_accuracy_score(small_test.generated, predictions2)\n",
        "print(f'The model achieved a {100 * test_balanced_acc2:.2f}% balanced '\n",
        "      f'accuracy on the test set.')"
      ],
      "metadata": {
        "colab": {
          "base_uri": "https://localhost:8080/"
        },
        "id": "IpqEgv1uQPT-",
        "outputId": "5fd6cd39-8f47-48a2-8c33-bee36909be3f"
      },
      "execution_count": 34,
      "outputs": [
        {
          "output_type": "stream",
          "name": "stdout",
          "text": [
            "The model achieved a 94.00% accuracy on the test set.\n",
            "The model achieved a 94.74% balanced accuracy on the test set.\n"
          ]
        }
      ]
    },
    {
      "cell_type": "markdown",
      "source": [
        "The accuracy reduces as we expect, but not nearly by the amount we predicted."
      ],
      "metadata": {
        "id": "HHmLO7nqy3Qy"
      }
    },
    {
      "cell_type": "markdown",
      "source": [
        "Next, try to increase the size of the training set. It is foreseeable that the calculation time will increase."
      ],
      "metadata": {
        "id": "gMyVtENl3T6v"
      }
    },
    {
      "cell_type": "code",
      "source": [
        "medium_train = train.iloc[:1000]\n",
        "medium_test = test.iloc[:500]\n",
        "bag_of_words_embeddings_test3 = np.stack(medium_test.text.progress_apply(bag_of_words_embed2))\n",
        "bag_of_words_embeddings_train3 = np.stack(medium_train.text.progress_apply(bag_of_words_embed2))\n",
        "\n",
        "# Define the model\n",
        "model = LogisticRegression(max_iter=1_000)\n",
        "\n",
        "# Train the model\n",
        "model.fit(bag_of_words_embeddings_train3, medium_train.generated)\n",
        "\n",
        "# Note that the metric used by the `score` method varies from model to\n",
        "# model. For the logistic regression model this metric is accuracy.\n",
        "test_acc3 = model.score(bag_of_words_embeddings_test3, medium_test.generated)\n"
      ],
      "metadata": {
        "colab": {
          "base_uri": "https://localhost:8080/",
          "height": 81,
          "referenced_widgets": [
            "98ab7523e3f042b4a9d6a553f2ee8016",
            "d33a99e071eb44d48d31d0d898566d4c",
            "5f3ea1806c3a47beb582cd9dcb218715",
            "4231d92de9bd4f539a121d3327534b3a",
            "142b3be86e9249bf92150b3acd0a4409",
            "7ef2eb072d184299b327fc31b258a3c4",
            "2b7cad3cdfef4893bd058bf31c185467",
            "cb5911f7429f4e09a9714f6957610fd0",
            "4aaf113ae39a400d935cdfab26c4e44b",
            "b589785845784d0fadc9c1576b57a0c3",
            "3a87cca612c14d5db9b5d37a75d5000b",
            "baef609522404ebfb18b34d96ee83674",
            "5452d9b3a5cf49caa5d45c62d9b22162",
            "84a9bc0e3f264d05b83b4c0ef0cd5ad0",
            "d282344f97344695bf525fed5655c27f",
            "3588e0bb1b3c4d9199adea005365b717",
            "1f8e813f129443aeb77c3bb37f92a430",
            "f94f4ed9349648d28e1364b4de50c4fe",
            "b5548b3e4d9d40f396b178b9ce53350d",
            "707b1d30bd644efbb972e8104fda272c",
            "8740769ea7c047509b2e72eb1eaadc4e",
            "a488b4ca61d5419fa768f24b200b8c96"
          ]
        },
        "id": "xRUvLXqxf6ZO",
        "outputId": "b96982d5-467f-44e8-87c8-e3eb8f5d02b5"
      },
      "execution_count": 35,
      "outputs": [
        {
          "output_type": "display_data",
          "data": {
            "text/plain": [
              "  0%|          | 0/500 [00:00<?, ?it/s]"
            ],
            "application/vnd.jupyter.widget-view+json": {
              "version_major": 2,
              "version_minor": 0,
              "model_id": "98ab7523e3f042b4a9d6a553f2ee8016"
            }
          },
          "metadata": {}
        },
        {
          "output_type": "display_data",
          "data": {
            "text/plain": [
              "  0%|          | 0/1000 [00:00<?, ?it/s]"
            ],
            "application/vnd.jupyter.widget-view+json": {
              "version_major": 2,
              "version_minor": 0,
              "model_id": "baef609522404ebfb18b34d96ee83674"
            }
          },
          "metadata": {}
        }
      ]
    },
    {
      "cell_type": "code",
      "source": [
        "print(f'The model achieved a {100 * test_acc3:.2f}% accuracy '\n",
        "      f'on the test set.')\n",
        "\n",
        "predictions3 = model.predict(bag_of_words_embeddings_test3)\n",
        "test_balanced_acc3 = balanced_accuracy_score(medium_test.generated, predictions3)\n",
        "print(f'The model achieved a {100 * test_balanced_acc3:.2f}% balanced '\n",
        "      f'accuracy on the test set.')"
      ],
      "metadata": {
        "colab": {
          "base_uri": "https://localhost:8080/"
        },
        "id": "8XnZUR3YhNcf",
        "outputId": "d71e19cb-1e68-4df6-ef76-afadfa471a15"
      },
      "execution_count": 36,
      "outputs": [
        {
          "output_type": "stream",
          "name": "stdout",
          "text": [
            "The model achieved a 96.40% accuracy on the test set.\n",
            "The model achieved a 96.59% balanced accuracy on the test set.\n"
          ]
        }
      ]
    },
    {
      "cell_type": "markdown",
      "source": [
        "The results still show high accuracy, and some assumptions can be made. The algorithm may have identified some patterns that we did not find that should not be considered in the actual problem, or there are certain characteristics of the data set that produce high accuracy."
      ],
      "metadata": {
        "id": "CAb9LXaA4xAj"
      }
    },
    {
      "cell_type": "code",
      "source": [
        "# Delete the bag-of-words embeddings again, to save some memory\n",
        "del bag_of_words_embeddings_train, bag_of_words_embeddings_test, model\n",
        "gc.collect()"
      ],
      "metadata": {
        "colab": {
          "base_uri": "https://localhost:8080/"
        },
        "id": "ymcNEr28pre8",
        "outputId": "0c558ea4-2fcc-4a30-bf0a-495ea4c547ce"
      },
      "execution_count": 37,
      "outputs": [
        {
          "output_type": "execute_result",
          "data": {
            "text/plain": [
              "89"
            ]
          },
          "metadata": {},
          "execution_count": 37
        }
      ]
    },
    {
      "cell_type": "markdown",
      "source": [
        "# TF-IDF Representation\n",
        "We will now try to embed the documents using the TF-IDF representation and see if we can improve upon our previous classification score.\n",
        "\n",
        "Its working principle is not complicated, specifically including:\n",
        "\n",
        "Term Frequency measures the frequency of a term in a document. The\n",
        "calculation formula is:\n",
        "\n",
        "$\\text{TF}(t, d) = \\frac{\\text{Number of occurrences of term } t \\text{ in document } d}{\\text{Total number of terms in document } d}$\n",
        "\n",
        "Where  $t$ represents the term, and $d$ represents the document.\n",
        "\n",
        "Inverse Document Frequency (IDF):\n",
        "Inverse Document Frequency measures the importance of a term in the entire\n",
        "document collection. The calculation formula is:\n",
        "\n",
        "$\\text{IDF}(t, D) = \\log\\left(\\frac{\\text{Total number of documents in collection } D}{\\text{Number of documents containing term } t + 1}\\right)$\n",
        "\n",
        "Where $t$ represents the term, and $D$ represents the document collection.\n",
        "Here, $log$ is the natural logarithm\n",
        "\n",
        "TF-IDF is the product of Term Frequency and Inverse Document Frequency, used to consider both the frequency of a term in a document and its importance in the entire document collection:\n",
        "\n",
        "$\\text{TF-IDF}(t, d, D) = \\text{TF}(t, d) \\times \\text{IDF}(t, D)\n",
        "$\n",
        "\n",
        "Larger TF-IDF values indicate that the term is more important in the current document and less common across the entire document collection.\n",
        "\n",
        "Rather than coding this from scratch, we will employ the `TfidfVectorizer` from the `sklearn` library.\n",
        "\n",
        "The following function will be using that vectorizer to compute our vocabulary and all the document frequencies."
      ],
      "metadata": {
        "id": "jpn7rmagqFom"
      }
    },
    {
      "cell_type": "code",
      "source": [
        "def fit_tfidf(corpus: List[str], **tfidf_params) -> TfidfVectorizer:\n",
        "    '''Fit a TF-IDF model on a corpus.\n",
        "\n",
        "    This computes the vocabulary and stores all the\n",
        "    document frequencies in the class.\n",
        "\n",
        "    Args:\n",
        "        corpus (list of str):\n",
        "            The corpus on which the TF-IDF model will\n",
        "            be fitted.\n",
        "        **tfidf_params:\n",
        "            Extra keyword parameters to include in the TF-IDF model.\n",
        "\n",
        "    Returns:\n",
        "        TfidfVectorizer:\n",
        "            The fitted TF-IDF model.\n",
        "    '''\n",
        "\n",
        "   # Initialise the class computing the TF-IDF embeddings\n",
        "    tfidf = TfidfVectorizer(**tfidf_params)\n",
        "\n",
        "    # Use the `fit` method of `tfidf` on the corpus, which\n",
        "    # computes the vocabulary and all the document\n",
        "    # frequencies from the training dataset, and stores\n",
        "    # them.\n",
        "    tfidf = tfidf.fit(corpus)\n",
        "\n",
        "    # Return the fitted TF-IDF model\n",
        "    return tfidf\n",
        "\n",
        "\n",
        "\n",
        "tfidf = fit_tfidf(train.text)\n",
        "tfidf"
      ],
      "metadata": {
        "colab": {
          "base_uri": "https://localhost:8080/",
          "height": 75
        },
        "id": "K1gFKmccqaga",
        "outputId": "56d9de2e-0ee7-407d-870d-c8a3f2f01976"
      },
      "execution_count": 38,
      "outputs": [
        {
          "output_type": "execute_result",
          "data": {
            "text/plain": [
              "TfidfVectorizer()"
            ],
            "text/html": [
              "<style>#sk-container-id-2 {color: black;background-color: white;}#sk-container-id-2 pre{padding: 0;}#sk-container-id-2 div.sk-toggleable {background-color: white;}#sk-container-id-2 label.sk-toggleable__label {cursor: pointer;display: block;width: 100%;margin-bottom: 0;padding: 0.3em;box-sizing: border-box;text-align: center;}#sk-container-id-2 label.sk-toggleable__label-arrow:before {content: \"▸\";float: left;margin-right: 0.25em;color: #696969;}#sk-container-id-2 label.sk-toggleable__label-arrow:hover:before {color: black;}#sk-container-id-2 div.sk-estimator:hover label.sk-toggleable__label-arrow:before {color: black;}#sk-container-id-2 div.sk-toggleable__content {max-height: 0;max-width: 0;overflow: hidden;text-align: left;background-color: #f0f8ff;}#sk-container-id-2 div.sk-toggleable__content pre {margin: 0.2em;color: black;border-radius: 0.25em;background-color: #f0f8ff;}#sk-container-id-2 input.sk-toggleable__control:checked~div.sk-toggleable__content {max-height: 200px;max-width: 100%;overflow: auto;}#sk-container-id-2 input.sk-toggleable__control:checked~label.sk-toggleable__label-arrow:before {content: \"▾\";}#sk-container-id-2 div.sk-estimator input.sk-toggleable__control:checked~label.sk-toggleable__label {background-color: #d4ebff;}#sk-container-id-2 div.sk-label input.sk-toggleable__control:checked~label.sk-toggleable__label {background-color: #d4ebff;}#sk-container-id-2 input.sk-hidden--visually {border: 0;clip: rect(1px 1px 1px 1px);clip: rect(1px, 1px, 1px, 1px);height: 1px;margin: -1px;overflow: hidden;padding: 0;position: absolute;width: 1px;}#sk-container-id-2 div.sk-estimator {font-family: monospace;background-color: #f0f8ff;border: 1px dotted black;border-radius: 0.25em;box-sizing: border-box;margin-bottom: 0.5em;}#sk-container-id-2 div.sk-estimator:hover {background-color: #d4ebff;}#sk-container-id-2 div.sk-parallel-item::after {content: \"\";width: 100%;border-bottom: 1px solid gray;flex-grow: 1;}#sk-container-id-2 div.sk-label:hover label.sk-toggleable__label {background-color: #d4ebff;}#sk-container-id-2 div.sk-serial::before {content: \"\";position: absolute;border-left: 1px solid gray;box-sizing: border-box;top: 0;bottom: 0;left: 50%;z-index: 0;}#sk-container-id-2 div.sk-serial {display: flex;flex-direction: column;align-items: center;background-color: white;padding-right: 0.2em;padding-left: 0.2em;position: relative;}#sk-container-id-2 div.sk-item {position: relative;z-index: 1;}#sk-container-id-2 div.sk-parallel {display: flex;align-items: stretch;justify-content: center;background-color: white;position: relative;}#sk-container-id-2 div.sk-item::before, #sk-container-id-2 div.sk-parallel-item::before {content: \"\";position: absolute;border-left: 1px solid gray;box-sizing: border-box;top: 0;bottom: 0;left: 50%;z-index: -1;}#sk-container-id-2 div.sk-parallel-item {display: flex;flex-direction: column;z-index: 1;position: relative;background-color: white;}#sk-container-id-2 div.sk-parallel-item:first-child::after {align-self: flex-end;width: 50%;}#sk-container-id-2 div.sk-parallel-item:last-child::after {align-self: flex-start;width: 50%;}#sk-container-id-2 div.sk-parallel-item:only-child::after {width: 0;}#sk-container-id-2 div.sk-dashed-wrapped {border: 1px dashed gray;margin: 0 0.4em 0.5em 0.4em;box-sizing: border-box;padding-bottom: 0.4em;background-color: white;}#sk-container-id-2 div.sk-label label {font-family: monospace;font-weight: bold;display: inline-block;line-height: 1.2em;}#sk-container-id-2 div.sk-label-container {text-align: center;}#sk-container-id-2 div.sk-container {/* jupyter's `normalize.less` sets `[hidden] { display: none; }` but bootstrap.min.css set `[hidden] { display: none !important; }` so we also need the `!important` here to be able to override the default hidden behavior on the sphinx rendered scikit-learn.org. See: https://github.com/scikit-learn/scikit-learn/issues/21755 */display: inline-block !important;position: relative;}#sk-container-id-2 div.sk-text-repr-fallback {display: none;}</style><div id=\"sk-container-id-2\" class=\"sk-top-container\"><div class=\"sk-text-repr-fallback\"><pre>TfidfVectorizer()</pre><b>In a Jupyter environment, please rerun this cell to show the HTML representation or trust the notebook. <br />On GitHub, the HTML representation is unable to render, please try loading this page with nbviewer.org.</b></div><div class=\"sk-container\" hidden><div class=\"sk-item\"><div class=\"sk-estimator sk-toggleable\"><input class=\"sk-toggleable__control sk-hidden--visually\" id=\"sk-estimator-id-2\" type=\"checkbox\" checked><label for=\"sk-estimator-id-2\" class=\"sk-toggleable__label sk-toggleable__label-arrow\">TfidfVectorizer</label><div class=\"sk-toggleable__content\"><pre>TfidfVectorizer()</pre></div></div></div></div></div>"
            ]
          },
          "metadata": {},
          "execution_count": 38
        }
      ]
    },
    {
      "cell_type": "markdown",
      "source": [
        "Briefly estimate the time complexity, It is affected by the following factors:\n",
        "\n",
        "##Vocabulary Construction:\n",
        "Building the vocabulary involves traversing the entire text dataset to collect all unique words. If the text dataset contains\n",
        "N documents, each averaging\n",
        "M words, the time complexity for constructing the vocabulary is\n",
        "$O(N⋅M)$.\n",
        "\n",
        "##Document Frequency Computation:\n",
        "Calculating document frequency (the number of documents each word appears in) also requires traversing the entire text dataset. If the text dataset has a size of\n",
        "N, the time complexity for document frequency computation is\n",
        "$O(N)$.\n",
        "\n",
        "Therefore, the overall time complexity of the fit_tfidf function can be expressed as\n",
        "$O(N⋅M)$, where N is the number of documents in the text dataset, and\n",
        "M is the average number of words in a document.\n",
        "\n",
        "Compared with bag-of-words, it provides much lower time complexity, which will be quite beneficial for larger-scale model training."
      ],
      "metadata": {
        "id": "cw7chnRU9LfY"
      }
    },
    {
      "cell_type": "markdown",
      "source": [
        "That was much quicker! Next, just like with bag-of-word, we embed our corpus and train a logistic regression model on the embeddings. We will be using our new fitted `TfidfVectorizer` to compute the embeddings this time."
      ],
      "metadata": {
        "id": "9diK8QuYqlYB"
      }
    },
    {
      "cell_type": "code",
      "source": [
        "def tfidf_train_model(tfidf_model: TfidfVectorizer,\n",
        "                      train_dataset: pd.DataFrame,\n",
        "                      test_dataset: pd.DataFrame) -> LogisticRegression:\n",
        "    '''Trains a logistic regression model on a TF-IDF embedded corpus.\n",
        "\n",
        "    Args:\n",
        "        tfidf_model (TfidfVectorizer):\n",
        "            The fitted TF-IDF model.\n",
        "        train_dataset (Pandas DataFrame):\n",
        "            The dataset on which to train the logistic regression\n",
        "            model. Must have a 'text' and 'generated' column.\n",
        "        test_dataset (Pandas DataFrame):\n",
        "            The dataset on which to evaluate the logistic regression\n",
        "            model. Must have a 'text' and 'generated' column.\n",
        "\n",
        "    Returns:\n",
        "        LogisticRegression:\n",
        "            The trained model.\n",
        "    '''\n",
        "       # Embed the training dataset using the TF-IDF representation\n",
        "    tfidf_embeddings_train = tfidf_model.transform(train_dataset['text'])\n",
        "\n",
        "    # Embed the validation dataset using the TF-IDF representation\n",
        "    tfidf_embeddings_test = tfidf_model.transform(test_dataset['text'])\n",
        "\n",
        "    # Define the model\n",
        "    model = LogisticRegression(max_iter=1000)\n",
        "\n",
        "    # Train the model\n",
        "    model.fit(tfidf_embeddings_train, train_dataset['generated'])\n",
        "\n",
        "    # Evaluate the model on the validation set.\n",
        "    predictions = model.predict(tfidf_embeddings_test)\n",
        "    test_balanced_acc = balanced_accuracy_score(test_dataset['generated'], predictions)\n",
        "    print(f'The model achieved a {100 * test_balanced_acc:.2f}% '\n",
        "          f'balanced accuracy on the test set.')\n",
        "\n",
        "    # Return the trained model\n",
        "    return model\n",
        "\n",
        "model = tfidf_train_model(tfidf_model=tfidf, train_dataset=train, test_dataset=test)"
      ],
      "metadata": {
        "colab": {
          "base_uri": "https://localhost:8080/"
        },
        "id": "Y5rJO0Lzq3cW",
        "outputId": "5fb6e35d-a457-4890-90f7-39939e5e0acd"
      },
      "execution_count": 39,
      "outputs": [
        {
          "output_type": "stream",
          "name": "stdout",
          "text": [
            "The model achieved a 98.70% balanced accuracy on the test set.\n"
          ]
        }
      ]
    },
    {
      "cell_type": "markdown",
      "source": [
        "Even better results, in a fraction of the time. For bag of words, we had to look at a small problem to even run the embedding in a reasonable time. Embedding the whole train set was going to take over 24 hours, which is over the maximum google colab allows for wuthout a subscription service."
      ],
      "metadata": {
        "id": "y85-kWAvrZtz"
      }
    },
    {
      "cell_type": "markdown",
      "source": [
        "By default the `TfidfVectorizer` normalises the embeddings. In this scenario this is counterproductive, let us explore the effect of removing this normalisation."
      ],
      "metadata": {
        "id": "nmDjf0PUsZIn"
      }
    },
    {
      "cell_type": "code",
      "source": [
        "improved_tfidf = fit_tfidf(train.text, norm=None)\n",
        "improved_model = tfidf_train_model(tfidf_model=improved_tfidf,\n",
        "                                   train_dataset=train,\n",
        "                                   test_dataset=test)"
      ],
      "metadata": {
        "colab": {
          "base_uri": "https://localhost:8080/"
        },
        "id": "V5Artf0BsDhf",
        "outputId": "85ab40e4-8569-4c6d-89a9-9e4a9b8cb04a"
      },
      "execution_count": 40,
      "outputs": [
        {
          "output_type": "stream",
          "name": "stdout",
          "text": [
            "The model achieved a 99.59% balanced accuracy on the test set.\n"
          ]
        }
      ]
    },
    {
      "cell_type": "markdown",
      "source": [
        "These results seem too good to be true. Let us ask chatGPT to write us a sample 275 word essay to predict, and some text generated by me."
      ],
      "metadata": {
        "id": "FxYJy7laSNCW"
      }
    },
    {
      "cell_type": "code",
      "source": [
        "sample_essay = {'text':[\"In the face of escalating environmental challenges, the need for environmental education has become increasingly imperative in the 21st century. This essay explores the significance of environmental education in fostering a sustainable future. Environmental education plays a pivotal role in raising awareness about pressing ecological issues. As global concerns such as climate change, deforestation, and biodiversity loss continue to escalate, it is essential for individuals to comprehend the intricate relationships between human activities and the environment. Environmental education provides the knowledge and tools necessary for people to understand the consequences of their actions and empowers them to make informed, sustainable choices.Beyond awareness, environmental education cultivates a sense of responsibility and stewardship toward the planet. By instilling a deep appreciation for nature and its interconnected systems, individuals are more likely to adopt eco-friendly practices in their daily lives. This can range from simple actions like reducing waste and conserving energy to advocating for policy changes that promote environmental sustainability. Furthermore, environmental education equips individuals with the skills needed to address complex environmental challenges. As the world grapples with issues like resource depletion and pollution, there is a growing demand for innovative solutions. Environmental education fosters critical thinking, problem-solving, and a multidisciplinary approach to address these challenges, preparing individuals to contribute meaningfully to the development and implementation of sustainable practices. In conclusion, environmental education is a linchpin in creating a sustainable and harmonious future. By imparting knowledge, fostering a sense of responsibility, and nurturing the skills required to tackle environmental issues, it empowers individuals to become active participants in the ongoing effort to preserve and protect our planet for generations to come.\"\n",
        ",\"In the contemporary digital landscape, social media has become an integral part of daily life, transforming the way individuals connect and communicate. This essay delves into the multifaceted impact of social media on mental health, exploring both its positive and negative implications. While social media provides a platform for self-expression, community building, and information sharing, it also raises concerns about issues like cyberbullying, social comparison, and the potential for addiction. Striking a balance between the benefits and drawbacks of social media is essential for promoting a healthy online environment and safeguarding mental well-being.\"\n",
        ",\"The integration of artificial intelligence (AI) into healthcare has ushered in a new era of medical innovation and efficiency. This essay examines the advantages and challenges associated with the use of AI in healthcare. On the positive side, AI facilitates faster and more accurate diagnostics, personalized treatment plans, and the optimization of administrative processes. However, concerns regarding data privacy, ethical considerations, and the potential for job displacement underscore the need for careful regulation and ethical guidelines in the ongoing development and implementation of AI in the healthcare sector.\"\n",
        ",\"Climate change is a pressing global issue with far-reaching consequences, particularly for vulnerable communities around the world. This essay explores the disproportionate impact of climate change on low-income countries and marginalized populations. Rising sea levels, extreme weather events, and food insecurity are among the challenges exacerbating existing social inequalities. Addressing the global climate crisis requires collaborative efforts, international cooperation, and a commitment to sustainable practices to ensure the well-being and resilience of communities most affected by the changing climate.\"\n",
        ",\"From our literature review, it was found that there have several projects that set out to solve and research similar issues as ours however often not in the same context of golf. Our literature review covers the different methods we have used for image segmentation, both supervised and unsupervised, while also looking at the use of an AI path-finding system.\"\n",
        ",\"K-means clustering is a supervised machine learning algorithm used for grouping similar data points together with one predetermined hyper-parameter K. In the context of processing images of golf courses, K-means clustering can be used to group similar pixels together based on the pixel's RGB value, segmenting the image into distinct regions. Each pixel in an image is treated as an individual data point containing 3 values in a high-dimensional feature space of all the pixels. In this feature space, the distance between two pixels is defined as the euclidean distance between their associated RGB values. The K-means algorithm then randomly initialises K cluster centroids in the feature space and assigns each pixel to the nearest centroid based on minimising this euclidean distance. It then updates the centroid position, setting it to the mean of the positions of all the pixels assigned to that centroid. The algorithm repeats this process iteratively until the centroids no longer change or a maximum number of iterations is reached. It should be noted that the only information used for this clustering is the colours of the pixels, there is no use of context around each pixel or even the position of the pixel in the image. This model is designed to be a benchmark for future models which intend to use this additional context to improve the accuracy and repeatability of the segmentation.\"\n",
        ",\"In this section we explore different frameworks and methodologies to construct models on time series data for the purpose of accurate forecasting. We have already seen the generality of the VAR model as shown by lemma as a result of Wold's decomposition theorem. This makes the VAR model an attractive, accurate choice when trying to map the temporal relationships between variables. However to create a VAR model which has been fully parameterised we are required to estimate all the AR coefficients. For a VAR(p) model of dimension K this is estimates. This becomes computationally difficult for many real world applications due to the large number of parameters often used even a medium-sized dataset can cause issues. It is widely believed that in a VAR(p) model it would be unreasonable to expect all features to have a causal relationship with all other features at all lags.\"\n",
        ",\"When we do not receive hole cards containing a pair, there are 94 ways of receiving three of a kind on the flop. To calculate this we fix two of the cards in the flop to be the cards we need to make a three of a kind. For example if our hand is we fix two of the cards to be jacks. This leaves us with 47 cards which can be the other card in the flop (as we must exclude the other card left which would make four of a kind, which in our example would be the fourth jack). As we have two cards in our hand we must multiply this result by 2 to account for both, giving us 94 ways of receiving a three of a kind on the flop. \"]\n",
        ",'generated':[1,1,1,1,0,0,0,0]}"
      ],
      "metadata": {
        "id": "sgefn0O5SYV0"
      },
      "execution_count": 41,
      "outputs": []
    },
    {
      "cell_type": "code",
      "source": [
        "improved_tfidf = fit_tfidf(train.text, norm=None)\n",
        "improved_model = tfidf_train_model(tfidf_model=improved_tfidf,\n",
        "                                   train_dataset=train,\n",
        "                                   test_dataset=sample_essay)"
      ],
      "metadata": {
        "colab": {
          "base_uri": "https://localhost:8080/"
        },
        "id": "z2uGJVZCTFTX",
        "outputId": "387d8d75-68a1-4556-9069-ced591d14a23"
      },
      "execution_count": 42,
      "outputs": [
        {
          "output_type": "stream",
          "name": "stdout",
          "text": [
            "The model achieved a 50.00% balanced accuracy on the test set.\n"
          ]
        }
      ]
    },
    {
      "cell_type": "markdown",
      "source": [
        "50% balanced accuracy... the classifier predicts only one class! Clearly this method is giving misleading results. This could suggest that the model is only able to recognise a specific topic or writing style as humanly generated?"
      ],
      "metadata": {
        "id": "Qa97kFBxYd73"
      }
    },
    {
      "cell_type": "markdown",
      "source": [
        "# Word2Vec Representation\n",
        "\n",
        "Word2Vec is an algorithm developed in 2013 (Mikolov, T., Chen, K., Corrado, G. and Dean, J., 2013. Efficient estimation of word representations in vector space. arXiv preprint arXiv:1301.3781.). It makes use of a neural network to learn word associtions from a corpus of text.\n",
        "\n",
        "The word2vec algorithm uses a neural network model to learn word associations from a large corpus of text.\n",
        "\n",
        "The original Word2Vec model proposed two architectures: Continuous Bag of Words(CBOW) and Skip-Gram. I'll provide the mathematical details for Skip-Gram, as it's used in `Gensim`.\n",
        "\n",
        "##Skip-Gram model\n",
        "Trained to predict context words (words surrounding the target word) given a target word. Let's denote the following:\n",
        "\n",
        "$V$: Vocabulary size\n",
        "\n",
        "$N$: Dimensionality of the word vectors\n",
        "\n",
        "$w_i$: Input word vector for the target word\n",
        "\n",
        "$w_o$: Output word vector for the context word\n",
        "\n",
        "$θ$: Parameters of the model to be learned\n",
        "\n",
        "The objective function for Skip-Gram is to maximize the average log probability of predicting context words $w_{o,j}$given the target word $w_i$:\n",
        "\n",
        "$J(\\theta) = \\frac{1}{T} \\sum_{t=1}^{T} \\sum_{-c \\leq j \\leq c, j\\neq0} \\log P(w_{o,t+j} | w_{i,t}; \\theta)\n",
        "$\n",
        "\n",
        "where:\n",
        "\n",
        "$T$: Number of training samples\n",
        "\n",
        "$c$: Context window size\n",
        "\n",
        "$P(w_{o,t+j} | w_{i,t}; \\theta)$: Probability of observing context word $w_{o,j}$given target word $w_i$\n",
        "\n",
        "The probability $P(w_{o,t+j} | w_{i,t}; \\theta)$is often modeled using the softmax function:\n",
        "\n",
        "$P(w_{o,j} | w_{i}; \\theta) = \\frac{e^{(w_{o,j}^T w_{i})}}{\\sum_{v=1}^{V} e^{(w_{v}^T w_{i})}}\n",
        "$\n",
        "\n",
        "The training involves adjusting the parameters\n",
        "$θ$ to maximize $J(θ)$, typically done using gradient descent or a similar optimization algorithm.\n",
        "\n",
        "We use the built in `Gensim` library."
      ],
      "metadata": {
        "id": "atQ0iiOqtDYX"
      }
    },
    {
      "cell_type": "code",
      "source": [
        "def fit_word2vec(corpus: List[str]) -> Word2Vec:\n",
        "    '''Fit Word2Vec vectors on a corpus.\n",
        "\n",
        "    Args:\n",
        "        corpus (list of str):\n",
        "            The corpus to fit the embeddings on.\n",
        "\n",
        "    Returns:\n",
        "        Word2Vec:\n",
        "            The object containing the fitted embeddings.\n",
        "    '''\n",
        "    # Tokenise the corpus\n",
        "    corpus = [re.split(r' |(?=[\\.\\,\\-\\\"\\'\\!])', doc) for doc in corpus]\n",
        "\n",
        "    # Fit the embeddings\n",
        "    word2vec = Word2Vec(sentences=corpus, sg=1, workers=-1)\n",
        "\n",
        "    # Return the object containing the fitted embeddings\n",
        "    return word2vec\n",
        "\n",
        "\n",
        "word2vec = fit_word2vec(small_train.text)\n",
        "word2vec"
      ],
      "metadata": {
        "colab": {
          "base_uri": "https://localhost:8080/"
        },
        "id": "NWIujKMCtMBe",
        "outputId": "da985dae-83c1-4b25-84ba-9d7cfdb7ea80"
      },
      "execution_count": 43,
      "outputs": [
        {
          "output_type": "stream",
          "name": "stderr",
          "text": [
            "WARNING:gensim.models.word2vec:EPOCH 0: supplied example count (0) did not equal expected count (500)\n",
            "WARNING:gensim.models.word2vec:EPOCH 0: supplied raw word count (0) did not equal expected count (212445)\n",
            "WARNING:gensim.models.word2vec:EPOCH 1: supplied example count (0) did not equal expected count (500)\n",
            "WARNING:gensim.models.word2vec:EPOCH 1: supplied raw word count (0) did not equal expected count (212445)\n",
            "WARNING:gensim.models.word2vec:EPOCH 2: supplied example count (0) did not equal expected count (500)\n",
            "WARNING:gensim.models.word2vec:EPOCH 2: supplied raw word count (0) did not equal expected count (212445)\n",
            "WARNING:gensim.models.word2vec:EPOCH 3: supplied example count (0) did not equal expected count (500)\n",
            "WARNING:gensim.models.word2vec:EPOCH 3: supplied raw word count (0) did not equal expected count (212445)\n",
            "WARNING:gensim.models.word2vec:EPOCH 4: supplied example count (0) did not equal expected count (500)\n",
            "WARNING:gensim.models.word2vec:EPOCH 4: supplied raw word count (0) did not equal expected count (212445)\n"
          ]
        },
        {
          "output_type": "execute_result",
          "data": {
            "text/plain": [
              "<gensim.models.word2vec.Word2Vec at 0x7d959fb8eef0>"
            ]
          },
          "metadata": {},
          "execution_count": 43
        }
      ]
    },
    {
      "cell_type": "code",
      "source": [
        "word2vec.wv['test']\n"
      ],
      "metadata": {
        "colab": {
          "base_uri": "https://localhost:8080/"
        },
        "id": "61uorEZVtUbB",
        "outputId": "17471c0c-5dbe-4e16-c6cf-ff2a84bd6d71"
      },
      "execution_count": 44,
      "outputs": [
        {
          "output_type": "execute_result",
          "data": {
            "text/plain": [
              "array([-8.8638961e-03,  4.3264558e-03,  9.5497621e-03, -6.3164579e-03,\n",
              "       -5.8996486e-03,  7.1966409e-04,  5.1680016e-03,  4.3122494e-03,\n",
              "       -1.9523478e-03,  4.0620551e-03, -9.7053517e-03,  6.4949119e-03,\n",
              "       -3.5250736e-03, -2.0121264e-03,  5.5939294e-03, -7.9307137e-03,\n",
              "       -7.6381303e-03,  7.6989508e-03,  6.4368295e-03,  9.6956494e-05,\n",
              "        8.2491152e-03, -7.3581408e-03, -1.9289851e-04, -6.1440347e-03,\n",
              "        3.2217740e-03, -3.8276790e-04, -8.6066173e-03,  3.7629497e-03,\n",
              "       -5.4180194e-03,  7.1463976e-03, -7.9163862e-03,  2.4884772e-03,\n",
              "       -5.1353634e-03, -9.8945526e-03,  3.5693061e-03,  5.6585250e-03,\n",
              "        8.6320722e-03,  7.1790074e-03,  9.2333183e-03,  6.1787199e-03,\n",
              "       -7.0518707e-03, -6.5340758e-03,  5.1403162e-04,  6.4951179e-05,\n",
              "       -5.5826949e-03,  9.6888337e-03, -3.0025507e-03,  5.3464305e-03,\n",
              "       -9.2615662e-03, -4.3795719e-03,  1.8444824e-03, -2.1074819e-03,\n",
              "        1.6231990e-03, -1.1974275e-03,  4.2855907e-03, -6.9767986e-03,\n",
              "       -5.5696177e-03,  8.6706327e-03, -4.0941895e-03,  3.4475387e-03,\n",
              "       -8.6116670e-03,  8.3351908e-03,  3.9963401e-03,  9.4320802e-03,\n",
              "        7.5266254e-03,  9.7867120e-03, -3.8732660e-03,  5.2180123e-03,\n",
              "        5.8640158e-03,  8.0078710e-03, -3.0796360e-03, -7.3729609e-03,\n",
              "        5.0833593e-03, -2.6499140e-03,  9.7278859e-03,  3.5851467e-03,\n",
              "        8.1452224e-03,  1.6119314e-03,  4.1925372e-03, -7.0251705e-04,\n",
              "       -5.3765513e-03, -7.7094794e-03, -1.0903978e-03, -6.6603540e-04,\n",
              "       -4.2636679e-03, -3.1276143e-03,  1.2949621e-03, -3.3967793e-03,\n",
              "        8.7869689e-03, -3.5919165e-03, -3.9013124e-03, -3.1115292e-04,\n",
              "        8.6760102e-03, -5.4165735e-03, -1.5340638e-03, -5.6498121e-03,\n",
              "        1.0625756e-03, -6.7311060e-03, -9.4561921e-03,  7.1531413e-03],\n",
              "      dtype=float32)"
            ]
          },
          "metadata": {},
          "execution_count": 44
        }
      ]
    },
    {
      "cell_type": "markdown",
      "source": [
        "Currently we have no way to deal with unseen vocabulary."
      ],
      "metadata": {
        "id": "x2_jPDZRtYtS"
      }
    },
    {
      "cell_type": "code",
      "source": [
        "try:\n",
        "    word2vec.wv['Test']\n",
        "except:\n",
        "    traceback.print_exc()"
      ],
      "metadata": {
        "colab": {
          "base_uri": "https://localhost:8080/"
        },
        "id": "XywTscNWtXvp",
        "outputId": "a6d8f92e-8e6e-4a0b-c9f6-e3064f733dc2"
      },
      "execution_count": 45,
      "outputs": [
        {
          "output_type": "stream",
          "name": "stderr",
          "text": [
            "Traceback (most recent call last):\n",
            "  File \"<ipython-input-45-6eee34873b83>\", line 2, in <cell line: 1>\n",
            "    word2vec.wv['Test']\n",
            "  File \"/usr/local/lib/python3.10/dist-packages/gensim/models/keyedvectors.py\", line 403, in __getitem__\n",
            "    return self.get_vector(key_or_keys)\n",
            "  File \"/usr/local/lib/python3.10/dist-packages/gensim/models/keyedvectors.py\", line 446, in get_vector\n",
            "    index = self.get_index(key)\n",
            "  File \"/usr/local/lib/python3.10/dist-packages/gensim/models/keyedvectors.py\", line 420, in get_index\n",
            "    raise KeyError(f\"Key '{key}' not present\")\n",
            "KeyError: \"Key 'Test' not present\"\n"
          ]
        }
      ]
    },
    {
      "cell_type": "markdown",
      "source": [
        "To fix this let us do the same as in the bag of words approach: a new vector for all terms not seen before."
      ],
      "metadata": {
        "id": "AZGOANxptfz2"
      }
    },
    {
      "cell_type": "code",
      "source": [
        "def word2vec_embed_term(term: str) -> np.ndarray:\n",
        "    '''Embeds a term using the fitted Word2vec model.\n",
        "\n",
        "    Args:\n",
        "        term (str):\n",
        "            The term to be embedded.\n",
        "\n",
        "    Returns:\n",
        "        NumPy array:\n",
        "            The embedding of the term.\n",
        "    '''\n",
        "    # We do a `try-except` here to deal with out-of-vocabulary terms,\n",
        "    # just like we did with the bag-of-words model\n",
        "    try:\n",
        "        embedding = word2vec.wv[term]\n",
        "\n",
        "    # If the word is not in our vocabulary, then we just\n",
        "    # embed it as the zero vector\n",
        "    except KeyError:\n",
        "        embedding = np.zeros(word2vec.vector_size)\n",
        "\n",
        "    # Return the embedding\n",
        "    return embedding\n",
        "\n",
        "\n",
        "word2vec_embed_term('dfgdrgdgd')"
      ],
      "metadata": {
        "colab": {
          "base_uri": "https://localhost:8080/"
        },
        "id": "pBbdZQ7btwOH",
        "outputId": "b59cfc7b-2e9c-4976-afd4-16d19e98eeea"
      },
      "execution_count": 46,
      "outputs": [
        {
          "output_type": "execute_result",
          "data": {
            "text/plain": [
              "array([0., 0., 0., 0., 0., 0., 0., 0., 0., 0., 0., 0., 0., 0., 0., 0., 0.,\n",
              "       0., 0., 0., 0., 0., 0., 0., 0., 0., 0., 0., 0., 0., 0., 0., 0., 0.,\n",
              "       0., 0., 0., 0., 0., 0., 0., 0., 0., 0., 0., 0., 0., 0., 0., 0., 0.,\n",
              "       0., 0., 0., 0., 0., 0., 0., 0., 0., 0., 0., 0., 0., 0., 0., 0., 0.,\n",
              "       0., 0., 0., 0., 0., 0., 0., 0., 0., 0., 0., 0., 0., 0., 0., 0., 0.,\n",
              "       0., 0., 0., 0., 0., 0., 0., 0., 0., 0., 0., 0., 0., 0., 0.])"
            ]
          },
          "metadata": {},
          "execution_count": 46
        }
      ]
    },
    {
      "cell_type": "markdown",
      "source": [
        "We next go from embedding terms to embedding documents. We also need an additional aggregation function, we use the mean as the default."
      ],
      "metadata": {
        "id": "Yl1VDs1pt3yk"
      }
    },
    {
      "cell_type": "code",
      "source": [
        "def word2vec_embed_doc(doc: str,\n",
        "                       aggregation_fn: Callable = np.mean) -> np.ndarray:\n",
        "    '''Embeds a document using the fitted Word2vec model.\n",
        "\n",
        "    Args:\n",
        "        doc (str):\n",
        "            The document to be embedded.\n",
        "        aggregation_fn (callable, optional):\n",
        "            The function used to aggregate the term embeddings\n",
        "            in the document. Must be a NumPy function. Defaults to\n",
        "            `numpy.mean`, meaning that the average of the term\n",
        "            embeddings is returned.\n",
        "\n",
        "    Returns:\n",
        "        NumPy array:\n",
        "            The embedding of the document.\n",
        "    '''\n",
        "    # Split up the document into a list of terms\n",
        "    terms = re.split(r' |(?=[\\.\\,\\-\\\"\\'\\!])', doc)\n",
        "\n",
        "    # TODO: Embed each term using the fitted `word2vec` model.\n",
        "    #       The result should be a list of embeddings, one for\n",
        "    #       each term.\n",
        "    # Embed each term using the fitted `word2vec` model.\n",
        "    embeddings = np.array([word2vec_embed_term(term) for term in terms])\n",
        "\n",
        "    # Aggregate the embeddings according to `aggregation_fn`\n",
        "    embedding = aggregation_fn(embeddings, axis=0)\n",
        "\n",
        "\n",
        "    # Return the aggregated embedding\n",
        "    return embedding\n",
        "\n",
        "\n",
        "word2vec_embed_doc('this is a test')"
      ],
      "metadata": {
        "colab": {
          "base_uri": "https://localhost:8080/"
        },
        "id": "eyEyOAuXt3Ic",
        "outputId": "049703a7-c59b-4f5c-8ee7-dfb8bba51c55"
      },
      "execution_count": 47,
      "outputs": [
        {
          "output_type": "execute_result",
          "data": {
            "text/plain": [
              "array([ 2.38750270e-03,  2.90311058e-04,  3.83760757e-03,  1.52896740e-03,\n",
              "       -5.20556001e-04,  6.39754522e-04,  5.46273403e-03, -1.59447745e-03,\n",
              "       -1.04561425e-03,  1.82120129e-04,  1.50389504e-04, -5.51422941e-04,\n",
              "       -5.39238099e-05,  2.01329496e-03, -1.33148814e-03, -3.25025874e-03,\n",
              "        3.19219660e-03,  1.89845474e-03, -8.95556062e-04, -2.48114322e-03,\n",
              "        6.01055450e-04,  1.39021792e-03,  2.82399589e-03, -2.37373053e-03,\n",
              "       -1.55980175e-03,  7.86952325e-04, -5.79395937e-03,  1.10145868e-03,\n",
              "       -4.24221531e-03,  2.63396115e-03,  6.99192751e-05,  1.76717748e-03,\n",
              "       -3.29409586e-03, -4.74218605e-03, -3.10742133e-03, -6.61046477e-04,\n",
              "       -1.21878530e-03,  1.67990301e-03,  9.51584778e-04, -1.35129807e-03,\n",
              "        2.89591379e-04, -4.23518801e-03, -3.63227155e-04, -2.18319311e-03,\n",
              "        1.39065203e-04,  4.11677547e-03, -6.31115492e-03, -1.57025666e-03,\n",
              "       -5.39028668e-04, -2.20779795e-04, -2.28140107e-03, -5.53941820e-03,\n",
              "        1.92669372e-03, -2.96329963e-03, -1.09828962e-03, -1.18870463e-03,\n",
              "       -2.01659743e-03,  1.34901749e-03, -3.07821529e-03,  2.04896508e-03,\n",
              "       -1.91754103e-03, -1.86723866e-03,  2.60509318e-03,  4.32005152e-03,\n",
              "        5.22739021e-04,  5.05493674e-03, -7.30184000e-03,  2.60312599e-03,\n",
              "       -9.37114004e-04, -1.33806048e-03,  1.51053362e-04,  8.38366454e-04,\n",
              "        3.34051624e-03, -1.98192848e-03,  1.87637296e-03, -2.59703258e-03,\n",
              "        3.02885519e-03, -2.46689393e-04,  6.58258796e-04, -2.57017068e-03,\n",
              "       -2.85008457e-03, -4.19310201e-03, -2.56999745e-03,  1.55774248e-03,\n",
              "        1.00644922e-03, -4.95716045e-03,  2.80552194e-03,  1.04444334e-04,\n",
              "        4.87182941e-03, -1.12141878e-03, -7.51152693e-04, -6.44914166e-04,\n",
              "       -4.50583175e-05, -2.23847362e-03, -2.34364852e-04, -7.12776091e-06,\n",
              "        3.19309719e-03, -3.14089772e-03, -3.78509448e-03,  1.09869777e-03],\n",
              "      dtype=float32)"
            ]
          },
          "metadata": {},
          "execution_count": 47
        }
      ]
    },
    {
      "cell_type": "code",
      "source": [
        "train['text'][4]"
      ],
      "metadata": {
        "colab": {
          "base_uri": "https://localhost:8080/",
          "height": 105
        },
        "id": "D0hrCA_kuP24",
        "outputId": "bb8d7249-afdf-4150-d478-213383f38966"
      },
      "execution_count": 48,
      "outputs": [
        {
          "output_type": "execute_result",
          "data": {
            "text/plain": [
              "'  The Path to Sustainable Urban Living  In an age of rapid urbanization, the concept of car-free cities is gaining momentum as a visionary solution to the complex challenges posed by urban areas. Car-free cities are urban environments where private automobiles are either heavily restricted or completely prohibited, promoting the use of sustainable transportation alternatives and fostering a healthier, more vibrant urban lifestyle. This essay explores the concept of car-free cities, examining the potential benefits, challenges, and strategies for their successful implementation.  Car-free cities offer a vision of urban living focused on sustainability and well-being:  Environmental Sustainability: By significantly reducing the number of cars on the road, car-free cities contribute to cleaner air and a reduction in greenhouse gas emissions, thus playing a vital role in mitigating climate change.  Public Health: These cities prioritize pedestrian and cyclist safety, leading to fewer accidents and enhanced public health. Reduced air pollution levels result in better respiratory and cardiovascular health for urban residents.  Optimal Use of Space: Car-free cities make efficient use of urban space by converting parking lots and wide roads into green areas, parks, and pedestrian zones. This transformation enriches the overall urban landscape and quality of life.  Traffic Congestion Reduction: Fewer private cars on the road mean less traffic congestion, shorter commute times, and a less stressful daily life for urban inhabitants.  Economic Benefits: Car ownership can be costly. By relying less on private vehicles, residents of car-free cities have the opportunity to save money on car-related expenses, which can contribute to improved financial stability.  Transitioning to car-free cities, however, poses unique challenges:  Resistance to Change: Many individuals heavily rely on their cars for daily activities and commutes, leading to potential resistance to the transition to car-free living due to fears of inconvenience and a loss of autonomy.  Public Transportation Infrastructure: A robust public transportation system is essential for the success of car-free cities. Substantial investments are needed to expand and enhance public transit options, providing convenient alternatives to private cars.  Economic Impact: Businesses that depend on car-dependent customers may face a decline in revenue during the transition. Addressing this economic impact and supporting affected businesses is a crucial aspect of the transition.  Urban Planning and Infrastructure: The reconfiguration of urban areas for car-free living requires comprehensive planning and significant investments in infrastructure, a complex and time-consuming process.  To realize car-free cities successfully, strategies include expanding and enhancing public transportation, promoting active transportation methods like walking and cycling, encouraging carpooling and ride-sharing, adopting electric and sustainable transportation, and focusing on public education and awareness.  In conclusion, car-free cities offer an inspiring vision of a more sustainable and vibrant urban future. Despite the challenges, the potential benefits in terms of environmental sustainability, public health, efficient urban living, and cost savings make them a compelling goal. By investing in public transportation, promoting alternative transportation methods, and engaging the public in the planning process, cities can work toward a future where private cars are no longer the dominant mode of transportation. Car-free cities represent a promising glimpse of a more sustainable and people-centric urban environment.'"
            ],
            "application/vnd.google.colaboratory.intrinsic+json": {
              "type": "string"
            }
          },
          "metadata": {},
          "execution_count": 48
        }
      ]
    },
    {
      "cell_type": "markdown",
      "source": [
        "Okay, we can now test the classification performance of the Word2vec embeddings via a logistic regression embedding."
      ],
      "metadata": {
        "id": "lh30iEspuf48"
      }
    },
    {
      "cell_type": "code",
      "source": [
        "def word2vec_train_model(train_dataset: pd.DataFrame,\n",
        "                         test_dataset: pd.DataFrame) -> LogisticRegression:\n",
        "    '''Trains a logistic regression model on a Word2vec embedded corpus.\n",
        "\n",
        "    Args:\n",
        "        train_dataset (Pandas DataFrame):\n",
        "            The dataset on which to train the logistic regression\n",
        "            model. Must have a 'text' and 'generated' column.\n",
        "        test_dataset (Pandas DataFrame):\n",
        "            The dataset on which to evaluate the logistic regression\n",
        "            model. Must have a 'text' and 'generated' column.\n",
        "\n",
        "    Returns:\n",
        "        LogisticRegression:\n",
        "            The trained model.\n",
        "    '''\n",
        "    # Embed the dataset\n",
        "    word2vec_embeddings_train = [word2vec_embed_doc(str(doc)) for doc in train_dataset['text']]\n",
        "    word2vec_embeddings_test = [word2vec_embed_doc(str(doc)) for doc in test_dataset['text']]\n",
        "\n",
        "    # Convert the lists of embeddings to one big matrix\n",
        "    word2vec_embeddings_train = np.stack(word2vec_embeddings_train)\n",
        "    word2vec_embeddings_test = np.stack(word2vec_embeddings_test)\n",
        "\n",
        "    # Define the classification model, as there are an unequal number of classes we balance the class weight.\n",
        "    model = LogisticRegression(max_iter=1_000,class_weight = 'balanced')\n",
        "\n",
        "    # Train the model\n",
        "    model.fit(word2vec_embeddings_train, train_dataset.generated)\n",
        "\n",
        "    # Evaluate the model on the validation set.\n",
        "    predictions = model.predict(word2vec_embeddings_test)\n",
        "    #print(predictions)\n",
        "    test_balanced_acc = balanced_accuracy_score(test_dataset.generated, predictions)\n",
        "    print(f'The model achieved a {100 * test_balanced_acc:.2f}% '\n",
        "          f'balanced accuracy on the test set.')\n",
        "\n",
        "    # Return the trained model\n",
        "    return model\n",
        "\n",
        "\n",
        "model = word2vec_train_model(train_dataset=small_train, test_dataset=small_test)"
      ],
      "metadata": {
        "colab": {
          "base_uri": "https://localhost:8080/"
        },
        "id": "HKxjT-8UuZ1r",
        "outputId": "b6c21bd0-3e6d-42c7-aa44-ddf2ba48762c"
      },
      "execution_count": 49,
      "outputs": [
        {
          "output_type": "stream",
          "name": "stdout",
          "text": [
            "The model achieved a 76.11% balanced accuracy on the test set.\n"
          ]
        }
      ]
    },
    {
      "cell_type": "markdown",
      "source": [
        "That was... not as good. What went wrong?\n",
        "\n",
        "Word2Vec starts training in random places, and needs to deduce that a pair of words are alike. This can only be done when it has seen a plethora of information rich examples which nudge these words into similar postions in the embedding. Thus it seems natural that to arrange the embedding space such that all pairwise similarities are upheld *simultaneously*, we require a very large set of opportunities to 'nugde' the embeddings in such a way.\n",
        "\n",
        "In our revatively small dataset, there might be no examples where the desired-to-be-alike words are in similar nearby-word contexts. This problem is exacerbated when embeddings need to move far for their original initialisation.\n",
        "\n",
        "The essence of Word2Vec is using bulk data, and bulk training, to force the creation and mapping of generalisable patterns. This leads us naturally into the next seciton in which we shall employ the use of pretrained `FastText` vectors where we hope to show the scalability of this representation.\n"
      ],
      "metadata": {
        "id": "aaZhyRKCvXII"
      }
    },
    {
      "cell_type": "code",
      "source": [
        "word2vec = fit_word2vec(train.text)\n",
        "word2vec"
      ],
      "metadata": {
        "colab": {
          "base_uri": "https://localhost:8080/"
        },
        "id": "nMmZh-GKph2r",
        "outputId": "4a76e34d-2259-44c7-ae05-924e2d34287a"
      },
      "execution_count": 50,
      "outputs": [
        {
          "output_type": "stream",
          "name": "stderr",
          "text": [
            "WARNING:gensim.models.word2vec:EPOCH 0: supplied example count (0) did not equal expected count (23316)\n",
            "WARNING:gensim.models.word2vec:EPOCH 0: supplied raw word count (0) did not equal expected count (9876769)\n",
            "WARNING:gensim.models.word2vec:EPOCH 1: supplied example count (0) did not equal expected count (23316)\n",
            "WARNING:gensim.models.word2vec:EPOCH 1: supplied raw word count (0) did not equal expected count (9876769)\n",
            "WARNING:gensim.models.word2vec:EPOCH 2: supplied example count (0) did not equal expected count (23316)\n",
            "WARNING:gensim.models.word2vec:EPOCH 2: supplied raw word count (0) did not equal expected count (9876769)\n",
            "WARNING:gensim.models.word2vec:EPOCH 3: supplied example count (0) did not equal expected count (23316)\n",
            "WARNING:gensim.models.word2vec:EPOCH 3: supplied raw word count (0) did not equal expected count (9876769)\n",
            "WARNING:gensim.models.word2vec:EPOCH 4: supplied example count (0) did not equal expected count (23316)\n",
            "WARNING:gensim.models.word2vec:EPOCH 4: supplied raw word count (0) did not equal expected count (9876769)\n"
          ]
        },
        {
          "output_type": "execute_result",
          "data": {
            "text/plain": [
              "<gensim.models.word2vec.Word2Vec at 0x7d959fbc9180>"
            ]
          },
          "metadata": {},
          "execution_count": 50
        }
      ]
    },
    {
      "cell_type": "code",
      "source": [
        "model_larger = word2vec_train_model(train_dataset=train, test_dataset=test)"
      ],
      "metadata": {
        "colab": {
          "base_uri": "https://localhost:8080/"
        },
        "id": "Naz2CS3WHsLF",
        "outputId": "ebe0ee41-080b-440c-b210-ac750ee8b01e"
      },
      "execution_count": 51,
      "outputs": [
        {
          "output_type": "stream",
          "name": "stdout",
          "text": [
            "The model achieved a 81.25% balanced accuracy on the test set.\n"
          ]
        }
      ]
    },
    {
      "cell_type": "markdown",
      "source": [
        "Increasing the training data increased performance by approximately 5%. This indicates the need for a large corpus when using Word2Vec."
      ],
      "metadata": {
        "id": "lMcmI_BHp3u1"
      }
    },
    {
      "cell_type": "markdown",
      "source": [
        "To consider the time complexity of training a Word2Vec model, it model depends on various factors, A simplified representation of the overall time complexity might look like:\n",
        "\n",
        "$O(T⋅(V + W))$\n",
        "\n",
        "Here\n",
        "\n",
        "$T$ is the number of training examples.\n",
        "\n",
        "$V$ is the vocabulary size.\n",
        "\n",
        "$W$ is Word vector operations include the\n",
        "dimensionality of word vectors $N$ and any matrix operations involved.\n",
        "\n",
        "Due to a similar structure to TF-IDF, they exhibit relatively close training times."
      ],
      "metadata": {
        "id": "Y2OY1-5ZS130"
      }
    },
    {
      "cell_type": "markdown",
      "source": [
        "Let us test against our small sample outside of the dataset."
      ],
      "metadata": {
        "id": "nhdqkh3DmWKx"
      }
    },
    {
      "cell_type": "code",
      "source": [
        "sample_essay = pd.DataFrame.from_dict(sample_essay)\n",
        "model_sample = word2vec_train_model(train_dataset=train, test_dataset=sample_essay)"
      ],
      "metadata": {
        "colab": {
          "base_uri": "https://localhost:8080/"
        },
        "id": "pM0yYucqlyPZ",
        "outputId": "a0ae30d7-8cb4-4b80-d508-84342baca72a"
      },
      "execution_count": 52,
      "outputs": [
        {
          "output_type": "stream",
          "name": "stdout",
          "text": [
            "The model achieved a 87.50% balanced accuracy on the test set.\n"
          ]
        }
      ]
    },
    {
      "cell_type": "code",
      "source": [],
      "metadata": {
        "id": "FEye8MLqVXFY"
      },
      "execution_count": 52,
      "outputs": []
    },
    {
      "cell_type": "markdown",
      "source": [
        "It no longer fails completely! This suggests this method of embedding is much more generalisable."
      ],
      "metadata": {
        "id": "eaVSDNLMmgyJ"
      }
    },
    {
      "cell_type": "code",
      "source": [
        "# Delete the Word2vec embeddings again, to save some memory\n",
        "del word2vec, model\n",
        "gc.collect()"
      ],
      "metadata": {
        "colab": {
          "base_uri": "https://localhost:8080/"
        },
        "id": "NDjGQfRnyLqW",
        "outputId": "716b6e1c-6f0c-4e73-cc6a-e0636f736901"
      },
      "execution_count": 53,
      "outputs": [
        {
          "output_type": "execute_result",
          "data": {
            "text/plain": [
              "153"
            ]
          },
          "metadata": {},
          "execution_count": 53
        }
      ]
    },
    {
      "cell_type": "markdown",
      "source": [
        "## Transformer Representation\n",
        "\n",
        "The transformer, first introduced in (Vaswani, A., Shazeer, N., Parmar, N., Uszkoreit, J., Jones, L., Gomez, A.N., Kaiser, Ł. and Polosukhin, I., 2017. Attention is all you need. Advances in neural information processing systems, 30.) is a deep learning architecture which uses the concept of attention to process text.\n",
        "\n",
        "Make key mathematical details based on the description of the original paper`arXiv:1706.03762 [cs.CL]`.\n",
        "\n",
        "##Attention\n",
        "\n",
        "The \"attention\" mechanism is a crucial innovation that significantly contributes to the model's performance, especially in handling sequential data. Unlike traditional recurrent neural networks (RNNs) that process sequences step by step, the Transformer employs an attention mechanism that allows the model to process the entire sequence in a single step.\n",
        "\n",
        "An attention function can be described as mapping a query and a set of key-value pairs to an output,\n",
        "where the query, keys, values, and output are all vectors. The output is computed as a weighted sum of the values, where the weight assigned to each value is computed by a compatibility function of the\n",
        "query with the corresponding key.\n",
        "\n",
        "There are two main types of attention mechanisms in the Transformer: Self-Attention and Multi-Head Attention.\n",
        "\n",
        "###Softmax function:\n",
        "Softmax function takes a vector of arbitrary real-valued scores (or logits) and transforms them into a probability distribution.\n",
        "\n",
        "The softmax function transforms each element of the input vector into a value between 0 and 1. The resulting vector is a probability distribution, as the values sum to 1.\n",
        "\n",
        "For follows for a vector $z=(z_1,z_2,...,z_k)$\n",
        "\n",
        "$\\text{softmax}(z)_i = \\frac{e^{z_i}}{\\sum_{j=1}^{k} e^{z_j}}$\n",
        "\n",
        "Here:\n",
        "\n",
        "e is the base of the natural logarithm (Euler's number).\n",
        "\n",
        "$z_i$is the $i$-th element of the input vector$z$\n",
        "c\n",
        "\n",
        "###Scaled Dot-Product Attention\n",
        "\n",
        "We call the particular attention \"Scaled Dot-Product Attention\" . The input consists of\n",
        "queries and keys of dimension $d_k$, and values of dimension dv . We compute the dot products of the\n",
        "query with all keys, divide each by $√d_k$, and apply a softmax function to obtain the weights on the\n",
        "values\n",
        "\n",
        "In practice, we compute the attention function on a set of queries simultaneously, packed together\n",
        "into a matrix $Q$. The keys and values are also packed together into matrices $K$ and $V$\n",
        "\n",
        "$\n",
        "\\text{Attention}(Q, K, V) = \\text{softmax}\\left(\\frac{QK^T}{\\sqrt{d_k}}\\right)V\n",
        "$\n",
        "###Multi-Head Attention:\n",
        "In multi-head attention, the model processes the input sequence by applying multiple self-attention heads in parallel, and then concatenates or weights their outputs to obtain the final multi-head attention output after linear transformation. This allows the model to simultaneously focus on different relationships at different positions in the input sequence, thereby improving the expressive power of the model.\n",
        "\n",
        "Multi-head attention allows the model to jointly attend to information from different representation\n",
        "subspaces at different positions. With a single attention head, averaging inhibits this\n",
        "\n",
        "$\n",
        "\\text{MultiHead}(Q, K, V) = \\text{Concat}(\\text{head}_1, \\ldots, \\text{head}_h)W^O\n",
        "$\n",
        "\n",
        "where\n",
        "\n",
        "$head_i=Attention(Q{W_i}^Q,K{W_i}^K,V{W_i}^V)$\n",
        "\n",
        "${W_i}^Q,{W_i}^K,{W_i}^V$is the weight matrix of linear transformation, $W^O$ is the weight matrix of the output layer.\n",
        "###Positional Encoding:\n",
        "Since this model contains no recurrence and no convolution, in order for the model to make use of the\n",
        "order of the sequence, we must inject some information about the relative or absolute position of the\n",
        "tokens in the sequence. To this end, we add \"positional encodings\" to the input embeddings at the\n",
        "bottoms of the encoder and decoder stacks. The positional encodings have the same dimension dmodel\n",
        "as the embeddings, so that the two can be summed. There are many choices of positional encodings,\n",
        "learned and fixed.\n",
        "\n",
        "$\n",
        "\\text{PE}(pos, 2i) = \\sin\\left(\\frac{pos}{10000^{2i/d_{\\text{model}}}}\\right)\n",
        "$\n",
        "\n",
        "$\n",
        "\\text{PE}(pos, 2i + 1) = \\cos\\left(\\frac{pos}{10000^{2i/d_{\\text{model}}}}\\right)\n",
        "$\n",
        "\n",
        "where $pos$ is the position and $i$ is the dimension. That is, each dimension of the positional encoding\n",
        "corresponds to a sinusoid. The wavelengths form a geometric progression from $2π$ to $10000 · 2π$. We\n",
        "chose this function because we hypothesized it would allow the model to easily learn to attend by\n",
        "relative positions, since for any fixed offset $k$, $PE_{pos+k}$ can be represented as a linear function of\n",
        "$PE_{pos}$.\n",
        "###Position-wise Feed-Forward Networks:\n",
        "In addition to attention sub-layers, each of the layers in our encoder and decoder contains a fully\n",
        "connected feed-forward network, which is applied to each position separately and identically. This\n",
        "consists of two linear transformations with a ReLU activation in between.\n",
        "\n",
        "$\\text{FFN}(x) = \\max(0, xW_1 + b_1)W_2 + b_2\n",
        "$\n",
        "\n",
        "While the linear transformations are the same across different positions,\n",
        "\n",
        "We utilise transfer learning here. To achieve this, we use the `transformers` library, which makes using state-of-the-art transformer embeddings really simple.\n",
        "\n",
        "In this section we will be using the `Hello-SimpleAI/chatgpt-detector-roberta` model, a pretrained model available on [the HuggingFace Hub](https://hf.co). We use this model as it has been trained on ai generated text data, and we hope this will allow our model to generalise better."
      ],
      "metadata": {
        "id": "ufYwv3SU8eeS"
      }
    },
    {
      "cell_type": "markdown",
      "source": [
        "Loading a pre-trained transformer model and its corresponding tokenizer for sequence classification."
      ],
      "metadata": {
        "id": "n6q-_oZEa3q6"
      }
    },
    {
      "cell_type": "code",
      "source": [
        "def load_pretrained_transformer(model_id: str = 'Hello-SimpleAI/chatgpt-detector-roberta') -> tuple:\n",
        "    '''Load pretrained transformer with its tokeniser.\n",
        "\n",
        "    Args:\n",
        "        model_id (str, optional):\n",
        "            The transformer model to load. Defaults to 'roberta-base'.\n",
        "\n",
        "    Returns:\n",
        "        tuple:\n",
        "            A pair of the pretrained transformer and its tokeniser.\n",
        "    '''\n",
        "    # Create list of all the labels in the dataset\n",
        "    generated = [0,1]\n",
        "\n",
        "    # Load model\n",
        "    config = dict(num_labels=len(generated),\n",
        "                  id2label={id:lbl for id, lbl in enumerate(generated)},\n",
        "                  label2id={lbl:id for id, lbl in enumerate(generated)})\n",
        "    config = AutoConfig.from_pretrained(model_id, **config)\n",
        "    tokeniser = AutoTokenizer.from_pretrained(model_id)\n",
        "    model = AutoModelForSequenceClassification.from_pretrained(model_id,\n",
        "                                                               config=config)\n",
        "\n",
        "    return model, tokeniser\n",
        "\n",
        "\n",
        "tf_model, tokeniser = load_pretrained_transformer()"
      ],
      "metadata": {
        "id": "o2ounpYS88bu",
        "colab": {
          "base_uri": "https://localhost:8080/",
          "height": 241,
          "referenced_widgets": [
            "6e7fee228828445f826fcf4c377111fd",
            "44fbb8694500496387c20c008a9024cc",
            "4a880323a250496c80074ffe124c303b",
            "40de622ab994494ab6c4f68439549dbc",
            "6eb251bb09c642a9979b82a2882306db",
            "2db8438272ad41b29e8b3820582a8eb1",
            "c130f52e893948e887d865ae36ff1703",
            "71469cd2b75c47b596cc05dd7791b76d",
            "fdd06b6a4cc9476fac6220e38a8c5cbd",
            "06d0add497274f5399931d4a3f6f2ce2",
            "983850baf11d423c9d0d9a4881da82a9",
            "d2bf7e53817b4f2f9fdb8e3ff247f9e4",
            "7f78dc4f21ba4831b579fb460689e20b",
            "19b91e887c5741bbaa0a441007abc5b0",
            "d4a7c2f253d34a47b65581530d7acbdd",
            "2987944165104650b5cfb6d13850d091",
            "b98a5c7022fb4692bf47eb63b71a6e1f",
            "044518ddad734cf1b3ddfb23994ad69a",
            "5483fbec681d438d84cd37fadfe071b1",
            "d6ed356de9ed4dfe92dca6ec6e4d2629",
            "b95b6a55bf27457e977831493884e699",
            "535e6516b31244899da524b5da3376d3",
            "a0138a00bdf846159f50f316b1b2b3dd",
            "6cc5fcb5cf9e406caef6e1fc66539dee",
            "52ab1c832efc4aeb975681d451b7d821",
            "56750a08aa754e7d89a65d9164c6a7d5",
            "f05d0eec7fb846609bcad4e5f62d82d3",
            "c8d0fb13891740a19384bddaf2c21149",
            "710c6a75848f4f428bc643e724e469af",
            "ad745cac5c8947fcbc1d822c6ea853c8",
            "620338c8361f4fcd90b4c52604a51fb0",
            "f8ae1b3d6e594d869c517f0eaff6ac79",
            "e259d376006349ce93dfec5e10665032",
            "8d92a59b9eae470fb37b7dfb53c160db",
            "499acd38e682449ba432f7f5f361835c",
            "a4f4a10ba89447c9b16bee1d69e8ad98",
            "91e7f53ad417469cb7456ad4db60a939",
            "2384b1c3db33462994eeca9c63ae86b4",
            "41f73fd969c640fb8c7ac98fc4b95921",
            "efe3c232813d4d1692be121cbbc932c9",
            "d49400a5e04044c4b94a3c7190678555",
            "ef7ac64ae26346de8e4dbdde12c1bbad",
            "3890ae2ce3664625b58f438177a796ff",
            "292ad9f2e51f4c5ebbf066c5c2bf08f3",
            "2af2ef70586e4bd29998cf71358d6fb7",
            "3f0864f3a7cb411590eb786514665bf3",
            "d8795a93096f48b99547eca6bfcd75e7",
            "0185dfa5630746d2a0fe0fa813fd82da",
            "91ed1302835c4907a51160a1a015fc41",
            "4e6a1e028c67473cb8b1a12066f8c9b2",
            "86239e1639d04bb691894e11069c92ee",
            "ea7a6fce02e342e6a2c0cc4e712fe717",
            "8e2e8deec02642caac53454308cb711e",
            "59bb66f39c3d4d68a0ac1f759fa318b3",
            "f0cbddf750d14b168722993b3a6e71f1",
            "9deeb5d214124a9aaa2e4d5731362672",
            "9a63a1e3d45146e2a41cb0dc9e883a1c",
            "1fe20526a7d84413914443efa2105b31",
            "bfdc36c4a6d04d208bf56b6a278fbe85",
            "829a3a28bd754ea7a23584167275f436",
            "647674f55ee34d319f43501e024605b4",
            "fa3e8458ba5c4aa79b21b9df36fba21d",
            "b27eb1c8be854fa892198a90f5d773d1",
            "da10db22a6fc461493c5bf5e64c76aca",
            "d70e65f264064063bf5821bb15a80dad",
            "9c9a8c3203e840c381f60d655e217a42",
            "4626a4c9b69d4a518ffbe530bd5c7587",
            "f871ac597aae43299712132e9cde5c16",
            "ca05060168644835b8f80a83b69d49ce",
            "2fd6007020884417b0ca440820b64630",
            "4ed8380e9fe648cfb8e1fc5fba3ca789",
            "d229fda2a0144833bfff9649d7c8589e",
            "7afbe353604646e49386fee173fecd2e",
            "cb4c3a1e6239462e933b7519102b890c",
            "a357d60e53b24359b682ae042deaacf9",
            "3f002b6cfc9d4bddaf96fe271b3b6ba7",
            "ba1163bd942849f4beef9e7f6ece3907"
          ]
        },
        "outputId": "0c6dd577-eb27-41bd-d99c-2eca2784fffc"
      },
      "execution_count": 54,
      "outputs": [
        {
          "output_type": "display_data",
          "data": {
            "text/plain": [
              "config.json:   0%|          | 0.00/858 [00:00<?, ?B/s]"
            ],
            "application/vnd.jupyter.widget-view+json": {
              "version_major": 2,
              "version_minor": 0,
              "model_id": "6e7fee228828445f826fcf4c377111fd"
            }
          },
          "metadata": {}
        },
        {
          "output_type": "display_data",
          "data": {
            "text/plain": [
              "tokenizer_config.json:   0%|          | 0.00/391 [00:00<?, ?B/s]"
            ],
            "application/vnd.jupyter.widget-view+json": {
              "version_major": 2,
              "version_minor": 0,
              "model_id": "d2bf7e53817b4f2f9fdb8e3ff247f9e4"
            }
          },
          "metadata": {}
        },
        {
          "output_type": "display_data",
          "data": {
            "text/plain": [
              "vocab.json:   0%|          | 0.00/798k [00:00<?, ?B/s]"
            ],
            "application/vnd.jupyter.widget-view+json": {
              "version_major": 2,
              "version_minor": 0,
              "model_id": "a0138a00bdf846159f50f316b1b2b3dd"
            }
          },
          "metadata": {}
        },
        {
          "output_type": "display_data",
          "data": {
            "text/plain": [
              "merges.txt:   0%|          | 0.00/456k [00:00<?, ?B/s]"
            ],
            "application/vnd.jupyter.widget-view+json": {
              "version_major": 2,
              "version_minor": 0,
              "model_id": "8d92a59b9eae470fb37b7dfb53c160db"
            }
          },
          "metadata": {}
        },
        {
          "output_type": "display_data",
          "data": {
            "text/plain": [
              "tokenizer.json:   0%|          | 0.00/2.11M [00:00<?, ?B/s]"
            ],
            "application/vnd.jupyter.widget-view+json": {
              "version_major": 2,
              "version_minor": 0,
              "model_id": "2af2ef70586e4bd29998cf71358d6fb7"
            }
          },
          "metadata": {}
        },
        {
          "output_type": "display_data",
          "data": {
            "text/plain": [
              "special_tokens_map.json:   0%|          | 0.00/280 [00:00<?, ?B/s]"
            ],
            "application/vnd.jupyter.widget-view+json": {
              "version_major": 2,
              "version_minor": 0,
              "model_id": "9deeb5d214124a9aaa2e4d5731362672"
            }
          },
          "metadata": {}
        },
        {
          "output_type": "display_data",
          "data": {
            "text/plain": [
              "pytorch_model.bin:   0%|          | 0.00/499M [00:00<?, ?B/s]"
            ],
            "application/vnd.jupyter.widget-view+json": {
              "version_major": 2,
              "version_minor": 0,
              "model_id": "4626a4c9b69d4a518ffbe530bd5c7587"
            }
          },
          "metadata": {}
        }
      ]
    },
    {
      "cell_type": "markdown",
      "source": [
        "Check how well the tokenizer encodes text into a form that the model can process"
      ],
      "metadata": {
        "id": "swInlSlThTHQ"
      }
    },
    {
      "cell_type": "code",
      "source": [
        "doc = 'This tokeniser is really quite extravagant.'\n",
        "[tokeniser.decode(tok) for tok in tokeniser(doc).input_ids]"
      ],
      "metadata": {
        "colab": {
          "base_uri": "https://localhost:8080/"
        },
        "id": "7NqSi_Jq9J0B",
        "outputId": "90835a60-f20d-4e1c-b5f4-e5604c26ff69"
      },
      "execution_count": 55,
      "outputs": [
        {
          "output_type": "execute_result",
          "data": {
            "text/plain": [
              "['<s>',\n",
              " 'This',\n",
              " ' token',\n",
              " 'iser',\n",
              " ' is',\n",
              " ' really',\n",
              " ' quite',\n",
              " ' extravagant',\n",
              " '.',\n",
              " '</s>']"
            ]
          },
          "metadata": {},
          "execution_count": 55
        }
      ]
    },
    {
      "cell_type": "markdown",
      "source": [
        "Prepare the dataset for subsequent deep learning tasks"
      ],
      "metadata": {
        "id": "QjbipNw7hFdA"
      }
    },
    {
      "cell_type": "code",
      "source": [
        "def tokenise_corpus(dataset: pd.DataFrame, tokeniser) -> Dataset:\n",
        "    '''Tokenises a dataset according to a pretrained tokeniser.\n",
        "\n",
        "    Args:\n",
        "        dataset (Pandas DataFrame):\n",
        "            The dataset to tokenise. Must have 'text' and 'label' columns.\n",
        "\n",
        "    Returns:\n",
        "        HuggingFace Dataset:\n",
        "            The tokenised dataset.\n",
        "    '''\n",
        "    # Build HuggingFace datasets\n",
        "    dataset = Dataset.from_dict(dict(doc=dataset.text, labels=dataset.generated))\n",
        "\n",
        "    # TODO: Create a function which takes a dictionary as input and which calls\n",
        "    #       our `tokeniser` on the `doc` entry of the dictionary. When calling\n",
        "    #       `tokeniser` you want to set `truncation=True` and `padding=True`, as\n",
        "    #       otherwise you will encounter an error!\n",
        "    def tokenise(examples: dict) -> dict:\n",
        "        return tokeniser(examples['doc'], truncation=True, padding=True)\n",
        "\n",
        "    # Tokenise dataset\n",
        "    tokenised = dataset.map(tokenise, batched=True)\n",
        "\n",
        "\n",
        "    # Return tokenised dataset\n",
        "    return tokenised\n",
        "\n",
        "tokenised_train = tokenise_corpus(small_train, tokeniser=tokeniser)\n",
        "tokenised_test = tokenise_corpus(small_test, tokeniser=tokeniser)\n",
        "sample_essay = pd.DataFrame.from_dict(sample_essay)\n",
        "tokenised_sample = tokenise_corpus(sample_essay, tokeniser=tokeniser)"
      ],
      "metadata": {
        "colab": {
          "base_uri": "https://localhost:8080/",
          "height": 113,
          "referenced_widgets": [
            "0ac2e2b50c9841cb8ce2c029389d1737",
            "3a8741ab4d2243daa0723d487fc82e21",
            "853fd46008134911a5059e97aa0de82f",
            "2819469582624e37bad2c97e8556c2d6",
            "264bcc9cc638464ab92c7ccdc82f0ea1",
            "6595157a6471431fac22c51ad0b9daeb",
            "53632d5bcf8a44e1811a12413aa815ad",
            "4d944bb90aa041eaa252af5ff8cbb983",
            "f0d401541b2b457bb9eb95ae3708c89e",
            "60b5bfab985a4bf1b868b2aa3dd98a9d",
            "9a9d3714e0e14ec8b46a094c9541b255",
            "aaf766a4ec3d41ac98bccf08374ff09b",
            "305a25c3f4434f9ea247d2669c3f33a1",
            "1075b8a3b7f148e1b7f1c5e301992c68",
            "4257033ed8e54952bd99f2d2c0d2d244",
            "dc9da2e2a65b4e3998ee893e55cf276b",
            "8f05ed140d8d4014997a08fad4afc3e7",
            "054964a3d122419db8a44c4218e29899",
            "c4f17f65092f41dc91408c097848fe3f",
            "00ad63dd32fc4c6fa07ca99a17aef399",
            "9c1c1ea1c38f4652b20d1bd5f6527829",
            "93eed9df417f425eb4790ed2df237355",
            "0392eb486c1244f0b2f1f1e387c863c9",
            "7540102149e942819889d03de0c1c562",
            "dd8a02eccf9b43108f83a420b5b2284d",
            "eb8b4216883c44d6a3b7d0d2749a6e78",
            "c1028483d9524a7397dbe36651a28b5b",
            "6feecb62fb934dc0888328a6bbeb7a80",
            "4243c6c5263a460ca46c043beac7b9a5",
            "e3bf29f34ffd4facb14583916e348c98",
            "e6f240ef119442b0af43e4060feece5f",
            "5ef8a6a878154d91ae7c9986b0111fd6",
            "0829b541062a423d8645413373fad67f"
          ]
        },
        "id": "j2h1o72g9MAX",
        "outputId": "9fcad2e8-abfa-4355-91af-505a7f9df07d"
      },
      "execution_count": 56,
      "outputs": [
        {
          "output_type": "display_data",
          "data": {
            "text/plain": [
              "Map:   0%|          | 0/500 [00:00<?, ? examples/s]"
            ],
            "application/vnd.jupyter.widget-view+json": {
              "version_major": 2,
              "version_minor": 0,
              "model_id": "0ac2e2b50c9841cb8ce2c029389d1737"
            }
          },
          "metadata": {}
        },
        {
          "output_type": "display_data",
          "data": {
            "text/plain": [
              "Map:   0%|          | 0/100 [00:00<?, ? examples/s]"
            ],
            "application/vnd.jupyter.widget-view+json": {
              "version_major": 2,
              "version_minor": 0,
              "model_id": "aaf766a4ec3d41ac98bccf08374ff09b"
            }
          },
          "metadata": {}
        },
        {
          "output_type": "display_data",
          "data": {
            "text/plain": [
              "Map:   0%|          | 0/8 [00:00<?, ? examples/s]"
            ],
            "application/vnd.jupyter.widget-view+json": {
              "version_major": 2,
              "version_minor": 0,
              "model_id": "0392eb486c1244f0b2f1f1e387c863c9"
            }
          },
          "metadata": {}
        }
      ]
    },
    {
      "cell_type": "code",
      "source": [
        "!pip install transformers[torch]"
      ],
      "metadata": {
        "colab": {
          "base_uri": "https://localhost:8080/"
        },
        "id": "pyYXO8va9vfl",
        "outputId": "baa50439-5188-453e-91b0-3abd380f6dc2"
      },
      "execution_count": 57,
      "outputs": [
        {
          "output_type": "stream",
          "name": "stdout",
          "text": [
            "Requirement already satisfied: transformers[torch] in /usr/local/lib/python3.10/dist-packages (4.35.2)\n",
            "Requirement already satisfied: filelock in /usr/local/lib/python3.10/dist-packages (from transformers[torch]) (3.13.1)\n",
            "Requirement already satisfied: huggingface-hub<1.0,>=0.16.4 in /usr/local/lib/python3.10/dist-packages (from transformers[torch]) (0.19.4)\n",
            "Requirement already satisfied: numpy>=1.17 in /usr/local/lib/python3.10/dist-packages (from transformers[torch]) (1.23.5)\n",
            "Requirement already satisfied: packaging>=20.0 in /usr/local/lib/python3.10/dist-packages (from transformers[torch]) (23.2)\n",
            "Requirement already satisfied: pyyaml>=5.1 in /usr/local/lib/python3.10/dist-packages (from transformers[torch]) (6.0.1)\n",
            "Requirement already satisfied: regex!=2019.12.17 in /usr/local/lib/python3.10/dist-packages (from transformers[torch]) (2023.6.3)\n",
            "Requirement already satisfied: requests in /usr/local/lib/python3.10/dist-packages (from transformers[torch]) (2.31.0)\n",
            "Requirement already satisfied: tokenizers<0.19,>=0.14 in /usr/local/lib/python3.10/dist-packages (from transformers[torch]) (0.15.0)\n",
            "Requirement already satisfied: safetensors>=0.3.1 in /usr/local/lib/python3.10/dist-packages (from transformers[torch]) (0.4.0)\n",
            "Requirement already satisfied: tqdm>=4.27 in /usr/local/lib/python3.10/dist-packages (from transformers[torch]) (4.66.1)\n",
            "Requirement already satisfied: torch!=1.12.0,>=1.10 in /usr/local/lib/python3.10/dist-packages (from transformers[torch]) (2.1.0+cu118)\n",
            "Collecting accelerate>=0.20.3 (from transformers[torch])\n",
            "  Downloading accelerate-0.24.1-py3-none-any.whl (261 kB)\n",
            "\u001b[2K     \u001b[90m━━━━━━━━━━━━━━━━━━━━━━━━━━━━━━━━━━━━━━━━\u001b[0m \u001b[32m261.4/261.4 kB\u001b[0m \u001b[31m4.6 MB/s\u001b[0m eta \u001b[36m0:00:00\u001b[0m\n",
            "\u001b[?25hRequirement already satisfied: psutil in /usr/local/lib/python3.10/dist-packages (from accelerate>=0.20.3->transformers[torch]) (5.9.5)\n",
            "Requirement already satisfied: fsspec>=2023.5.0 in /usr/local/lib/python3.10/dist-packages (from huggingface-hub<1.0,>=0.16.4->transformers[torch]) (2023.6.0)\n",
            "Requirement already satisfied: typing-extensions>=3.7.4.3 in /usr/local/lib/python3.10/dist-packages (from huggingface-hub<1.0,>=0.16.4->transformers[torch]) (4.5.0)\n",
            "Requirement already satisfied: sympy in /usr/local/lib/python3.10/dist-packages (from torch!=1.12.0,>=1.10->transformers[torch]) (1.12)\n",
            "Requirement already satisfied: networkx in /usr/local/lib/python3.10/dist-packages (from torch!=1.12.0,>=1.10->transformers[torch]) (3.2.1)\n",
            "Requirement already satisfied: jinja2 in /usr/local/lib/python3.10/dist-packages (from torch!=1.12.0,>=1.10->transformers[torch]) (3.1.2)\n",
            "Requirement already satisfied: triton==2.1.0 in /usr/local/lib/python3.10/dist-packages (from torch!=1.12.0,>=1.10->transformers[torch]) (2.1.0)\n",
            "Requirement already satisfied: charset-normalizer<4,>=2 in /usr/local/lib/python3.10/dist-packages (from requests->transformers[torch]) (3.3.2)\n",
            "Requirement already satisfied: idna<4,>=2.5 in /usr/local/lib/python3.10/dist-packages (from requests->transformers[torch]) (3.4)\n",
            "Requirement already satisfied: urllib3<3,>=1.21.1 in /usr/local/lib/python3.10/dist-packages (from requests->transformers[torch]) (2.0.7)\n",
            "Requirement already satisfied: certifi>=2017.4.17 in /usr/local/lib/python3.10/dist-packages (from requests->transformers[torch]) (2023.7.22)\n",
            "Requirement already satisfied: MarkupSafe>=2.0 in /usr/local/lib/python3.10/dist-packages (from jinja2->torch!=1.12.0,>=1.10->transformers[torch]) (2.1.3)\n",
            "Requirement already satisfied: mpmath>=0.19 in /usr/local/lib/python3.10/dist-packages (from sympy->torch!=1.12.0,>=1.10->transformers[torch]) (1.3.0)\n",
            "Installing collected packages: accelerate\n",
            "Successfully installed accelerate-0.24.1\n"
          ]
        }
      ]
    },
    {
      "cell_type": "code",
      "source": [
        "! pip install -U accelerate\n",
        "! pip install -U transformers"
      ],
      "metadata": {
        "colab": {
          "base_uri": "https://localhost:8080/"
        },
        "id": "_ZjYIkoJ-JqQ",
        "outputId": "b8b6bcfb-de05-42a4-a2c2-3be4fcd6eb5e"
      },
      "execution_count": 58,
      "outputs": [
        {
          "output_type": "stream",
          "name": "stdout",
          "text": [
            "Requirement already satisfied: accelerate in /usr/local/lib/python3.10/dist-packages (0.24.1)\n",
            "Requirement already satisfied: numpy>=1.17 in /usr/local/lib/python3.10/dist-packages (from accelerate) (1.23.5)\n",
            "Requirement already satisfied: packaging>=20.0 in /usr/local/lib/python3.10/dist-packages (from accelerate) (23.2)\n",
            "Requirement already satisfied: psutil in /usr/local/lib/python3.10/dist-packages (from accelerate) (5.9.5)\n",
            "Requirement already satisfied: pyyaml in /usr/local/lib/python3.10/dist-packages (from accelerate) (6.0.1)\n",
            "Requirement already satisfied: torch>=1.10.0 in /usr/local/lib/python3.10/dist-packages (from accelerate) (2.1.0+cu118)\n",
            "Requirement already satisfied: huggingface-hub in /usr/local/lib/python3.10/dist-packages (from accelerate) (0.19.4)\n",
            "Requirement already satisfied: filelock in /usr/local/lib/python3.10/dist-packages (from torch>=1.10.0->accelerate) (3.13.1)\n",
            "Requirement already satisfied: typing-extensions in /usr/local/lib/python3.10/dist-packages (from torch>=1.10.0->accelerate) (4.5.0)\n",
            "Requirement already satisfied: sympy in /usr/local/lib/python3.10/dist-packages (from torch>=1.10.0->accelerate) (1.12)\n",
            "Requirement already satisfied: networkx in /usr/local/lib/python3.10/dist-packages (from torch>=1.10.0->accelerate) (3.2.1)\n",
            "Requirement already satisfied: jinja2 in /usr/local/lib/python3.10/dist-packages (from torch>=1.10.0->accelerate) (3.1.2)\n",
            "Requirement already satisfied: fsspec in /usr/local/lib/python3.10/dist-packages (from torch>=1.10.0->accelerate) (2023.6.0)\n",
            "Requirement already satisfied: triton==2.1.0 in /usr/local/lib/python3.10/dist-packages (from torch>=1.10.0->accelerate) (2.1.0)\n",
            "Requirement already satisfied: requests in /usr/local/lib/python3.10/dist-packages (from huggingface-hub->accelerate) (2.31.0)\n",
            "Requirement already satisfied: tqdm>=4.42.1 in /usr/local/lib/python3.10/dist-packages (from huggingface-hub->accelerate) (4.66.1)\n",
            "Requirement already satisfied: MarkupSafe>=2.0 in /usr/local/lib/python3.10/dist-packages (from jinja2->torch>=1.10.0->accelerate) (2.1.3)\n",
            "Requirement already satisfied: charset-normalizer<4,>=2 in /usr/local/lib/python3.10/dist-packages (from requests->huggingface-hub->accelerate) (3.3.2)\n",
            "Requirement already satisfied: idna<4,>=2.5 in /usr/local/lib/python3.10/dist-packages (from requests->huggingface-hub->accelerate) (3.4)\n",
            "Requirement already satisfied: urllib3<3,>=1.21.1 in /usr/local/lib/python3.10/dist-packages (from requests->huggingface-hub->accelerate) (2.0.7)\n",
            "Requirement already satisfied: certifi>=2017.4.17 in /usr/local/lib/python3.10/dist-packages (from requests->huggingface-hub->accelerate) (2023.7.22)\n",
            "Requirement already satisfied: mpmath>=0.19 in /usr/local/lib/python3.10/dist-packages (from sympy->torch>=1.10.0->accelerate) (1.3.0)\n",
            "Requirement already satisfied: transformers in /usr/local/lib/python3.10/dist-packages (4.35.2)\n",
            "Requirement already satisfied: filelock in /usr/local/lib/python3.10/dist-packages (from transformers) (3.13.1)\n",
            "Requirement already satisfied: huggingface-hub<1.0,>=0.16.4 in /usr/local/lib/python3.10/dist-packages (from transformers) (0.19.4)\n",
            "Requirement already satisfied: numpy>=1.17 in /usr/local/lib/python3.10/dist-packages (from transformers) (1.23.5)\n",
            "Requirement already satisfied: packaging>=20.0 in /usr/local/lib/python3.10/dist-packages (from transformers) (23.2)\n",
            "Requirement already satisfied: pyyaml>=5.1 in /usr/local/lib/python3.10/dist-packages (from transformers) (6.0.1)\n",
            "Requirement already satisfied: regex!=2019.12.17 in /usr/local/lib/python3.10/dist-packages (from transformers) (2023.6.3)\n",
            "Requirement already satisfied: requests in /usr/local/lib/python3.10/dist-packages (from transformers) (2.31.0)\n",
            "Requirement already satisfied: tokenizers<0.19,>=0.14 in /usr/local/lib/python3.10/dist-packages (from transformers) (0.15.0)\n",
            "Requirement already satisfied: safetensors>=0.3.1 in /usr/local/lib/python3.10/dist-packages (from transformers) (0.4.0)\n",
            "Requirement already satisfied: tqdm>=4.27 in /usr/local/lib/python3.10/dist-packages (from transformers) (4.66.1)\n",
            "Requirement already satisfied: fsspec>=2023.5.0 in /usr/local/lib/python3.10/dist-packages (from huggingface-hub<1.0,>=0.16.4->transformers) (2023.6.0)\n",
            "Requirement already satisfied: typing-extensions>=3.7.4.3 in /usr/local/lib/python3.10/dist-packages (from huggingface-hub<1.0,>=0.16.4->transformers) (4.5.0)\n",
            "Requirement already satisfied: charset-normalizer<4,>=2 in /usr/local/lib/python3.10/dist-packages (from requests->transformers) (3.3.2)\n",
            "Requirement already satisfied: idna<4,>=2.5 in /usr/local/lib/python3.10/dist-packages (from requests->transformers) (3.4)\n",
            "Requirement already satisfied: urllib3<3,>=1.21.1 in /usr/local/lib/python3.10/dist-packages (from requests->transformers) (2.0.7)\n",
            "Requirement already satisfied: certifi>=2017.4.17 in /usr/local/lib/python3.10/dist-packages (from requests->transformers) (2023.7.22)\n"
          ]
        }
      ]
    },
    {
      "cell_type": "markdown",
      "source": [
        "This code is used to fine-tune a pre-trained Transformer model to adapt it to a specific task. Fine-tuning is typically done on tasks with relatively small labeled datasets in order to make the model better able to accomplish specific task requirements."
      ],
      "metadata": {
        "id": "c_NZijhrgVGg"
      }
    },
    {
      "cell_type": "code",
      "source": [
        "def finetune_transformer(tf_model,\n",
        "                         tokenised_train: Dataset,\n",
        "                         tokenised_test: Dataset):\n",
        "    '''Train transformer model.\n",
        "\n",
        "    Args:\n",
        "        tf_model (HuggingFace Transformer):\n",
        "            Pretrained transformer.\n",
        "        tokenised_train (Dataset):\n",
        "            Tokenised train dataset.\n",
        "        tokenised_test (Dataset):\n",
        "            Tokenised test dataset.\n",
        "\n",
        "    Returns:\n",
        "      HuggingFace Transformer:\n",
        "          Finetuned transformer.\n",
        "    '''\n",
        "    # Set up training arguments\n",
        "    tf_logging.set_verbosity_warning()\n",
        "    training_args = TrainingArguments(\n",
        "        output_dir='.',\n",
        "        evaluation_strategy='epoch',\n",
        "        logging_strategy='epoch',\n",
        "        save_strategy='epoch',\n",
        "        num_train_epochs=20,\n",
        "        per_device_train_batch_size=8,\n",
        "        per_device_eval_batch_size=8,\n",
        "        gradient_accumulation_steps=4,\n",
        "        learning_rate=2e-5,\n",
        "        warmup_steps=len(train) // 8,\n",
        "        save_total_limit=1,\n",
        "        load_best_model_at_end=True\n",
        "    )\n",
        "\n",
        "    def compute_metrics(predictions_and_labels: tuple) -> dict:\n",
        "        '''Helper function to compute the balanced accuracy'''\n",
        "        predictions, generated = predictions_and_labels\n",
        "        predictions = predictions.argmax(axis=-1)\n",
        "        results = balanced_accuracy_score(generated, predictions)\n",
        "        #print(generated)\n",
        "        #print(predictions)\n",
        "        return dict(balanced_accuracy=results)\n",
        "\n",
        "    # Initialise the Trainer object\n",
        "    trainer = Trainer(model=tf_model,\n",
        "                      args=training_args,\n",
        "                      train_dataset=tokenised_train,\n",
        "                      eval_dataset=tokenised_test,\n",
        "                      tokenizer=tokeniser,\n",
        "                      compute_metrics=compute_metrics)\n",
        "\n",
        "    # Train\n",
        "    trainer.train()\n",
        "\n",
        "    return tf_model\n",
        "\n"
      ],
      "metadata": {
        "id": "wwr6rLvw9ywa"
      },
      "execution_count": 59,
      "outputs": []
    },
    {
      "cell_type": "code",
      "source": [
        "tf_model = finetune_transformer(tf_model=tf_model,\n",
        "                                tokenised_train=tokenised_train,\n",
        "                                tokenised_test=tokenised_test)"
      ],
      "metadata": {
        "colab": {
          "base_uri": "https://localhost:8080/",
          "height": 355
        },
        "id": "u4UlcQQKZoII",
        "outputId": "e5617b3b-d83c-49ef-e84f-53bc215ac115"
      },
      "execution_count": 61,
      "outputs": [
        {
          "output_type": "error",
          "ename": "ImportError",
          "evalue": "ignored",
          "traceback": [
            "\u001b[0;31m---------------------------------------------------------------------------\u001b[0m",
            "\u001b[0;31mImportError\u001b[0m                               Traceback (most recent call last)",
            "\u001b[0;32m<ipython-input-61-d488c6d28fa1>\u001b[0m in \u001b[0;36m<cell line: 1>\u001b[0;34m()\u001b[0m\n\u001b[0;32m----> 1\u001b[0;31m tf_model = finetune_transformer(tf_model=tf_model,\n\u001b[0m\u001b[1;32m      2\u001b[0m                                 \u001b[0mtokenised_train\u001b[0m\u001b[0;34m=\u001b[0m\u001b[0mtokenised_train\u001b[0m\u001b[0;34m,\u001b[0m\u001b[0;34m\u001b[0m\u001b[0;34m\u001b[0m\u001b[0m\n\u001b[1;32m      3\u001b[0m                                 tokenised_test=tokenised_test)\n",
            "\u001b[0;32m<ipython-input-59-0009d6da0f61>\u001b[0m in \u001b[0;36mfinetune_transformer\u001b[0;34m(tf_model, tokenised_train, tokenised_test)\u001b[0m\n\u001b[1;32m     18\u001b[0m     \u001b[0;31m# Set up training arguments\u001b[0m\u001b[0;34m\u001b[0m\u001b[0;34m\u001b[0m\u001b[0m\n\u001b[1;32m     19\u001b[0m     \u001b[0mtf_logging\u001b[0m\u001b[0;34m.\u001b[0m\u001b[0mset_verbosity_warning\u001b[0m\u001b[0;34m(\u001b[0m\u001b[0;34m)\u001b[0m\u001b[0;34m\u001b[0m\u001b[0;34m\u001b[0m\u001b[0m\n\u001b[0;32m---> 20\u001b[0;31m     training_args = TrainingArguments(\n\u001b[0m\u001b[1;32m     21\u001b[0m         \u001b[0moutput_dir\u001b[0m\u001b[0;34m=\u001b[0m\u001b[0;34m'.'\u001b[0m\u001b[0;34m,\u001b[0m\u001b[0;34m\u001b[0m\u001b[0;34m\u001b[0m\u001b[0m\n\u001b[1;32m     22\u001b[0m         \u001b[0mevaluation_strategy\u001b[0m\u001b[0;34m=\u001b[0m\u001b[0;34m'epoch'\u001b[0m\u001b[0;34m,\u001b[0m\u001b[0;34m\u001b[0m\u001b[0;34m\u001b[0m\u001b[0m\n",
            "\u001b[0;32m/usr/local/lib/python3.10/dist-packages/transformers/training_args.py\u001b[0m in \u001b[0;36m__init__\u001b[0;34m(self, output_dir, overwrite_output_dir, do_train, do_eval, do_predict, evaluation_strategy, prediction_loss_only, per_device_train_batch_size, per_device_eval_batch_size, per_gpu_train_batch_size, per_gpu_eval_batch_size, gradient_accumulation_steps, eval_accumulation_steps, eval_delay, learning_rate, weight_decay, adam_beta1, adam_beta2, adam_epsilon, max_grad_norm, num_train_epochs, max_steps, lr_scheduler_type, warmup_ratio, warmup_steps, log_level, log_level_replica, log_on_each_node, logging_dir, logging_strategy, logging_first_step, logging_steps, logging_nan_inf_filter, save_strategy, save_steps, save_total_limit, save_safetensors, save_on_each_node, no_cuda, use_cpu, use_mps_device, seed, data_seed, jit_mode_eval, use_ipex, bf16, fp16, fp16_opt_level, half_precision_backend, bf16_full_eval, fp16_full_eval, tf32, local_rank, ddp_backend, tpu_num_cores, tpu_metrics_debug, debug, dataloader_drop_last, eval_steps, dataloader_num_workers, past_index, run_name, disable_tqdm, remove_unused_columns, label_names, load_best_model_at_end, metric_for_best_model, greater_is_better, ignore_data_skip, fsdp, fsdp_min_num_params, fsdp_config, fsdp_transformer_layer_cls_to_wrap, deepspeed, label_smoothing_factor, optim, optim_args, adafactor, group_by_length, length_column_name, report_to, ddp_find_unused_parameters, ddp_bucket_cap_mb, ddp_broadcast_buffers, dataloader_pin_memo...\n",
            "\u001b[0;32m/usr/local/lib/python3.10/dist-packages/transformers/training_args.py\u001b[0m in \u001b[0;36m__post_init__\u001b[0;34m(self)\u001b[0m\n\u001b[1;32m   1440\u001b[0m             \u001b[0mself\u001b[0m\u001b[0;34m.\u001b[0m\u001b[0mframework\u001b[0m \u001b[0;34m==\u001b[0m \u001b[0;34m\"pt\"\u001b[0m\u001b[0;34m\u001b[0m\u001b[0;34m\u001b[0m\u001b[0m\n\u001b[1;32m   1441\u001b[0m             \u001b[0;32mand\u001b[0m \u001b[0mis_torch_available\u001b[0m\u001b[0;34m(\u001b[0m\u001b[0;34m)\u001b[0m\u001b[0;34m\u001b[0m\u001b[0;34m\u001b[0m\u001b[0m\n\u001b[0;32m-> 1442\u001b[0;31m             \u001b[0;32mand\u001b[0m \u001b[0;34m(\u001b[0m\u001b[0mself\u001b[0m\u001b[0;34m.\u001b[0m\u001b[0mdevice\u001b[0m\u001b[0;34m.\u001b[0m\u001b[0mtype\u001b[0m \u001b[0;34m!=\u001b[0m \u001b[0;34m\"cuda\"\u001b[0m\u001b[0;34m)\u001b[0m\u001b[0;34m\u001b[0m\u001b[0;34m\u001b[0m\u001b[0m\n\u001b[0m\u001b[1;32m   1443\u001b[0m             \u001b[0;32mand\u001b[0m \u001b[0;34m(\u001b[0m\u001b[0mself\u001b[0m\u001b[0;34m.\u001b[0m\u001b[0mdevice\u001b[0m\u001b[0;34m.\u001b[0m\u001b[0mtype\u001b[0m \u001b[0;34m!=\u001b[0m \u001b[0;34m\"npu\"\u001b[0m\u001b[0;34m)\u001b[0m\u001b[0;34m\u001b[0m\u001b[0;34m\u001b[0m\u001b[0m\n\u001b[1;32m   1444\u001b[0m             \u001b[0;32mand\u001b[0m \u001b[0;34m(\u001b[0m\u001b[0mself\u001b[0m\u001b[0;34m.\u001b[0m\u001b[0mdevice\u001b[0m\u001b[0;34m.\u001b[0m\u001b[0mtype\u001b[0m \u001b[0;34m!=\u001b[0m \u001b[0;34m\"xpu\"\u001b[0m\u001b[0;34m)\u001b[0m\u001b[0;34m\u001b[0m\u001b[0;34m\u001b[0m\u001b[0m\n",
            "\u001b[0;32m/usr/local/lib/python3.10/dist-packages/transformers/training_args.py\u001b[0m in \u001b[0;36mdevice\u001b[0;34m(self)\u001b[0m\n\u001b[1;32m   1885\u001b[0m         \"\"\"\n\u001b[1;32m   1886\u001b[0m         \u001b[0mrequires_backends\u001b[0m\u001b[0;34m(\u001b[0m\u001b[0mself\u001b[0m\u001b[0;34m,\u001b[0m \u001b[0;34m[\u001b[0m\u001b[0;34m\"torch\"\u001b[0m\u001b[0;34m]\u001b[0m\u001b[0;34m)\u001b[0m\u001b[0;34m\u001b[0m\u001b[0;34m\u001b[0m\u001b[0m\n\u001b[0;32m-> 1887\u001b[0;31m         \u001b[0;32mreturn\u001b[0m \u001b[0mself\u001b[0m\u001b[0;34m.\u001b[0m\u001b[0m_setup_devices\u001b[0m\u001b[0;34m\u001b[0m\u001b[0;34m\u001b[0m\u001b[0m\n\u001b[0m\u001b[1;32m   1888\u001b[0m \u001b[0;34m\u001b[0m\u001b[0m\n\u001b[1;32m   1889\u001b[0m     \u001b[0;34m@\u001b[0m\u001b[0mproperty\u001b[0m\u001b[0;34m\u001b[0m\u001b[0;34m\u001b[0m\u001b[0m\n",
            "\u001b[0;32m/usr/local/lib/python3.10/dist-packages/transformers/utils/generic.py\u001b[0m in \u001b[0;36m__get__\u001b[0;34m(self, obj, objtype)\u001b[0m\n\u001b[1;32m     52\u001b[0m         \u001b[0mcached\u001b[0m \u001b[0;34m=\u001b[0m \u001b[0mgetattr\u001b[0m\u001b[0;34m(\u001b[0m\u001b[0mobj\u001b[0m\u001b[0;34m,\u001b[0m \u001b[0mattr\u001b[0m\u001b[0;34m,\u001b[0m \u001b[0;32mNone\u001b[0m\u001b[0;34m)\u001b[0m\u001b[0;34m\u001b[0m\u001b[0;34m\u001b[0m\u001b[0m\n\u001b[1;32m     53\u001b[0m         \u001b[0;32mif\u001b[0m \u001b[0mcached\u001b[0m \u001b[0;32mis\u001b[0m \u001b[0;32mNone\u001b[0m\u001b[0;34m:\u001b[0m\u001b[0;34m\u001b[0m\u001b[0;34m\u001b[0m\u001b[0m\n\u001b[0;32m---> 54\u001b[0;31m             \u001b[0mcached\u001b[0m \u001b[0;34m=\u001b[0m \u001b[0mself\u001b[0m\u001b[0;34m.\u001b[0m\u001b[0mfget\u001b[0m\u001b[0;34m(\u001b[0m\u001b[0mobj\u001b[0m\u001b[0;34m)\u001b[0m\u001b[0;34m\u001b[0m\u001b[0;34m\u001b[0m\u001b[0m\n\u001b[0m\u001b[1;32m     55\u001b[0m             \u001b[0msetattr\u001b[0m\u001b[0;34m(\u001b[0m\u001b[0mobj\u001b[0m\u001b[0;34m,\u001b[0m \u001b[0mattr\u001b[0m\u001b[0;34m,\u001b[0m \u001b[0mcached\u001b[0m\u001b[0;34m)\u001b[0m\u001b[0;34m\u001b[0m\u001b[0;34m\u001b[0m\u001b[0m\n\u001b[1;32m     56\u001b[0m         \u001b[0;32mreturn\u001b[0m \u001b[0mcached\u001b[0m\u001b[0;34m\u001b[0m\u001b[0;34m\u001b[0m\u001b[0m\n",
            "\u001b[0;32m/usr/local/lib/python3.10/dist-packages/transformers/training_args.py\u001b[0m in \u001b[0;36m_setup_devices\u001b[0;34m(self)\u001b[0m\n\u001b[1;32m   1785\u001b[0m         \u001b[0;32mif\u001b[0m \u001b[0;32mnot\u001b[0m \u001b[0mis_sagemaker_mp_enabled\u001b[0m\u001b[0;34m(\u001b[0m\u001b[0;34m)\u001b[0m\u001b[0;34m:\u001b[0m\u001b[0;34m\u001b[0m\u001b[0;34m\u001b[0m\u001b[0m\n\u001b[1;32m   1786\u001b[0m             \u001b[0;32mif\u001b[0m \u001b[0;32mnot\u001b[0m \u001b[0mis_accelerate_available\u001b[0m\u001b[0;34m(\u001b[0m\u001b[0mmin_version\u001b[0m\u001b[0;34m=\u001b[0m\u001b[0;34m\"0.20.1\"\u001b[0m\u001b[0;34m)\u001b[0m\u001b[0;34m:\u001b[0m\u001b[0;34m\u001b[0m\u001b[0;34m\u001b[0m\u001b[0m\n\u001b[0;32m-> 1787\u001b[0;31m                 raise ImportError(\n\u001b[0m\u001b[1;32m   1788\u001b[0m                     \u001b[0;34m\"Using the `Trainer` with `PyTorch` requires `accelerate>=0.20.1`: Please run `pip install transformers[torch]` or `pip install accelerate -U`\"\u001b[0m\u001b[0;34m\u001b[0m\u001b[0;34m\u001b[0m\u001b[0m\n\u001b[1;32m   1789\u001b[0m                 )\n",
            "\u001b[0;31mImportError\u001b[0m: Using the `Trainer` with `PyTorch` requires `accelerate>=0.20.1`: Please run `pip install transformers[torch]` or `pip install accelerate -U`"
          ]
        }
      ]
    },
    {
      "cell_type": "markdown",
      "source": [
        "an 83.6% balanced accuracy is good! However from inspection of predicitons we can see our training loss starts to creep up. We could employ early stopping to combat this issue."
      ],
      "metadata": {
        "id": "1Uvs8OiwD47Z"
      }
    },
    {
      "cell_type": "code",
      "source": [
        "tf_model = finetune_transformer(tf_model=tf_model,\n",
        "                                tokenised_train=tokenised_train,\n",
        "                                tokenised_test=tokenised_sample)"
      ],
      "metadata": {
        "id": "kAhQKVgqZlvV"
      },
      "execution_count": null,
      "outputs": []
    },
    {
      "cell_type": "markdown",
      "source": [
        "Now that is a better result than before, this leads us to believe it is more generalisable!"
      ],
      "metadata": {
        "id": "wFk1jiVxecdS"
      }
    },
    {
      "cell_type": "markdown",
      "source": [
        "\n",
        "\n",
        "---\n",
        "\n",
        "\n",
        "\n",
        "| Embedding/Model | Run time over 22400 documents | Comments |\n",
        "| --- | --- | --- |\n",
        "| BoW - Logistic regression | >30hours | Unfeesable run time for large vocabularies. Large storage required (every edcoding is of length len(vocab)+1). |\n",
        "| TF-IDF - Logistic regression | ≈10s | Much faster, large space requirements, not generalisable .|\n",
        "| Word2Vec | ≈30s | Feesably fast, much less space requirements (embeddings of length 100.) Able to classify outside of the dataset.  |\n",
        "| Transformer | ≈15min (reduced data) | Slower, results seem to generalise. |"
      ],
      "metadata": {
        "id": "lGPzkoCki2Oc"
      }
    },
    {
      "cell_type": "markdown",
      "source": [],
      "metadata": {
        "id": "hHkz7UutHyzv"
      }
    },
    {
      "cell_type": "markdown",
      "source": [
        "# Data at scale"
      ],
      "metadata": {
        "id": "gTXWFBKZrNbC"
      }
    },
    {
      "cell_type": "markdown",
      "source": [
        "From the work above, the tranformer seems to generalise best. This is to be expected due to tranfer learning, the model is already trained on a *massive* corous of text related to the issue.\n",
        "\n",
        "An issue seems to be the runtime of the model, at almost 15 minute run time for the small_train and small_test dataset. One approach to solving this issue is model parallelism. This approach seeks to improve runtime by slippting up the data in certain ways, and asking multiple gpu/tpu's to complete the task in unison, syncronising together each step.\n",
        "\n",
        "`Hugging face` introduces different notions of model parallelism (https://huggingface.co/docs/transformers/v4.15.0/parallelism#concepts):\n",
        "\n",
        "\n",
        "\n",
        "1.   DataParallel (DP) - the same setup is replicated multiple times, and each being fed a slice of the data. The processing is done in parallel and all setups are synchronized at the end of each training step.\n",
        "2.   TensorParallel (TP) - each tensor is split up into multiple chunks, so instead of having the whole tensor reside on a single gpu, each shard of the tensor resides on its designated gpu. During processing each shard gets processed separately and in parallel on different GPUs and the results are synced at the end of the step. This is what one may call horizontal parallelism, as the splitting happens on horizontal level.\n",
        "3.   PipelineParallel (PP) - the model is split up vertically (layer-level) across multiple GPUs, so that only one or several layers of the model are places on a single gpu. Each gpu processes in parallel different stages of the pipeline and working on a small chunk of the batch.\n",
        "4.   Zero Redundancy Optimizer (ZeRO) - Also performs sharding of the tensors somewhat similar to TP, except the whole tensor gets reconstructed in time for a forward or backward computation, therefore the model doesn’t need to be modified. It also supports various offloading techniques to compensate for limited GPU memory."
      ],
      "metadata": {
        "id": "wQMYM1murN3b"
      }
    },
    {
      "cell_type": "markdown",
      "source": [
        "The hugging face trainer allows for the implementation of the third-party solution **[deep speed](https://github.com/microsoft/DeepSpeed)**.\n",
        "\n",
        "(Rajbhandari, S., Rasley, J., Ruwase, O. and He, Y., 2020, November. Zero: Memory optimizations toward training trillion parameter models. In SC20: International Conference for High Performance Computing, Networking, Storage and Analysis (pp. 1-16). IEEE.)"
      ],
      "metadata": {
        "id": "xk94c4SStnfp"
      }
    },
    {
      "cell_type": "code",
      "source": [
        "!pip install deepspeed"
      ],
      "metadata": {
        "colab": {
          "base_uri": "https://localhost:8080/"
        },
        "id": "ACkXkZPguijh",
        "outputId": "13456f1f-36c7-486f-c4d4-484b8778bd4d"
      },
      "execution_count": 62,
      "outputs": [
        {
          "output_type": "stream",
          "name": "stdout",
          "text": [
            "Collecting deepspeed\n",
            "  Downloading deepspeed-0.12.3.tar.gz (1.2 MB)\n",
            "\u001b[2K     \u001b[90m━━━━━━━━━━━━━━━━━━━━━━━━━━━━━━━━━━━━━━━━\u001b[0m \u001b[32m1.2/1.2 MB\u001b[0m \u001b[31m13.8 MB/s\u001b[0m eta \u001b[36m0:00:00\u001b[0m\n",
            "\u001b[?25h  Preparing metadata (setup.py) ... \u001b[?25l\u001b[?25hdone\n",
            "Collecting hjson (from deepspeed)\n",
            "  Downloading hjson-3.1.0-py3-none-any.whl (54 kB)\n",
            "\u001b[2K     \u001b[90m━━━━━━━━━━━━━━━━━━━━━━━━━━━━━━━━━━━━━━━━\u001b[0m \u001b[32m54.0/54.0 kB\u001b[0m \u001b[31m7.3 MB/s\u001b[0m eta \u001b[36m0:00:00\u001b[0m\n",
            "\u001b[?25hCollecting ninja (from deepspeed)\n",
            "  Downloading ninja-1.11.1.1-py2.py3-none-manylinux1_x86_64.manylinux_2_5_x86_64.whl (307 kB)\n",
            "\u001b[2K     \u001b[90m━━━━━━━━━━━━━━━━━━━━━━━━━━━━━━━━━━━━━━━━\u001b[0m \u001b[32m307.2/307.2 kB\u001b[0m \u001b[31m39.3 MB/s\u001b[0m eta \u001b[36m0:00:00\u001b[0m\n",
            "\u001b[?25hRequirement already satisfied: numpy in /usr/local/lib/python3.10/dist-packages (from deepspeed) (1.23.5)\n",
            "Requirement already satisfied: packaging>=20.0 in /usr/local/lib/python3.10/dist-packages (from deepspeed) (23.2)\n",
            "Requirement already satisfied: psutil in /usr/local/lib/python3.10/dist-packages (from deepspeed) (5.9.5)\n",
            "Requirement already satisfied: py-cpuinfo in /usr/local/lib/python3.10/dist-packages (from deepspeed) (9.0.0)\n",
            "Requirement already satisfied: pydantic in /usr/local/lib/python3.10/dist-packages (from deepspeed) (1.10.13)\n",
            "Collecting pynvml (from deepspeed)\n",
            "  Downloading pynvml-11.5.0-py3-none-any.whl (53 kB)\n",
            "\u001b[2K     \u001b[90m━━━━━━━━━━━━━━━━━━━━━━━━━━━━━━━━━━━━━━━━\u001b[0m \u001b[32m53.1/53.1 kB\u001b[0m \u001b[31m9.0 MB/s\u001b[0m eta \u001b[36m0:00:00\u001b[0m\n",
            "\u001b[?25hRequirement already satisfied: torch in /usr/local/lib/python3.10/dist-packages (from deepspeed) (2.1.0+cu118)\n",
            "Requirement already satisfied: tqdm in /usr/local/lib/python3.10/dist-packages (from deepspeed) (4.66.1)\n",
            "Requirement already satisfied: typing-extensions>=4.2.0 in /usr/local/lib/python3.10/dist-packages (from pydantic->deepspeed) (4.5.0)\n",
            "Requirement already satisfied: filelock in /usr/local/lib/python3.10/dist-packages (from torch->deepspeed) (3.13.1)\n",
            "Requirement already satisfied: sympy in /usr/local/lib/python3.10/dist-packages (from torch->deepspeed) (1.12)\n",
            "Requirement already satisfied: networkx in /usr/local/lib/python3.10/dist-packages (from torch->deepspeed) (3.2.1)\n",
            "Requirement already satisfied: jinja2 in /usr/local/lib/python3.10/dist-packages (from torch->deepspeed) (3.1.2)\n",
            "Requirement already satisfied: fsspec in /usr/local/lib/python3.10/dist-packages (from torch->deepspeed) (2023.6.0)\n",
            "Requirement already satisfied: triton==2.1.0 in /usr/local/lib/python3.10/dist-packages (from torch->deepspeed) (2.1.0)\n",
            "Requirement already satisfied: MarkupSafe>=2.0 in /usr/local/lib/python3.10/dist-packages (from jinja2->torch->deepspeed) (2.1.3)\n",
            "Requirement already satisfied: mpmath>=0.19 in /usr/local/lib/python3.10/dist-packages (from sympy->torch->deepspeed) (1.3.0)\n",
            "Building wheels for collected packages: deepspeed\n",
            "  Building wheel for deepspeed (setup.py) ... \u001b[?25l\u001b[?25hdone\n",
            "  Created wheel for deepspeed: filename=deepspeed-0.12.3-py3-none-any.whl size=1279139 sha256=5064c078c9c0501503f85c363e93e6efdfcaba63042325c648ae3fb5ae86d764\n",
            "  Stored in directory: /root/.cache/pip/wheels/ee/2b/c5/892ceee06964ce8aa2a98d4260848d0d9a3f1e743862e4b45a\n",
            "Successfully built deepspeed\n",
            "Installing collected packages: ninja, hjson, pynvml, deepspeed\n",
            "Successfully installed deepspeed-0.12.3 hjson-3.1.0 ninja-1.11.1.1 pynvml-11.5.0\n"
          ]
        }
      ]
    },
    {
      "cell_type": "code",
      "source": [
        "def finetune_transformer_deepspeed(tf_model,\n",
        "                         tokenised_train: Dataset,\n",
        "                         tokenised_test: Dataset):\n",
        "    '''Train transformer model.\n",
        "\n",
        "    Args:\n",
        "        tf_model (HuggingFace Transformer):\n",
        "            Pretrained transformer.\n",
        "        tokenised_train (Dataset):\n",
        "            Tokenised train dataset.\n",
        "        tokenised_test (Dataset):\n",
        "            Tokenised test dataset.\n",
        "\n",
        "    Returns:\n",
        "      HuggingFace Transformer:\n",
        "          Finetuned transformer.\n",
        "    '''\n",
        "    # Set up training arguments\n",
        "    deepspeed= \"ds_config_zero3.json\"\n",
        "    tf_logging.set_verbosity_warning()\n",
        "    training_args = TrainingArguments(\n",
        "        output_dir='.',\n",
        "        evaluation_strategy='epoch',\n",
        "        logging_strategy='epoch',\n",
        "        save_strategy='epoch',\n",
        "        num_train_epochs=5,\n",
        "        per_device_train_batch_size=8,\n",
        "        per_device_eval_batch_size=8,\n",
        "        gradient_accumulation_steps=4,\n",
        "        learning_rate=2e-5,\n",
        "        warmup_steps=len(train) // 8,\n",
        "        save_total_limit=1,\n",
        "        load_best_model_at_end=True,\n",
        "        deepspeed= {\n",
        "    \"fp16\": {\n",
        "        \"enabled\": \"auto\",\n",
        "        \"loss_scale\": 0,\n",
        "        \"loss_scale_window\": 1000,\n",
        "        \"initial_scale_power\": 16,\n",
        "        \"hysteresis\": 2,\n",
        "        \"min_loss_scale\": 1\n",
        "    },\n",
        "\n",
        "    \"optimizer\": {\n",
        "        \"type\": \"AdamW\",\n",
        "        \"params\": {\n",
        "            \"lr\": \"auto\",\n",
        "            \"betas\": \"auto\",\n",
        "            \"eps\": \"auto\",\n",
        "            \"weight_decay\": \"auto\"\n",
        "        }\n",
        "    },\n",
        "\n",
        "    \"scheduler\": {\n",
        "        \"type\": \"WarmupLR\",\n",
        "        \"params\": {\n",
        "            \"warmup_min_lr\": \"auto\",\n",
        "            \"warmup_max_lr\": \"auto\",\n",
        "            \"warmup_num_steps\": \"auto\"\n",
        "        }\n",
        "    },\n",
        "\n",
        "    \"zero_optimization\": {\n",
        "        \"stage\": 3,\n",
        "        \"offload_optimizer\": {\n",
        "            \"device\": \"cpu\",\n",
        "            \"pin_memory\": True\n",
        "        },\n",
        "        \"offload_param\": {\n",
        "            \"device\": \"cpu\",\n",
        "            \"pin_memory\": True\n",
        "        },\n",
        "        \"overlap_comm\": True,\n",
        "        \"contiguous_gradients\": True,\n",
        "        \"sub_group_size\": 1e9,\n",
        "        \"reduce_bucket_size\": \"auto\",\n",
        "        \"stage3_prefetch_bucket_size\": \"auto\",\n",
        "        \"stage3_param_persistence_threshold\": \"auto\",\n",
        "        \"stage3_max_live_parameters\": 1e9,\n",
        "        \"stage3_max_reuse_distance\": 1e9,\n",
        "        \"stage3_gather_16bit_weights_on_model_save\": True\n",
        "    },\n",
        "\n",
        "    \"gradient_accumulation_steps\": \"auto\",\n",
        "    \"gradient_clipping\": \"auto\",\n",
        "    \"steps_per_print\": 2000,\n",
        "    \"train_batch_size\": \"auto\",\n",
        "    \"train_micro_batch_size_per_gpu\": \"auto\",\n",
        "    \"wall_clock_breakdown\": False\n",
        "}\n",
        "    )\n",
        "\n",
        "    def compute_metrics(predictions_and_labels: tuple) -> dict:\n",
        "        '''Helper function to compute the balanced accuracy'''\n",
        "        predictions, generated = predictions_and_labels\n",
        "        predictions = predictions.argmax(axis=-1)\n",
        "        results = balanced_accuracy_score(generated, predictions)\n",
        "        #print(generated)\n",
        "        #print(predictions)\n",
        "        return dict(balanced_accuracy=results)\n",
        "    import os\n",
        "\n",
        "    os.environ[\"MASTER_ADDR\"] = \"localhost\"\n",
        "    os.environ[\"MASTER_PORT\"] = \"9994\"  # modify if RuntimeError: Address already in use\n",
        "    os.environ[\"RANK\"] = \"0\"\n",
        "    os.environ[\"LOCAL_RANK\"] = \"0\"\n",
        "    os.environ[\"WORLD_SIZE\"] = \"1\"\n",
        "    # Initialise the Trainer object\n",
        "    trainer = Trainer(model=tf_model,\n",
        "                      args=training_args,\n",
        "                      train_dataset=tokenised_train,\n",
        "                      eval_dataset=tokenised_test,\n",
        "                      tokenizer=tokeniser,\n",
        "                      compute_metrics=compute_metrics)\n",
        "\n",
        "    # Train\n",
        "    trainer.train()\n",
        "\n",
        "    return tf_model\n",
        "\n"
      ],
      "metadata": {
        "id": "TrSd2AjbvvMr"
      },
      "execution_count": 63,
      "outputs": []
    },
    {
      "cell_type": "code",
      "source": [
        "!pip install transformers datasets accelerate nvidia-ml-py3"
      ],
      "metadata": {
        "colab": {
          "base_uri": "https://localhost:8080/"
        },
        "id": "W6ST4hZBx2Vs",
        "outputId": "6a28b076-853f-484e-a586-023dede5d211"
      },
      "execution_count": 64,
      "outputs": [
        {
          "output_type": "stream",
          "name": "stdout",
          "text": [
            "Requirement already satisfied: transformers in /usr/local/lib/python3.10/dist-packages (4.35.2)\n",
            "Requirement already satisfied: datasets in /usr/local/lib/python3.10/dist-packages (2.15.0)\n",
            "Requirement already satisfied: accelerate in /usr/local/lib/python3.10/dist-packages (0.24.1)\n",
            "Collecting nvidia-ml-py3\n",
            "  Downloading nvidia-ml-py3-7.352.0.tar.gz (19 kB)\n",
            "  Preparing metadata (setup.py) ... \u001b[?25l\u001b[?25hdone\n",
            "Requirement already satisfied: filelock in /usr/local/lib/python3.10/dist-packages (from transformers) (3.13.1)\n",
            "Requirement already satisfied: huggingface-hub<1.0,>=0.16.4 in /usr/local/lib/python3.10/dist-packages (from transformers) (0.19.4)\n",
            "Requirement already satisfied: numpy>=1.17 in /usr/local/lib/python3.10/dist-packages (from transformers) (1.23.5)\n",
            "Requirement already satisfied: packaging>=20.0 in /usr/local/lib/python3.10/dist-packages (from transformers) (23.2)\n",
            "Requirement already satisfied: pyyaml>=5.1 in /usr/local/lib/python3.10/dist-packages (from transformers) (6.0.1)\n",
            "Requirement already satisfied: regex!=2019.12.17 in /usr/local/lib/python3.10/dist-packages (from transformers) (2023.6.3)\n",
            "Requirement already satisfied: requests in /usr/local/lib/python3.10/dist-packages (from transformers) (2.31.0)\n",
            "Requirement already satisfied: tokenizers<0.19,>=0.14 in /usr/local/lib/python3.10/dist-packages (from transformers) (0.15.0)\n",
            "Requirement already satisfied: safetensors>=0.3.1 in /usr/local/lib/python3.10/dist-packages (from transformers) (0.4.0)\n",
            "Requirement already satisfied: tqdm>=4.27 in /usr/local/lib/python3.10/dist-packages (from transformers) (4.66.1)\n",
            "Requirement already satisfied: pyarrow>=8.0.0 in /usr/local/lib/python3.10/dist-packages (from datasets) (9.0.0)\n",
            "Requirement already satisfied: pyarrow-hotfix in /usr/local/lib/python3.10/dist-packages (from datasets) (0.6)\n",
            "Requirement already satisfied: dill<0.3.8,>=0.3.0 in /usr/local/lib/python3.10/dist-packages (from datasets) (0.3.7)\n",
            "Requirement already satisfied: pandas in /usr/local/lib/python3.10/dist-packages (from datasets) (1.5.3)\n",
            "Requirement already satisfied: xxhash in /usr/local/lib/python3.10/dist-packages (from datasets) (3.4.1)\n",
            "Requirement already satisfied: multiprocess in /usr/local/lib/python3.10/dist-packages (from datasets) (0.70.15)\n",
            "Requirement already satisfied: fsspec[http]<=2023.10.0,>=2023.1.0 in /usr/local/lib/python3.10/dist-packages (from datasets) (2023.6.0)\n",
            "Requirement already satisfied: aiohttp in /usr/local/lib/python3.10/dist-packages (from datasets) (3.8.6)\n",
            "Requirement already satisfied: psutil in /usr/local/lib/python3.10/dist-packages (from accelerate) (5.9.5)\n",
            "Requirement already satisfied: torch>=1.10.0 in /usr/local/lib/python3.10/dist-packages (from accelerate) (2.1.0+cu118)\n",
            "Requirement already satisfied: attrs>=17.3.0 in /usr/local/lib/python3.10/dist-packages (from aiohttp->datasets) (23.1.0)\n",
            "Requirement already satisfied: charset-normalizer<4.0,>=2.0 in /usr/local/lib/python3.10/dist-packages (from aiohttp->datasets) (3.3.2)\n",
            "Requirement already satisfied: multidict<7.0,>=4.5 in /usr/local/lib/python3.10/dist-packages (from aiohttp->datasets) (6.0.4)\n",
            "Requirement already satisfied: async-timeout<5.0,>=4.0.0a3 in /usr/local/lib/python3.10/dist-packages (from aiohttp->datasets) (4.0.3)\n",
            "Requirement already satisfied: yarl<2.0,>=1.0 in /usr/local/lib/python3.10/dist-packages (from aiohttp->datasets) (1.9.2)\n",
            "Requirement already satisfied: frozenlist>=1.1.1 in /usr/local/lib/python3.10/dist-packages (from aiohttp->datasets) (1.4.0)\n",
            "Requirement already satisfied: aiosignal>=1.1.2 in /usr/local/lib/python3.10/dist-packages (from aiohttp->datasets) (1.3.1)\n",
            "Requirement already satisfied: typing-extensions>=3.7.4.3 in /usr/local/lib/python3.10/dist-packages (from huggingface-hub<1.0,>=0.16.4->transformers) (4.5.0)\n",
            "Requirement already satisfied: idna<4,>=2.5 in /usr/local/lib/python3.10/dist-packages (from requests->transformers) (3.4)\n",
            "Requirement already satisfied: urllib3<3,>=1.21.1 in /usr/local/lib/python3.10/dist-packages (from requests->transformers) (2.0.7)\n",
            "Requirement already satisfied: certifi>=2017.4.17 in /usr/local/lib/python3.10/dist-packages (from requests->transformers) (2023.7.22)\n",
            "Requirement already satisfied: sympy in /usr/local/lib/python3.10/dist-packages (from torch>=1.10.0->accelerate) (1.12)\n",
            "Requirement already satisfied: networkx in /usr/local/lib/python3.10/dist-packages (from torch>=1.10.0->accelerate) (3.2.1)\n",
            "Requirement already satisfied: jinja2 in /usr/local/lib/python3.10/dist-packages (from torch>=1.10.0->accelerate) (3.1.2)\n",
            "Requirement already satisfied: triton==2.1.0 in /usr/local/lib/python3.10/dist-packages (from torch>=1.10.0->accelerate) (2.1.0)\n",
            "Requirement already satisfied: python-dateutil>=2.8.1 in /usr/local/lib/python3.10/dist-packages (from pandas->datasets) (2.8.2)\n",
            "Requirement already satisfied: pytz>=2020.1 in /usr/local/lib/python3.10/dist-packages (from pandas->datasets) (2023.3.post1)\n",
            "Requirement already satisfied: six>=1.5 in /usr/local/lib/python3.10/dist-packages (from python-dateutil>=2.8.1->pandas->datasets) (1.16.0)\n",
            "Requirement already satisfied: MarkupSafe>=2.0 in /usr/local/lib/python3.10/dist-packages (from jinja2->torch>=1.10.0->accelerate) (2.1.3)\n",
            "Requirement already satisfied: mpmath>=0.19 in /usr/local/lib/python3.10/dist-packages (from sympy->torch>=1.10.0->accelerate) (1.3.0)\n",
            "Building wheels for collected packages: nvidia-ml-py3\n",
            "  Building wheel for nvidia-ml-py3 (setup.py) ... \u001b[?25l\u001b[?25hdone\n",
            "  Created wheel for nvidia-ml-py3: filename=nvidia_ml_py3-7.352.0-py3-none-any.whl size=19171 sha256=cedebba439ae8b742dc26609c153d5cef91022234d4adb0ab5afe1dd55e0c2c0\n",
            "  Stored in directory: /root/.cache/pip/wheels/5c/d8/c0/46899f8be7a75a2ffd197a23c8797700ea858b9b34819fbf9e\n",
            "Successfully built nvidia-ml-py3\n",
            "Installing collected packages: nvidia-ml-py3\n",
            "Successfully installed nvidia-ml-py3-7.352.0\n"
          ]
        }
      ]
    },
    {
      "cell_type": "code",
      "source": [
        "from pynvml import *\n",
        "def print_gpu_utilization():\n",
        "    nvmlInit()\n",
        "    handle = nvmlDeviceGetHandleByIndex(0)\n",
        "    info = nvmlDeviceGetMemoryInfo(handle)\n",
        "    print(f\"GPU memory occupied: {info.used//1024**2} MB.\")\n",
        "\n",
        "def print_summary(result):\n",
        "    print(f\"Time: {result.metrics['train_runtime']:.2f}\")\n",
        "    print(f\"Samples/second: {result.metrics['train_samples_per_second']:.2f}\")\n"
      ],
      "metadata": {
        "id": "ABO05Evvx5Au"
      },
      "execution_count": 65,
      "outputs": []
    },
    {
      "cell_type": "code",
      "source": [
        "print_gpu_utilization()\n",
        "\n"
      ],
      "metadata": {
        "colab": {
          "base_uri": "https://localhost:8080/",
          "height": 442
        },
        "id": "pAFjGS3px7bc",
        "outputId": "c0e07acd-1811-4812-ced0-3f9c10f525e2"
      },
      "execution_count": 67,
      "outputs": [
        {
          "output_type": "error",
          "ename": "NVMLError_LibraryNotFound",
          "evalue": "ignored",
          "traceback": [
            "\u001b[0;31m---------------------------------------------------------------------------\u001b[0m",
            "\u001b[0;31mOSError\u001b[0m                                   Traceback (most recent call last)",
            "\u001b[0;32m/usr/local/lib/python3.10/dist-packages/pynvml/nvml.py\u001b[0m in \u001b[0;36m_LoadNvmlLibrary\u001b[0;34m()\u001b[0m\n\u001b[1;32m   1797\u001b[0m                         \u001b[0;31m# assume linux\u001b[0m\u001b[0;34m\u001b[0m\u001b[0;34m\u001b[0m\u001b[0m\n\u001b[0;32m-> 1798\u001b[0;31m                         \u001b[0mnvmlLib\u001b[0m \u001b[0;34m=\u001b[0m \u001b[0mCDLL\u001b[0m\u001b[0;34m(\u001b[0m\u001b[0;34m\"libnvidia-ml.so.1\"\u001b[0m\u001b[0;34m)\u001b[0m\u001b[0;34m\u001b[0m\u001b[0;34m\u001b[0m\u001b[0m\n\u001b[0m\u001b[1;32m   1799\u001b[0m                 \u001b[0;32mexcept\u001b[0m \u001b[0mOSError\u001b[0m \u001b[0;32mas\u001b[0m \u001b[0mose\u001b[0m\u001b[0;34m:\u001b[0m\u001b[0;34m\u001b[0m\u001b[0;34m\u001b[0m\u001b[0m\n",
            "\u001b[0;32m/usr/lib/python3.10/ctypes/__init__.py\u001b[0m in \u001b[0;36m__init__\u001b[0;34m(self, name, mode, handle, use_errno, use_last_error, winmode)\u001b[0m\n\u001b[1;32m    373\u001b[0m         \u001b[0;32mif\u001b[0m \u001b[0mhandle\u001b[0m \u001b[0;32mis\u001b[0m \u001b[0;32mNone\u001b[0m\u001b[0;34m:\u001b[0m\u001b[0;34m\u001b[0m\u001b[0;34m\u001b[0m\u001b[0m\n\u001b[0;32m--> 374\u001b[0;31m             \u001b[0mself\u001b[0m\u001b[0;34m.\u001b[0m\u001b[0m_handle\u001b[0m \u001b[0;34m=\u001b[0m \u001b[0m_dlopen\u001b[0m\u001b[0;34m(\u001b[0m\u001b[0mself\u001b[0m\u001b[0;34m.\u001b[0m\u001b[0m_name\u001b[0m\u001b[0;34m,\u001b[0m \u001b[0mmode\u001b[0m\u001b[0;34m)\u001b[0m\u001b[0;34m\u001b[0m\u001b[0;34m\u001b[0m\u001b[0m\n\u001b[0m\u001b[1;32m    375\u001b[0m         \u001b[0;32melse\u001b[0m\u001b[0;34m:\u001b[0m\u001b[0;34m\u001b[0m\u001b[0;34m\u001b[0m\u001b[0m\n",
            "\u001b[0;31mOSError\u001b[0m: libnvidia-ml.so.1: cannot open shared object file: No such file or directory",
            "\nDuring handling of the above exception, another exception occurred:\n",
            "\u001b[0;31mNVMLError_LibraryNotFound\u001b[0m                 Traceback (most recent call last)",
            "\u001b[0;32m<ipython-input-67-3340f048b357>\u001b[0m in \u001b[0;36m<cell line: 1>\u001b[0;34m()\u001b[0m\n\u001b[0;32m----> 1\u001b[0;31m \u001b[0mprint_gpu_utilization\u001b[0m\u001b[0;34m(\u001b[0m\u001b[0;34m)\u001b[0m\u001b[0;34m\u001b[0m\u001b[0;34m\u001b[0m\u001b[0m\n\u001b[0m\u001b[1;32m      2\u001b[0m \u001b[0;34m\u001b[0m\u001b[0m\n",
            "\u001b[0;32m<ipython-input-65-b3bb7a1fc04e>\u001b[0m in \u001b[0;36mprint_gpu_utilization\u001b[0;34m()\u001b[0m\n\u001b[1;32m      1\u001b[0m \u001b[0;32mfrom\u001b[0m \u001b[0mpynvml\u001b[0m \u001b[0;32mimport\u001b[0m \u001b[0;34m*\u001b[0m\u001b[0;34m\u001b[0m\u001b[0;34m\u001b[0m\u001b[0m\n\u001b[1;32m      2\u001b[0m \u001b[0;32mdef\u001b[0m \u001b[0mprint_gpu_utilization\u001b[0m\u001b[0;34m(\u001b[0m\u001b[0;34m)\u001b[0m\u001b[0;34m:\u001b[0m\u001b[0;34m\u001b[0m\u001b[0;34m\u001b[0m\u001b[0m\n\u001b[0;32m----> 3\u001b[0;31m     \u001b[0mnvmlInit\u001b[0m\u001b[0;34m(\u001b[0m\u001b[0;34m)\u001b[0m\u001b[0;34m\u001b[0m\u001b[0;34m\u001b[0m\u001b[0m\n\u001b[0m\u001b[1;32m      4\u001b[0m     \u001b[0mhandle\u001b[0m \u001b[0;34m=\u001b[0m \u001b[0mnvmlDeviceGetHandleByIndex\u001b[0m\u001b[0;34m(\u001b[0m\u001b[0;36m0\u001b[0m\u001b[0;34m)\u001b[0m\u001b[0;34m\u001b[0m\u001b[0;34m\u001b[0m\u001b[0m\n\u001b[1;32m      5\u001b[0m     \u001b[0minfo\u001b[0m \u001b[0;34m=\u001b[0m \u001b[0mnvmlDeviceGetMemoryInfo\u001b[0m\u001b[0;34m(\u001b[0m\u001b[0mhandle\u001b[0m\u001b[0;34m)\u001b[0m\u001b[0;34m\u001b[0m\u001b[0;34m\u001b[0m\u001b[0m\n",
            "\u001b[0;32m/usr/local/lib/python3.10/dist-packages/pynvml/nvml.py\u001b[0m in \u001b[0;36mnvmlInit\u001b[0;34m()\u001b[0m\n\u001b[1;32m   1768\u001b[0m \u001b[0;34m\u001b[0m\u001b[0m\n\u001b[1;32m   1769\u001b[0m \u001b[0;32mdef\u001b[0m \u001b[0mnvmlInit\u001b[0m\u001b[0;34m(\u001b[0m\u001b[0;34m)\u001b[0m\u001b[0;34m:\u001b[0m\u001b[0;34m\u001b[0m\u001b[0;34m\u001b[0m\u001b[0m\n\u001b[0;32m-> 1770\u001b[0;31m     \u001b[0mnvmlInitWithFlags\u001b[0m\u001b[0;34m(\u001b[0m\u001b[0;36m0\u001b[0m\u001b[0;34m)\u001b[0m\u001b[0;34m\u001b[0m\u001b[0;34m\u001b[0m\u001b[0m\n\u001b[0m\u001b[1;32m   1771\u001b[0m     \u001b[0;32mreturn\u001b[0m \u001b[0;32mNone\u001b[0m\u001b[0;34m\u001b[0m\u001b[0;34m\u001b[0m\u001b[0m\n\u001b[1;32m   1772\u001b[0m \u001b[0;34m\u001b[0m\u001b[0m\n",
            "\u001b[0;32m/usr/local/lib/python3.10/dist-packages/pynvml/nvml.py\u001b[0m in \u001b[0;36mnvmlInitWithFlags\u001b[0;34m(flags)\u001b[0m\n\u001b[1;32m   1751\u001b[0m \u001b[0;31m## C function wrappers ##\u001b[0m\u001b[0;34m\u001b[0m\u001b[0;34m\u001b[0m\u001b[0m\n\u001b[1;32m   1752\u001b[0m \u001b[0;32mdef\u001b[0m \u001b[0mnvmlInitWithFlags\u001b[0m\u001b[0;34m(\u001b[0m\u001b[0mflags\u001b[0m\u001b[0;34m)\u001b[0m\u001b[0;34m:\u001b[0m\u001b[0;34m\u001b[0m\u001b[0;34m\u001b[0m\u001b[0m\n\u001b[0;32m-> 1753\u001b[0;31m     \u001b[0m_LoadNvmlLibrary\u001b[0m\u001b[0;34m(\u001b[0m\u001b[0;34m)\u001b[0m\u001b[0;34m\u001b[0m\u001b[0;34m\u001b[0m\u001b[0m\n\u001b[0m\u001b[1;32m   1754\u001b[0m \u001b[0;34m\u001b[0m\u001b[0m\n\u001b[1;32m   1755\u001b[0m     \u001b[0;31m#\u001b[0m\u001b[0;34m\u001b[0m\u001b[0;34m\u001b[0m\u001b[0m\n",
            "\u001b[0;32m/usr/local/lib/python3.10/dist-packages/pynvml/nvml.py\u001b[0m in \u001b[0;36m_LoadNvmlLibrary\u001b[0;34m()\u001b[0m\n\u001b[1;32m   1798\u001b[0m                         \u001b[0mnvmlLib\u001b[0m \u001b[0;34m=\u001b[0m \u001b[0mCDLL\u001b[0m\u001b[0;34m(\u001b[0m\u001b[0;34m\"libnvidia-ml.so.1\"\u001b[0m\u001b[0;34m)\u001b[0m\u001b[0;34m\u001b[0m\u001b[0;34m\u001b[0m\u001b[0m\n\u001b[1;32m   1799\u001b[0m                 \u001b[0;32mexcept\u001b[0m \u001b[0mOSError\u001b[0m \u001b[0;32mas\u001b[0m \u001b[0mose\u001b[0m\u001b[0;34m:\u001b[0m\u001b[0;34m\u001b[0m\u001b[0;34m\u001b[0m\u001b[0m\n\u001b[0;32m-> 1800\u001b[0;31m                     \u001b[0m_nvmlCheckReturn\u001b[0m\u001b[0;34m(\u001b[0m\u001b[0mNVML_ERROR_LIBRARY_NOT_FOUND\u001b[0m\u001b[0;34m)\u001b[0m\u001b[0;34m\u001b[0m\u001b[0;34m\u001b[0m\u001b[0m\n\u001b[0m\u001b[1;32m   1801\u001b[0m                 \u001b[0;32mif\u001b[0m \u001b[0;34m(\u001b[0m\u001b[0mnvmlLib\u001b[0m \u001b[0;34m==\u001b[0m \u001b[0;32mNone\u001b[0m\u001b[0;34m)\u001b[0m\u001b[0;34m:\u001b[0m\u001b[0;34m\u001b[0m\u001b[0;34m\u001b[0m\u001b[0m\n\u001b[1;32m   1802\u001b[0m                     \u001b[0m_nvmlCheckReturn\u001b[0m\u001b[0;34m(\u001b[0m\u001b[0mNVML_ERROR_LIBRARY_NOT_FOUND\u001b[0m\u001b[0;34m)\u001b[0m\u001b[0;34m\u001b[0m\u001b[0;34m\u001b[0m\u001b[0m\n",
            "\u001b[0;32m/usr/local/lib/python3.10/dist-packages/pynvml/nvml.py\u001b[0m in \u001b[0;36m_nvmlCheckReturn\u001b[0;34m(ret)\u001b[0m\n\u001b[1;32m    831\u001b[0m \u001b[0;32mdef\u001b[0m \u001b[0m_nvmlCheckReturn\u001b[0m\u001b[0;34m(\u001b[0m\u001b[0mret\u001b[0m\u001b[0;34m)\u001b[0m\u001b[0;34m:\u001b[0m\u001b[0;34m\u001b[0m\u001b[0;34m\u001b[0m\u001b[0m\n\u001b[1;32m    832\u001b[0m     \u001b[0;32mif\u001b[0m \u001b[0;34m(\u001b[0m\u001b[0mret\u001b[0m \u001b[0;34m!=\u001b[0m \u001b[0mNVML_SUCCESS\u001b[0m\u001b[0;34m)\u001b[0m\u001b[0;34m:\u001b[0m\u001b[0;34m\u001b[0m\u001b[0;34m\u001b[0m\u001b[0m\n\u001b[0;32m--> 833\u001b[0;31m         \u001b[0;32mraise\u001b[0m \u001b[0mNVMLError\u001b[0m\u001b[0;34m(\u001b[0m\u001b[0mret\u001b[0m\u001b[0;34m)\u001b[0m\u001b[0;34m\u001b[0m\u001b[0;34m\u001b[0m\u001b[0m\n\u001b[0m\u001b[1;32m    834\u001b[0m     \u001b[0;32mreturn\u001b[0m \u001b[0mret\u001b[0m\u001b[0;34m\u001b[0m\u001b[0;34m\u001b[0m\u001b[0m\n\u001b[1;32m    835\u001b[0m \u001b[0;34m\u001b[0m\u001b[0m\n",
            "\u001b[0;31mNVMLError_LibraryNotFound\u001b[0m: NVML Shared Library Not Found"
          ]
        }
      ]
    },
    {
      "cell_type": "code",
      "source": [
        "import torch"
      ],
      "metadata": {
        "id": "qOpqLpLKzVYi"
      },
      "execution_count": 68,
      "outputs": []
    },
    {
      "cell_type": "code",
      "source": [
        "torch.ones((1, 1)).to(\"cuda\")\n",
        "print_gpu_utilization()"
      ],
      "metadata": {
        "id": "D0ZVHOIRzV6H",
        "colab": {
          "base_uri": "https://localhost:8080/",
          "height": 314
        },
        "outputId": "961bb084-a037-4905-f708-b74d3e4d4542"
      },
      "execution_count": 69,
      "outputs": [
        {
          "output_type": "error",
          "ename": "RuntimeError",
          "evalue": "ignored",
          "traceback": [
            "\u001b[0;31m---------------------------------------------------------------------------\u001b[0m",
            "\u001b[0;31mRuntimeError\u001b[0m                              Traceback (most recent call last)",
            "\u001b[0;32m<ipython-input-69-66f205baf897>\u001b[0m in \u001b[0;36m<cell line: 1>\u001b[0;34m()\u001b[0m\n\u001b[0;32m----> 1\u001b[0;31m \u001b[0mtorch\u001b[0m\u001b[0;34m.\u001b[0m\u001b[0mones\u001b[0m\u001b[0;34m(\u001b[0m\u001b[0;34m(\u001b[0m\u001b[0;36m1\u001b[0m\u001b[0;34m,\u001b[0m \u001b[0;36m1\u001b[0m\u001b[0;34m)\u001b[0m\u001b[0;34m)\u001b[0m\u001b[0;34m.\u001b[0m\u001b[0mto\u001b[0m\u001b[0;34m(\u001b[0m\u001b[0;34m\"cuda\"\u001b[0m\u001b[0;34m)\u001b[0m\u001b[0;34m\u001b[0m\u001b[0;34m\u001b[0m\u001b[0m\n\u001b[0m\u001b[1;32m      2\u001b[0m \u001b[0mprint_gpu_utilization\u001b[0m\u001b[0;34m(\u001b[0m\u001b[0;34m)\u001b[0m\u001b[0;34m\u001b[0m\u001b[0;34m\u001b[0m\u001b[0m\n",
            "\u001b[0;32m/usr/local/lib/python3.10/dist-packages/torch/cuda/__init__.py\u001b[0m in \u001b[0;36m_lazy_init\u001b[0;34m()\u001b[0m\n\u001b[1;32m    296\u001b[0m         \u001b[0;32mif\u001b[0m \u001b[0;34m\"CUDA_MODULE_LOADING\"\u001b[0m \u001b[0;32mnot\u001b[0m \u001b[0;32min\u001b[0m \u001b[0mos\u001b[0m\u001b[0;34m.\u001b[0m\u001b[0menviron\u001b[0m\u001b[0;34m:\u001b[0m\u001b[0;34m\u001b[0m\u001b[0;34m\u001b[0m\u001b[0m\n\u001b[1;32m    297\u001b[0m             \u001b[0mos\u001b[0m\u001b[0;34m.\u001b[0m\u001b[0menviron\u001b[0m\u001b[0;34m[\u001b[0m\u001b[0;34m\"CUDA_MODULE_LOADING\"\u001b[0m\u001b[0;34m]\u001b[0m \u001b[0;34m=\u001b[0m \u001b[0;34m\"LAZY\"\u001b[0m\u001b[0;34m\u001b[0m\u001b[0;34m\u001b[0m\u001b[0m\n\u001b[0;32m--> 298\u001b[0;31m         \u001b[0mtorch\u001b[0m\u001b[0;34m.\u001b[0m\u001b[0m_C\u001b[0m\u001b[0;34m.\u001b[0m\u001b[0m_cuda_init\u001b[0m\u001b[0;34m(\u001b[0m\u001b[0;34m)\u001b[0m\u001b[0;34m\u001b[0m\u001b[0;34m\u001b[0m\u001b[0m\n\u001b[0m\u001b[1;32m    299\u001b[0m         \u001b[0;31m# Some of the queued calls may reentrantly call _lazy_init();\u001b[0m\u001b[0;34m\u001b[0m\u001b[0;34m\u001b[0m\u001b[0m\n\u001b[1;32m    300\u001b[0m         \u001b[0;31m# we need to just return without initializing in that case.\u001b[0m\u001b[0;34m\u001b[0m\u001b[0;34m\u001b[0m\u001b[0m\n",
            "\u001b[0;31mRuntimeError\u001b[0m: Found no NVIDIA driver on your system. Please check that you have an NVIDIA GPU and installed a driver from http://www.nvidia.com/Download/index.aspx"
          ]
        }
      ]
    },
    {
      "cell_type": "code",
      "source": [
        "from transformers import AutoModelForSequenceClassification"
      ],
      "metadata": {
        "id": "whnF97dMztAv"
      },
      "execution_count": null,
      "outputs": []
    },
    {
      "cell_type": "code",
      "source": [
        "tf_model = finetune_transformer_deepspeed(tf_model=tf_model,\n",
        "                                tokenised_train=tokenised_train,\n",
        "                                tokenised_test=tokenised_test)"
      ],
      "metadata": {
        "id": "ENOpXGx6v8YW"
      },
      "execution_count": null,
      "outputs": []
    },
    {
      "cell_type": "markdown",
      "source": [],
      "metadata": {
        "id": "Pp-MirzXOdqB"
      }
    },
    {
      "cell_type": "markdown",
      "source": [
        "Reduced runtime, improved results!"
      ],
      "metadata": {
        "id": "Sm8TEQ4e_ps0"
      }
    }
  ]
}